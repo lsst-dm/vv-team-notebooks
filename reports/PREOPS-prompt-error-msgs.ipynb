{
 "cells": [
  {
   "cell_type": "markdown",
   "id": "b3669b84-3ad7-4aea-be85-92bb46d8d914",
   "metadata": {},
   "source": [
    "Pipeline Errors for night of {{ params.day_obs }}\n",
    "====="
   ]
  },
  {
   "cell_type": "code",
   "execution_count": null,
   "id": "9f415fb2-9873-41a5-8735-0596517e8b26",
   "metadata": {},
   "outputs": [],
   "source": [
    "day_obs = \"2024-02-29\"\n",
    "instrument = \"LATISS\""
   ]
  },
  {
   "cell_type": "code",
   "execution_count": null,
   "id": "3678de1f-cdc5-4842-941d-b03f0f06630a",
   "metadata": {},
   "outputs": [],
   "source": [
    "import lsst.daf.butler as dafButler\n",
    "import tabulate\n",
    "from dataclasses import dataclass\n",
    "\n",
    "@dataclass\n",
    "class error_summary:\n",
    "    visit: int\n",
    "    detector: int\n",
    "    error_messages: list\n",
    "\n",
    "butler_nocollection = dafButler.Butler(\"/repo/embargo\")\n",
    "\n",
    "collections = list(butler_nocollection.registry.queryCollections(f\"LATISS/prompt/output-{day_obs:s}*\"))\n",
    "collection = collections[0]\n",
    "\n",
    "b = dafButler.Butler(\"/repo/embargo\", collections=collection)"
   ]
  },
  {
   "cell_type": "code",
   "execution_count": null,
   "id": "f3f97f97-b7b2-4e78-9ab8-893d778dcba9",
   "metadata": {},
   "outputs": [],
   "source": [
    "log_visit_detector = set([(x.dataId['exposure'], x.dataId['detector']) for x in b.registry.queryDatasets(\"isr_log\")])\n",
    "print(\"Number of ISRs attempted: {:d}\".format(len(log_visit_detector)))\n",
    "\n",
    "calexp_visit_detector = set([(x.dataId['visit'], x.dataId['detector']) for x in b.registry.queryDatasets(\"calexp\")])\n",
    "print(\"Number of successful calexps attempted: {:d}\".format(len(calexp_visit_detector)))\n",
    "\n",
    "missing_calexps = set(log_visit_detector - calexp_visit_detector)\n",
    "missing_visits = [x[0] for x in missing_calexps]\n",
    "print(\"Number of unsuccessful processCcd attempts (no resulting calexp): {:d}\".format(len(missing_calexps)))"
   ]
  },
  {
   "cell_type": "code",
   "execution_count": null,
   "id": "32f001bc-3a06-4cd0-a2f5-6135900c30a0",
   "metadata": {},
   "outputs": [],
   "source": [
    "\n",
    "log_dataset_types_exposure = [\"isr_log\"]\n",
    "log_dataset_types_visit = [\"characterizeImage_log\", \"calibrate_log\"]\n",
    "\n",
    "error_summaries = []\n",
    "for visit, detector in missing_calexps:\n",
    "\n",
    "    visit_errors = []\n",
    "    \n",
    "    for ds_types in log_dataset_types_exposure:\n",
    "        log_messages = b.get(ds_types, dataId={\"instrument\": instrument, \"exposure\": visit, \"detector\": detector})\n",
    "        isr_errors = [msg for msg in log_messages if msg.levelno > 30]\n",
    "        visit_errors.extend(isr_errors)\n",
    "    \n",
    "    for ds_types in log_dataset_types_visit:\n",
    "        log_messages = b.get(ds_types, dataId={\"instrument\": instrument, \"visit\": visit, \"detector\": detector})\n",
    "        errors = [msg for msg in log_messages if msg.levelno > 30]\n",
    "        visit_errors.extend(errors)\n",
    "\n",
    "    error_summaries.append(error_summary(visit=visit, detector=detector, error_messages=visit_errors))\n",
    "\n"
   ]
  },
  {
   "cell_type": "code",
   "execution_count": null,
   "id": "5976bb71-4f42-43a5-bb48-ebaa116b617d",
   "metadata": {},
   "outputs": [],
   "source": [
    "def make_url_from_visit(visit):\n",
    "    s = str(visit)\n",
    "    day_string = f\"{s[0:4]}-{s[4:6]}-{s[6:8]}\"\n",
    "    counter = int(s[8:])\n",
    "    url = f\"https://roundtable.lsst.codes/rubintv/summit/auxtel/monitor/event/{day_string:s}/{counter:d}\"\n",
    "    return url\n",
    "    \n",
    "\n",
    "table_contents = [(e.visit, e.detector, \"<a href=\\\"\" + make_url_from_visit(e.visit) + \"\\\" target=\\\"_blank\\\">img</a>\", e.error_messages[0].message) for e in error_summaries]\n",
    "table = tabulate.tabulate(table_contents, tablefmt='unsafehtml', headers=(\"Visit\", \"Det\", \"Img\", \"Error Message\"))\n",
    "table"
   ]
  },
  {
   "cell_type": "code",
   "execution_count": null,
   "id": "75e52e4d-8d6c-44ea-9bc1-2086a79d901a",
   "metadata": {},
   "outputs": [],
   "source": []
  }
 ],
 "metadata": {
  "kernelspec": {
   "display_name": "LSST",
   "language": "python",
   "name": "lsst"
  },
  "language_info": {
   "codemirror_mode": {
    "name": "ipython",
    "version": 3
   },
   "file_extension": ".py",
   "mimetype": "text/x-python",
   "name": "python",
   "nbconvert_exporter": "python",
   "pygments_lexer": "ipython3",
   "version": "3.11.7"
  }
 },
 "nbformat": 4,
 "nbformat_minor": 5
}
