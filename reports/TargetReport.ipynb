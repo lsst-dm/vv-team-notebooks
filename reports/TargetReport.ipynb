{
 "cells": [
  {
   "cell_type": "markdown",
   "id": "3c90fdc1-462a-425e-948c-5ca98a52f1e1",
   "metadata": {},
   "source": [
    "**Description:** A prototype dashboard for exploring targets (and science programs) for a given night.  This version focuses on AuxTel observations, but should be also useful for ComCom and LSSTcam commissioning, when there will be a greater diversity of observational programs than those provided by the survey scheduler during standard operations.\n",
    "\n",
    "See Jira issue <a href=https://rubinobs.atlassian.net/browse/SP-924>SP-924</a>.\n",
    "\n",
    "**Credit:** Based heavily on the <a href=https://github.com/sylvielsstfr/AuxTelComm/blob/main/notebooks_usdf/ana_auxtelprod_jn/spectractor_v3.1.0_May2024/ListOfExposures-hologram-oga.ipynb> List of Exposures at USDF in OGA</a> notebook by Sylvie Dagoret-Campagne.  This initial \"Prototype Target Dashboard\" notebook would not have been possible without it."
   ]
  },
  {
   "cell_type": "code",
   "execution_count": 1,
   "id": "3ce8dfcc-d745-4fc3-ad39-6b2d5e0e2be6",
   "metadata": {
    "execution": {
     "iopub.execute_input": "2025-04-17T17:06:01.780649Z",
     "iopub.status.busy": "2025-04-17T17:06:01.780352Z",
     "iopub.status.idle": "2025-04-17T17:06:01.782938Z",
     "shell.execute_reply": "2025-04-17T17:06:01.782565Z",
     "shell.execute_reply.started": "2025-04-17T17:06:01.780635Z"
    }
   },
   "outputs": [],
   "source": [
    "\n",
    "instrument = 'LSSTCam'\n",
    "repo = 'embargo'\n",
    "day_obs_start = '2025-04-15'\n",
    "day_obs_end = 'TODAY'\n",
    "collection = 'LSSTCam/runs/nightlyValidation'\n",
    "collection_sky = 'LSSTCam/runs/nightlyValidation'\n",
    "skymap_name = 'lsst_cells_v1'\n",
    "col_sciprog = 'science_program'\n",
    "col_target = 'target'\n",
    "col_filter = 'filter'\n",
    "col_id = 'id'\n"
   ]
  },
  {
   "cell_type": "code",
   "execution_count": 2,
   "id": "08b3556a",
   "metadata": {
    "execution": {
     "iopub.execute_input": "2025-04-17T17:06:01.783341Z",
     "iopub.status.busy": "2025-04-17T17:06:01.783221Z",
     "iopub.status.idle": "2025-04-17T17:06:04.097265Z",
     "shell.execute_reply": "2025-04-17T17:06:04.096694Z",
     "shell.execute_reply.started": "2025-04-17T17:06:01.783328Z"
    },
    "tags": []
   },
   "outputs": [],
   "source": [
    "\n",
    "## 1.1 Import packages\n",
    "\n",
    "import sys\n",
    "import os\n",
    "import io\n",
    "import math\n",
    "import matplotlib.pyplot as plt\n",
    "import seaborn as sns\n",
    "import numpy as np\n",
    "import pandas as pd\n",
    "import healpy as hp\n",
    "from matplotlib.colors import LogNorm\n",
    "from IPython.display import display, HTML\n",
    "import lsst.afw.display as afwDisplay\n",
    "import lsst.daf.butler as dafButler\n",
    "import lsst.geom as geom\n",
    "\n",
    "from mpl_toolkits.axes_grid1 import make_axes_locatable\n",
    "\n",
    "import matplotlib.ticker\n",
    "from matplotlib.ticker import (MultipleLocator, FormatStrFormatter, AutoMinorLocator)\n",
    "\n",
    "from astropy.io import fits\n",
    "from astropy.time import Time\n",
    "\n",
    "from datetime import datetime\n",
    "from datetime import date\n",
    "from datetime import timedelta\n",
    "from datetime import timezone\n",
    "\n",
    "\n",
    "import warnings"
   ]
  },
  {
   "cell_type": "code",
   "execution_count": 3,
   "id": "0fd9f3fe-be33-4e41-915e-0594018f74c3",
   "metadata": {
    "execution": {
     "iopub.execute_input": "2025-04-17T17:06:04.097922Z",
     "iopub.status.busy": "2025-04-17T17:06:04.097778Z",
     "iopub.status.idle": "2025-04-17T17:06:04.100854Z",
     "shell.execute_reply": "2025-04-17T17:06:04.100501Z",
     "shell.execute_reply.started": "2025-04-17T17:06:04.097908Z"
    }
   },
   "outputs": [],
   "source": [
    "\n",
    "# 1.2 Convert day_obs_start and day_obs_end to integers...\n",
    "\n",
    "# Convert the date_obs_start string to a datetime object\n",
    "if day_obs_start.lower() == \"today\":\n",
    "    day_obs_start = datetime.strptime(date.today().strftime(\"%Y-%m-%d\"), '%Y-%m-%d')\n",
    "else:\n",
    "    day_obs_start = datetime.strptime(day_obs_start, '%Y-%m-%d')\n",
    "# Convert the date_obs_start datetime object to an integer\n",
    "day_obs_start = int(day_obs_start.strftime('%Y%m%d'))\n",
    "#print(\"Start date is: \", day_obs_start)\n",
    "\n",
    "# Convert the date_obs_end string to a datetime object\n",
    "if day_obs_end.lower() == \"today\":\n",
    "    day_obs_end = datetime.strptime(date.today().strftime(\"%Y-%m-%d\"), '%Y-%m-%d')\n",
    "else:\n",
    "    day_obs_end = datetime.strptime(day_obs_end, '%Y-%m-%d')\n",
    "# Convert the date_obs_end datetime object to an integer\n",
    "day_obs_end = int(day_obs_end.strftime('%Y%m%d'))\n",
    "#print(\"End date is: \", day_obs_end)\n"
   ]
  },
  {
   "cell_type": "code",
   "execution_count": 4,
   "id": "2fd7808f-8111-4c23-8735-5a8fbc26b67f",
   "metadata": {
    "execution": {
     "iopub.execute_input": "2025-04-17T17:06:04.101385Z",
     "iopub.status.busy": "2025-04-17T17:06:04.101255Z",
     "iopub.status.idle": "2025-04-17T17:06:04.108309Z",
     "shell.execute_reply": "2025-04-17T17:06:04.107957Z",
     "shell.execute_reply.started": "2025-04-17T17:06:04.101373Z"
    }
   },
   "outputs": [],
   "source": [
    "\n",
    "## 1.3 Define functions and parameters\n",
    "\n",
    "# Create a function to create a pandas DataFrame, df_grouped, that contains the results of performing a 2D groupby \n",
    "# operation on a pandas DataFrame, df, and counts the number of entries in the col_count column for each (col_x, col_y).  \n",
    "# One can choose to include a count of zero for cases where (col_x, col_y) have no entries in col_count (the default), \n",
    "# or to exclude those cases.  The resulting pandas DataFrame, df_grouped, is also sorted by (col_x, col_y).\n",
    "\n",
    "# (Thanks to the ChatGPT on Poe.com and to https://stackoverflow.com/questions/37003100/pandas-groupby-for-zero-values \n",
    "# for help in creating this function!)\n",
    "\n",
    "def df2Dgroupby(df, col_x, col_y, col_count, fill_zeros=True):\n",
    "\n",
    "    if fill_zeros==True:\n",
    "\n",
    "        df_grouped = (\n",
    "            df.groupby([col_x, col_y])[col_count]\n",
    "            .count()\n",
    "            .unstack(fill_value=0)\n",
    "            .stack()\n",
    "            .reset_index()\n",
    "            .rename(columns={0: \"number\"})\n",
    "            .sort_values([col_x, col_y])\n",
    "        )\n",
    "\n",
    "    else:\n",
    "\n",
    "        df_grouped = (\n",
    "            df.groupby([col_x, col_y])[col_count]\n",
    "            .count()\n",
    "            .reset_index()\n",
    "            .rename(columns={col_count: \"number\"})\n",
    "            .sort_values([col_x, col_y])\n",
    "        )\n",
    "        \n",
    "    return df_grouped"
   ]
  },
  {
   "cell_type": "code",
   "execution_count": 5,
   "id": "48629971-c159-4e22-af48-f1a7afb61839",
   "metadata": {
    "execution": {
     "iopub.execute_input": "2025-04-17T17:06:04.108892Z",
     "iopub.status.busy": "2025-04-17T17:06:04.108747Z",
     "iopub.status.idle": "2025-04-17T17:06:04.119301Z",
     "shell.execute_reply": "2025-04-17T17:06:04.118921Z",
     "shell.execute_reply.started": "2025-04-17T17:06:04.108879Z"
    }
   },
   "outputs": [],
   "source": [
    "\n",
    "# The same, but for performing the `groupby` over 3 columns. \n",
    "\n",
    "# (Thanks to the ChatGPT on Poe.com and to https://stackoverflow.com/questions/37003100/pandas-groupby-for-zero-values \n",
    "# for help in creating this function!)\n",
    "\n",
    "def df3Dgroupby(df, col_x, col_y, col_z, col_count, fill_zeros=True):\n",
    "\n",
    "    if fill_zeros==True:\n",
    "\n",
    "        df_grouped = (\n",
    "            df.groupby([col_x, col_y, col_z])[col_count]\n",
    "            .count()\n",
    "            .unstack(fill_value=0)\n",
    "            .stack()\n",
    "            .reset_index()\n",
    "            .rename(columns={0: \"number\"})\n",
    "            .sort_values([col_x, col_y, col_z])\n",
    "        )\n",
    "\n",
    "    else:\n",
    "\n",
    "        df_grouped = (\n",
    "            df.groupby([col_x, col_y, col_z])[col_count]\n",
    "            .count()\n",
    "            .reset_index()\n",
    "            .rename(columns={col_count: \"number\"})\n",
    "            .sort_values([col_x, col_y, col_z])\n",
    "        )\n",
    "        \n",
    "    return df_grouped"
   ]
  },
  {
   "cell_type": "code",
   "execution_count": 6,
   "id": "7ecfadfc-7a02-4634-a264-cfb4c0e40762",
   "metadata": {
    "execution": {
     "iopub.execute_input": "2025-04-17T17:06:04.119856Z",
     "iopub.status.busy": "2025-04-17T17:06:04.119723Z",
     "iopub.status.idle": "2025-04-17T17:06:04.126231Z",
     "shell.execute_reply": "2025-04-17T17:06:04.125861Z",
     "shell.execute_reply.started": "2025-04-17T17:06:04.119842Z"
    }
   },
   "outputs": [],
   "source": [
    "\n",
    "# The same, but for performing the `groupby` over 4 columns. \n",
    "\n",
    "# (Thanks to the ChatGPT on Poe.com and to https://stackoverflow.com/questions/37003100/pandas-groupby-for-zero-values \n",
    "# for help in creating this function!)\n",
    "\n",
    "def df4Dgroupby(df, col_w, col_x, col_y, col_z, col_count, fill_zeros=True):\n",
    "\n",
    "    if fill_zeros==True:\n",
    "\n",
    "        df_grouped = (\n",
    "            df.groupby([col_w, col_x, col_y, col_z])[col_count]\n",
    "            .count()\n",
    "            .unstack(fill_value=0)\n",
    "            .stack()\n",
    "            .reset_index()\n",
    "            .rename(columns={0: \"number\"})\n",
    "            .sort_values([col_w, col_x, col_y, col_z])\n",
    "        )\n",
    "\n",
    "    else:\n",
    "\n",
    "        df_grouped = (\n",
    "            df.groupby([col_w, col_x, col_y, col_z])[col_count]\n",
    "            .count()\n",
    "            .reset_index()\n",
    "            .rename(columns={col_count: \"number\"})\n",
    "            .sort_values([col_w, col_x, col_y, col_z])\n",
    "        )\n",
    "        \n",
    "    return df_grouped"
   ]
  },
  {
   "cell_type": "code",
   "execution_count": 7,
   "id": "b9ef46fb-8f50-49d0-bbae-0a2662baa7d5",
   "metadata": {
    "execution": {
     "iopub.execute_input": "2025-04-17T17:06:04.126958Z",
     "iopub.status.busy": "2025-04-17T17:06:04.126726Z",
     "iopub.status.idle": "2025-04-17T17:06:04.135333Z",
     "shell.execute_reply": "2025-04-17T17:06:04.134953Z",
     "shell.execute_reply.started": "2025-04-17T17:06:04.126945Z"
    }
   },
   "outputs": [],
   "source": [
    "\n",
    "# Create a function to perform a many-to-one match based on RA, DEC sky coordinates:\n",
    "# (Kudos to Claude-3.5-Sonnet AI from Poe.com for this function!)\n",
    "\n",
    "def skyMatchCatManytoOne(df_a, df_a_ra_colname, df_a_dec_colname, df_b, df_b_ra_colname, df_b_dec_colname, max_sep_deg, verboseFlag=False):\n",
    "\n",
    "    from astropy.coordinates import SkyCoord # High-level coordinates\n",
    "    from astropy.coordinates import ICRS, Galactic, FK4, FK5  # Low-level frames\n",
    "    from astropy.coordinates import Angle, Latitude, Longitude  # Angles\n",
    "    from astropy import units as u\n",
    "    from astropy.coordinates.matching import search_around_sky\n",
    "    import numpy as np\n",
    "    import pandas as pd\n",
    "\n",
    "    # Create SkyCoord objects for both DataFrames\n",
    "    coords_a = SkyCoord(ra=df_a[df_a_ra_colname].values*u.degree, dec=df_a[df_a_dec_colname].values*u.degree)\n",
    "    coords_b = SkyCoord(ra=df_b[df_b_ra_colname].values*u.degree, dec=df_b[df_b_dec_colname].values*u.degree)\n",
    "\n",
    "    # Set a maximum separation for matching (adjust as needed)\n",
    "    max_sep_deg = max_sep_deg * u.degree\n",
    "\n",
    "    # Perform the search\n",
    "    idx_a, idx_b, d2d, _ = search_around_sky(coords_a, coords_b, max_sep_deg)\n",
    "\n",
    "    # Create a DataFrame with the matches\n",
    "    df_matches = pd.DataFrame({\n",
    "        'idx_a': idx_a,\n",
    "        'idx_b': idx_b,\n",
    "        'separation': d2d.degree\n",
    "    })\n",
    "\n",
    "    # Group by idx_a and find the minimum separation for each\n",
    "    best_matches = df_matches.loc[df_matches.groupby('idx_a')['separation'].idxmin()]\n",
    "\n",
    "    # Create the final matched DataFrame, keeping all entries from df_a\n",
    "    df_matched = df_a.copy()\n",
    "\n",
    "    # Prepare the data from df_b to be joined\n",
    "    df_b_matched = df_b.iloc[best_matches['idx_b']].copy()\n",
    "    df_b_matched['idx_a'] = best_matches['idx_a'].values\n",
    "    df_b_matched['separation'] = best_matches['separation'].values\n",
    "    df_b_matched = df_b_matched.set_index('idx_a')\n",
    "\n",
    "    # Perform the left join\n",
    "    df_matched = df_matched.join(df_b_matched, rsuffix='_b')\n",
    "    \n",
    "    # Reset index if needed\n",
    "    df_matched = df_matched.reset_index(drop=True)\n",
    "\n",
    "    # Fill NaN values in the 'separation' column with a sentinel value (e.g., -1) to indicate no match\n",
    "    df_matched['separation'] = df_matched['separation'].fillna(-1)\n",
    "\n",
    "    # Optionally, you can add a boolean column to easily identify matched and unmatched rows\n",
    "    df_matched['has_match'] = df_matched['separation'] != -1\n",
    "\n",
    "    if verboseFlag:\n",
    "        # Print some statistics\n",
    "        print(f\"Total entries in df_a: {len(df_a)}\")\n",
    "        print(f\"Entries in df_a with matches: {df_matched['has_match'].sum()}\")\n",
    "        print(f\"Entries in df_a without matches: {(~df_matched['has_match']).sum()}\")\n",
    "\n",
    "    return df_matched"
   ]
  },
  {
   "cell_type": "code",
   "execution_count": 8,
   "id": "45b41be8-c1e3-428c-9aa2-ab6e2f46afd6",
   "metadata": {
    "execution": {
     "iopub.execute_input": "2025-04-17T17:06:04.136077Z",
     "iopub.status.busy": "2025-04-17T17:06:04.135821Z",
     "iopub.status.idle": "2025-04-17T17:06:04.144606Z",
     "shell.execute_reply": "2025-04-17T17:06:04.144039Z",
     "shell.execute_reply.started": "2025-04-17T17:06:04.136062Z"
    }
   },
   "outputs": [],
   "source": [
    "\n",
    "# Define some healpix tools <span style=\"color:red; font-weight:bold\">(Maybe no longer necessary?)</span>:\n",
    "# (Thanks to Sahar Allam and Alex Drlica-Wagner!)\n",
    "\n",
    "##################################\n",
    "def radec2thetaphi(ra, dec):\n",
    "    import numpy as np\n",
    "    return (90-dec)*np.pi/180., ra*np.pi/180.\n",
    "\n",
    "##################################\n",
    "#DESDM uses nside=128, nest=True\n",
    "#Alex Drlica Wagner's healpixelated Gaia DR2 on des40 uses nside=32, nest=False\n",
    "def getipix(nside,ra,dec,nest=True):\n",
    "    import healpy as hp\n",
    "    theta, phi = radec2thetaphi(ra, dec)\n",
    "    ipix = hp.pixelfunc.ang2pix(nside, theta, phi, nest)\n",
    "    return ipix\n",
    "\n",
    "##################################"
   ]
  },
  {
   "cell_type": "code",
   "execution_count": 9,
   "id": "06739927-d21e-449c-ac6a-89e0118d14ad",
   "metadata": {
    "execution": {
     "iopub.execute_input": "2025-04-17T17:06:04.145280Z",
     "iopub.status.busy": "2025-04-17T17:06:04.145117Z",
     "iopub.status.idle": "2025-04-17T17:06:04.151821Z",
     "shell.execute_reply": "2025-04-17T17:06:04.151352Z",
     "shell.execute_reply.started": "2025-04-17T17:06:04.145264Z"
    }
   },
   "outputs": [],
   "source": [
    "\n",
    "# Define a function to return the tract id, given the ra, dec and a skymap:\n",
    "\n",
    "def find_tract(ra,dec,skymap):\n",
    "\n",
    "    import lsst.geom as geom\n",
    "    \n",
    "    try:\n",
    "        sky_point = geom.SpherePoint(ra * geom.degrees,\n",
    "                                     dec * geom.degrees)\n",
    "\n",
    "        tract = skymap.findTract(sky_point)\n",
    "        tract = tract.tract_id\n",
    "    \n",
    "        del sky_point\n",
    "\n",
    "    except:\n",
    "        \n",
    "        tract = -9999\n",
    "    \n",
    "    return tract"
   ]
  },
  {
   "cell_type": "code",
   "execution_count": 10,
   "id": "fff24f55-6d1c-4f18-9f60-99431c2a5336",
   "metadata": {
    "execution": {
     "iopub.execute_input": "2025-04-17T17:06:04.152439Z",
     "iopub.status.busy": "2025-04-17T17:06:04.152287Z",
     "iopub.status.idle": "2025-04-17T17:06:04.159979Z",
     "shell.execute_reply": "2025-04-17T17:06:04.159587Z",
     "shell.execute_reply.started": "2025-04-17T17:06:04.152407Z"
    }
   },
   "outputs": [],
   "source": [
    "\n",
    "# Use queryDataIds to find tracts that have overlap with an exposure.\n",
    "#  (Via Krzysz Findeisen and Meredith Rawls!  Plus a little help from the Poe.com AI Assistant.)\n",
    "\n",
    "def find_tracts_overlapping_exposure(exposure_id, instrument, butler):\n",
    "    \n",
    "    tract_set = set(list(butler.registry.queryDataIds(dimensions=('visit', 'tract'), \n",
    "                                                      instrument=instrument, \n",
    "                                                      exposure=exposure_id)))\n",
    "    \n",
    "    tract_values = [item['tract'] for item in tract_set]\n",
    "    tract_values = list(set(tract_values))\n",
    "    # Note:  tract_values.sort() sorts in place and returns `None`!\n",
    "    #  So either use `tract_values.sort()` or `tract_values = sorted(tract_values)`\n",
    "    tract_values = sorted(tract_values)\n",
    "    \n",
    "    return tract_values"
   ]
  },
  {
   "cell_type": "code",
   "execution_count": 11,
   "id": "83b16bb4-cd15-402f-81c2-7b7193df0630",
   "metadata": {
    "execution": {
     "iopub.execute_input": "2025-04-17T17:06:04.160597Z",
     "iopub.status.busy": "2025-04-17T17:06:04.160455Z",
     "iopub.status.idle": "2025-04-17T17:06:04.167463Z",
     "shell.execute_reply": "2025-04-17T17:06:04.167073Z",
     "shell.execute_reply.started": "2025-04-17T17:06:04.160583Z"
    }
   },
   "outputs": [],
   "source": [
    "\n",
    "# Return a string of the list of tracts overlapping the exposure.\n",
    "#  If the function find_tracts_overlapping_exposure does not find a list,\n",
    "#  use find_tract to find the tract nearest the center of the exposure.\n",
    "#  If find_tract fails, it will return -9999.\n",
    "#  Append an asterisk (*) to the tract list if it is provided by find_tract.\n",
    "\n",
    "def return_string_of_tracts_overlapping_exposure_plus(exposure_id, instrument, butler, skymap, ra, dec):\n",
    "\n",
    "    list_of_tracts = find_tracts_overlapping_exposure(exposure_id, instrument, butler)\n",
    "    \n",
    "    if not list_of_tracts:\n",
    "        central_tract = find_tract(ra,dec,skymap)\n",
    "        list_of_tracts_string = str(central_tract)+'*'\n",
    "    else:\n",
    "        list_of_tracts_string = ','.join(map(str, list_of_tracts))\n",
    "\n",
    "    #print(exposure_id, list_of_tracts_string)\n",
    "\n",
    "    return list_of_tracts_string\n"
   ]
  },
  {
   "cell_type": "code",
   "execution_count": 12,
   "id": "3df2e30a-c1a5-4ef5-9b8c-f84874a5ff82",
   "metadata": {
    "execution": {
     "iopub.execute_input": "2025-04-17T17:06:04.168025Z",
     "iopub.status.busy": "2025-04-17T17:06:04.167884Z",
     "iopub.status.idle": "2025-04-17T17:06:04.179175Z",
     "shell.execute_reply": "2025-04-17T17:06:04.178803Z",
     "shell.execute_reply.started": "2025-04-17T17:06:04.168012Z"
    }
   },
   "outputs": [],
   "source": [
    "def reorder_filter_columns(df):\n",
    "    # First, ensure column names are unique by making a copy\n",
    "    df = df.copy()\n",
    "    \n",
    "    # Define all possible filter columns in desired order\n",
    "    filter_cols = ['u', 'g', 'r', 'i', 'z', 'y']\n",
    "    \n",
    "    # Find all columns that appear before the first filter column\n",
    "    prefix_cols = []\n",
    "    for col in df.columns:\n",
    "        # Check if this column is a filter-related column\n",
    "        if (col in filter_cols) or ('_' in col and col.split('_')[0] in filter_cols):\n",
    "            break\n",
    "        prefix_cols.append(col)\n",
    "    \n",
    "    # Create a dictionary to map old column names to new ones\n",
    "    col_mapping = {}\n",
    "    for col in df.columns:\n",
    "        if '_' in col and col not in prefix_cols:\n",
    "            filter_name = col.split('_')[0]\n",
    "            if filter_name in filter_cols:  # Only map if it's a valid filter\n",
    "                # If the target column name already exists, sum the columns\n",
    "                if filter_name in df.columns:\n",
    "                    df[filter_name] = df[filter_name] + df[col]\n",
    "                else:\n",
    "                    col_mapping[col] = filter_name\n",
    "    \n",
    "    # Rename columns using the mapping\n",
    "    df = df.rename(columns=col_mapping)\n",
    "    \n",
    "    # Add missing filter columns with zeros\n",
    "    for col in filter_cols:\n",
    "        if col not in df.columns:\n",
    "            df[col] = 0\n",
    "    \n",
    "    # Create list of columns for final ordering (excluding TOTAL)\n",
    "    ordered_cols = prefix_cols + filter_cols\n",
    "    if 'unknown' in df.columns:\n",
    "        ordered_cols.append('unknown')\n",
    "        \n",
    "    # Only keep columns that actually exist in the dataframe (except TOTAL)\n",
    "    ordered_cols = [col for col in ordered_cols if col in df.columns and col != 'TOTAL']\n",
    "    \n",
    "    # Add TOTAL as the final column\n",
    "    if 'TOTAL' in df.columns:\n",
    "        ordered_cols.append('TOTAL')\n",
    "    \n",
    "    # Reorder columns\n",
    "    df = df[ordered_cols]\n",
    "    \n",
    "    return df\n",
    "    "
   ]
  },
  {
   "cell_type": "code",
   "execution_count": 13,
   "id": "c81c9f13-1b9a-4d60-84a8-50368873fb0e",
   "metadata": {
    "execution": {
     "iopub.execute_input": "2025-04-17T17:06:04.179706Z",
     "iopub.status.busy": "2025-04-17T17:06:04.179570Z",
     "iopub.status.idle": "2025-04-17T17:06:04.188945Z",
     "shell.execute_reply": "2025-04-17T17:06:04.188592Z",
     "shell.execute_reply.started": "2025-04-17T17:06:04.179694Z"
    }
   },
   "outputs": [],
   "source": [
    "\n",
    "# Define a class to stop \"Run All\" at a code cell containing the command \"raise StopExecution\":\n",
    "\n",
    "class StopExecution(Exception):\n",
    "    def _render_traceback_(self):\n",
    "        pass"
   ]
  },
  {
   "cell_type": "code",
   "execution_count": 14,
   "id": "4c6ba6a7-c940-4c0c-a513-f9a4a1dab1b8",
   "metadata": {
    "execution": {
     "iopub.execute_input": "2025-04-17T17:06:04.189505Z",
     "iopub.status.busy": "2025-04-17T17:06:04.189356Z",
     "iopub.status.idle": "2025-04-17T17:06:04.196921Z",
     "shell.execute_reply": "2025-04-17T17:06:04.196527Z",
     "shell.execute_reply.started": "2025-04-17T17:06:04.189493Z"
    }
   },
   "outputs": [],
   "source": [
    "\n",
    "# Set filter warnings to \"ignore\" to avoid a lot of \"logorrhea\" to the screen:\n",
    "warnings.filterwarnings(\"ignore\")"
   ]
  },
  {
   "cell_type": "code",
   "execution_count": 15,
   "id": "07168a2e",
   "metadata": {
    "execution": {
     "iopub.execute_input": "2025-04-17T17:06:04.197534Z",
     "iopub.status.busy": "2025-04-17T17:06:04.197382Z",
     "iopub.status.idle": "2025-04-17T17:06:04.214247Z",
     "shell.execute_reply": "2025-04-17T17:06:04.213866Z",
     "shell.execute_reply.started": "2025-04-17T17:06:04.197521Z"
    },
    "tags": []
   },
   "outputs": [],
   "source": [
    "\n",
    "# Set default backend for afwDisplay to matplotlib:\n",
    "afwDisplay.setDefaultBackend('matplotlib')"
   ]
  },
  {
   "cell_type": "code",
   "execution_count": 16,
   "id": "0bff8f23-c35c-4b72-b9f5-7d32b432ac22",
   "metadata": {
    "execution": {
     "iopub.execute_input": "2025-04-17T17:06:04.214838Z",
     "iopub.status.busy": "2025-04-17T17:06:04.214697Z",
     "iopub.status.idle": "2025-04-17T17:06:04.217394Z",
     "shell.execute_reply": "2025-04-17T17:06:04.217036Z",
     "shell.execute_reply.started": "2025-04-17T17:06:04.214826Z"
    }
   },
   "outputs": [],
   "source": [
    "\n",
    "# Set a few parameters to use later, when plotting:\n",
    "\n",
    "plt.style.use('tableau-colorblind10')\n",
    "\n",
    "plot_filter_labels = ['u', 'g', 'r', 'i', 'z', 'y']\n",
    "plot_filter_colors = {'u': '#56b4e9', 'g': '#008060', 'r': '#ff4000',\n",
    "                      'i': '#850000', 'z': '#6600cc', 'y': '#000000'}\n",
    "plot_filter_symbols = {'u': 'o', 'g': '^', 'r': 'v', 'i': 's', 'z': '*', 'y': 'p'}"
   ]
  },
  {
   "cell_type": "code",
   "execution_count": 17,
   "id": "bab9ef6c-ced2-4d09-b67a-419f1b33d4a8",
   "metadata": {
    "execution": {
     "iopub.execute_input": "2025-04-17T17:06:04.218004Z",
     "iopub.status.busy": "2025-04-17T17:06:04.217851Z",
     "iopub.status.idle": "2025-04-17T17:06:04.229104Z",
     "shell.execute_reply": "2025-04-17T17:06:04.228670Z",
     "shell.execute_reply.started": "2025-04-17T17:06:04.217988Z"
    }
   },
   "outputs": [],
   "source": [
    "\n",
    "## 1.4 Add Ops Rehearsal 4 field table\n",
    "\n",
    "# This is a temporary fix to attach field names to the Ops Rehearsal 4 science exposures:\n",
    "# Table of Ops Rehearsal 4 Fields from https://confluence.lsstcorp.org/pages/viewpage.action?pageId=259785406\n",
    "ascii_table = \"\"\"\n",
    "Field                       RA          DEC     stellarDens     E_BV\n",
    "Rubin_SV_095_-25           95.00      -25.00        2.92        0.05\n",
    "Rubin_SV_125_-15          125.00      -15.00        3.78        0.06\n",
    "DESI_SV3_R1               179.60        0.00        0.53        0.03\n",
    "Rubin_SV_225_-40          225.00      -40.00       12.67        0.08\n",
    "DEEP_A0                   216.00      -12.50        1.17        0.09\n",
    "Rubin_SV_250_2            250.00        2.00        4.56        0.07\n",
    "Rubin_SV_300_-41          300.00      -41.00        5.22        0.09\n",
    "Rubin_SV_280_-48          280.00      -48.00       17.64        0.07\n",
    "DEEP_B0                   310.00      -19.00        3.28        0.04\n",
    "ELAIS_S1                    9.45      -44.00        0.56        0.01\n",
    "XMM_LSS                    35.71       -4.75        0.47        0.03\n",
    "ECDFS                      53.12      -28.10        0.61        0.01\n",
    "COSMOS                    150.10        2.18        0.67        0.02\n",
    "EDFS_A                     58.90      -49.31        0.75        0.01\n",
    "EDFS_B                     63.60      -47.60        0.81        0.01\"\"\"\n",
    "\n",
    "# Convert the string to a file-like object\n",
    "ascii_io = io.StringIO(ascii_table)\n",
    "\n",
    "# Read the ASCII table into a pandas DataFrame\n",
    "df_field = pd.read_csv(ascii_io, delim_whitespace=True)\n",
    "\n",
    "# Add healpix columns to this table, one very roughly the area of a \n",
    "# ComCam field-of-view (NSIDE=2^6=64 --> 0.84 sq deg) and one very roughly \n",
    "# the area of an LSSTCam field-of-view (NSIDE=2^4=16 --> 13 sq deg) \n",
    "# ***(Maybe no longer necessary?)***\n",
    "df_field.loc[:,'HPX64'] = getipix(64, df_field.loc[:,'RA'].values, df_field.loc[:,'DEC'].values)\n",
    "df_field.loc[:,'HPX16'] = getipix(16, df_field.loc[:,'RA'].values, df_field.loc[:,'DEC'].values)\n",
    "\n",
    "## Display df_field\n",
    "#df_field"
   ]
  },
  {
   "cell_type": "code",
   "execution_count": 18,
   "id": "81254df0-8ec8-4515-b2dc-743f3cceca16",
   "metadata": {
    "execution": {
     "iopub.execute_input": "2025-04-17T17:06:04.229844Z",
     "iopub.status.busy": "2025-04-17T17:06:04.229562Z",
     "iopub.status.idle": "2025-04-17T17:06:04.970035Z",
     "shell.execute_reply": "2025-04-17T17:06:04.969614Z",
     "shell.execute_reply.started": "2025-04-17T17:06:04.229830Z"
    }
   },
   "outputs": [
    {
     "data": {
      "text/html": [
       "<pre style=\"margin: 0.1em;\n",
       "padding-left: 0.25em;\n",
       "border-left-style: solid;\n",
       "font-family: var(--jp-code-font-family);\n",
       "font-size: var(--jp-code-font-size);\n",
       "line-height: var(--jp-code-line-height);\n",
       "\"><span style=\"color: var(--jp-warn-color2)\">botocore.credentials</span> <span style=\"color: var(--jp-info-color0)\">INFO</span>: Found credentials in shared credentials file: /home/d/dltucker/.lsst/aws-credentials.ini</pre>"
      ],
      "text/plain": [
       "<IPython.core.display.HTML object>"
      ]
     },
     "metadata": {},
     "output_type": "display_data"
    },
    {
     "data": {
      "text/html": [
       "<pre style=\"margin: 0.1em;\n",
       "padding-left: 0.25em;\n",
       "border-left-style: solid;\n",
       "font-family: var(--jp-code-font-family);\n",
       "font-size: var(--jp-code-font-size);\n",
       "line-height: var(--jp-code-line-height);\n",
       "\"><span style=\"color: var(--jp-warn-color2)\">botocore.httpchecksum</span> <span style=\"color: var(--jp-info-color0)\">INFO</span>: Skipping checksum validation. Response did not contain one of the following algorithms: [&#x27;crc32&#x27;, &#x27;sha1&#x27;, &#x27;sha256&#x27;].</pre>"
      ],
      "text/plain": [
       "<IPython.core.display.HTML object>"
      ]
     },
     "metadata": {},
     "output_type": "display_data"
    }
   ],
   "source": [
    "\n",
    "# 2. Access data for this repo, collection, and day of observation\n",
    "\n",
    "## 2.1 Instantiate butler and create registry\n",
    "\n",
    "butler = dafButler.Butler(repo, collections=collection)\n",
    "registry = butler.registry"
   ]
  },
  {
   "cell_type": "markdown",
   "id": "0f9988a3-81be-4bf4-9c42-5be4da1aced2",
   "metadata": {},
   "source": [
    "## Total Number of Exposures Returned from Butler Query for the Instrument and Night"
   ]
  },
  {
   "cell_type": "code",
   "execution_count": 19,
   "id": "95d36237-32a9-486b-893a-646ab892ae33",
   "metadata": {
    "execution": {
     "iopub.execute_input": "2025-04-17T17:06:04.970667Z",
     "iopub.status.busy": "2025-04-17T17:06:04.970520Z",
     "iopub.status.idle": "2025-04-17T17:06:04.987670Z",
     "shell.execute_reply": "2025-04-17T17:06:04.987265Z",
     "shell.execute_reply.started": "2025-04-17T17:06:04.970653Z"
    }
   },
   "outputs": [],
   "source": [
    "\n",
    "## 2.2 Read in information from the `exposure` dimension and create pandas DataFrame\n",
    "\n",
    "# Query the metadata for the `exposure` dimension, limiting the results to this particular instrument and range of days of observation:\n",
    "#query=\"instrument='%s' AND day_obs=%d\" % (instrument, day_obs)\n",
    "query=\"instrument='%s' AND day_obs>=%d AND day_obs<=%d\" % (instrument, day_obs_start, day_obs_end)\n",
    "results = registry.queryDimensionRecords('exposure',where=query)"
   ]
  },
  {
   "cell_type": "code",
   "execution_count": 20,
   "id": "0a3d8db3-ca82-450e-bfd9-29bbdf26cdd8",
   "metadata": {
    "execution": {
     "iopub.execute_input": "2025-04-17T17:06:04.988250Z",
     "iopub.status.busy": "2025-04-17T17:06:04.988113Z",
     "iopub.status.idle": "2025-04-17T17:06:04.998477Z",
     "shell.execute_reply": "2025-04-17T17:06:04.998098Z",
     "shell.execute_reply.started": "2025-04-17T17:06:04.988237Z"
    }
   },
   "outputs": [
    {
     "name": "stdout",
     "output_type": "stream",
     "text": [
      "There are 1190 results returned from querying the butler for instrument LSSTCam between dates 20250415 and 20250417 (inclusive).\n"
     ]
    }
   ],
   "source": [
    "\n",
    "# Stop executing if there are no results returned:\n",
    "\n",
    "n_results = results.count()\n",
    "\n",
    "if n_results <= 0:\n",
    "    raise StopExecution\n",
    "else:\n",
    "    print(\"\"\"There are %d results returned from querying the butler for instrument %s between dates %d and %d (inclusive).\"\"\" % \n",
    "          (n_results, instrument, day_obs_start, day_obs_end))"
   ]
  },
  {
   "cell_type": "code",
   "execution_count": 21,
   "id": "473cdd14",
   "metadata": {
    "execution": {
     "iopub.execute_input": "2025-04-17T17:06:04.999037Z",
     "iopub.status.busy": "2025-04-17T17:06:04.998905Z",
     "iopub.status.idle": "2025-04-17T17:06:05.031996Z",
     "shell.execute_reply": "2025-04-17T17:06:05.031582Z",
     "shell.execute_reply.started": "2025-04-17T17:06:04.999025Z"
    },
    "tags": []
   },
   "outputs": [],
   "source": [
    "\n",
    "# Instantiate a pandas `DataFrame` with useful columns available in the `exposure` dimension:\n",
    "df_exp = pd.DataFrame(columns=['id', 'obs_id','day_obs', 'seq_num',\n",
    "                                    'time_start','time_end' ,'type', 'reason', \n",
    "                                    'target','filter','zenith_angle',\n",
    "                                    'expos','ra','dec','skyangle',\n",
    "                                    'azimuth','zenith','science_program',\n",
    "                                    'jd','mjd'])"
   ]
  },
  {
   "cell_type": "code",
   "execution_count": 22,
   "id": "f2c9f07f",
   "metadata": {
    "execution": {
     "iopub.execute_input": "2025-04-17T17:06:05.034875Z",
     "iopub.status.busy": "2025-04-17T17:06:05.034717Z",
     "iopub.status.idle": "2025-04-17T17:06:06.981946Z",
     "shell.execute_reply": "2025-04-17T17:06:06.981525Z",
     "shell.execute_reply.started": "2025-04-17T17:06:05.034861Z"
    },
    "tags": []
   },
   "outputs": [],
   "source": [
    "\n",
    "# Read the query results into the new pandas `DataFrame`:\n",
    "\n",
    "for count, info in enumerate(results):\n",
    "    \n",
    "    try:\n",
    "\n",
    "        df_exp.loc[count] = [info.id, info.obs_id, info.day_obs, info.seq_num, \n",
    "                                  info.timespan.begin.utc.iso,\n",
    "                                  info.timespan.end.utc.iso, \n",
    "                                  info.observation_type, info.observation_reason, info.target_name, \n",
    "                                  info.physical_filter, info.zenith_angle, \n",
    "                                  info.exposure_time,info.tracking_ra, info.tracking_dec, \n",
    "                                  info.sky_angle,info.azimuth ,info.zenith_angle, \n",
    "                                  info.science_program, info.timespan.begin.jd, info.timespan.begin.mjd]\n",
    "\n",
    "    except:\n",
    "    \n",
    "        print(\">>>   Unexpected error:\", sys.exc_info()[0])\n",
    "        info_timespan_begin_to_string = \"2021-01-01 00:00:00.00\"\n",
    "        info_timespan_end_to_string = \"2051-01-01 00:00:00.00\"\n",
    "        info_timespan_begin_jd = 0\n",
    "        info_timespan_begin_mjd = 0\n",
    "        df_exp.loc[count] = [info.id, info.obs_id, info.day_obs, info.seq_num, \n",
    "                                  pd.to_datetime(info_timespan_begin_to_string),\n",
    "                                  pd.to_datetime(info_timespan_end_to_string), \n",
    "                                  info.observation_type, info.observation_reason, info.target_name, \n",
    "                                  info.physical_filter, info.zenith_angle, \n",
    "                                  info.exposure_time,info.tracking_ra, info.tracking_dec, \n",
    "                                  info.sky_angle,info.azimuth ,info.zenith_angle, \n",
    "                                  info.science_program, info_timespan_begin_jd, info_timespan_begin_mjd ]\n",
    " \n",
    "    "
   ]
  },
  {
   "cell_type": "code",
   "execution_count": 23,
   "id": "344a6240-a01b-4876-bc5a-30441b03b5f5",
   "metadata": {
    "execution": {
     "iopub.execute_input": "2025-04-17T17:06:06.982794Z",
     "iopub.status.busy": "2025-04-17T17:06:06.982652Z",
     "iopub.status.idle": "2025-04-17T17:06:06.986917Z",
     "shell.execute_reply": "2025-04-17T17:06:06.986566Z",
     "shell.execute_reply.started": "2025-04-17T17:06:06.982780Z"
    }
   },
   "outputs": [],
   "source": [
    "\n",
    "# Re-cast the `id`, `day_obs`, and `seq_num` rows as `int`'s:\n",
    "df_exp = df_exp.astype({\"id\": int,'day_obs': int,'seq_num':int})"
   ]
  },
  {
   "cell_type": "code",
   "execution_count": 24,
   "id": "9d71ed48-b6ff-43a9-aa91-98e5cd835e3a",
   "metadata": {
    "execution": {
     "iopub.execute_input": "2025-04-17T17:06:06.987548Z",
     "iopub.status.busy": "2025-04-17T17:06:06.987413Z",
     "iopub.status.idle": "2025-04-17T17:06:07.030664Z",
     "shell.execute_reply": "2025-04-17T17:06:07.030294Z",
     "shell.execute_reply.started": "2025-04-17T17:06:06.987536Z"
    }
   },
   "outputs": [],
   "source": [
    "\n",
    "# Replace `NaN`'s in the `ra` and `dec` columns with zero.  \n",
    "# (`NaN`'s in `ra`, `dec` wreak havoc for the healpix tools defined in Section 1.2 above.) \n",
    "# ***(Maybe no longer necessary?)***\n",
    "\n",
    "df_exp['ra'] = df_exp['ra'].fillna(0)\n",
    "df_exp['dec'] = df_exp['dec'].fillna(0)"
   ]
  },
  {
   "cell_type": "code",
   "execution_count": 25,
   "id": "4121311c-592e-497a-8eca-8611374087fb",
   "metadata": {
    "execution": {
     "iopub.execute_input": "2025-04-17T17:06:07.031202Z",
     "iopub.status.busy": "2025-04-17T17:06:07.031074Z",
     "iopub.status.idle": "2025-04-17T17:06:07.038503Z",
     "shell.execute_reply": "2025-04-17T17:06:07.037969Z",
     "shell.execute_reply.started": "2025-04-17T17:06:07.031189Z"
    }
   },
   "outputs": [],
   "source": [
    "\n",
    "# Add healpix info \n",
    "# ***(Maybe no longer necessary?)***:\n",
    "df_exp.loc[:,'HPX64'] = getipix(64, df_exp.loc[:,'ra'].values, df_exp.loc[:,'dec'].values)\n",
    "df_exp.loc[:,'HPX16'] = getipix(16, df_exp.loc[:,'ra'].values, df_exp.loc[:,'dec'].values)"
   ]
  },
  {
   "cell_type": "code",
   "execution_count": 26,
   "id": "17ef1097-23b6-482a-9560-d55e38d3fa3e",
   "metadata": {
    "execution": {
     "iopub.execute_input": "2025-04-17T17:06:07.039234Z",
     "iopub.status.busy": "2025-04-17T17:06:07.039074Z",
     "iopub.status.idle": "2025-04-17T17:06:07.063383Z",
     "shell.execute_reply": "2025-04-17T17:06:07.063017Z",
     "shell.execute_reply.started": "2025-04-17T17:06:07.039219Z"
    }
   },
   "outputs": [],
   "source": [
    "\n",
    "# To add the field_name to df_exp, perform a left join of df_field on df_exp\n",
    "# *** (Note use of HPX16, but maybe that part is no longer necessary?)***:\n",
    "\n",
    "# First, perform the merge...\n",
    "# (Before we had the table of fields, we matched by HPX16 value.)\n",
    "#df_merged = df_exp.merge(df_field, on='HPX16', how='left', suffixes=('', '_fld'))\n",
    "df_merged = skyMatchCatManytoOne(df_exp, 'ra', 'dec', df_field, 'RA', 'DEC', 3.)\n",
    "\n",
    "# Next, define a function to fill NaN values in 'Field' with 'HPX16' for unmatched exposures\n",
    "def fill_field(row):\n",
    "    if pd.isna(row['Field']):\n",
    "        return 'HPX16_'+str(row['HPX16'])  # Convert to string if you want 'Field' to be string type\n",
    "    return row['Field']\n",
    "\n",
    "# Apply the function to fill NaN values\n",
    "df_merged['Field'] = df_merged.apply(fill_field, axis=1)\n",
    "\n",
    "# Remove extraneous columns from df_merged\n",
    "#df_merged = df_merged.drop(['RA', 'DEC', 'stellarDens', 'E_BV', 'HPX64_fld', 'HPX16_fld'], axis=1)\n",
    "df_merged = df_merged.drop(['RA', 'DEC', 'stellarDens', 'E_BV', 'HPX64_b', 'HPX16_b'], axis=1)\n",
    "\n",
    "# Rename 'Field' column to 'field_name'\n",
    "df_merged = df_merged.rename(columns={'Field': 'field_name'})\n",
    "\n",
    "# Rename df_merged to df_exp\n",
    "df_exp = df_merged\n",
    "\n",
    "## Display updated df_exp\n",
    "#df_exp"
   ]
  },
  {
   "cell_type": "code",
   "execution_count": 27,
   "id": "9e52043b-a9ee-402d-8ad8-20887e1e2f73",
   "metadata": {
    "execution": {
     "iopub.execute_input": "2025-04-17T17:06:07.064111Z",
     "iopub.status.busy": "2025-04-17T17:06:07.063907Z",
     "iopub.status.idle": "2025-04-17T17:06:07.514439Z",
     "shell.execute_reply": "2025-04-17T17:06:07.513951Z",
     "shell.execute_reply.started": "2025-04-17T17:06:07.064097Z"
    }
   },
   "outputs": [
    {
     "data": {
      "text/html": [
       "<pre style=\"margin: 0.1em;\n",
       "padding-left: 0.25em;\n",
       "border-left-style: solid;\n",
       "font-family: var(--jp-code-font-family);\n",
       "font-size: var(--jp-code-font-size);\n",
       "line-height: var(--jp-code-line-height);\n",
       "\"><span style=\"color: var(--jp-warn-color2)\">botocore.httpchecksum</span> <span style=\"color: var(--jp-info-color0)\">INFO</span>: Skipping checksum validation. Response did not contain one of the following algorithms: [&#x27;crc32&#x27;, &#x27;sha1&#x27;, &#x27;sha256&#x27;].</pre>"
      ],
      "text/plain": [
       "<IPython.core.display.HTML object>"
      ]
     },
     "metadata": {},
     "output_type": "display_data"
    }
   ],
   "source": [
    "\n",
    "# Add the tract id as a column in df_exp.  \n",
    "# First, access the skymap, then add the tract to the df_exp DataFrame\n",
    "# (this can take SEVERAL minutes!):\n",
    "\n",
    "butler_sky = dafButler.Butler(repo, collections=collection_sky)\n",
    "registry_sky = butler_sky.registry\n",
    "skymap = butler_sky.get('skyMap', skymap=skymap_name)\n",
    "\n",
    "df_exp['tract'] = df_exp.apply(lambda row: find_tract(row['ra'], row['dec'], skymap), axis=1)\n",
    "#df_exp['tract']  = df_exp.apply(lambda row: return_string_of_tracts_overlapping_exposure_plus(row['id'], instrument, repo, collection_sky, skymap_name, row['ra'], row['dec']), axis=1)\n",
    "#df_exp['tract']  = df_exp.apply(lambda row: return_string_of_tracts_overlapping_exposure_plus(row['id'], instrument, butler_sky, skymap, row['ra'], row['dec']), axis=1)\n",
    "#df_exp"
   ]
  },
  {
   "cell_type": "code",
   "execution_count": 28,
   "id": "2aeeed89-d52d-4da4-bff6-a07fa875bcf7",
   "metadata": {
    "execution": {
     "iopub.execute_input": "2025-04-17T17:06:07.515079Z",
     "iopub.status.busy": "2025-04-17T17:06:07.514934Z",
     "iopub.status.idle": "2025-04-17T17:06:07.518140Z",
     "shell.execute_reply": "2025-04-17T17:06:07.517768Z",
     "shell.execute_reply.started": "2025-04-17T17:06:07.515065Z"
    }
   },
   "outputs": [],
   "source": [
    "\n",
    "# Create a `DataFrame` containing just the science exposures:\n",
    "df_sci = df_exp[df_exp.type == 'science']"
   ]
  },
  {
   "cell_type": "code",
   "execution_count": 29,
   "id": "a90fa41a-7ac4-4236-9d77-d747052a37d3",
   "metadata": {
    "execution": {
     "iopub.execute_input": "2025-04-17T17:06:07.518837Z",
     "iopub.status.busy": "2025-04-17T17:06:07.518700Z",
     "iopub.status.idle": "2025-04-17T17:06:07.537654Z",
     "shell.execute_reply": "2025-04-17T17:06:07.537260Z",
     "shell.execute_reply.started": "2025-04-17T17:06:07.518825Z"
    }
   },
   "outputs": [],
   "source": [
    "\n",
    "# 3. Analyse results of the exposure query\n",
    "\n",
    "# For the rest of the notebook, we do not want to restrict the the number of rows displayed for\n",
    "# pandas tabular information.  Therefore, let us turn off the pandas maximum rows setting.  \n",
    "# We will turn it back on at the end of the notebook.\n",
    "\n",
    "# Change the display.max_rows option\n",
    "pd.set_option(\"display.max_rows\", None)"
   ]
  },
  {
   "cell_type": "markdown",
   "id": "54a79f4e-8741-422d-930a-b7edaf1b8b5b",
   "metadata": {},
   "source": [
    "## Exposure Counts"
   ]
  },
  {
   "cell_type": "code",
   "execution_count": 30,
   "id": "6b93a02d-e5b4-4cc3-b7aa-2aa423c29b4e",
   "metadata": {
    "execution": {
     "iopub.execute_input": "2025-04-17T17:06:07.538272Z",
     "iopub.status.busy": "2025-04-17T17:06:07.538142Z",
     "iopub.status.idle": "2025-04-17T17:06:07.547067Z",
     "shell.execute_reply": "2025-04-17T17:06:07.546668Z",
     "shell.execute_reply.started": "2025-04-17T17:06:07.538259Z"
    }
   },
   "outputs": [],
   "source": [
    "\n",
    "## 3.2 Counts\n",
    "\n",
    "### 3.2.1 All Exposures\n",
    "\n",
    "\n",
    "# Total counts\n",
    "df_exp_grouped_t = df_exp.groupby(\"type\").count()[\"id\"].reset_index().rename(columns={'id': 'number'})\n",
    "df_exp_grouped_t.rename(columns={'number': 'TOTAL'}, inplace=True)\n",
    "#df_exp_grouped_t"
   ]
  },
  {
   "cell_type": "markdown",
   "id": "2acf20c8-56b6-4fb2-b81d-cd1ab0657ee9",
   "metadata": {},
   "source": [
    "### Total exposure counts by type and filter"
   ]
  },
  {
   "cell_type": "code",
   "execution_count": 31,
   "id": "cb6fd38f-14af-4799-8916-b91a2af3b1f3",
   "metadata": {
    "execution": {
     "iopub.execute_input": "2025-04-17T17:06:07.547658Z",
     "iopub.status.busy": "2025-04-17T17:06:07.547527Z",
     "iopub.status.idle": "2025-04-17T17:06:07.568884Z",
     "shell.execute_reply": "2025-04-17T17:06:07.568516Z",
     "shell.execute_reply.started": "2025-04-17T17:06:07.547645Z"
    }
   },
   "outputs": [
    {
     "data": {
      "text/html": [
       "<div>\n",
       "<style scoped>\n",
       "    .dataframe tbody tr th:only-of-type {\n",
       "        vertical-align: middle;\n",
       "    }\n",
       "\n",
       "    .dataframe tbody tr th {\n",
       "        vertical-align: top;\n",
       "    }\n",
       "\n",
       "    .dataframe thead th {\n",
       "        text-align: right;\n",
       "    }\n",
       "</style>\n",
       "<table border=\"1\" class=\"dataframe\">\n",
       "  <thead>\n",
       "    <tr style=\"text-align: right;\">\n",
       "      <th></th>\n",
       "      <th>type</th>\n",
       "      <th>u</th>\n",
       "      <th>g</th>\n",
       "      <th>r</th>\n",
       "      <th>i</th>\n",
       "      <th>z</th>\n",
       "      <th>y</th>\n",
       "      <th>unknown</th>\n",
       "      <th>TOTAL</th>\n",
       "    </tr>\n",
       "  </thead>\n",
       "  <tbody>\n",
       "    <tr>\n",
       "      <th>0</th>\n",
       "      <td>acq</td>\n",
       "      <td>0</td>\n",
       "      <td>0</td>\n",
       "      <td>0</td>\n",
       "      <td>183</td>\n",
       "      <td>0</td>\n",
       "      <td>0</td>\n",
       "      <td>0</td>\n",
       "      <td>183</td>\n",
       "    </tr>\n",
       "    <tr>\n",
       "      <th>1</th>\n",
       "      <td>bias</td>\n",
       "      <td>0</td>\n",
       "      <td>0</td>\n",
       "      <td>0</td>\n",
       "      <td>686</td>\n",
       "      <td>0</td>\n",
       "      <td>0</td>\n",
       "      <td>0</td>\n",
       "      <td>686</td>\n",
       "    </tr>\n",
       "    <tr>\n",
       "      <th>2</th>\n",
       "      <td>cwfs</td>\n",
       "      <td>0</td>\n",
       "      <td>0</td>\n",
       "      <td>0</td>\n",
       "      <td>12</td>\n",
       "      <td>0</td>\n",
       "      <td>0</td>\n",
       "      <td>0</td>\n",
       "      <td>12</td>\n",
       "    </tr>\n",
       "    <tr>\n",
       "      <th>3</th>\n",
       "      <td>dark</td>\n",
       "      <td>0</td>\n",
       "      <td>0</td>\n",
       "      <td>0</td>\n",
       "      <td>44</td>\n",
       "      <td>0</td>\n",
       "      <td>0</td>\n",
       "      <td>0</td>\n",
       "      <td>44</td>\n",
       "    </tr>\n",
       "    <tr>\n",
       "      <th>4</th>\n",
       "      <td>flat</td>\n",
       "      <td>0</td>\n",
       "      <td>0</td>\n",
       "      <td>0</td>\n",
       "      <td>10</td>\n",
       "      <td>0</td>\n",
       "      <td>0</td>\n",
       "      <td>0</td>\n",
       "      <td>10</td>\n",
       "    </tr>\n",
       "    <tr>\n",
       "      <th>5</th>\n",
       "      <td>focus</td>\n",
       "      <td>0</td>\n",
       "      <td>0</td>\n",
       "      <td>0</td>\n",
       "      <td>108</td>\n",
       "      <td>0</td>\n",
       "      <td>0</td>\n",
       "      <td>0</td>\n",
       "      <td>108</td>\n",
       "    </tr>\n",
       "    <tr>\n",
       "      <th>6</th>\n",
       "      <td>science</td>\n",
       "      <td>0</td>\n",
       "      <td>0</td>\n",
       "      <td>0</td>\n",
       "      <td>71</td>\n",
       "      <td>0</td>\n",
       "      <td>0</td>\n",
       "      <td>0</td>\n",
       "      <td>71</td>\n",
       "    </tr>\n",
       "    <tr>\n",
       "      <th>7</th>\n",
       "      <td>stuttered</td>\n",
       "      <td>0</td>\n",
       "      <td>0</td>\n",
       "      <td>0</td>\n",
       "      <td>0</td>\n",
       "      <td>0</td>\n",
       "      <td>0</td>\n",
       "      <td>6</td>\n",
       "      <td>6</td>\n",
       "    </tr>\n",
       "    <tr>\n",
       "      <th>8</th>\n",
       "      <td>unknown</td>\n",
       "      <td>0</td>\n",
       "      <td>0</td>\n",
       "      <td>0</td>\n",
       "      <td>0</td>\n",
       "      <td>0</td>\n",
       "      <td>0</td>\n",
       "      <td>70</td>\n",
       "      <td>70</td>\n",
       "    </tr>\n",
       "    <tr>\n",
       "      <th>9</th>\n",
       "      <td>TOTAL</td>\n",
       "      <td>0</td>\n",
       "      <td>0</td>\n",
       "      <td>0</td>\n",
       "      <td>1114</td>\n",
       "      <td>0</td>\n",
       "      <td>0</td>\n",
       "      <td>76</td>\n",
       "      <td>1190</td>\n",
       "    </tr>\n",
       "  </tbody>\n",
       "</table>\n",
       "</div>"
      ],
      "text/plain": [
       "        type  u  g  r     i  z  y  unknown  TOTAL\n",
       "0        acq  0  0  0   183  0  0        0    183\n",
       "1       bias  0  0  0   686  0  0        0    686\n",
       "2       cwfs  0  0  0    12  0  0        0     12\n",
       "3       dark  0  0  0    44  0  0        0     44\n",
       "4       flat  0  0  0    10  0  0        0     10\n",
       "5      focus  0  0  0   108  0  0        0    108\n",
       "6    science  0  0  0    71  0  0        0     71\n",
       "7  stuttered  0  0  0     0  0  0        6      6\n",
       "8    unknown  0  0  0     0  0  0       70     70\n",
       "9      TOTAL  0  0  0  1114  0  0       76   1190"
      ]
     },
     "execution_count": 31,
     "metadata": {},
     "output_type": "execute_result"
    }
   ],
   "source": [
    "\n",
    "# Group df_exp by 'type', col_filter.\n",
    "df_exp_grouped_tf = df2Dgroupby(df_exp, 'type', col_filter, col_id, True)\n",
    "#df_exp_grouped_type\n",
    "\n",
    "# Pivot result, reset index, and rename the axis.\n",
    "df_exp_pivoted_tf = df_exp_grouped_tf.pivot(index=['type'], columns='filter', values='number')\n",
    "df_exp_pivoted_tf = df_exp_pivoted_tf.reset_index()\n",
    "df_exp_pivoted_tf.rename_axis(columns=None, inplace=True)\n",
    "#df_exp_pivoted_tf\n",
    "\n",
    "# Perform LEFT JOIN for df_exp_grouped_type, df_exp_pivoted on 'type'.\n",
    "df_exp_merged_tf = pd.merge(df_exp_grouped_t, df_exp_pivoted_tf, on=['type'], how='left')\n",
    "#df_exp_merged_tf\n",
    "\n",
    "# Reformat df_exp_merged_tf so that there is a column for each official filter band\n",
    "#  (plus \"unknown\" if that exists as a filter band option), and order the filter band\n",
    "#  columns as \"u\", \"g\", \"r\", \"i\", \"z\", \"y\" (and maybe \"unknown\" if it is there).\n",
    "df_exp_merged_tf = reorder_filter_columns(df_exp_merged_tf)\n",
    "\n",
    "# Add a \"TOTAL\" row at the end of df_exp_merged_type to contain the summed totals\n",
    "#  of each numerical column.\n",
    "\n",
    "# Instantiate df_totals dataframe.\n",
    "df_totals_tf = pd.DataFrame({'type': ['TOTAL']})\n",
    "\n",
    "# Get the sum of each numerical column and add it as a new row.\n",
    "for col in df_exp_merged_tf.select_dtypes(include='number'):\n",
    "    df_totals_tf[col] = [df_exp_merged_tf[col].sum()]\n",
    "df_final_tf = pd.concat([df_exp_merged_tf, df_totals_tf], ignore_index=True)\n",
    "\n",
    "# Ensure TOTAL is the final column\n",
    "cols = [col for col in df_final_tf.columns if col != 'TOTAL'] + ['TOTAL']\n",
    "df_final_tf = df_final_tf[cols]\n",
    "\n",
    "df_final_tf"
   ]
  },
  {
   "cell_type": "markdown",
   "id": "5259d3ee-5bf5-4e98-8a07-03c8790e10d7",
   "metadata": {},
   "source": [
    "### Total exposure counts by date and type"
   ]
  },
  {
   "cell_type": "code",
   "execution_count": 32,
   "id": "428de1e6-3f63-4586-b16e-cd76133f0588",
   "metadata": {
    "execution": {
     "iopub.execute_input": "2025-04-17T17:06:07.569530Z",
     "iopub.status.busy": "2025-04-17T17:06:07.569338Z",
     "iopub.status.idle": "2025-04-17T17:06:07.588674Z",
     "shell.execute_reply": "2025-04-17T17:06:07.588290Z",
     "shell.execute_reply.started": "2025-04-17T17:06:07.569517Z"
    }
   },
   "outputs": [
    {
     "data": {
      "text/html": [
       "<div>\n",
       "<style scoped>\n",
       "    .dataframe tbody tr th:only-of-type {\n",
       "        vertical-align: middle;\n",
       "    }\n",
       "\n",
       "    .dataframe tbody tr th {\n",
       "        vertical-align: top;\n",
       "    }\n",
       "\n",
       "    .dataframe thead th {\n",
       "        text-align: right;\n",
       "    }\n",
       "</style>\n",
       "<table border=\"1\" class=\"dataframe\">\n",
       "  <thead>\n",
       "    <tr style=\"text-align: right;\">\n",
       "      <th></th>\n",
       "      <th>date</th>\n",
       "      <th>science</th>\n",
       "      <th>acq</th>\n",
       "      <th>bias</th>\n",
       "      <th>cwfs</th>\n",
       "      <th>dark</th>\n",
       "      <th>flat</th>\n",
       "      <th>focus</th>\n",
       "      <th>stuttered</th>\n",
       "      <th>unknown</th>\n",
       "      <th>TOTAL</th>\n",
       "    </tr>\n",
       "  </thead>\n",
       "  <tbody>\n",
       "    <tr>\n",
       "      <th>0</th>\n",
       "      <td>2025-04-15</td>\n",
       "      <td>70</td>\n",
       "      <td>30</td>\n",
       "      <td>60</td>\n",
       "      <td>12</td>\n",
       "      <td>33</td>\n",
       "      <td>0</td>\n",
       "      <td>108</td>\n",
       "      <td>0</td>\n",
       "      <td>0</td>\n",
       "      <td>313</td>\n",
       "    </tr>\n",
       "    <tr>\n",
       "      <th>1</th>\n",
       "      <td>2025-04-16</td>\n",
       "      <td>1</td>\n",
       "      <td>153</td>\n",
       "      <td>615</td>\n",
       "      <td>0</td>\n",
       "      <td>11</td>\n",
       "      <td>10</td>\n",
       "      <td>0</td>\n",
       "      <td>6</td>\n",
       "      <td>0</td>\n",
       "      <td>796</td>\n",
       "    </tr>\n",
       "    <tr>\n",
       "      <th>2</th>\n",
       "      <td>2025-04-17</td>\n",
       "      <td>0</td>\n",
       "      <td>0</td>\n",
       "      <td>11</td>\n",
       "      <td>0</td>\n",
       "      <td>0</td>\n",
       "      <td>0</td>\n",
       "      <td>0</td>\n",
       "      <td>0</td>\n",
       "      <td>70</td>\n",
       "      <td>81</td>\n",
       "    </tr>\n",
       "    <tr>\n",
       "      <th>3</th>\n",
       "      <td>TOTAL</td>\n",
       "      <td>71</td>\n",
       "      <td>183</td>\n",
       "      <td>686</td>\n",
       "      <td>12</td>\n",
       "      <td>44</td>\n",
       "      <td>10</td>\n",
       "      <td>108</td>\n",
       "      <td>6</td>\n",
       "      <td>70</td>\n",
       "      <td>1190</td>\n",
       "    </tr>\n",
       "  </tbody>\n",
       "</table>\n",
       "</div>"
      ],
      "text/plain": [
       "         date  science  acq  bias  cwfs  dark  flat  focus  stuttered  \\\n",
       "0  2025-04-15       70   30    60    12    33     0    108          0   \n",
       "1  2025-04-16        1  153   615     0    11    10      0          6   \n",
       "2  2025-04-17        0    0    11     0     0     0      0          0   \n",
       "3       TOTAL       71  183   686    12    44    10    108          6   \n",
       "\n",
       "   unknown  TOTAL  \n",
       "0        0    313  \n",
       "1        0    796  \n",
       "2       70     81  \n",
       "3       70   1190  "
      ]
     },
     "execution_count": 32,
     "metadata": {},
     "output_type": "execute_result"
    }
   ],
   "source": [
    "\n",
    "# Group df_exp by 'day_obs', 'type'.\n",
    "df_exp_grouped_dt = df2Dgroupby(df_exp, 'type', 'day_obs', col_id, True)\n",
    "\n",
    "# Pivot result, reset index, and rename the axis.\n",
    "df_exp_pivoted_dt = df_exp_grouped_dt.pivot(index=['type'], columns='day_obs', values='number')\n",
    "df_exp_pivoted_dt = df_exp_pivoted_dt.reset_index()\n",
    "df_exp_pivoted_dt.rename_axis(columns=None, inplace=True)\n",
    "\n",
    "# Transpose df_exp_pivoted_dt.\n",
    "df_transposed_dt = df_exp_pivoted_dt.set_index('type').transpose().reset_index().rename(columns={'index': 'date'})\n",
    "\n",
    "# Convert 'date' to a string with format YYYY-MM-DD.\n",
    "df_transposed_dt['date'] = pd.to_datetime(df_transposed_dt['date'], format='%Y%m%d')\n",
    "df_transposed_dt['date'] = df_transposed_dt['date'].dt.strftime('%Y-%m-%d')\n",
    "\n",
    "# If 'science' is one of the image types, reorder the DataFrame so that the 'science' column is \n",
    "#  just to the right of the 'date' column.\n",
    "if 'science' in df_transposed_dt.columns:\n",
    "    # Get all columns except 'date' and 'science'\n",
    "    other_cols = [col for col in df_transposed_dt.columns if col not in ['date', 'science']]\n",
    "    \n",
    "    # Reorder columns with 'science' right after 'date'\n",
    "    df_transposed_dt = df_transposed_dt[['date', 'science'] + other_cols]\n",
    "\n",
    "# Sum the counts of all the image types and list the sum in a column called 'TOTAL'.\n",
    "df_transposed_dt['TOTAL'] = df_transposed_dt.drop(columns=['date']).sum(axis=1)\n",
    "\n",
    "# Ensure TOTAL is the final column\n",
    "cols = [col for col in df_transposed_dt.columns if col != 'TOTAL'] + ['TOTAL']\n",
    "df_transposed_dt = df_transposed_dt[cols]\n",
    "\n",
    "# Add a \"TOTAL\" row at the end of df_transposed to contain the summed totals\n",
    "#  of each numerical column.\n",
    "\n",
    "# Instantiate df_transposed_totals_dt dataframe.\n",
    "df_transposed_totals_dt = pd.DataFrame({'date': ['TOTAL']})\n",
    "\n",
    "# Get the sum of each numerical column and add it as a new row.\n",
    "for col in df_transposed_dt.select_dtypes(include='number'):\n",
    "    df_transposed_totals_dt[col] = [df_transposed_dt[col].sum()]\n",
    "\n",
    "# Add the 'TOTAL' row as the final row in the DateFrame.\n",
    "df_transposed_final_dt = pd.concat([df_transposed_dt, df_transposed_totals_dt], ignore_index=True)\n",
    "\n",
    "# Set the name of the DataFrame's index to None.\n",
    "df_transposed_final_dt.rename_axis(columns=None, inplace=True)\n",
    "\n",
    "df_transposed_final_dt"
   ]
  },
  {
   "cell_type": "markdown",
   "id": "dc20cfc7-f3dc-479f-88d2-cd0871afd225",
   "metadata": {},
   "source": [
    "## Science Exposure Counts"
   ]
  },
  {
   "cell_type": "code",
   "execution_count": 33,
   "id": "acfd31b2-8e59-4902-b1a1-e190555661cb",
   "metadata": {
    "execution": {
     "iopub.execute_input": "2025-04-17T17:06:07.589229Z",
     "iopub.status.busy": "2025-04-17T17:06:07.589099Z",
     "iopub.status.idle": "2025-04-17T17:06:07.595133Z",
     "shell.execute_reply": "2025-04-17T17:06:07.594766Z",
     "shell.execute_reply.started": "2025-04-17T17:06:07.589217Z"
    }
   },
   "outputs": [],
   "source": [
    "\n",
    "### 3.2.2 All Science Exposures\n",
    "\n",
    "# First, group by col_sciprog, col_target, 'tract', and col_filter.\n",
    "df_sci_grouped = df4Dgroupby(df_sci, col_sciprog, col_target, 'tract', col_filter, col_id, True)\n",
    "#df_sci_grouped"
   ]
  },
  {
   "cell_type": "code",
   "execution_count": 34,
   "id": "7ac007d6-5b1e-4fb6-b5d3-494720c72b0c",
   "metadata": {
    "execution": {
     "iopub.execute_input": "2025-04-17T17:06:07.595676Z",
     "iopub.status.busy": "2025-04-17T17:06:07.595542Z",
     "iopub.status.idle": "2025-04-17T17:06:07.610524Z",
     "shell.execute_reply": "2025-04-17T17:06:07.610121Z",
     "shell.execute_reply.started": "2025-04-17T17:06:07.595663Z"
    }
   },
   "outputs": [],
   "source": [
    "\n",
    "# Next, pivot the dataframe, reset the index, and rename the axis.\n",
    "#  Kudos to Poe.com AI assistant.\n",
    "df_sci_pivoted = df_sci_grouped.pivot(index=[col_sciprog, col_target, 'tract'], columns=col_filter, values='number')\n",
    "df_sci_pivoted = df_sci_pivoted.reset_index()\n",
    "df_sci_pivoted.rename_axis(columns=None, inplace=True)\n",
    "#df_sci_pivoted"
   ]
  },
  {
   "cell_type": "code",
   "execution_count": 35,
   "id": "889ddab3-3d6d-4189-8366-9be53a228ee0",
   "metadata": {
    "execution": {
     "iopub.execute_input": "2025-04-17T17:06:07.611075Z",
     "iopub.status.busy": "2025-04-17T17:06:07.610945Z",
     "iopub.status.idle": "2025-04-17T17:06:07.620833Z",
     "shell.execute_reply": "2025-04-17T17:06:07.620371Z",
     "shell.execute_reply.started": "2025-04-17T17:06:07.611063Z"
    }
   },
   "outputs": [],
   "source": [
    "\n",
    "# Next,group by col_sciprog, col_target, and 'tract'.\n",
    "df_sci_grouped_tract = df3Dgroupby(df_sci, col_sciprog, col_target, 'tract', col_id, False)\n",
    "df_sci_grouped_tract.rename(columns={'number': 'TOTAL'}, inplace=True)\n",
    "#df_sci_grouped_tract"
   ]
  },
  {
   "cell_type": "code",
   "execution_count": 36,
   "id": "75449f39-3e82-487e-b7d5-a74924dd4ddc",
   "metadata": {
    "execution": {
     "iopub.execute_input": "2025-04-17T17:06:07.621594Z",
     "iopub.status.busy": "2025-04-17T17:06:07.621384Z",
     "iopub.status.idle": "2025-04-17T17:06:07.628890Z",
     "shell.execute_reply": "2025-04-17T17:06:07.628400Z",
     "shell.execute_reply.started": "2025-04-17T17:06:07.621575Z"
    }
   },
   "outputs": [],
   "source": [
    "\n",
    "# Next, perform a LEFT JOIN for df_sci_grouped_tract, df_sci_pivoted on col_sciprog, col_target.\n",
    "df_sci_merged = pd.merge(df_sci_grouped_tract, df_sci_pivoted, on=[col_sciprog, col_target, 'tract'], how='left')\n",
    "#df_sci_merged"
   ]
  },
  {
   "cell_type": "code",
   "execution_count": 37,
   "id": "aa15ef48-cca4-4727-9efc-08f3e4d500dd",
   "metadata": {
    "execution": {
     "iopub.execute_input": "2025-04-17T17:06:07.629668Z",
     "iopub.status.busy": "2025-04-17T17:06:07.629430Z",
     "iopub.status.idle": "2025-04-17T17:06:07.643424Z",
     "shell.execute_reply": "2025-04-17T17:06:07.643051Z",
     "shell.execute_reply.started": "2025-04-17T17:06:07.629649Z"
    }
   },
   "outputs": [],
   "source": [
    "\n",
    "# Due to dithering and/or pointing errors, some (col_sciprog, col_target) pairs\n",
    "#  may have multiple matches to the closest tract to the beam sight of the exposure.\n",
    "#  Here, we combine combine all the matches for each (col_sciprog, col_target) pair\n",
    "#  into a single dataframe row.\n",
    "# Kudos again to Poe.com AI assistant for this solution!\n",
    "\n",
    "#  Group df_sci_merged by (col_sciprog, col_target) pair.\n",
    "df_sci_merged_grp = df_sci_merged.groupby([col_sciprog, col_target])\n",
    "\n",
    "#  Identify all columns containing numerical values; these will be summed for \n",
    "#   each (col_sciprog, col_target) pair.\n",
    "numeric_cols = df_sci_merged.select_dtypes(include='number').columns.tolist()\n",
    "#  But remove the 'tract' column; we treat this numerical column differently.\n",
    "numeric_cols.remove('tract')\n",
    "\n",
    "# Also remove col_sciprog and/or col_target if in numeric_cols list...\n",
    "if col_sciprog in numeric_cols:\n",
    "    numeric_cols.remove(col_sciprog)\n",
    "if col_target in numeric_cols:\n",
    "    numeric_cols.remove(col_target)\n",
    "\n",
    "#  And now combined tracts for each each (col_sciprog, col_target) pair, \n",
    "#   creating a comma-separated string for (col_sciprog, col_target) pairs\n",
    "#   that have multiple tract matches.\n",
    "df_sci_combined = df_sci_merged_grp.agg({\n",
    "    'tract': lambda x: ','.join(map(str, sorted(x, key=lambda y: df_sci_merged.loc[df_sci_merged['tract'] == y, 'TOTAL'].values[0], reverse=True))),\n",
    "    **{col: 'sum' for col in numeric_cols}\n",
    "}).reset_index()\n",
    "\n",
    "# Reformat df_exp_merged_tf so that there is a column for each official filter band\n",
    "#  (plus \"unknown\" if that exists as a filter band option), and order the filter band\n",
    "#  columns as \"u\", \"g\", \"r\", \"i\", \"z\", \"y\" (and maybe \"unknown\" if it is there).\n",
    "df_sci_combined = reorder_filter_columns(df_sci_combined)\n",
    "#df_sci_combined\n"
   ]
  },
  {
   "cell_type": "code",
   "execution_count": 38,
   "id": "4558e507-a828-4836-8e06-686217138a7e",
   "metadata": {
    "execution": {
     "iopub.execute_input": "2025-04-17T17:06:07.644181Z",
     "iopub.status.busy": "2025-04-17T17:06:07.643976Z",
     "iopub.status.idle": "2025-04-17T17:06:07.656732Z",
     "shell.execute_reply": "2025-04-17T17:06:07.656351Z",
     "shell.execute_reply.started": "2025-04-17T17:06:07.644161Z"
    }
   },
   "outputs": [
    {
     "data": {
      "text/html": [
       "<div>\n",
       "<style scoped>\n",
       "    .dataframe tbody tr th:only-of-type {\n",
       "        vertical-align: middle;\n",
       "    }\n",
       "\n",
       "    .dataframe tbody tr th {\n",
       "        vertical-align: top;\n",
       "    }\n",
       "\n",
       "    .dataframe thead th {\n",
       "        text-align: right;\n",
       "    }\n",
       "</style>\n",
       "<table border=\"1\" class=\"dataframe\">\n",
       "  <thead>\n",
       "    <tr style=\"text-align: right;\">\n",
       "      <th></th>\n",
       "      <th>science_program</th>\n",
       "      <th>target</th>\n",
       "      <th>tract</th>\n",
       "      <th>u</th>\n",
       "      <th>g</th>\n",
       "      <th>r</th>\n",
       "      <th>i</th>\n",
       "      <th>z</th>\n",
       "      <th>y</th>\n",
       "      <th>TOTAL</th>\n",
       "    </tr>\n",
       "  </thead>\n",
       "  <tbody>\n",
       "    <tr>\n",
       "      <th>0</th>\n",
       "      <td>BLOCK-351</td>\n",
       "      <td>HD 106625</td>\n",
       "      <td>6953,6719,6720,6487,6488,7183,8626</td>\n",
       "      <td>0</td>\n",
       "      <td>0</td>\n",
       "      <td>0</td>\n",
       "      <td>26</td>\n",
       "      <td>0</td>\n",
       "      <td>0</td>\n",
       "      <td>26</td>\n",
       "    </tr>\n",
       "    <tr>\n",
       "      <th>1</th>\n",
       "      <td>BLOCK-351</td>\n",
       "      <td>HD 123139</td>\n",
       "      <td>4112,3913,4315</td>\n",
       "      <td>0</td>\n",
       "      <td>0</td>\n",
       "      <td>0</td>\n",
       "      <td>28</td>\n",
       "      <td>0</td>\n",
       "      <td>0</td>\n",
       "      <td>28</td>\n",
       "    </tr>\n",
       "    <tr>\n",
       "      <th>2</th>\n",
       "      <td>BLOCK-351</td>\n",
       "      <td>alf Cen</td>\n",
       "      <td>1310,1311,1437</td>\n",
       "      <td>0</td>\n",
       "      <td>0</td>\n",
       "      <td>0</td>\n",
       "      <td>16</td>\n",
       "      <td>0</td>\n",
       "      <td>0</td>\n",
       "      <td>16</td>\n",
       "    </tr>\n",
       "    <tr>\n",
       "      <th>3</th>\n",
       "      <td>BLOCK-T456</td>\n",
       "      <td>Mirror covers operation</td>\n",
       "      <td>3239</td>\n",
       "      <td>0</td>\n",
       "      <td>0</td>\n",
       "      <td>0</td>\n",
       "      <td>1</td>\n",
       "      <td>0</td>\n",
       "      <td>0</td>\n",
       "      <td>1</td>\n",
       "    </tr>\n",
       "    <tr>\n",
       "      <th>4</th>\n",
       "      <td>TOTAL</td>\n",
       "      <td></td>\n",
       "      <td></td>\n",
       "      <td>0</td>\n",
       "      <td>0</td>\n",
       "      <td>0</td>\n",
       "      <td>71</td>\n",
       "      <td>0</td>\n",
       "      <td>0</td>\n",
       "      <td>71</td>\n",
       "    </tr>\n",
       "  </tbody>\n",
       "</table>\n",
       "</div>"
      ],
      "text/plain": [
       "  science_program                   target  \\\n",
       "0       BLOCK-351                HD 106625   \n",
       "1       BLOCK-351                HD 123139   \n",
       "2       BLOCK-351                  alf Cen   \n",
       "3      BLOCK-T456  Mirror covers operation   \n",
       "4           TOTAL                            \n",
       "\n",
       "                                tract  u  g  r   i  z  y  TOTAL  \n",
       "0  6953,6719,6720,6487,6488,7183,8626  0  0  0  26  0  0     26  \n",
       "1                      4112,3913,4315  0  0  0  28  0  0     28  \n",
       "2                      1310,1311,1437  0  0  0  16  0  0     16  \n",
       "3                                3239  0  0  0   1  0  0      1  \n",
       "4                                      0  0  0  71  0  0     71  "
      ]
     },
     "execution_count": 38,
     "metadata": {},
     "output_type": "execute_result"
    }
   ],
   "source": [
    "\n",
    "# Add a \"TOTAL\" row at the end of df_sci_merged to contain the summed totals\n",
    "#  of each numerical column.\n",
    "\n",
    "# Instantiate df_totals dataframe.\n",
    "df_totals = pd.DataFrame({col_sciprog: ['TOTAL'], col_target: [''], 'tract': ['']})\n",
    "\n",
    "# Get the sum of each numerical column and add it as a new row\n",
    "for col in df_sci_combined.select_dtypes(include='number'):\n",
    "    df_totals[col] = [df_sci_combined[col].sum()]\n",
    "df_final = pd.concat([df_sci_combined, df_totals], ignore_index=True)\n",
    "\n",
    "# Ensure TOTAL is the final column\n",
    "cols = [col for col in df_final.columns if col != 'TOTAL'] + ['TOTAL']\n",
    "df_final = df_final[cols]\n",
    "\n",
    "df_final"
   ]
  },
  {
   "cell_type": "markdown",
   "id": "1976c6fc-704a-4985-8d11-40b3286c809a",
   "metadata": {
    "execution": {
     "iopub.execute_input": "2024-08-25T18:58:55.648531Z",
     "iopub.status.busy": "2024-08-25T18:58:55.648411Z",
     "iopub.status.idle": "2024-08-25T18:58:55.650278Z",
     "shell.execute_reply": "2024-08-25T18:58:55.649960Z",
     "shell.execute_reply.started": "2024-08-25T18:58:55.648520Z"
    }
   },
   "source": [
    "***The tracts listed are those that overlap the beam sight of the exposures associated with a given (`science_program`, `target`) pair.  Due to the extent of the focal plane, there may be additional tracts associated with a given exposure pointing; these are not recorded here.*** \n",
    "\n",
    "***That said, dithering and/or pointing errors may mean that different exposures associated with a (`science_program`, `target`) pair may be matched with different tracts.  In that case, a comma-separated list of tracts is provided in the above table for that (`science_program`, `target`) pair; the tract list is arranged in order of decreasing number of exposures associated with that tract.***\n"
   ]
  },
  {
   "cell_type": "markdown",
   "id": "4b48fd5a-9a84-405f-9308-a8faede7c037",
   "metadata": {},
   "source": [
    "## Science Target Exposure Sky Positions (RA, DEC)"
   ]
  },
  {
   "cell_type": "code",
   "execution_count": 39,
   "id": "48019129-23f8-4ecc-bb75-c6d63f46dbe9",
   "metadata": {
    "execution": {
     "iopub.execute_input": "2025-04-17T17:06:07.657776Z",
     "iopub.status.busy": "2025-04-17T17:06:07.657237Z",
     "iopub.status.idle": "2025-04-17T17:06:07.847891Z",
     "shell.execute_reply": "2025-04-17T17:06:07.847496Z",
     "shell.execute_reply.started": "2025-04-17T17:06:07.657754Z"
    }
   },
   "outputs": [
    {
     "data": {
      "text/plain": [
       "<matplotlib.legend.Legend at 0x7f4cfc234590>"
      ]
     },
     "execution_count": 39,
     "metadata": {},
     "output_type": "execute_result"
    },
    {
     "data": {
      "image/png": "[encoded data removed]",
      "text/plain": [
       "<Figure size 1000x1000 with 1 Axes>"
      ]
     },
     "metadata": {},
     "output_type": "display_data"
    }
   ],
   "source": [
    "## 3.3 Positions\n",
    "\n",
    "### 3.3.1 Target RA, DEC\n",
    "\n",
    "df_sci.sort_values(by='field_name', inplace=True)\n",
    "\n",
    "plt.figure(figsize=(10, 10))\n",
    "\n",
    "# Extract base filter name (first character) from filter column\n",
    "df_sci['base_filter'] = df_sci['filter'].str[0]\n",
    "\n",
    "# Plot each filter separately to use different markers\n",
    "for filter_name in plot_filter_labels:\n",
    "    mask = df_sci['base_filter'] == filter_name\n",
    "    if mask.any():  # Only plot if there are observations in this filter\n",
    "        if df_sci[col_target].dtype == \"int64\" or df_sci[col_target].dtype == \"float64\":\n",
    "            plt.scatter(df_sci[mask]['ra'], df_sci[mask]['dec'],\n",
    "                       c=df_sci[mask][col_target],\n",
    "                       marker=plot_filter_symbols[filter_name],\n",
    "                       s=10,\n",
    "                       label=filter_name)\n",
    "        else:\n",
    "            plt.scatter(df_sci[mask]['ra'], df_sci[mask]['dec'],\n",
    "                       c=plot_filter_colors[filter_name],\n",
    "                       marker=plot_filter_symbols[filter_name],\n",
    "                       s=10,\n",
    "                       label=filter_name)\n",
    "            # Add annotations for non-numeric targets\n",
    "            prev_label = 'XXXXXX'\n",
    "            for i, label in enumerate(df_sci[mask][col_target]):\n",
    "                if label != prev_label:\n",
    "                    plt.annotate(label, \n",
    "                                (df_sci[mask]['ra'].iloc[i], df_sci[mask]['dec'].iloc[i]), \n",
    "                                fontsize=6)\n",
    "                    prev_label = label\n",
    "\n",
    "# Add labels and title\n",
    "plt.xlabel('RA')\n",
    "plt.ylabel('DEC')\n",
    "title = \"\"\"RA, DEC positions of %s Observations of Different Science Program Targets\\n between %s and %s (inclusive)\"\"\" %(instrument, day_obs_start, day_obs_end)\n",
    "plt.title(title)\n",
    "plt.grid(True)\n",
    "plt.legend()"
   ]
  },
  {
   "cell_type": "markdown",
   "id": "2f09c218-5a70-4f85-941e-fffadb986945",
   "metadata": {},
   "source": [
    "## Science Target Exposure Zenith Angles"
   ]
  },
  {
   "cell_type": "code",
   "execution_count": 40,
   "id": "df23bd72-6eb6-42a6-9f30-f52e8031572b",
   "metadata": {
    "execution": {
     "iopub.execute_input": "2025-04-17T17:06:07.848522Z",
     "iopub.status.busy": "2025-04-17T17:06:07.848366Z",
     "iopub.status.idle": "2025-04-17T17:06:07.968779Z",
     "shell.execute_reply": "2025-04-17T17:06:07.968353Z",
     "shell.execute_reply.started": "2025-04-17T17:06:07.848508Z"
    }
   },
   "outputs": [
    {
     "data": {
      "text/plain": [
       "<matplotlib.legend.Legend at 0x7f4cfbf37830>"
      ]
     },
     "execution_count": 40,
     "metadata": {},
     "output_type": "execute_result"
    },
    {
     "data": {
      "image/png": "[encoded data removed]",
      "text/plain": [
       "<Figure size 1000x1000 with 1 Axes>"
      ]
     },
     "metadata": {},
     "output_type": "display_data"
    }
   ],
   "source": [
    "### 3.3.2 Target vs. zenith_angle\n",
    "\n",
    "plt.figure(figsize=(10, 10))\n",
    "\n",
    "# Extract base filter name (first character) from filter column\n",
    "df_sci['base_filter'] = df_sci['filter'].str[0]\n",
    "\n",
    "# Plot each filter separately to use different markers\n",
    "for filter_name in plot_filter_labels:\n",
    "    mask = df_sci['base_filter'] == filter_name\n",
    "    if mask.any():  # Only plot if there are observations in this filter\n",
    "        plt.scatter(df_sci[mask]['zenith_angle'], \n",
    "                   df_sci[mask][col_target],\n",
    "                   c=plot_filter_colors[filter_name],\n",
    "                   marker=plot_filter_symbols[filter_name],\n",
    "                   s=10,\n",
    "                   label=filter_name)\n",
    "\n",
    "# Add labels and title\n",
    "plt.xlabel('Zenith Angle')\n",
    "plt.ylabel('Target')\n",
    "title = \"\"\"Zenith distances for of %s Observations of Different Science Program Targets\\n between %s and %s (inclusive)\"\"\" %(instrument, day_obs_start, day_obs_end)\n",
    "plt.title(title)\n",
    "plt.grid(True)\n",
    "plt.legend()"
   ]
  },
  {
   "cell_type": "markdown",
   "id": "cc79b958-bdc2-4872-b577-2198ac74c61e",
   "metadata": {},
   "source": [
    "## Science Target Exposure MJDs"
   ]
  },
  {
   "cell_type": "code",
   "execution_count": 41,
   "id": "d5c947a1-88ee-4a89-97d7-c54ff981f36b",
   "metadata": {
    "execution": {
     "iopub.execute_input": "2025-04-17T17:06:07.969423Z",
     "iopub.status.busy": "2025-04-17T17:06:07.969262Z",
     "iopub.status.idle": "2025-04-17T17:06:08.104656Z",
     "shell.execute_reply": "2025-04-17T17:06:08.104214Z",
     "shell.execute_reply.started": "2025-04-17T17:06:07.969397Z"
    }
   },
   "outputs": [
    {
     "data": {
      "text/plain": [
       "<matplotlib.legend.Legend at 0x7f4cfc01f2f0>"
      ]
     },
     "execution_count": 41,
     "metadata": {},
     "output_type": "execute_result"
    },
    {
     "data": {
      "image/png": "[encoded data removed]",
      "text/plain": [
       "<Figure size 1000x1000 with 1 Axes>"
      ]
     },
     "metadata": {},
     "output_type": "display_data"
    }
   ],
   "source": [
    "### 3.3.3 Target vs. MJD\n",
    "\n",
    "plt.figure(figsize=(10, 10))\n",
    "\n",
    "# Extract base filter name (first character) from filter column\n",
    "df_sci['base_filter'] = df_sci['filter'].str[0]\n",
    "\n",
    "# Plot each filter separately to use different markers\n",
    "for filter_name in plot_filter_labels:\n",
    "    mask = df_sci['base_filter'] == filter_name\n",
    "    if mask.any():  # Only plot if there are observations in this filter\n",
    "        plt.scatter(df_sci[mask]['mjd'], \n",
    "                   df_sci[mask][col_target],\n",
    "                   c=plot_filter_colors[filter_name],\n",
    "                   marker=plot_filter_symbols[filter_name],\n",
    "                   s=10,\n",
    "                   label=filter_name)\n",
    "\n",
    "# Add labels and title\n",
    "plt.xlabel('MJD')\n",
    "plt.ylabel(col_target)\n",
    "title = \"\"\"MJDs of %s Observations of Different Science Program Targets\\n between %s and %s (inclusive)\"\"\" %(instrument, day_obs_start, day_obs_end)\n",
    "plt.title(title)\n",
    "plt.grid(True)\n",
    "plt.legend()"
   ]
  },
  {
   "cell_type": "markdown",
   "id": "6854a142-ed35-4a18-bcf1-39e72d3a7024",
   "metadata": {},
   "source": [
    "## Science Target Exposure Zenith Angles vs. MJD"
   ]
  },
  {
   "cell_type": "code",
   "execution_count": 42,
   "id": "59d78b6f-2907-4418-ab9b-94f0ab48ee74",
   "metadata": {
    "execution": {
     "iopub.execute_input": "2025-04-17T17:06:08.105302Z",
     "iopub.status.busy": "2025-04-17T17:06:08.105146Z",
     "iopub.status.idle": "2025-04-17T17:06:08.268985Z",
     "shell.execute_reply": "2025-04-17T17:06:08.268579Z",
     "shell.execute_reply.started": "2025-04-17T17:06:08.105289Z"
    }
   },
   "outputs": [
    {
     "data": {
      "text/plain": [
       "<matplotlib.legend.Legend at 0x7f4cfbe072f0>"
      ]
     },
     "execution_count": 42,
     "metadata": {},
     "output_type": "execute_result"
    },
    {
     "data": {
      "image/png": "[encoded data removed]",
      "text/plain": [
       "<Figure size 1000x1000 with 1 Axes>"
      ]
     },
     "metadata": {},
     "output_type": "display_data"
    }
   ],
   "source": [
    "### 3.3.4 Target zenith angle vs. MJD\n",
    "\n",
    "df_sci.sort_values(by='mjd', inplace=True)\n",
    "\n",
    "plt.figure(figsize=(10, 10))\n",
    "\n",
    "# Extract base filter name (first character) from filter column\n",
    "df_sci['base_filter'] = df_sci['filter'].str[0]\n",
    "\n",
    "# Plot in Cartesian coordinates\n",
    "if df_sci[col_target].dtype == \"int64\" or df_sci[col_target].dtype == \"float64\":\n",
    "    # For numerical targets, plot each filter with color based on target value\n",
    "    for filter_name in plot_filter_labels:\n",
    "        mask = df_sci['base_filter'] == filter_name\n",
    "        if mask.any():  # Only plot if there are observations in this filter\n",
    "            plt.scatter(df_sci[mask]['mjd'], \n",
    "                       df_sci[mask]['zenith_angle'],\n",
    "                       c=df_sci[mask][col_target],\n",
    "                       marker=plot_filter_symbols[filter_name],\n",
    "                       s=10,\n",
    "                       label=filter_name)\n",
    "else:\n",
    "    # For string targets, plot each filter with its designated color\n",
    "    for filter_name in plot_filter_labels:\n",
    "        mask = df_sci['base_filter'] == filter_name\n",
    "        if mask.any():  # Only plot if there are observations in this filter\n",
    "            plt.scatter(df_sci[mask]['mjd'], \n",
    "                       df_sci[mask]['zenith_angle'],\n",
    "                       c=plot_filter_colors[filter_name],\n",
    "                       marker=plot_filter_symbols[filter_name],\n",
    "                       s=10,\n",
    "                       label=filter_name)\n",
    "    \n",
    "    # Add annotations for non-numeric targets\n",
    "    prev_label = 'XXXXXX'\n",
    "    for i, label in enumerate(df_sci[col_target]):\n",
    "        if label != prev_label:\n",
    "            plt.annotate(label, \n",
    "                        (df_sci['mjd'].iloc[i], df_sci['zenith_angle'].iloc[i]), \n",
    "                        fontsize=6)\n",
    "            prev_label = label\n",
    "\n",
    "# Add labels and title\n",
    "plt.xlabel('MJD')\n",
    "plt.ylabel('Zenith Angle')\n",
    "title = \"\"\"Zenith Angle vs. MJD of %s Observations of Different Science Program Targets\\n between %s and %s (inclusive)\"\"\" %(instrument, day_obs_start, day_obs_end)\n",
    "plt.title(title)\n",
    "plt.grid(True)\n",
    "plt.legend()"
   ]
  },
  {
   "cell_type": "code",
   "execution_count": 43,
   "id": "c1c4ccc9-25a5-4ddc-853c-01da52b614fd",
   "metadata": {
    "execution": {
     "iopub.execute_input": "2025-04-17T17:06:08.269605Z",
     "iopub.status.busy": "2025-04-17T17:06:08.269455Z",
     "iopub.status.idle": "2025-04-17T17:06:08.271959Z",
     "shell.execute_reply": "2025-04-17T17:06:08.271575Z",
     "shell.execute_reply.started": "2025-04-17T17:06:08.269592Z"
    }
   },
   "outputs": [],
   "source": [
    "\n",
    "# 4. Final cleanup\n",
    "\n",
    "# Reset the display.max_rows option to the original default\n",
    "pd.reset_option(\"display.max_rows\")"
   ]
  },
  {
   "cell_type": "code",
   "execution_count": null,
   "id": "63f95453-9665-42ee-b852-e8df40e4e605",
   "metadata": {},
   "outputs": [],
   "source": []
  },
  {
   "cell_type": "code",
   "execution_count": null,
   "id": "ea1d8bec-fb4c-4200-aaae-a0d97f5f18c6",
   "metadata": {},
   "outputs": [],
   "source": []
  }
 ],
 "metadata": {
  "kernelspec": {
   "display_name": "LSST",
   "language": "python",
   "name": "lsst"
  },
  "language_info": {
   "codemirror_mode": {
    "name": "ipython",
    "version": 3
   },
   "file_extension": ".py",
   "mimetype": "text/x-python",
   "name": "python",
   "nbconvert_exporter": "python",
   "pygments_lexer": "ipython3",
   "version": "3.12.9"
  }
 },
 "nbformat": 4,
 "nbformat_minor": 5
}
