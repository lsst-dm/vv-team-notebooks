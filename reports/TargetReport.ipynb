{
 "cells": [
  {
   "cell_type": "markdown",
   "id": "3c90fdc1-462a-425e-948c-5ca98a52f1e1",
   "metadata": {},
   "source": [
    "**Description:** A prototype dashboard for exploring targets (and science programs) for a given night.  This version focuses on AuxTel observations, but should be also useful for ComCom and LSSTcam commissioning, when there will be a greater diversity of observational programs than those provided by the survey scheduler during standard operations.\n",
    "\n",
    "See Jira issue <a href=https://rubinobs.atlassian.net/browse/SP-924>SP-924</a>.\n",
    "\n",
    "**Credit:** Based heavily on the <a href=https://github.com/sylvielsstfr/AuxTelComm/blob/main/notebooks_usdf/ana_auxtelprod_jn/spectractor_v3.1.0_May2024/ListOfExposures-hologram-oga.ipynb> List of Exposures at USDF in OGA</a> notebook by Sylvie Dagoret-Campagne.  This initial \"Prototype Target Dashboard\" notebook would not have been possible without it."
   ]
  },
  {
   "cell_type": "code",
   "execution_count": 1,
   "id": "3ce8dfcc-d745-4fc3-ad39-6b2d5e0e2be6",
   "metadata": {
    "execution": {
     "iopub.execute_input": "2024-10-28T21:18:53.072919Z",
     "iopub.status.busy": "2024-10-28T21:18:53.072789Z",
     "iopub.status.idle": "2024-10-28T21:18:53.075346Z",
     "shell.execute_reply": "2024-10-28T21:18:53.074997Z",
     "shell.execute_reply.started": "2024-10-28T21:18:53.072905Z"
    }
   },
   "outputs": [],
   "source": [
    "instrument = 'LSSTComCam'\n",
    "repo = 'embargo_new'\n",
    "day_obs_start = '2024-10-24'\n",
    "day_obs_end = 'TODAY'\n",
    "collection = 'LSSTComCam/nightlyValidation'\n",
    "collection_sky = 'LSSTComCamSim/runs/DRP/OR4/w_2024_25/DM-45066'\n",
    "skymap_name = 'ops_rehersal_prep_2k_v1'\n",
    "col_sciprog = 'science_program'\n",
    "col_target = 'target'\n",
    "col_filter = 'filter'\n",
    "col_id = 'id'"
   ]
  },
  {
   "cell_type": "code",
   "execution_count": 2,
   "id": "08b3556a",
   "metadata": {
    "execution": {
     "iopub.execute_input": "2024-10-28T21:18:53.095967Z",
     "iopub.status.busy": "2024-10-28T21:18:53.095825Z",
     "iopub.status.idle": "2024-10-28T21:18:55.442131Z",
     "shell.execute_reply": "2024-10-28T21:18:55.441709Z",
     "shell.execute_reply.started": "2024-10-28T21:18:53.095954Z"
    },
    "tags": []
   },
   "outputs": [],
   "source": [
    "\n",
    "## 1.1 Import packages\n",
    "\n",
    "import sys\n",
    "import os\n",
    "import io\n",
    "import math\n",
    "import matplotlib.pyplot as plt\n",
    "import seaborn as sns\n",
    "import numpy as np\n",
    "import pandas as pd\n",
    "import healpy as hp\n",
    "from matplotlib.colors import LogNorm\n",
    "from IPython.display import display, HTML\n",
    "import lsst.afw.display as afwDisplay\n",
    "import lsst.daf.butler as dafButler\n",
    "import lsst.geom as geom\n",
    "\n",
    "from mpl_toolkits.axes_grid1 import make_axes_locatable\n",
    "\n",
    "import matplotlib.ticker\n",
    "from matplotlib.ticker import (MultipleLocator, FormatStrFormatter, AutoMinorLocator)\n",
    "\n",
    "from astropy.io import fits\n",
    "from astropy.time import Time\n",
    "\n",
    "from datetime import datetime\n",
    "from datetime import date\n",
    "\n",
    "import warnings"
   ]
  },
  {
   "cell_type": "code",
   "execution_count": 3,
   "id": "0fd9f3fe-be33-4e41-915e-0594018f74c3",
   "metadata": {
    "execution": {
     "iopub.execute_input": "2024-10-28T21:18:55.442997Z",
     "iopub.status.busy": "2024-10-28T21:18:55.442852Z",
     "iopub.status.idle": "2024-10-28T21:18:55.446441Z",
     "shell.execute_reply": "2024-10-28T21:18:55.446100Z",
     "shell.execute_reply.started": "2024-10-28T21:18:55.442978Z"
    }
   },
   "outputs": [],
   "source": [
    "\n",
    "# 1.2 Convert day_obs_start and day_obs_end to integers...\n",
    "\n",
    "# Convert the date_obs_start string to a datetime object\n",
    "if day_obs_start.lower() == \"today\":\n",
    "    day_obs_start = datetime.strptime(date.today().strftime(\"%Y-%m-%d\"), '%Y-%m-%d')\n",
    "else:\n",
    "    day_obs_start = datetime.strptime(day_obs_start, '%Y-%m-%d')\n",
    "# Convert the date_obs_start datetime object to an integer\n",
    "day_obs_start = int(day_obs_start.strftime('%Y%m%d'))\n",
    "#print(\"Start date is: \", day_obs_start)\n",
    "\n",
    "# Convert the date_obs_end string to a datetime object\n",
    "if day_obs_end.lower() == \"today\":\n",
    "    day_obs_end = datetime.strptime(date.today().strftime(\"%Y-%m-%d\"), '%Y-%m-%d')\n",
    "else:\n",
    "    day_obs_end = datetime.strptime(day_obs_end, '%Y-%m-%d')\n",
    "# Convert the date_obs_end datetime object to an integer\n",
    "day_obs_end = int(day_obs_end.strftime('%Y%m%d'))\n",
    "#print(\"End date is: \", day_obs_end)\n"
   ]
  },
  {
   "cell_type": "code",
   "execution_count": 4,
   "id": "2fd7808f-8111-4c23-8735-5a8fbc26b67f",
   "metadata": {
    "execution": {
     "iopub.execute_input": "2024-10-28T21:18:55.447167Z",
     "iopub.status.busy": "2024-10-28T21:18:55.446884Z",
     "iopub.status.idle": "2024-10-28T21:18:55.451974Z",
     "shell.execute_reply": "2024-10-28T21:18:55.451623Z",
     "shell.execute_reply.started": "2024-10-28T21:18:55.447152Z"
    }
   },
   "outputs": [],
   "source": [
    "## 1.3 Define functions and parameters\n",
    "\n",
    "# Create a function to create a pandas DataFrame, df_grouped, that contains the results of performing a 2D groupby \n",
    "# operation on a pandas DataFrame, df, and counts the number of entries in the col_count column for each (col_x, col_y).  \n",
    "# One can choose to include a count of zero for cases where (col_x, col_y) have no entries in col_count (the default), \n",
    "# or to exclude those cases.  The resulting pandas DataFrame, df_grouped, is also sorted by (col_x, col_y).\n",
    "\n",
    "# (Thanks to the ChatGPT on Poe.com and to https://stackoverflow.com/questions/37003100/pandas-groupby-for-zero-values \n",
    "# for help in creating this function!)\n",
    "\n",
    "def df2Dgroupby(df, col_x, col_y, col_count, fill_zeros=True):\n",
    "\n",
    "    if fill_zeros==True:\n",
    "\n",
    "        df_grouped = (\n",
    "            df.groupby([col_x, col_y])[col_count]\n",
    "            .count()\n",
    "            .unstack(fill_value=0)\n",
    "            .stack()\n",
    "            .reset_index()\n",
    "            .rename(columns={0: \"number\"})\n",
    "            .sort_values([col_x, col_y])\n",
    "        )\n",
    "\n",
    "    else:\n",
    "\n",
    "        df_grouped = (\n",
    "            df.groupby([col_x, col_y])[col_count]\n",
    "            .count()\n",
    "            .reset_index()\n",
    "            .rename(columns={col_count: \"number\"})\n",
    "            .sort_values([col_x, col_y])\n",
    "        )\n",
    "        \n",
    "    return df_grouped"
   ]
  },
  {
   "cell_type": "code",
   "execution_count": 5,
   "id": "48629971-c159-4e22-af48-f1a7afb61839",
   "metadata": {
    "execution": {
     "iopub.execute_input": "2024-10-28T21:18:55.452939Z",
     "iopub.status.busy": "2024-10-28T21:18:55.452759Z",
     "iopub.status.idle": "2024-10-28T21:18:55.457998Z",
     "shell.execute_reply": "2024-10-28T21:18:55.457643Z",
     "shell.execute_reply.started": "2024-10-28T21:18:55.452925Z"
    }
   },
   "outputs": [],
   "source": [
    "\n",
    "# The same, but for performing the `groupby` over 3 columns. \n",
    "\n",
    "# (Thanks to the ChatGPT on Poe.com and to https://stackoverflow.com/questions/37003100/pandas-groupby-for-zero-values \n",
    "# for help in creating this function!)\n",
    "\n",
    "def df3Dgroupby(df, col_x, col_y, col_z, col_count, fill_zeros=True):\n",
    "\n",
    "    if fill_zeros==True:\n",
    "\n",
    "        df_grouped = (\n",
    "            df.groupby([col_x, col_y, col_z])[col_count]\n",
    "            .count()\n",
    "            .unstack(fill_value=0)\n",
    "            .stack()\n",
    "            .reset_index()\n",
    "            .rename(columns={0: \"number\"})\n",
    "            .sort_values([col_x, col_y, col_z])\n",
    "        )\n",
    "\n",
    "    else:\n",
    "\n",
    "        df_grouped = (\n",
    "            df.groupby([col_x, col_y, col_z])[col_count]\n",
    "            .count()\n",
    "            .reset_index()\n",
    "            .rename(columns={col_count: \"number\"})\n",
    "            .sort_values([col_x, col_y, col_z])\n",
    "        )\n",
    "        \n",
    "    return df_grouped"
   ]
  },
  {
   "cell_type": "code",
   "execution_count": 6,
   "id": "7ecfadfc-7a02-4634-a264-cfb4c0e40762",
   "metadata": {
    "execution": {
     "iopub.execute_input": "2024-10-28T21:18:55.458557Z",
     "iopub.status.busy": "2024-10-28T21:18:55.458436Z",
     "iopub.status.idle": "2024-10-28T21:18:55.463616Z",
     "shell.execute_reply": "2024-10-28T21:18:55.463272Z",
     "shell.execute_reply.started": "2024-10-28T21:18:55.458545Z"
    }
   },
   "outputs": [],
   "source": [
    "\n",
    "# The same, but for performing the `groupby` over 4 columns. \n",
    "\n",
    "# (Thanks to the ChatGPT on Poe.com and to https://stackoverflow.com/questions/37003100/pandas-groupby-for-zero-values \n",
    "# for help in creating this function!)\n",
    "\n",
    "def df4Dgroupby(df, col_w, col_x, col_y, col_z, col_count, fill_zeros=True):\n",
    "\n",
    "    if fill_zeros==True:\n",
    "\n",
    "        df_grouped = (\n",
    "            df.groupby([col_w, col_x, col_y, col_z])[col_count]\n",
    "            .count()\n",
    "            .unstack(fill_value=0)\n",
    "            .stack()\n",
    "            .reset_index()\n",
    "            .rename(columns={0: \"number\"})\n",
    "            .sort_values([col_w, col_x, col_y, col_z])\n",
    "        )\n",
    "\n",
    "    else:\n",
    "\n",
    "        df_grouped = (\n",
    "            df.groupby([col_w, col_x, col_y, col_z])[col_count]\n",
    "            .count()\n",
    "            .reset_index()\n",
    "            .rename(columns={col_count: \"number\"})\n",
    "            .sort_values([col_w, col_x, col_y, col_z])\n",
    "        )\n",
    "        \n",
    "    return df_grouped"
   ]
  },
  {
   "cell_type": "code",
   "execution_count": 7,
   "id": "b9ef46fb-8f50-49d0-bbae-0a2662baa7d5",
   "metadata": {
    "execution": {
     "iopub.execute_input": "2024-10-28T21:18:55.464210Z",
     "iopub.status.busy": "2024-10-28T21:18:55.464086Z",
     "iopub.status.idle": "2024-10-28T21:18:55.471270Z",
     "shell.execute_reply": "2024-10-28T21:18:55.470958Z",
     "shell.execute_reply.started": "2024-10-28T21:18:55.464197Z"
    }
   },
   "outputs": [],
   "source": [
    "\n",
    "# Create a function to perform a many-to-one match based on RA, DEC sky coordinates:\n",
    "# (Kudos to Claude-3.5-Sonnet AI from Poe.com for this function!)\n",
    "\n",
    "def skyMatchCatManytoOne(df_a, df_a_ra_colname, df_a_dec_colname, df_b, df_b_ra_colname, df_b_dec_colname, max_sep_deg, verboseFlag=False):\n",
    "\n",
    "    from astropy.coordinates import SkyCoord # High-level coordinates\n",
    "    from astropy.coordinates import ICRS, Galactic, FK4, FK5  # Low-level frames\n",
    "    from astropy.coordinates import Angle, Latitude, Longitude  # Angles\n",
    "    from astropy import units as u\n",
    "    from astropy.coordinates.matching import search_around_sky\n",
    "    import numpy as np\n",
    "    import pandas as pd\n",
    "\n",
    "    # Create SkyCoord objects for both DataFrames\n",
    "    coords_a = SkyCoord(ra=df_a[df_a_ra_colname].values*u.degree, dec=df_a[df_a_dec_colname].values*u.degree)\n",
    "    coords_b = SkyCoord(ra=df_b[df_b_ra_colname].values*u.degree, dec=df_b[df_b_dec_colname].values*u.degree)\n",
    "\n",
    "    # Set a maximum separation for matching (adjust as needed)\n",
    "    max_sep_deg = max_sep_deg * u.degree\n",
    "\n",
    "    # Perform the search\n",
    "    idx_a, idx_b, d2d, _ = search_around_sky(coords_a, coords_b, max_sep_deg)\n",
    "\n",
    "    # Create a DataFrame with the matches\n",
    "    df_matches = pd.DataFrame({\n",
    "        'idx_a': idx_a,\n",
    "        'idx_b': idx_b,\n",
    "        'separation': d2d.degree\n",
    "    })\n",
    "\n",
    "    # Group by idx_a and find the minimum separation for each\n",
    "    best_matches = df_matches.loc[df_matches.groupby('idx_a')['separation'].idxmin()]\n",
    "\n",
    "    # Create the final matched DataFrame, keeping all entries from df_a\n",
    "    df_matched = df_a.copy()\n",
    "\n",
    "    # Prepare the data from df_b to be joined\n",
    "    df_b_matched = df_b.iloc[best_matches['idx_b']].copy()\n",
    "    df_b_matched['idx_a'] = best_matches['idx_a'].values\n",
    "    df_b_matched['separation'] = best_matches['separation'].values\n",
    "    df_b_matched = df_b_matched.set_index('idx_a')\n",
    "\n",
    "    # Perform the left join\n",
    "    df_matched = df_matched.join(df_b_matched, rsuffix='_b')\n",
    "    \n",
    "    # Reset index if needed\n",
    "    df_matched = df_matched.reset_index(drop=True)\n",
    "\n",
    "    # Fill NaN values in the 'separation' column with a sentinel value (e.g., -1) to indicate no match\n",
    "    df_matched['separation'] = df_matched['separation'].fillna(-1)\n",
    "\n",
    "    # Optionally, you can add a boolean column to easily identify matched and unmatched rows\n",
    "    df_matched['has_match'] = df_matched['separation'] != -1\n",
    "\n",
    "    if verboseFlag:\n",
    "        # Print some statistics\n",
    "        print(f\"Total entries in df_a: {len(df_a)}\")\n",
    "        print(f\"Entries in df_a with matches: {df_matched['has_match'].sum()}\")\n",
    "        print(f\"Entries in df_a without matches: {(~df_matched['has_match']).sum()}\")\n",
    "\n",
    "    return df_matched"
   ]
  },
  {
   "cell_type": "code",
   "execution_count": 8,
   "id": "45b41be8-c1e3-428c-9aa2-ab6e2f46afd6",
   "metadata": {
    "execution": {
     "iopub.execute_input": "2024-10-28T21:18:55.471813Z",
     "iopub.status.busy": "2024-10-28T21:18:55.471691Z",
     "iopub.status.idle": "2024-10-28T21:18:55.476494Z",
     "shell.execute_reply": "2024-10-28T21:18:55.476189Z",
     "shell.execute_reply.started": "2024-10-28T21:18:55.471800Z"
    }
   },
   "outputs": [],
   "source": [
    "\n",
    "# Define some healpix tools <span style=\"color:red; font-weight:bold\">(Maybe no longer necessary?)</span>:\n",
    "# (Thanks to Sahar Allam and Alex Drlica-Wagner!)\n",
    "\n",
    "##################################\n",
    "def radec2thetaphi(ra, dec):\n",
    "    import numpy as np\n",
    "    return (90-dec)*np.pi/180., ra*np.pi/180.\n",
    "\n",
    "##################################\n",
    "#DESDM uses nside=128, nest=True\n",
    "#Alex Drlica Wagner's healpixelated Gaia DR2 on des40 uses nside=32, nest=False\n",
    "def getipix(nside,ra,dec,nest=True):\n",
    "    import healpy as hp\n",
    "    theta, phi = radec2thetaphi(ra, dec)\n",
    "    ipix = hp.pixelfunc.ang2pix(nside, theta, phi, nest)\n",
    "    return ipix\n",
    "\n",
    "##################################"
   ]
  },
  {
   "cell_type": "code",
   "execution_count": 9,
   "id": "06739927-d21e-449c-ac6a-89e0118d14ad",
   "metadata": {
    "execution": {
     "iopub.execute_input": "2024-10-28T21:18:55.477018Z",
     "iopub.status.busy": "2024-10-28T21:18:55.476899Z",
     "iopub.status.idle": "2024-10-28T21:18:55.480737Z",
     "shell.execute_reply": "2024-10-28T21:18:55.480446Z",
     "shell.execute_reply.started": "2024-10-28T21:18:55.477006Z"
    }
   },
   "outputs": [],
   "source": [
    "\n",
    "# Define a function to return the tract id, given the ra, dec and a skymap:\n",
    "\n",
    "def find_tract(ra,dec,skymap):\n",
    "\n",
    "    import lsst.geom as geom\n",
    "    \n",
    "    try:\n",
    "        sky_point = geom.SpherePoint(ra * geom.degrees,\n",
    "                                     dec * geom.degrees)\n",
    "\n",
    "        tract = skymap.findTract(sky_point)\n",
    "        tract = tract.tract_id\n",
    "    \n",
    "        del sky_point\n",
    "\n",
    "    except:\n",
    "        \n",
    "        tract = -9999\n",
    "    \n",
    "    return tract"
   ]
  },
  {
   "cell_type": "code",
   "execution_count": 10,
   "id": "fff24f55-6d1c-4f18-9f60-99431c2a5336",
   "metadata": {
    "execution": {
     "iopub.execute_input": "2024-10-28T21:18:55.481318Z",
     "iopub.status.busy": "2024-10-28T21:18:55.481205Z",
     "iopub.status.idle": "2024-10-28T21:18:55.485674Z",
     "shell.execute_reply": "2024-10-28T21:18:55.485397Z",
     "shell.execute_reply.started": "2024-10-28T21:18:55.481306Z"
    }
   },
   "outputs": [],
   "source": [
    "\n",
    "# Use queryDataIds to find tracts that have overlap with an exposure.\n",
    "#  (Via Krzysz Findeisen and Meredith Rawls!  Plus a little help from the Poe.com AI Assistant.)\n",
    "\n",
    "def find_tracts_overlapping_exposure(exposure_id, instrument, butler):\n",
    "    \n",
    "    tract_set = set(list(butler.registry.queryDataIds(dimensions=('visit', 'tract'), \n",
    "                                                      instrument=instrument, \n",
    "                                                      exposure=exposure_id)))\n",
    "    \n",
    "    tract_values = [item['tract'] for item in tract_set]\n",
    "    tract_values = list(set(tract_values))\n",
    "    # Note:  tract_values.sort() sorts in place and returns `None`!\n",
    "    #  So either use `tract_values.sort()` or `tract_values = sorted(tract_values)`\n",
    "    tract_values = sorted(tract_values)\n",
    "    \n",
    "    return tract_values"
   ]
  },
  {
   "cell_type": "code",
   "execution_count": 11,
   "id": "83b16bb4-cd15-402f-81c2-7b7193df0630",
   "metadata": {
    "execution": {
     "iopub.execute_input": "2024-10-28T21:18:55.487092Z",
     "iopub.status.busy": "2024-10-28T21:18:55.486971Z",
     "iopub.status.idle": "2024-10-28T21:18:55.489623Z",
     "shell.execute_reply": "2024-10-28T21:18:55.489341Z",
     "shell.execute_reply.started": "2024-10-28T21:18:55.487081Z"
    }
   },
   "outputs": [],
   "source": [
    "\n",
    "# Return a string of the list of tracts overlapping the exposure.\n",
    "#  If the function find_tracts_overlapping_exposure does not find a list,\n",
    "#  use find_tract to find the tract nearest the center of the exposure.\n",
    "#  If find_tract fails, it will return -9999.\n",
    "#  Append an asterisk (*) to the tract list if it is provided by find_tract.\n",
    "\n",
    "def return_string_of_tracts_overlapping_exposure_plus(exposure_id, instrument, butler, skymap, ra, dec):\n",
    "\n",
    "    list_of_tracts = find_tracts_overlapping_exposure(exposure_id, instrument, butler)\n",
    "    \n",
    "    if not list_of_tracts:\n",
    "        central_tract = find_tract(ra,dec,skymap)\n",
    "        list_of_tracts_string = str(central_tract)+'*'\n",
    "    else:\n",
    "        list_of_tracts_string = ','.join(map(str, list_of_tracts))\n",
    "\n",
    "    #print(exposure_id, list_of_tracts_string)\n",
    "\n",
    "    return list_of_tracts_string\n"
   ]
  },
  {
   "cell_type": "code",
   "execution_count": 12,
   "id": "c81c9f13-1b9a-4d60-84a8-50368873fb0e",
   "metadata": {
    "execution": {
     "iopub.execute_input": "2024-10-28T21:18:55.490141Z",
     "iopub.status.busy": "2024-10-28T21:18:55.490026Z",
     "iopub.status.idle": "2024-10-28T21:18:55.494002Z",
     "shell.execute_reply": "2024-10-28T21:18:55.493707Z",
     "shell.execute_reply.started": "2024-10-28T21:18:55.490129Z"
    }
   },
   "outputs": [],
   "source": [
    "\n",
    "# Define a class to stop \"Run All\" at a code cell containing the command \"raise StopExecution\":\n",
    "\n",
    "class StopExecution(Exception):\n",
    "    def _render_traceback_(self):\n",
    "        pass"
   ]
  },
  {
   "cell_type": "code",
   "execution_count": 13,
   "id": "4c6ba6a7-c940-4c0c-a513-f9a4a1dab1b8",
   "metadata": {
    "execution": {
     "iopub.execute_input": "2024-10-28T21:18:55.494515Z",
     "iopub.status.busy": "2024-10-28T21:18:55.494402Z",
     "iopub.status.idle": "2024-10-28T21:18:55.498354Z",
     "shell.execute_reply": "2024-10-28T21:18:55.498017Z",
     "shell.execute_reply.started": "2024-10-28T21:18:55.494504Z"
    }
   },
   "outputs": [],
   "source": [
    "\n",
    "# Set filter warnings to \"ignore\" to avoid a lot of \"logorrhea\" to the screen:\n",
    "warnings.filterwarnings(\"ignore\")"
   ]
  },
  {
   "cell_type": "code",
   "execution_count": 14,
   "id": "07168a2e",
   "metadata": {
    "execution": {
     "iopub.execute_input": "2024-10-28T21:18:55.498925Z",
     "iopub.status.busy": "2024-10-28T21:18:55.498802Z",
     "iopub.status.idle": "2024-10-28T21:18:55.612105Z",
     "shell.execute_reply": "2024-10-28T21:18:55.611675Z",
     "shell.execute_reply.started": "2024-10-28T21:18:55.498913Z"
    },
    "tags": []
   },
   "outputs": [],
   "source": [
    "\n",
    "# Set default backend for afwDisplay to matplotlib:\n",
    "afwDisplay.setDefaultBackend('matplotlib')"
   ]
  },
  {
   "cell_type": "code",
   "execution_count": 15,
   "id": "0bff8f23-c35c-4b72-b9f5-7d32b432ac22",
   "metadata": {
    "execution": {
     "iopub.execute_input": "2024-10-28T21:18:55.612829Z",
     "iopub.status.busy": "2024-10-28T21:18:55.612648Z",
     "iopub.status.idle": "2024-10-28T21:18:55.615547Z",
     "shell.execute_reply": "2024-10-28T21:18:55.615201Z",
     "shell.execute_reply.started": "2024-10-28T21:18:55.612815Z"
    }
   },
   "outputs": [],
   "source": [
    "\n",
    "# Set a few parameters to use later, when plotting:\n",
    "\n",
    "plt.style.use('tableau-colorblind10')\n",
    "\n",
    "plot_filter_labels = ['u', 'g', 'r', 'i', 'z', 'y']\n",
    "plot_filter_colors = {'u': '#56b4e9', 'g': '#008060', 'r': '#ff4000',\n",
    "                      'i': '#850000', 'z': '#6600cc', 'y': '#000000'}\n",
    "plot_filter_symbols = {'u': 'o', 'g': '^', 'r': 'v', 'i': 's', 'z': '*', 'y': 'p'}"
   ]
  },
  {
   "cell_type": "code",
   "execution_count": 16,
   "id": "bab9ef6c-ced2-4d09-b67a-419f1b33d4a8",
   "metadata": {
    "execution": {
     "iopub.execute_input": "2024-10-28T21:18:55.616322Z",
     "iopub.status.busy": "2024-10-28T21:18:55.616018Z",
     "iopub.status.idle": "2024-10-28T21:18:55.623418Z",
     "shell.execute_reply": "2024-10-28T21:18:55.623069Z",
     "shell.execute_reply.started": "2024-10-28T21:18:55.616308Z"
    }
   },
   "outputs": [],
   "source": [
    "\n",
    "## 1.4 Add Ops Rehearsal 4 field table\n",
    "\n",
    "# This is a temporary fix to attach field names to the Ops Rehearsal 4 science exposures:\n",
    "# Table of Ops Rehearsal 4 Fields from https://confluence.lsstcorp.org/pages/viewpage.action?pageId=259785406\n",
    "ascii_table = \"\"\"\n",
    "Field                       RA          DEC     stellarDens     E_BV\n",
    "Rubin_SV_095_-25           95.00      -25.00        2.92        0.05\n",
    "Rubin_SV_125_-15          125.00      -15.00        3.78        0.06\n",
    "DESI_SV3_R1               179.60        0.00        0.53        0.03\n",
    "Rubin_SV_225_-40          225.00      -40.00       12.67        0.08\n",
    "DEEP_A0                   216.00      -12.50        1.17        0.09\n",
    "Rubin_SV_250_2            250.00        2.00        4.56        0.07\n",
    "Rubin_SV_300_-41          300.00      -41.00        5.22        0.09\n",
    "Rubin_SV_280_-48          280.00      -48.00       17.64        0.07\n",
    "DEEP_B0                   310.00      -19.00        3.28        0.04\n",
    "ELAIS_S1                    9.45      -44.00        0.56        0.01\n",
    "XMM_LSS                    35.71       -4.75        0.47        0.03\n",
    "ECDFS                      53.12      -28.10        0.61        0.01\n",
    "COSMOS                    150.10        2.18        0.67        0.02\n",
    "EDFS_A                     58.90      -49.31        0.75        0.01\n",
    "EDFS_B                     63.60      -47.60        0.81        0.01\"\"\"\n",
    "\n",
    "# Convert the string to a file-like object\n",
    "ascii_io = io.StringIO(ascii_table)\n",
    "\n",
    "# Read the ASCII table into a pandas DataFrame\n",
    "df_field = pd.read_csv(ascii_io, delim_whitespace=True)\n",
    "\n",
    "# Add healpix columns to this table, one very roughly the area of a \n",
    "# ComCam field-of-view (NSIDE=2^6=64 --> 0.84 sq deg) and one very roughly \n",
    "# the area of an LSSTCam field-of-view (NSIDE=2^4=16 --> 13 sq deg) \n",
    "# ***(Maybe no longer necessary?)***\n",
    "df_field.loc[:,'HPX64'] = getipix(64, df_field.loc[:,'RA'].values, df_field.loc[:,'DEC'].values)\n",
    "df_field.loc[:,'HPX16'] = getipix(16, df_field.loc[:,'RA'].values, df_field.loc[:,'DEC'].values)\n",
    "\n",
    "## Display df_field\n",
    "#df_field"
   ]
  },
  {
   "cell_type": "code",
   "execution_count": 17,
   "id": "81254df0-8ec8-4515-b2dc-743f3cceca16",
   "metadata": {
    "execution": {
     "iopub.execute_input": "2024-10-28T21:18:55.624056Z",
     "iopub.status.busy": "2024-10-28T21:18:55.623928Z",
     "iopub.status.idle": "2024-10-28T21:18:56.066007Z",
     "shell.execute_reply": "2024-10-28T21:18:56.065624Z",
     "shell.execute_reply.started": "2024-10-28T21:18:55.624044Z"
    }
   },
   "outputs": [
    {
     "data": {
      "text/html": [
       "<pre style=\"margin: 0.1em;\n",
       "padding-left: 0.25em;\n",
       "border-left-style: solid;\n",
       "font-family: var(--jp-code-font-family);\n",
       "font-size: var(--jp-code-font-size);\n",
       "line-height: var(--jp-code-line-height);\n",
       "\"><span style=\"color: var(--jp-warn-color2)\">botocore.credentials</span> <span style=\"color: var(--jp-info-color0)\">INFO</span>: Found credentials in shared credentials file: /home/d/dltucker/.lsst/aws-credentials.ini</pre>"
      ],
      "text/plain": [
       "<IPython.core.display.HTML object>"
      ]
     },
     "metadata": {},
     "output_type": "display_data"
    }
   ],
   "source": [
    "\n",
    "# 2. Access data for this repo, collection, and day of observation\n",
    "\n",
    "## 2.1 Instantiate butler and create registry\n",
    "\n",
    "butler = dafButler.Butler(repo, collections=collection)\n",
    "registry = butler.registry"
   ]
  },
  {
   "cell_type": "markdown",
   "id": "0f9988a3-81be-4bf4-9c42-5be4da1aced2",
   "metadata": {},
   "source": [
    "## Total Number of Exposures Returned from Butler Query for the Instrument and Night"
   ]
  },
  {
   "cell_type": "code",
   "execution_count": 18,
   "id": "95d36237-32a9-486b-893a-646ab892ae33",
   "metadata": {
    "execution": {
     "iopub.execute_input": "2024-10-28T21:18:56.066651Z",
     "iopub.status.busy": "2024-10-28T21:18:56.066518Z",
     "iopub.status.idle": "2024-10-28T21:18:56.084145Z",
     "shell.execute_reply": "2024-10-28T21:18:56.083834Z",
     "shell.execute_reply.started": "2024-10-28T21:18:56.066638Z"
    }
   },
   "outputs": [],
   "source": [
    "\n",
    "## 2.2 Read in information from the `exposure` dimension and create pandas DataFrame\n",
    "\n",
    "# Query the metadata for the `exposure` dimension, limiting the results to this particular instrument and range of days of observation:\n",
    "#query=\"instrument='%s' AND day_obs=%d\" % (instrument, day_obs)\n",
    "query=\"instrument='%s' AND day_obs>=%d AND day_obs<=%d\" % (instrument, day_obs_start, day_obs_end)\n",
    "results = registry.queryDimensionRecords('exposure',where=query)"
   ]
  },
  {
   "cell_type": "code",
   "execution_count": 19,
   "id": "0a3d8db3-ca82-450e-bfd9-29bbdf26cdd8",
   "metadata": {
    "execution": {
     "iopub.execute_input": "2024-10-28T21:18:56.084702Z",
     "iopub.status.busy": "2024-10-28T21:18:56.084582Z",
     "iopub.status.idle": "2024-10-28T21:18:56.093017Z",
     "shell.execute_reply": "2024-10-28T21:18:56.092660Z",
     "shell.execute_reply.started": "2024-10-28T21:18:56.084690Z"
    }
   },
   "outputs": [
    {
     "name": "stdout",
     "output_type": "stream",
     "text": [
      "There are 702 results returned from querying the butler for instrument LSSTComCam between dates 20241024 and 20241028 (inclusive).\n"
     ]
    }
   ],
   "source": [
    "\n",
    "# Stop executing if there are no results returned:\n",
    "\n",
    "n_results = results.count()\n",
    "\n",
    "if n_results <= 0:\n",
    "    raise StopExecution\n",
    "else:\n",
    "    print(\"\"\"There are %d results returned from querying the butler for instrument %s between dates %d and %d (inclusive).\"\"\" % \n",
    "          (n_results, instrument, day_obs_start, day_obs_end))"
   ]
  },
  {
   "cell_type": "code",
   "execution_count": 20,
   "id": "473cdd14",
   "metadata": {
    "execution": {
     "iopub.execute_input": "2024-10-28T21:18:56.093682Z",
     "iopub.status.busy": "2024-10-28T21:18:56.093465Z",
     "iopub.status.idle": "2024-10-28T21:18:56.097075Z",
     "shell.execute_reply": "2024-10-28T21:18:56.096766Z",
     "shell.execute_reply.started": "2024-10-28T21:18:56.093671Z"
    },
    "tags": []
   },
   "outputs": [],
   "source": [
    "\n",
    "# Instantiate a pandas `DataFrame` with useful columns available in the `exposure` dimension:\n",
    "df_exp = pd.DataFrame(columns=['id', 'obs_id','day_obs', 'seq_num',\n",
    "                                    'time_start','time_end' ,'type', 'reason', \n",
    "                                    'target','filter','zenith_angle',\n",
    "                                    'expos','ra','dec','skyangle',\n",
    "                                    'azimuth','zenith','science_program',\n",
    "                                    'jd','mjd'])"
   ]
  },
  {
   "cell_type": "code",
   "execution_count": 21,
   "id": "f2c9f07f",
   "metadata": {
    "execution": {
     "iopub.execute_input": "2024-10-28T21:18:56.097753Z",
     "iopub.status.busy": "2024-10-28T21:18:56.097566Z",
     "iopub.status.idle": "2024-10-28T21:18:57.804114Z",
     "shell.execute_reply": "2024-10-28T21:18:57.803755Z",
     "shell.execute_reply.started": "2024-10-28T21:18:56.097740Z"
    },
    "tags": []
   },
   "outputs": [],
   "source": [
    "\n",
    "# Read the query results into the new pandas `DataFrame`:\n",
    "\n",
    "for count, info in enumerate(results):\n",
    "    \n",
    "    \n",
    "    try:\n",
    "        df_exp.loc[count] = [info.id, info.obs_id, info.day_obs, info.seq_num, \n",
    "                                  pd.to_datetime(info.timespan.begin.to_string()),\n",
    "                                  pd.to_datetime(info.timespan.end.to_string()),\n",
    "                                  info.observation_type, info.observation_reason, info.target_name, \n",
    "                                  info.physical_filter, info.zenith_angle, \n",
    "                                  info.exposure_time,info.tracking_ra, info.tracking_dec, \n",
    "                                  info.sky_angle,info.azimuth ,info.zenith_angle, \n",
    "                                  info.science_program, info.timespan.begin.jd,info.timespan.begin.mjd ]\n",
    "    except:\n",
    "        print(\">>>   Unexpected error:\", sys.exc_info()[0])\n",
    "        info_timespan_begin_to_string = \"2021-01-01 00:00:00.00\"\n",
    "        info_timespan_end_to_string = \"2051-01-01 00:00:00.00\"\n",
    "        info_timespan_begin_jd = 0\n",
    "        info_timespan_begin_mjd = 0\n",
    "        df_exp.loc[count] = [info.id, info.obs_id, info.day_obs, info.seq_num, \n",
    "                                  pd.to_datetime(info_timespan_begin_to_string),\n",
    "                                  pd.to_datetime(info_timespan_end_to_string), \n",
    "                                  info.observation_type, info.observation_reason, info.target_name, \n",
    "                                  info.physical_filter, info.zenith_angle, \n",
    "                                  info.exposure_time,info.tracking_ra, info.tracking_dec, \n",
    "                                  info.sky_angle,info.azimuth ,info.zenith_angle, \n",
    "                                  info.science_program, info_timespan_begin_jd, info_timespan_begin_mjd ]\n",
    " \n",
    "    \n"
   ]
  },
  {
   "cell_type": "code",
   "execution_count": 22,
   "id": "344a6240-a01b-4876-bc5a-30441b03b5f5",
   "metadata": {
    "execution": {
     "iopub.execute_input": "2024-10-28T21:18:57.804792Z",
     "iopub.status.busy": "2024-10-28T21:18:57.804664Z",
     "iopub.status.idle": "2024-10-28T21:18:57.808737Z",
     "shell.execute_reply": "2024-10-28T21:18:57.808431Z",
     "shell.execute_reply.started": "2024-10-28T21:18:57.804780Z"
    }
   },
   "outputs": [],
   "source": [
    "\n",
    "# Re-cast the `id`, `day_obs`, and `seq_num` rows as `int`'s:\n",
    "df_exp = df_exp.astype({\"id\": int,'day_obs': int,'seq_num':int})"
   ]
  },
  {
   "cell_type": "code",
   "execution_count": 23,
   "id": "9d71ed48-b6ff-43a9-aa91-98e5cd835e3a",
   "metadata": {
    "execution": {
     "iopub.execute_input": "2024-10-28T21:18:57.809278Z",
     "iopub.status.busy": "2024-10-28T21:18:57.809159Z",
     "iopub.status.idle": "2024-10-28T21:18:57.813717Z",
     "shell.execute_reply": "2024-10-28T21:18:57.813443Z",
     "shell.execute_reply.started": "2024-10-28T21:18:57.809267Z"
    }
   },
   "outputs": [],
   "source": [
    "\n",
    "# Replace `NaN`'s in the `ra` and `dec` columns with zero.  \n",
    "# (`NaN`'s in `ra`, `dec` wreak havoc for the healpix tools defined in Section 1.2 above.) \n",
    "# ***(Maybe no longer necessary?)***\n",
    "\n",
    "df_exp['ra'] = df_exp['ra'].fillna(0)\n",
    "df_exp['dec'] = df_exp['dec'].fillna(0)"
   ]
  },
  {
   "cell_type": "code",
   "execution_count": 24,
   "id": "4121311c-592e-497a-8eca-8611374087fb",
   "metadata": {
    "execution": {
     "iopub.execute_input": "2024-10-28T21:18:57.814276Z",
     "iopub.status.busy": "2024-10-28T21:18:57.814133Z",
     "iopub.status.idle": "2024-10-28T21:18:57.819211Z",
     "shell.execute_reply": "2024-10-28T21:18:57.818918Z",
     "shell.execute_reply.started": "2024-10-28T21:18:57.814264Z"
    }
   },
   "outputs": [],
   "source": [
    "\n",
    "# Add healpix info \n",
    "# ***(Maybe no longer necessary?)***:\n",
    "df_exp.loc[:,'HPX64'] = getipix(64, df_exp.loc[:,'ra'].values, df_exp.loc[:,'dec'].values)\n",
    "df_exp.loc[:,'HPX16'] = getipix(16, df_exp.loc[:,'ra'].values, df_exp.loc[:,'dec'].values)"
   ]
  },
  {
   "cell_type": "code",
   "execution_count": 25,
   "id": "17ef1097-23b6-482a-9560-d55e38d3fa3e",
   "metadata": {
    "execution": {
     "iopub.execute_input": "2024-10-28T21:18:57.819724Z",
     "iopub.status.busy": "2024-10-28T21:18:57.819609Z",
     "iopub.status.idle": "2024-10-28T21:18:57.834422Z",
     "shell.execute_reply": "2024-10-28T21:18:57.834129Z",
     "shell.execute_reply.started": "2024-10-28T21:18:57.819713Z"
    }
   },
   "outputs": [],
   "source": [
    "\n",
    "# To add the field_name to df_exp, perform a left join of df_field on df_exp\n",
    "# *** (Note use of HPX16, but maybe that part is no longer necessary?)***:\n",
    "\n",
    "# First, perform the merge...\n",
    "# (Before we had the table of fields, we matched by HPX16 value.)\n",
    "#df_merged = df_exp.merge(df_field, on='HPX16', how='left', suffixes=('', '_fld'))\n",
    "df_merged = skyMatchCatManytoOne(df_exp, 'ra', 'dec', df_field, 'RA', 'DEC', 3.)\n",
    "\n",
    "# Next, define a function to fill NaN values in 'Field' with 'HPX16' for unmatched exposures\n",
    "def fill_field(row):\n",
    "    if pd.isna(row['Field']):\n",
    "        return 'HPX16_'+str(row['HPX16'])  # Convert to string if you want 'Field' to be string type\n",
    "    return row['Field']\n",
    "\n",
    "# Apply the function to fill NaN values\n",
    "df_merged['Field'] = df_merged.apply(fill_field, axis=1)\n",
    "\n",
    "# Remove extraneous columns from df_merged\n",
    "#df_merged = df_merged.drop(['RA', 'DEC', 'stellarDens', 'E_BV', 'HPX64_fld', 'HPX16_fld'], axis=1)\n",
    "df_merged = df_merged.drop(['RA', 'DEC', 'stellarDens', 'E_BV', 'HPX64_b', 'HPX16_b'], axis=1)\n",
    "\n",
    "# Rename 'Field' column to 'field_name'\n",
    "df_merged = df_merged.rename(columns={'Field': 'field_name'})\n",
    "\n",
    "# Rename df_merged to df_exp\n",
    "df_exp = df_merged\n",
    "\n",
    "## Display updated df_exp\n",
    "#df_exp"
   ]
  },
  {
   "cell_type": "code",
   "execution_count": 26,
   "id": "9e52043b-a9ee-402d-8ad8-20887e1e2f73",
   "metadata": {
    "execution": {
     "iopub.execute_input": "2024-10-28T21:18:57.834953Z",
     "iopub.status.busy": "2024-10-28T21:18:57.834826Z",
     "iopub.status.idle": "2024-10-28T21:18:58.131490Z",
     "shell.execute_reply": "2024-10-28T21:18:58.131070Z",
     "shell.execute_reply.started": "2024-10-28T21:18:57.834941Z"
    }
   },
   "outputs": [],
   "source": [
    "\n",
    "# Add the tract id as a column in df_exp.  \n",
    "# First, access the skymap, then add the tract to the df_exp DataFrame\n",
    "# (this can take SEVERAL minutes!):\n",
    "\n",
    "butler_sky = dafButler.Butler(repo, collections=collection_sky)\n",
    "registry_sky = butler_sky.registry\n",
    "skymap = butler_sky.get('skyMap', skymap=skymap_name)\n",
    "\n",
    "df_exp['tract'] = df_exp.apply(lambda row: find_tract(row['ra'], row['dec'], skymap), axis=1)\n",
    "#df_exp['tract']  = df_exp.apply(lambda row: return_string_of_tracts_overlapping_exposure_plus(row['id'], instrument, repo, collection_sky, skymap_name, row['ra'], row['dec']), axis=1)\n",
    "#df_exp['tract']  = df_exp.apply(lambda row: return_string_of_tracts_overlapping_exposure_plus(row['id'], instrument, butler_sky, skymap, row['ra'], row['dec']), axis=1)"
   ]
  },
  {
   "cell_type": "code",
   "execution_count": 27,
   "id": "2aeeed89-d52d-4da4-bff6-a07fa875bcf7",
   "metadata": {
    "execution": {
     "iopub.execute_input": "2024-10-28T21:18:58.132222Z",
     "iopub.status.busy": "2024-10-28T21:18:58.132089Z",
     "iopub.status.idle": "2024-10-28T21:18:58.135098Z",
     "shell.execute_reply": "2024-10-28T21:18:58.134727Z",
     "shell.execute_reply.started": "2024-10-28T21:18:58.132209Z"
    }
   },
   "outputs": [],
   "source": [
    "\n",
    "# Create a `DataFrame` containing just the science exposures:\n",
    "df_sci = df_exp[df_exp.type == 'science']"
   ]
  },
  {
   "cell_type": "code",
   "execution_count": 28,
   "id": "a90fa41a-7ac4-4236-9d77-d747052a37d3",
   "metadata": {
    "execution": {
     "iopub.execute_input": "2024-10-28T21:18:58.135721Z",
     "iopub.status.busy": "2024-10-28T21:18:58.135598Z",
     "iopub.status.idle": "2024-10-28T21:18:58.139357Z",
     "shell.execute_reply": "2024-10-28T21:18:58.138990Z",
     "shell.execute_reply.started": "2024-10-28T21:18:58.135709Z"
    }
   },
   "outputs": [],
   "source": [
    "\n",
    "# 3. Analyse results of the exposure query\n",
    "\n",
    "# For the rest of the notebook, we do not want to restrict the the number of rows displayed for\n",
    "# pandas tabular information.  Therefore, let us turn off the pandas maximum rows setting.  \n",
    "# We will turn it back on at the end of the notebook.\n",
    "\n",
    "# Change the display.max_rows option\n",
    "pd.set_option(\"display.max_rows\", None)"
   ]
  },
  {
   "cell_type": "code",
   "execution_count": 29,
   "id": "6b93a02d-e5b4-4cc3-b7aa-2aa423c29b4e",
   "metadata": {
    "execution": {
     "iopub.execute_input": "2024-10-28T21:18:58.141977Z",
     "iopub.status.busy": "2024-10-28T21:18:58.141848Z",
     "iopub.status.idle": "2024-10-28T21:18:58.146552Z",
     "shell.execute_reply": "2024-10-28T21:18:58.146206Z",
     "shell.execute_reply.started": "2024-10-28T21:18:58.141965Z"
    }
   },
   "outputs": [],
   "source": [
    "\n",
    "## 3.2 Counts\n",
    "\n",
    "### 3.2.1 All Exposures\n",
    "\n",
    "\n",
    "# Total counts\n",
    "df_exp_grouped_type = df_exp.groupby(\"type\").count()[\"id\"].reset_index().rename(columns={'id': 'number'})\n",
    "df_exp_grouped_type.rename(columns={'number': 'n_exp'}, inplace=True)\n",
    "#df_exp_grouped_type"
   ]
  },
  {
   "cell_type": "code",
   "execution_count": 30,
   "id": "cb6fd38f-14af-4799-8916-b91a2af3b1f3",
   "metadata": {
    "execution": {
     "iopub.execute_input": "2024-10-28T21:18:58.147233Z",
     "iopub.status.busy": "2024-10-28T21:18:58.147108Z",
     "iopub.status.idle": "2024-10-28T21:18:58.154001Z",
     "shell.execute_reply": "2024-10-28T21:18:58.153630Z",
     "shell.execute_reply.started": "2024-10-28T21:18:58.147221Z"
    }
   },
   "outputs": [],
   "source": [
    "\n",
    "# Group df_exp by 'type', col_filter.\n",
    "df_exp_grouped = df2Dgroupby(df_exp, 'type', col_filter, col_id, True)\n",
    "#df_exp_grouped\n",
    "\n",
    "# Pivot result, reset index, and rename the axis.\n",
    "df_exp_pivoted = df_exp_grouped.pivot(index=['type'], columns='filter', values='number')\n",
    "df_exp_pivoted = df_exp_pivoted.reset_index()\n",
    "df_exp_pivoted.rename_axis(columns=None, inplace=True)\n",
    "#df_exp_pivoted"
   ]
  },
  {
   "cell_type": "code",
   "execution_count": 31,
   "id": "cb209d08-c012-44c7-a6a9-537cce2f4ec9",
   "metadata": {
    "execution": {
     "iopub.execute_input": "2024-10-28T21:18:58.154602Z",
     "iopub.status.busy": "2024-10-28T21:18:58.154482Z",
     "iopub.status.idle": "2024-10-28T21:18:58.157919Z",
     "shell.execute_reply": "2024-10-28T21:18:58.157551Z",
     "shell.execute_reply.started": "2024-10-28T21:18:58.154590Z"
    }
   },
   "outputs": [],
   "source": [
    "\n",
    "# Perform LEFT JOIN for df_exp_grouped_type, df_exp_pivoted on 'type'.\n",
    "df_exp_merged = pd.merge(df_exp_grouped_type, df_exp_pivoted, on=['type'], how='left')\n",
    "#df_exp_merged"
   ]
  },
  {
   "cell_type": "markdown",
   "id": "54a79f4e-8741-422d-930a-b7edaf1b8b5b",
   "metadata": {},
   "source": [
    "## Exposure Counts"
   ]
  },
  {
   "cell_type": "code",
   "execution_count": 32,
   "id": "fe11f6f4-deed-41de-ba13-12fd11936fe5",
   "metadata": {
    "execution": {
     "iopub.execute_input": "2024-10-28T21:18:58.158540Z",
     "iopub.status.busy": "2024-10-28T21:18:58.158419Z",
     "iopub.status.idle": "2024-10-28T21:18:58.168702Z",
     "shell.execute_reply": "2024-10-28T21:18:58.168326Z",
     "shell.execute_reply.started": "2024-10-28T21:18:58.158528Z"
    }
   },
   "outputs": [
    {
     "data": {
      "text/html": [
       "<div>\n",
       "<style scoped>\n",
       "    .dataframe tbody tr th:only-of-type {\n",
       "        vertical-align: middle;\n",
       "    }\n",
       "\n",
       "    .dataframe tbody tr th {\n",
       "        vertical-align: top;\n",
       "    }\n",
       "\n",
       "    .dataframe thead th {\n",
       "        text-align: right;\n",
       "    }\n",
       "</style>\n",
       "<table border=\"1\" class=\"dataframe\">\n",
       "  <thead>\n",
       "    <tr style=\"text-align: right;\">\n",
       "      <th></th>\n",
       "      <th>type</th>\n",
       "      <th>n_exp</th>\n",
       "      <th>i_06</th>\n",
       "      <th>r_03</th>\n",
       "      <th>unknown</th>\n",
       "    </tr>\n",
       "  </thead>\n",
       "  <tbody>\n",
       "    <tr>\n",
       "      <th>0</th>\n",
       "      <td>acq</td>\n",
       "      <td>77</td>\n",
       "      <td>16</td>\n",
       "      <td>60</td>\n",
       "      <td>1</td>\n",
       "    </tr>\n",
       "    <tr>\n",
       "      <th>1</th>\n",
       "      <td>bias</td>\n",
       "      <td>67</td>\n",
       "      <td>0</td>\n",
       "      <td>67</td>\n",
       "      <td>0</td>\n",
       "    </tr>\n",
       "    <tr>\n",
       "      <th>2</th>\n",
       "      <td>cwfs</td>\n",
       "      <td>142</td>\n",
       "      <td>0</td>\n",
       "      <td>136</td>\n",
       "      <td>6</td>\n",
       "    </tr>\n",
       "    <tr>\n",
       "      <th>3</th>\n",
       "      <td>dark</td>\n",
       "      <td>67</td>\n",
       "      <td>0</td>\n",
       "      <td>67</td>\n",
       "      <td>0</td>\n",
       "    </tr>\n",
       "    <tr>\n",
       "      <th>4</th>\n",
       "      <td>flat</td>\n",
       "      <td>24</td>\n",
       "      <td>12</td>\n",
       "      <td>12</td>\n",
       "      <td>0</td>\n",
       "    </tr>\n",
       "    <tr>\n",
       "      <th>5</th>\n",
       "      <td>focus</td>\n",
       "      <td>242</td>\n",
       "      <td>0</td>\n",
       "      <td>242</td>\n",
       "      <td>0</td>\n",
       "    </tr>\n",
       "    <tr>\n",
       "      <th>6</th>\n",
       "      <td>science</td>\n",
       "      <td>83</td>\n",
       "      <td>4</td>\n",
       "      <td>79</td>\n",
       "      <td>0</td>\n",
       "    </tr>\n",
       "    <tr>\n",
       "      <th>7</th>\n",
       "      <td>TOTAL</td>\n",
       "      <td>702</td>\n",
       "      <td>32</td>\n",
       "      <td>663</td>\n",
       "      <td>7</td>\n",
       "    </tr>\n",
       "  </tbody>\n",
       "</table>\n",
       "</div>"
      ],
      "text/plain": [
       "      type  n_exp  i_06  r_03  unknown\n",
       "0      acq     77    16    60        1\n",
       "1     bias     67     0    67        0\n",
       "2     cwfs    142     0   136        6\n",
       "3     dark     67     0    67        0\n",
       "4     flat     24    12    12        0\n",
       "5    focus    242     0   242        0\n",
       "6  science     83     4    79        0\n",
       "7    TOTAL    702    32   663        7"
      ]
     },
     "execution_count": 32,
     "metadata": {},
     "output_type": "execute_result"
    }
   ],
   "source": [
    "\n",
    "# Add a \"TOTAL\" row at the end of df_exp_merged to contain the summed totals\n",
    "#  of each numerical column.\n",
    "\n",
    "# Instantiate df_totals dataframe.\n",
    "df_totals = pd.DataFrame({'type': ['TOTAL']})\n",
    "\n",
    "# Get the sum of each numerical column and add it as a new row.\n",
    "for col in df_exp_merged.select_dtypes(include='number'):\n",
    "    df_totals[col] = [df_exp_merged[col].sum()]\n",
    "\n",
    "df_final = pd.concat([df_exp_merged, df_totals], ignore_index=True)\n",
    "\n",
    "df_final"
   ]
  },
  {
   "cell_type": "markdown",
   "id": "dc20cfc7-f3dc-479f-88d2-cd0871afd225",
   "metadata": {},
   "source": [
    "## Science Exposure Counts"
   ]
  },
  {
   "cell_type": "code",
   "execution_count": 33,
   "id": "acfd31b2-8e59-4902-b1a1-e190555661cb",
   "metadata": {
    "execution": {
     "iopub.execute_input": "2024-10-28T21:18:58.169293Z",
     "iopub.status.busy": "2024-10-28T21:18:58.169172Z",
     "iopub.status.idle": "2024-10-28T21:18:58.174875Z",
     "shell.execute_reply": "2024-10-28T21:18:58.174507Z",
     "shell.execute_reply.started": "2024-10-28T21:18:58.169281Z"
    }
   },
   "outputs": [],
   "source": [
    "### 3.2.2 All Science Exposures\n",
    "\n",
    "# First, group by col_sciprog, col_target, 'tract', and col_filter.\n",
    "df_sci_grouped = df4Dgroupby(df_sci, col_sciprog, col_target, 'tract', col_filter, col_id, True)\n",
    "#df_sci_grouped"
   ]
  },
  {
   "cell_type": "code",
   "execution_count": 34,
   "id": "7ac007d6-5b1e-4fb6-b5d3-494720c72b0c",
   "metadata": {
    "execution": {
     "iopub.execute_input": "2024-10-28T21:18:58.175496Z",
     "iopub.status.busy": "2024-10-28T21:18:58.175376Z",
     "iopub.status.idle": "2024-10-28T21:18:58.179907Z",
     "shell.execute_reply": "2024-10-28T21:18:58.179532Z",
     "shell.execute_reply.started": "2024-10-28T21:18:58.175484Z"
    }
   },
   "outputs": [],
   "source": [
    "\n",
    "# Next, pivot the dataframe, reset the index, and rename the axis.\n",
    "#  Kudos to Poe.com AI assistant.\n",
    "df_sci_pivoted = df_sci_grouped.pivot(index=[col_sciprog, col_target, 'tract'], columns=col_filter, values='number')\n",
    "df_sci_pivoted = df_sci_pivoted.reset_index()\n",
    "df_sci_pivoted.rename_axis(columns=None, inplace=True)\n",
    "#df_sci_pivoted"
   ]
  },
  {
   "cell_type": "code",
   "execution_count": 35,
   "id": "889ddab3-3d6d-4189-8366-9be53a228ee0",
   "metadata": {
    "execution": {
     "iopub.execute_input": "2024-10-28T21:18:58.180545Z",
     "iopub.status.busy": "2024-10-28T21:18:58.180422Z",
     "iopub.status.idle": "2024-10-28T21:18:58.185192Z",
     "shell.execute_reply": "2024-10-28T21:18:58.184832Z",
     "shell.execute_reply.started": "2024-10-28T21:18:58.180531Z"
    }
   },
   "outputs": [],
   "source": [
    "\n",
    "# Next,group by col_sciprog, col_target, and 'tract'.\n",
    "df_sci_grouped_tract = df3Dgroupby(df_sci, col_sciprog, col_target, 'tract', col_id, False)\n",
    "df_sci_grouped_tract.rename(columns={'number': 'n_exp'}, inplace=True)\n",
    "#df_sci_grouped_tract"
   ]
  },
  {
   "cell_type": "code",
   "execution_count": 36,
   "id": "75449f39-3e82-487e-b7d5-a74924dd4ddc",
   "metadata": {
    "execution": {
     "iopub.execute_input": "2024-10-28T21:18:58.185816Z",
     "iopub.status.busy": "2024-10-28T21:18:58.185693Z",
     "iopub.status.idle": "2024-10-28T21:18:58.190473Z",
     "shell.execute_reply": "2024-10-28T21:18:58.190114Z",
     "shell.execute_reply.started": "2024-10-28T21:18:58.185804Z"
    }
   },
   "outputs": [],
   "source": [
    "\n",
    "# Next, perform a LEFT JOIN for df_sci_grouped_tract, df_sci_pivoted on col_sciprog, col_target.\n",
    "df_sci_merged = pd.merge(df_sci_grouped_tract, df_sci_pivoted, on=[col_sciprog, col_target, 'tract'], how='left')\n",
    "#df_sci_merged"
   ]
  },
  {
   "cell_type": "code",
   "execution_count": 37,
   "id": "aa15ef48-cca4-4727-9efc-08f3e4d500dd",
   "metadata": {
    "execution": {
     "iopub.execute_input": "2024-10-28T21:18:58.191132Z",
     "iopub.status.busy": "2024-10-28T21:18:58.190976Z",
     "iopub.status.idle": "2024-10-28T21:18:58.201400Z",
     "shell.execute_reply": "2024-10-28T21:18:58.201028Z",
     "shell.execute_reply.started": "2024-10-28T21:18:58.191119Z"
    }
   },
   "outputs": [],
   "source": [
    "\n",
    "# Due to dithering and/or pointing errors, some (col_sciprog, col_target) pairs\n",
    "#  may have multiple matches to the closest tract to the beam sight of the exposure.\n",
    "#  Here, we combine combine all the matches for each (col_sciprog, col_target) pair\n",
    "#  into a single dataframe row.\n",
    "# Kudos again to Poe.com AI assistant for this solution!\n",
    "\n",
    "#  Group df_sci_merged by (col_sciprog, col_target) pair.\n",
    "df_sci_merged_grp = df_sci_merged.groupby([col_sciprog, col_target])\n",
    "\n",
    "#  Identify all columns containing numerical values; these will be summed for \n",
    "#   each (col_sciprog, col_target) pair.\n",
    "numeric_cols = df_sci_merged.select_dtypes(include='number').columns.tolist()\n",
    "#  But remove the 'tract' column; we treat this numerical column differently.\n",
    "numeric_cols.remove('tract')\n",
    "\n",
    "#  And now combined tracts for each each (col_sciprog, col_target) pair, \n",
    "#   creating a comma-separated string for (col_sciprog, col_target) pairs\n",
    "#   that have multiple tract matches.\n",
    "df_sci_combined = df_sci_merged_grp.agg({\n",
    "    'tract': lambda x: ','.join(map(str, sorted(x, key=lambda y: df_sci_merged.loc[df_sci_merged['tract'] == y, 'n_exp'].values[0], reverse=True))),\n",
    "    **{col: 'sum' for col in numeric_cols}\n",
    "}).reset_index()\n",
    "\n",
    "#df_sci_combined"
   ]
  },
  {
   "cell_type": "code",
   "execution_count": 38,
   "id": "4558e507-a828-4836-8e06-686217138a7e",
   "metadata": {
    "execution": {
     "iopub.execute_input": "2024-10-28T21:18:58.202086Z",
     "iopub.status.busy": "2024-10-28T21:18:58.201963Z",
     "iopub.status.idle": "2024-10-28T21:18:58.209095Z",
     "shell.execute_reply": "2024-10-28T21:18:58.208672Z",
     "shell.execute_reply.started": "2024-10-28T21:18:58.202075Z"
    }
   },
   "outputs": [
    {
     "data": {
      "text/html": [
       "<div>\n",
       "<style scoped>\n",
       "    .dataframe tbody tr th:only-of-type {\n",
       "        vertical-align: middle;\n",
       "    }\n",
       "\n",
       "    .dataframe tbody tr th {\n",
       "        vertical-align: top;\n",
       "    }\n",
       "\n",
       "    .dataframe thead th {\n",
       "        text-align: right;\n",
       "    }\n",
       "</style>\n",
       "<table border=\"1\" class=\"dataframe\">\n",
       "  <thead>\n",
       "    <tr style=\"text-align: right;\">\n",
       "      <th></th>\n",
       "      <th>science_program</th>\n",
       "      <th>target</th>\n",
       "      <th>tract</th>\n",
       "      <th>n_exp</th>\n",
       "      <th>i_06</th>\n",
       "      <th>r_03</th>\n",
       "    </tr>\n",
       "  </thead>\n",
       "  <tbody>\n",
       "    <tr>\n",
       "      <th>0</th>\n",
       "      <td>BLOCK-T208</td>\n",
       "      <td>HD   3234</td>\n",
       "      <td>5472</td>\n",
       "      <td>9</td>\n",
       "      <td>0</td>\n",
       "      <td>9</td>\n",
       "    </tr>\n",
       "    <tr>\n",
       "      <th>1</th>\n",
       "      <td>BLOCK-T232</td>\n",
       "      <td>HD   3234</td>\n",
       "      <td>5472</td>\n",
       "      <td>18</td>\n",
       "      <td>0</td>\n",
       "      <td>18</td>\n",
       "    </tr>\n",
       "    <tr>\n",
       "      <th>2</th>\n",
       "      <td>BLOCK-T60</td>\n",
       "      <td>UNKNOWN</td>\n",
       "      <td>5464,6130</td>\n",
       "      <td>4</td>\n",
       "      <td>0</td>\n",
       "      <td>4</td>\n",
       "    </tr>\n",
       "    <tr>\n",
       "      <th>3</th>\n",
       "      <td>BLOCK-T92</td>\n",
       "      <td>UNKNOWN</td>\n",
       "      <td>6131</td>\n",
       "      <td>1</td>\n",
       "      <td>0</td>\n",
       "      <td>1</td>\n",
       "    </tr>\n",
       "    <tr>\n",
       "      <th>4</th>\n",
       "      <td>BLOCK-T93</td>\n",
       "      <td>UNKNOWN</td>\n",
       "      <td>7766</td>\n",
       "      <td>25</td>\n",
       "      <td>0</td>\n",
       "      <td>25</td>\n",
       "    </tr>\n",
       "    <tr>\n",
       "      <th>5</th>\n",
       "      <td>unknown</td>\n",
       "      <td>HD 212627</td>\n",
       "      <td>7052</td>\n",
       "      <td>3</td>\n",
       "      <td>1</td>\n",
       "      <td>2</td>\n",
       "    </tr>\n",
       "    <tr>\n",
       "      <th>6</th>\n",
       "      <td>unknown</td>\n",
       "      <td>NGC 7293</td>\n",
       "      <td>6126</td>\n",
       "      <td>14</td>\n",
       "      <td>2</td>\n",
       "      <td>12</td>\n",
       "    </tr>\n",
       "    <tr>\n",
       "      <th>7</th>\n",
       "      <td>unknown</td>\n",
       "      <td>UNKNOWN</td>\n",
       "      <td>624,4760,5464,6130,620,6395</td>\n",
       "      <td>9</td>\n",
       "      <td>1</td>\n",
       "      <td>8</td>\n",
       "    </tr>\n",
       "    <tr>\n",
       "      <th>8</th>\n",
       "      <td>TOTAL</td>\n",
       "      <td></td>\n",
       "      <td></td>\n",
       "      <td>83</td>\n",
       "      <td>4</td>\n",
       "      <td>79</td>\n",
       "    </tr>\n",
       "  </tbody>\n",
       "</table>\n",
       "</div>"
      ],
      "text/plain": [
       "  science_program     target                        tract  n_exp  i_06  r_03\n",
       "0      BLOCK-T208  HD   3234                         5472      9     0     9\n",
       "1      BLOCK-T232  HD   3234                         5472     18     0    18\n",
       "2       BLOCK-T60    UNKNOWN                    5464,6130      4     0     4\n",
       "3       BLOCK-T92    UNKNOWN                         6131      1     0     1\n",
       "4       BLOCK-T93    UNKNOWN                         7766     25     0    25\n",
       "5         unknown  HD 212627                         7052      3     1     2\n",
       "6         unknown   NGC 7293                         6126     14     2    12\n",
       "7         unknown    UNKNOWN  624,4760,5464,6130,620,6395      9     1     8\n",
       "8           TOTAL                                             83     4    79"
      ]
     },
     "execution_count": 38,
     "metadata": {},
     "output_type": "execute_result"
    }
   ],
   "source": [
    "\n",
    "# Add a \"TOTAL\" row at the end of df_sci_merged to contain the summed totals\n",
    "#  of each numerical column.\n",
    "\n",
    "# Instantiate df_totals dataframe.\n",
    "df_totals = pd.DataFrame({col_sciprog: ['TOTAL'], col_target: [''], 'tract': ['']})\n",
    "\n",
    "# Get the sum of each numerical column and add it as a new row\n",
    "for col in df_sci_combined.select_dtypes(include='number'):\n",
    "    df_totals[col] = [df_sci_combined[col].sum()]\n",
    "\n",
    "df_final = pd.concat([df_sci_combined, df_totals], ignore_index=True)\n",
    "\n",
    "df_final"
   ]
  },
  {
   "cell_type": "markdown",
   "id": "1976c6fc-704a-4985-8d11-40b3286c809a",
   "metadata": {
    "execution": {
     "iopub.execute_input": "2024-08-25T18:58:55.648531Z",
     "iopub.status.busy": "2024-08-25T18:58:55.648411Z",
     "iopub.status.idle": "2024-08-25T18:58:55.650278Z",
     "shell.execute_reply": "2024-08-25T18:58:55.649960Z",
     "shell.execute_reply.started": "2024-08-25T18:58:55.648520Z"
    }
   },
   "source": [
    "***The tracts listed are those that overlap the beam sight of the exposures associated with a given (`science_program`, `target`) pair.  Due to the extent of the focal plane, there may be additional tracts associated with a given exposure pointing; these are not recorded here.*** \n",
    "\n",
    "***That said, dithering and/or pointing errors may mean that different exposures associated with a (`science_program`, `target`) pair may be matched with different tracts.  In that case, a comma-separated list of tracts is provided in the above table for that (`science_program`, `target`) pair; the tract list is arranged in order of decreasing number of exposures associated with that tract.***\n"
   ]
  },
  {
   "cell_type": "markdown",
   "id": "4b48fd5a-9a84-405f-9308-a8faede7c037",
   "metadata": {},
   "source": [
    "## Science Target Exposure Sky Positions (RA, DEC)"
   ]
  },
  {
   "cell_type": "code",
   "execution_count": 39,
   "id": "3a255c90-e086-4bf4-8796-fdfd7b08f8aa",
   "metadata": {
    "execution": {
     "iopub.execute_input": "2024-10-28T21:18:58.209725Z",
     "iopub.status.busy": "2024-10-28T21:18:58.209585Z",
     "iopub.status.idle": "2024-10-28T21:18:58.370273Z",
     "shell.execute_reply": "2024-10-28T21:18:58.369858Z",
     "shell.execute_reply.started": "2024-10-28T21:18:58.209713Z"
    }
   },
   "outputs": [
    {
     "data": {
      "image/png": "[encoded data removed]",
      "text/plain": [
       "<Figure size 1000x1000 with 1 Axes>"
      ]
     },
     "metadata": {},
     "output_type": "display_data"
    }
   ],
   "source": [
    "\n",
    "## 3.3 Positions\n",
    "\n",
    "### 3.3.1 Target RA, DEC\n",
    "\n",
    "df_sci.sort_values(by='field_name', inplace=True)\n",
    "\n",
    "plt.figure(figsize=(10, 10))\n",
    "\n",
    "# Plot in Cartesian coordinates\n",
    "if df_sci[col_target].dtype == \"int64\" or df_sci[col_target].dtype == \"float64\":\n",
    "    # We create and annotate the plot one way if col_target is numerical...\n",
    "    ax = sns.scatterplot(data=df_sci, x=\"ra\", y=\"dec\", hue=col_target, palette='viridis', s=100)\n",
    "else:\n",
    "    # Otherwise, if col_target is a string or similar, we create and annotate the plot this way...\n",
    "    #  (This could be done better.  As it is, the spacing is very crowded.)\n",
    "    ax = sns.scatterplot(data=df_sci, x=\"ra\", y=\"dec\", s=100)\n",
    "    prev_label = 'XXXXXX'\n",
    "    for i, label in enumerate(df_sci[col_target]):\n",
    "        if label != prev_label:\n",
    "            ax.annotate(label, (df_sci['ra'].iloc[i], df_sci['dec'].iloc[i]), fontsize=6)\n",
    "            prev_label = label\n",
    "\n",
    "# Add labels and title\n",
    "plt.xlabel('RA')\n",
    "plt.ylabel('DEC')\n",
    "title = \"\"\"RA, DEC positions of %s Observations of Different Science Program Targets\\n between %s and %s (inclusive)\"\"\" %(instrument, day_obs_start, day_obs_end)\n",
    "plt.title(title)\n",
    "plt.grid(True)"
   ]
  },
  {
   "cell_type": "markdown",
   "id": "2f09c218-5a70-4f85-941e-fffadb986945",
   "metadata": {},
   "source": [
    "## Science Target Exposure Zenith Angles"
   ]
  },
  {
   "cell_type": "code",
   "execution_count": 40,
   "id": "c34cf1ba-4e0d-429f-8d9b-52fa29f08658",
   "metadata": {
    "execution": {
     "iopub.execute_input": "2024-10-28T21:18:58.371008Z",
     "iopub.status.busy": "2024-10-28T21:18:58.370844Z",
     "iopub.status.idle": "2024-10-28T21:18:58.495270Z",
     "shell.execute_reply": "2024-10-28T21:18:58.494861Z",
     "shell.execute_reply.started": "2024-10-28T21:18:58.370994Z"
    }
   },
   "outputs": [
    {
     "data": {
      "image/png": "[encoded data removed]",
      "text/plain": [
       "<Figure size 1000x1000 with 1 Axes>"
      ]
     },
     "metadata": {},
     "output_type": "display_data"
    }
   ],
   "source": [
    "\n",
    "### 3.3.2 Target vs. zenith_angle\n",
    "\n",
    "plt.figure(figsize=(10, 10))\n",
    "\n",
    "ax = sns.scatterplot(data=df_sci, x=\"zenith_angle\", y=col_target)\n",
    "\n",
    "# Add labels and title\n",
    "#plt.xlabel('Zenith Angle')\n",
    "#plt.ylabel('Target')\n",
    "title = \"\"\"Zenith distances for of %s Observations of Different Science Program Targets\\n between %s and %s (inclusive)\"\"\" %(instrument, day_obs_start, day_obs_end)\n",
    "plt.title(title)\n",
    "plt.grid(True)\n"
   ]
  },
  {
   "cell_type": "markdown",
   "id": "cc79b958-bdc2-4872-b577-2198ac74c61e",
   "metadata": {},
   "source": [
    "## Science Target Exposure MJDs"
   ]
  },
  {
   "cell_type": "code",
   "execution_count": 41,
   "id": "1d4139ce-9cd4-47d9-8288-681db988dcc4",
   "metadata": {
    "execution": {
     "iopub.execute_input": "2024-10-28T21:18:58.495989Z",
     "iopub.status.busy": "2024-10-28T21:18:58.495857Z",
     "iopub.status.idle": "2024-10-28T21:18:58.616007Z",
     "shell.execute_reply": "2024-10-28T21:18:58.615632Z",
     "shell.execute_reply.started": "2024-10-28T21:18:58.495976Z"
    }
   },
   "outputs": [
    {
     "data": {
      "image/png": "[encoded data removed]",
      "text/plain": [
       "<Figure size 1000x1000 with 1 Axes>"
      ]
     },
     "metadata": {},
     "output_type": "display_data"
    }
   ],
   "source": [
    "\n",
    "### 3.3.3 Target vs. MJD\n",
    "\n",
    "plt.figure(figsize=(10, 10))\n",
    "\n",
    "#ax = sns.scatterplot(data=df_sci, x=\"mjd\", y=\"target\")\n",
    "ax = sns.scatterplot(data=df_sci, x=\"mjd\", y=col_target)\n",
    "\n",
    "\n",
    "# Add labels and title\n",
    "plt.xlabel('MJD')\n",
    "plt.ylabel(col_target)\n",
    "title = \"\"\"MJDs of %s Observations of Different Science Program Targets\\n between %s and %s (inclusive)\"\"\" %(instrument, day_obs_start, day_obs_end)\n",
    "plt.title(title)\n",
    "plt.grid(True)\n"
   ]
  },
  {
   "cell_type": "markdown",
   "id": "6854a142-ed35-4a18-bcf1-39e72d3a7024",
   "metadata": {},
   "source": [
    "## Science Target Exposure Zenith Angles vs. MJD"
   ]
  },
  {
   "cell_type": "code",
   "execution_count": 42,
   "id": "c1c4ccc9-25a5-4ddc-853c-01da52b614fd",
   "metadata": {
    "execution": {
     "iopub.execute_input": "2024-10-28T21:18:58.616682Z",
     "iopub.status.busy": "2024-10-28T21:18:58.616552Z",
     "iopub.status.idle": "2024-10-28T21:18:58.618728Z",
     "shell.execute_reply": "2024-10-28T21:18:58.618386Z",
     "shell.execute_reply.started": "2024-10-28T21:18:58.616669Z"
    }
   },
   "outputs": [],
   "source": [
    "\n",
    "# 4. Final cleanup\n",
    "\n",
    "# Reset the display.max_rows option to the original default\n",
    "pd.reset_option(\"display.max_rows\")"
   ]
  },
  {
   "cell_type": "code",
   "execution_count": 43,
   "id": "3d2d7e9a-a8c5-43e3-9fb3-f8b7cf5b6e87",
   "metadata": {
    "execution": {
     "iopub.execute_input": "2024-10-28T21:18:58.619352Z",
     "iopub.status.busy": "2024-10-28T21:18:58.619231Z",
     "iopub.status.idle": "2024-10-28T21:18:58.788090Z",
     "shell.execute_reply": "2024-10-28T21:18:58.787565Z",
     "shell.execute_reply.started": "2024-10-28T21:18:58.619340Z"
    }
   },
   "outputs": [
    {
     "data": {
      "image/png": "[encoded data removed]",
      "text/plain": [
       "<Figure size 1000x1000 with 1 Axes>"
      ]
     },
     "metadata": {},
     "output_type": "display_data"
    }
   ],
   "source": [
    "\n",
    "### 3.3.4 Target zenith angle vs. MJD\n",
    "\n",
    "df_sci.sort_values(by='mjd', inplace=True)\n",
    "\n",
    "plt.figure(figsize=(10, 10))\n",
    "\n",
    "# Plot in Cartesian coordinates\n",
    "if df_sci[col_target].dtype == \"int64\" or df_sci[col_target].dtype == \"float64\":\n",
    "    # We create and annotate the plot one way if col_target is numerical...\n",
    "    ax = sns.scatterplot(data=df_sci, x=\"mjd\", y=\"zenith_angle\", hue=col_target, palette='viridis', s=100)\n",
    "else:\n",
    "    # Otherwise, if col_target is a string or similar, we create and annotate the plot this way...\n",
    "    #  (This could be done better.  As it is, the spacing is very crowded.)\n",
    "    ax = sns.scatterplot(data=df_sci, x=\"mjd\", y=\"zenith_angle\", s=100)\n",
    "    prev_label = 'XXXXXX'\n",
    "    for i, label in enumerate(df_sci[col_target]):\n",
    "        if label != prev_label:\n",
    "            #mjd = df_sci['mjd'].iloc[i]\n",
    "            #za = df_sci['zenith_angle'].iloc[i]\n",
    "            #print(i, label, mjd, za)\n",
    "            ax.annotate(label, (df_sci['mjd'].iloc[i], df_sci['zenith_angle'].iloc[i]), fontsize=6)\n",
    "            prev_label = label\n",
    "\n",
    "# Add labels and title\n",
    "plt.xlabel('MJD')\n",
    "plt.ylabel('Zenith Angle')\n",
    "title = \"\"\"Zenith Angle vs. MJD of %s Observations of Different Science Program Targets\\n between %s and %s (inclusive)\"\"\" %(instrument, day_obs_start, day_obs_end)\n",
    "plt.title(title)\n",
    "plt.grid(True)"
   ]
  },
  {
   "cell_type": "code",
   "execution_count": null,
   "id": "63f95453-9665-42ee-b852-e8df40e4e605",
   "metadata": {},
   "outputs": [],
   "source": []
  },
  {
   "cell_type": "code",
   "execution_count": null,
   "id": "ea1d8bec-fb4c-4200-aaae-a0d97f5f18c6",
   "metadata": {},
   "outputs": [],
   "source": []
  }
 ],
 "metadata": {
  "kernelspec": {
   "display_name": "LSST",
   "language": "python",
   "name": "lsst"
  },
  "language_info": {
   "codemirror_mode": {
    "name": "ipython",
    "version": 3
   },
   "file_extension": ".py",
   "mimetype": "text/x-python",
   "name": "python",
   "nbconvert_exporter": "python",
   "pygments_lexer": "ipython3",
   "version": "3.11.9"
  }
 },
 "nbformat": 4,
 "nbformat_minor": 5
}
