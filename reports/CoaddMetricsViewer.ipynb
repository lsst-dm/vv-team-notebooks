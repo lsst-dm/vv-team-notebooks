{
 "cells": [
  {
   "cell_type": "markdown",
   "id": "42e2d148-0353-4897-864c-0d0d69795d90",
   "metadata": {},
   "source": [
    "## OR4 Coadd Metric Viewer"
   ]
  },
  {
   "cell_type": "markdown",
   "id": "daee1f2d-edf7-4c00-80b0-8dda8177419e",
   "metadata": {},
   "source": [
    "Displays metrics associated with deepCoadds as a series of tables. Metrics that deviate from the column mean by more than 3 standard deviations are highlighted in red.\n",
    "\n",
    "Bear in mind highlighting assumes a gaussian-ish distribution, meaning that some outlier values may not be highlighted (and vice versa).\n",
    "\n",
    "Columns named after a band show the number of exposures of that band that have gone into making the coadd (so, \"200\" under \"g\" for tract row \"500\" means that that 200 g-band exposures have gone into creating all the coadds that cover tract 500). "
   ]
  },
  {
   "cell_type": "code",
   "execution_count": 1,
   "id": "37fc4f4c-2e3d-48a7-9a7a-59dfc59a2e64",
   "metadata": {
    "execution": {
     "iopub.execute_input": "2024-07-15T22:43:50.973059Z",
     "iopub.status.busy": "2024-07-15T22:43:50.972925Z",
     "iopub.status.idle": "2024-07-15T22:43:50.975029Z",
     "shell.execute_reply": "2024-07-15T22:43:50.974698Z",
     "shell.execute_reply.started": "2024-07-15T22:43:50.973046Z"
    }
   },
   "outputs": [],
   "source": [
    "day_obs = '20230511'\n",
    "repo = 'embargo'\n",
    "collection = 'LATISS/runs/AUXTEL_DRP_IMAGING_20230509_20240201/w_2024_05/PREOPS-4871'"
   ]
  },
  {
   "cell_type": "code",
   "execution_count": 2,
   "id": "8978d27d-0b30-4019-a816-d65ad7e37c8b",
   "metadata": {
    "execution": {
     "iopub.execute_input": "2024-07-15T22:43:50.975620Z",
     "iopub.status.busy": "2024-07-15T22:43:50.975498Z",
     "iopub.status.idle": "2024-07-15T22:43:51.945783Z",
     "shell.execute_reply": "2024-07-15T22:43:51.945364Z",
     "shell.execute_reply.started": "2024-07-15T22:43:50.975609Z"
    }
   },
   "outputs": [
    {
     "data": {
      "text/html": [
       "<style>.jp-OutputArea-child {overflow: scroll}</style>"
      ],
      "text/plain": [
       "<IPython.core.display.HTML object>"
      ]
     },
     "metadata": {},
     "output_type": "display_data"
    }
   ],
   "source": [
    "import lsst.daf.butler as dafButler\n",
    "\n",
    "import operator\n",
    "import numpy as np\n",
    "import pandas as pd\n",
    "from scipy.stats import zscore\n",
    "\n",
    "from IPython.display import display, HTML\n",
    "display(HTML(\"<style>.jp-OutputArea-child {overflow: scroll}</style>\"))"
   ]
  },
  {
   "cell_type": "code",
   "execution_count": 3,
   "id": "f247e138-b4e5-46e7-b886-5a7b92fec6ed",
   "metadata": {
    "execution": {
     "iopub.execute_input": "2024-07-15T22:43:51.946474Z",
     "iopub.status.busy": "2024-07-15T22:43:51.946342Z",
     "iopub.status.idle": "2024-07-15T22:43:51.948674Z",
     "shell.execute_reply": "2024-07-15T22:43:51.948323Z",
     "shell.execute_reply.started": "2024-07-15T22:43:51.946461Z"
    }
   },
   "outputs": [],
   "source": [
    "instrUrl = 'LATISS'\n",
    "collectionUrl = 'runs/AUXTEL_DRP_IMAGING_20230509_20240201/w_2024_05/PREOPS-4871'\n",
    "plotNavUrl = 'https://usdf-rsp-dev.slac.stanford.edu/plot-navigator'"
   ]
  },
  {
   "cell_type": "code",
   "execution_count": 4,
   "id": "f56660b7-73cc-40f2-9b29-f09a2bc7bd6c",
   "metadata": {
    "execution": {
     "iopub.execute_input": "2024-07-15T22:43:51.949293Z",
     "iopub.status.busy": "2024-07-15T22:43:51.949170Z",
     "iopub.status.idle": "2024-07-15T22:43:51.953333Z",
     "shell.execute_reply": "2024-07-15T22:43:51.952958Z",
     "shell.execute_reply.started": "2024-07-15T22:43:51.949281Z"
    }
   },
   "outputs": [],
   "source": [
    "urlDict = {'g_highSNStars_median':'', 'g_highSNStars_sigmaMad':'', 'g_highSNStars_count':''}\n",
    "threshDict = {'numBlends':50, 'meanBlendIterations':25, 'meanBlendLogL':-1e5}\n",
    "threshTypeDict = {'numBlends':'lt', 'meanBlendIterations':'ge', 'meanBlendLogL':'lt'}"
   ]
  },
  {
   "cell_type": "code",
   "execution_count": 5,
   "id": "6701df5b-b375-4b90-86c2-c3ea4cd0b933",
   "metadata": {
    "execution": {
     "iopub.execute_input": "2024-07-15T22:43:51.953894Z",
     "iopub.status.busy": "2024-07-15T22:43:51.953768Z",
     "iopub.status.idle": "2024-07-15T22:43:51.961063Z",
     "shell.execute_reply": "2024-07-15T22:43:51.960677Z",
     "shell.execute_reply.started": "2024-07-15T22:43:51.953883Z"
    }
   },
   "outputs": [],
   "source": [
    "def metricBundletToDataFrame(bundleName, refs):\n",
    "    data = []\n",
    "    for ref in refs:\n",
    "        metrics = butler.get(ref)\n",
    "        row = {'Tract':ref.dataId['tract']}\n",
    "        for metric in metrics[bundleName]:\n",
    "            key = '{} {}'.format(metric.metric_name.metric, metric.quantity.unit.to_string())\n",
    "            value = metric.quantity.value\n",
    "            row[key] = value\n",
    "        data.append(row)\n",
    "    \n",
    "    df = pd.DataFrame(data)\n",
    "    df.set_index('Tract', inplace=True)\n",
    "    return df\n",
    "\n",
    "def build_urls(s, names=None):\n",
    "    # Build URLs if column has an associated Plot Navigator page.\n",
    "    colName = s.name.split()[0]\n",
    "    if colName not in urlDict:\n",
    "        return np.array(['-' if np.isnan(v) else f'{v:.2f}' for v in s.values])\n",
    "    else:\n",
    "        urlVal = urlDict[colName]\n",
    "        return [f'<a href=\"{plotNavUrl}/tract/{index}/{instrUrl}/{collectionUrl}/{urlDict[colName]}\">{val:.2f}</a>' for index, val in zip(s.index.values, s.values)]\n",
    "\n",
    "def flagCells(s):\n",
    "    colName = s.name.split()[0]\n",
    "    if colName not in threshDict:\n",
    "        return np.array([\"\" for x in s])\n",
    "    else:\n",
    "        mask = getattr(operator, threshTypeDict[colName])(s.values, threshDict[colName])\n",
    "        return np.where(mask, \"background-color: red\",\"\")\n",
    "\n",
    "def displayTable(tractTable, metricTable):\n",
    "    merged = pd.merge(tractTable, metricTable, on='Tract')\n",
    "    style_df = merged.apply(flagCells, axis=0)\n",
    "    urls = merged.apply(build_urls, axis=0)\n",
    "    flagged = urls.style.apply(lambda x: style_df, axis=None)\n",
    "    with pd.option_context('display.max_rows', 100, 'display.max_columns', 50):\n",
    "        display(flagged)"
   ]
  },
  {
   "cell_type": "code",
   "execution_count": 6,
   "id": "f19f566e-91aa-4620-ab57-e9a34efb9932",
   "metadata": {
    "execution": {
     "iopub.execute_input": "2024-07-15T22:43:51.961737Z",
     "iopub.status.busy": "2024-07-15T22:43:51.961620Z",
     "iopub.status.idle": "2024-07-15T22:43:52.572712Z",
     "shell.execute_reply": "2024-07-15T22:43:52.572275Z",
     "shell.execute_reply.started": "2024-07-15T22:43:51.961726Z"
    }
   },
   "outputs": [],
   "source": [
    "butler = dafButler.Butler(repo, collections=collection)\n",
    "registry = butler.registry"
   ]
  },
  {
   "cell_type": "code",
   "execution_count": 7,
   "id": "80b84011-336d-473c-8e87-d76caed5761a",
   "metadata": {
    "execution": {
     "iopub.execute_input": "2024-07-15T22:43:52.573422Z",
     "iopub.status.busy": "2024-07-15T22:43:52.573289Z",
     "iopub.status.idle": "2024-07-15T22:43:55.069574Z",
     "shell.execute_reply": "2024-07-15T22:43:55.069146Z",
     "shell.execute_reply.started": "2024-07-15T22:43:52.573409Z"
    }
   },
   "outputs": [],
   "source": [
    "visits = list(registry.queryDimensionRecords('visit', where='day_obs in ({})'.format(day_obs)))\n",
    "visitIds = [visit.id for visit in visits]\n",
    "minId, maxId = np.min(visitIds), np.max(visitIds)\n",
    "\n",
    "coaddRefs = list(registry.queryDatasets('deepCoadd_calexp', where='visit in ({}..{})'.format(minId, maxId)))\n",
    "data = []\n",
    "for coaddRef in coaddRefs:\n",
    "    data.append({'Tract':coaddRef.dataId['tract'], 'Band':coaddRef.dataId['band']})\n",
    "tractTable = pd.DataFrame(data)\n",
    "tractTable = tractTable.groupby(tractTable.columns.tolist(),as_index=False).size()\n",
    "tractTable = tractTable.pivot(index='Tract', columns='Band', values='size')"
   ]
  },
  {
   "cell_type": "markdown",
   "id": "239fa56d-e3e0-47ce-87f3-d37b05101053",
   "metadata": {},
   "source": [
    "## Object Table Core Metrics:"
   ]
  },
  {
   "cell_type": "code",
   "execution_count": 8,
   "id": "b835285f-2eac-4fd4-a57e-6f209f4cf54d",
   "metadata": {
    "execution": {
     "iopub.execute_input": "2024-07-15T22:43:55.070264Z",
     "iopub.status.busy": "2024-07-15T22:43:55.070131Z",
     "iopub.status.idle": "2024-07-15T22:43:55.121181Z",
     "shell.execute_reply": "2024-07-15T22:43:55.120796Z",
     "shell.execute_reply.started": "2024-07-15T22:43:55.070251Z"
    }
   },
   "outputs": [],
   "source": [
    "refs = list(registry.queryDatasets('objectTableCore_metrics'))"
   ]
  },
  {
   "cell_type": "code",
   "execution_count": 9,
   "id": "dd69918a-6f64-4aab-8204-fa0619cff4d8",
   "metadata": {
    "execution": {
     "iopub.execute_input": "2024-07-15T22:43:55.121859Z",
     "iopub.status.busy": "2024-07-15T22:43:55.121714Z",
     "iopub.status.idle": "2024-07-15T22:43:55.123686Z",
     "shell.execute_reply": "2024-07-15T22:43:55.123335Z",
     "shell.execute_reply.started": "2024-07-15T22:43:55.121847Z"
    }
   },
   "outputs": [],
   "source": [
    "### Blend Metrics"
   ]
  },
  {
   "cell_type": "code",
   "execution_count": 10,
   "id": "4d61f68d-bfbb-4bd3-90c4-b4be3cb4f234",
   "metadata": {
    "execution": {
     "iopub.execute_input": "2024-07-15T22:43:55.125523Z",
     "iopub.status.busy": "2024-07-15T22:43:55.125397Z",
     "iopub.status.idle": "2024-07-15T22:43:55.127421Z",
     "shell.execute_reply": "2024-07-15T22:43:55.127003Z",
     "shell.execute_reply.started": "2024-07-15T22:43:55.125512Z"
    }
   },
   "outputs": [],
   "source": [
    "#BlendLogL: Log likelihood of the entire blend in scarlet_lite.\n",
    "#bundleName = 'blendMetrics'\n",
    "#metricTable = metricBundletToDataFrame(bundleName, refs)\n",
    "#displayTable(tractTable, metricTable)"
   ]
  },
  {
   "cell_type": "markdown",
   "id": "08e910cf-f857-435a-b64e-edc2e7c3011c",
   "metadata": {},
   "source": [
    "### E1Diff Metrics"
   ]
  },
  {
   "cell_type": "code",
   "execution_count": 11,
   "id": "6b71aa57-e9a2-4499-9c16-d2bb642121b5",
   "metadata": {
    "execution": {
     "iopub.execute_input": "2024-07-15T22:43:55.128202Z",
     "iopub.status.busy": "2024-07-15T22:43:55.128025Z",
     "iopub.status.idle": "2024-07-15T22:43:57.093631Z",
     "shell.execute_reply": "2024-07-15T22:43:57.093250Z",
     "shell.execute_reply.started": "2024-07-15T22:43:55.128186Z"
    }
   },
   "outputs": [
    {
     "data": {
      "text/html": [
       "<style type=\"text/css\">\n",
       "</style>\n",
       "<table id=\"T_ce8bc\">\n",
       "  <thead>\n",
       "    <tr>\n",
       "      <th class=\"blank level0\" >&nbsp;</th>\n",
       "      <th id=\"T_ce8bc_level0_col0\" class=\"col_heading level0 col0\" >g</th>\n",
       "      <th id=\"T_ce8bc_level0_col1\" class=\"col_heading level0 col1\" >i</th>\n",
       "      <th id=\"T_ce8bc_level0_col2\" class=\"col_heading level0 col2\" >r</th>\n",
       "      <th id=\"T_ce8bc_level0_col3\" class=\"col_heading level0 col3\" >g_highSNStars_median pix</th>\n",
       "      <th id=\"T_ce8bc_level0_col4\" class=\"col_heading level0 col4\" >g_highSNStars_sigmaMad pix</th>\n",
       "      <th id=\"T_ce8bc_level0_col5\" class=\"col_heading level0 col5\" >g_highSNStars_count ct</th>\n",
       "      <th id=\"T_ce8bc_level0_col6\" class=\"col_heading level0 col6\" >g_lowSNStars_median pix</th>\n",
       "      <th id=\"T_ce8bc_level0_col7\" class=\"col_heading level0 col7\" >g_lowSNStars_sigmaMad pix</th>\n",
       "      <th id=\"T_ce8bc_level0_col8\" class=\"col_heading level0 col8\" >g_lowSNStars_count ct</th>\n",
       "      <th id=\"T_ce8bc_level0_col9\" class=\"col_heading level0 col9\" >r_highSNStars_median pix</th>\n",
       "      <th id=\"T_ce8bc_level0_col10\" class=\"col_heading level0 col10\" >r_highSNStars_sigmaMad pix</th>\n",
       "      <th id=\"T_ce8bc_level0_col11\" class=\"col_heading level0 col11\" >r_highSNStars_count ct</th>\n",
       "      <th id=\"T_ce8bc_level0_col12\" class=\"col_heading level0 col12\" >r_lowSNStars_median pix</th>\n",
       "      <th id=\"T_ce8bc_level0_col13\" class=\"col_heading level0 col13\" >r_lowSNStars_sigmaMad pix</th>\n",
       "      <th id=\"T_ce8bc_level0_col14\" class=\"col_heading level0 col14\" >r_lowSNStars_count ct</th>\n",
       "      <th id=\"T_ce8bc_level0_col15\" class=\"col_heading level0 col15\" >i_highSNStars_median pix</th>\n",
       "      <th id=\"T_ce8bc_level0_col16\" class=\"col_heading level0 col16\" >i_highSNStars_sigmaMad pix</th>\n",
       "      <th id=\"T_ce8bc_level0_col17\" class=\"col_heading level0 col17\" >i_highSNStars_count ct</th>\n",
       "      <th id=\"T_ce8bc_level0_col18\" class=\"col_heading level0 col18\" >i_lowSNStars_median pix</th>\n",
       "      <th id=\"T_ce8bc_level0_col19\" class=\"col_heading level0 col19\" >i_lowSNStars_sigmaMad pix</th>\n",
       "      <th id=\"T_ce8bc_level0_col20\" class=\"col_heading level0 col20\" >i_lowSNStars_count ct</th>\n",
       "    </tr>\n",
       "    <tr>\n",
       "      <th class=\"index_name level0\" >Tract</th>\n",
       "      <th class=\"blank col0\" >&nbsp;</th>\n",
       "      <th class=\"blank col1\" >&nbsp;</th>\n",
       "      <th class=\"blank col2\" >&nbsp;</th>\n",
       "      <th class=\"blank col3\" >&nbsp;</th>\n",
       "      <th class=\"blank col4\" >&nbsp;</th>\n",
       "      <th class=\"blank col5\" >&nbsp;</th>\n",
       "      <th class=\"blank col6\" >&nbsp;</th>\n",
       "      <th class=\"blank col7\" >&nbsp;</th>\n",
       "      <th class=\"blank col8\" >&nbsp;</th>\n",
       "      <th class=\"blank col9\" >&nbsp;</th>\n",
       "      <th class=\"blank col10\" >&nbsp;</th>\n",
       "      <th class=\"blank col11\" >&nbsp;</th>\n",
       "      <th class=\"blank col12\" >&nbsp;</th>\n",
       "      <th class=\"blank col13\" >&nbsp;</th>\n",
       "      <th class=\"blank col14\" >&nbsp;</th>\n",
       "      <th class=\"blank col15\" >&nbsp;</th>\n",
       "      <th class=\"blank col16\" >&nbsp;</th>\n",
       "      <th class=\"blank col17\" >&nbsp;</th>\n",
       "      <th class=\"blank col18\" >&nbsp;</th>\n",
       "      <th class=\"blank col19\" >&nbsp;</th>\n",
       "      <th class=\"blank col20\" >&nbsp;</th>\n",
       "    </tr>\n",
       "  </thead>\n",
       "  <tbody>\n",
       "    <tr>\n",
       "      <th id=\"T_ce8bc_level0_row0\" class=\"row_heading level0 row0\" >5614</th>\n",
       "      <td id=\"T_ce8bc_row0_col0\" class=\"data row0 col0\" >324.00</td>\n",
       "      <td id=\"T_ce8bc_row0_col1\" class=\"data row0 col1\" >326.00</td>\n",
       "      <td id=\"T_ce8bc_row0_col2\" class=\"data row0 col2\" >311.00</td>\n",
       "      <td id=\"T_ce8bc_row0_col3\" class=\"data row0 col3\" ><a href=\"https://usdf-rsp-dev.slac.stanford.edu/plot-navigator/tract/5614/LATISS/runs/AUXTEL_DRP_IMAGING_20230509_20240201/w_2024_05/PREOPS-4871/\">0.00</a></td>\n",
       "      <td id=\"T_ce8bc_row0_col4\" class=\"data row0 col4\" ><a href=\"https://usdf-rsp-dev.slac.stanford.edu/plot-navigator/tract/5614/LATISS/runs/AUXTEL_DRP_IMAGING_20230509_20240201/w_2024_05/PREOPS-4871/\">0.01</a></td>\n",
       "      <td id=\"T_ce8bc_row0_col5\" class=\"data row0 col5\" ><a href=\"https://usdf-rsp-dev.slac.stanford.edu/plot-navigator/tract/5614/LATISS/runs/AUXTEL_DRP_IMAGING_20230509_20240201/w_2024_05/PREOPS-4871/\">5.00</a></td>\n",
       "      <td id=\"T_ce8bc_row0_col6\" class=\"data row0 col6\" >0.00</td>\n",
       "      <td id=\"T_ce8bc_row0_col7\" class=\"data row0 col7\" >0.01</td>\n",
       "      <td id=\"T_ce8bc_row0_col8\" class=\"data row0 col8\" >54.00</td>\n",
       "      <td id=\"T_ce8bc_row0_col9\" class=\"data row0 col9\" >-0.01</td>\n",
       "      <td id=\"T_ce8bc_row0_col10\" class=\"data row0 col10\" >0.01</td>\n",
       "      <td id=\"T_ce8bc_row0_col11\" class=\"data row0 col11\" >4.00</td>\n",
       "      <td id=\"T_ce8bc_row0_col12\" class=\"data row0 col12\" >-0.00</td>\n",
       "      <td id=\"T_ce8bc_row0_col13\" class=\"data row0 col13\" >0.01</td>\n",
       "      <td id=\"T_ce8bc_row0_col14\" class=\"data row0 col14\" >66.00</td>\n",
       "      <td id=\"T_ce8bc_row0_col15\" class=\"data row0 col15\" >-0.00</td>\n",
       "      <td id=\"T_ce8bc_row0_col16\" class=\"data row0 col16\" >0.01</td>\n",
       "      <td id=\"T_ce8bc_row0_col17\" class=\"data row0 col17\" >6.00</td>\n",
       "      <td id=\"T_ce8bc_row0_col18\" class=\"data row0 col18\" >0.00</td>\n",
       "      <td id=\"T_ce8bc_row0_col19\" class=\"data row0 col19\" >0.01</td>\n",
       "      <td id=\"T_ce8bc_row0_col20\" class=\"data row0 col20\" >67.00</td>\n",
       "    </tr>\n",
       "    <tr>\n",
       "      <th id=\"T_ce8bc_level0_row1\" class=\"row_heading level0 row1\" >5615</th>\n",
       "      <td id=\"T_ce8bc_row1_col0\" class=\"data row1 col0\" >361.00</td>\n",
       "      <td id=\"T_ce8bc_row1_col1\" class=\"data row1 col1\" >369.00</td>\n",
       "      <td id=\"T_ce8bc_row1_col2\" class=\"data row1 col2\" >362.00</td>\n",
       "      <td id=\"T_ce8bc_row1_col3\" class=\"data row1 col3\" ><a href=\"https://usdf-rsp-dev.slac.stanford.edu/plot-navigator/tract/5615/LATISS/runs/AUXTEL_DRP_IMAGING_20230509_20240201/w_2024_05/PREOPS-4871/\">-0.00</a></td>\n",
       "      <td id=\"T_ce8bc_row1_col4\" class=\"data row1 col4\" ><a href=\"https://usdf-rsp-dev.slac.stanford.edu/plot-navigator/tract/5615/LATISS/runs/AUXTEL_DRP_IMAGING_20230509_20240201/w_2024_05/PREOPS-4871/\">0.00</a></td>\n",
       "      <td id=\"T_ce8bc_row1_col5\" class=\"data row1 col5\" ><a href=\"https://usdf-rsp-dev.slac.stanford.edu/plot-navigator/tract/5615/LATISS/runs/AUXTEL_DRP_IMAGING_20230509_20240201/w_2024_05/PREOPS-4871/\">9.00</a></td>\n",
       "      <td id=\"T_ce8bc_row1_col6\" class=\"data row1 col6\" >0.00</td>\n",
       "      <td id=\"T_ce8bc_row1_col7\" class=\"data row1 col7\" >0.00</td>\n",
       "      <td id=\"T_ce8bc_row1_col8\" class=\"data row1 col8\" >81.00</td>\n",
       "      <td id=\"T_ce8bc_row1_col9\" class=\"data row1 col9\" >0.00</td>\n",
       "      <td id=\"T_ce8bc_row1_col10\" class=\"data row1 col10\" >0.00</td>\n",
       "      <td id=\"T_ce8bc_row1_col11\" class=\"data row1 col11\" >13.00</td>\n",
       "      <td id=\"T_ce8bc_row1_col12\" class=\"data row1 col12\" >0.00</td>\n",
       "      <td id=\"T_ce8bc_row1_col13\" class=\"data row1 col13\" >0.00</td>\n",
       "      <td id=\"T_ce8bc_row1_col14\" class=\"data row1 col14\" >115.00</td>\n",
       "      <td id=\"T_ce8bc_row1_col15\" class=\"data row1 col15\" >-0.00</td>\n",
       "      <td id=\"T_ce8bc_row1_col16\" class=\"data row1 col16\" >0.01</td>\n",
       "      <td id=\"T_ce8bc_row1_col17\" class=\"data row1 col17\" >16.00</td>\n",
       "      <td id=\"T_ce8bc_row1_col18\" class=\"data row1 col18\" >0.00</td>\n",
       "      <td id=\"T_ce8bc_row1_col19\" class=\"data row1 col19\" >0.01</td>\n",
       "      <td id=\"T_ce8bc_row1_col20\" class=\"data row1 col20\" >133.00</td>\n",
       "    </tr>\n",
       "  </tbody>\n",
       "</table>\n"
      ],
      "text/plain": [
       "<pandas.io.formats.style.Styler at 0x7f1768653fd0>"
      ]
     },
     "metadata": {},
     "output_type": "display_data"
    }
   ],
   "source": [
    "# Ellipticity Residuals (e1 - e1_psf) per tract per band\n",
    "# highSNStars are SNR > 2700, lowSNStars are SNR > 500\n",
    "# _count is number of stars in each SNR bin. \n",
    "bundleName = 'e1Diff'\n",
    "metricTable = metricBundletToDataFrame(bundleName, refs)\n",
    "displayTable(tractTable, metricTable)"
   ]
  },
  {
   "cell_type": "markdown",
   "id": "258eb8a2-36a8-4a1f-9b2a-e283d5398ce2",
   "metadata": {},
   "source": [
    "### E2 Diff Metrics"
   ]
  },
  {
   "cell_type": "code",
   "execution_count": 12,
   "id": "5e98a029-32be-40db-97d8-180d36962dc0",
   "metadata": {
    "execution": {
     "iopub.execute_input": "2024-07-15T22:43:57.094478Z",
     "iopub.status.busy": "2024-07-15T22:43:57.094166Z",
     "iopub.status.idle": "2024-07-15T22:43:57.440768Z",
     "shell.execute_reply": "2024-07-15T22:43:57.440370Z",
     "shell.execute_reply.started": "2024-07-15T22:43:57.094464Z"
    }
   },
   "outputs": [
    {
     "data": {
      "text/html": [
       "<style type=\"text/css\">\n",
       "</style>\n",
       "<table id=\"T_e0f5b\">\n",
       "  <thead>\n",
       "    <tr>\n",
       "      <th class=\"blank level0\" >&nbsp;</th>\n",
       "      <th id=\"T_e0f5b_level0_col0\" class=\"col_heading level0 col0\" >g</th>\n",
       "      <th id=\"T_e0f5b_level0_col1\" class=\"col_heading level0 col1\" >i</th>\n",
       "      <th id=\"T_e0f5b_level0_col2\" class=\"col_heading level0 col2\" >r</th>\n",
       "      <th id=\"T_e0f5b_level0_col3\" class=\"col_heading level0 col3\" >g_highSNStars_median pix</th>\n",
       "      <th id=\"T_e0f5b_level0_col4\" class=\"col_heading level0 col4\" >g_highSNStars_sigmaMad pix</th>\n",
       "      <th id=\"T_e0f5b_level0_col5\" class=\"col_heading level0 col5\" >g_highSNStars_count ct</th>\n",
       "      <th id=\"T_e0f5b_level0_col6\" class=\"col_heading level0 col6\" >g_lowSNStars_median pix</th>\n",
       "      <th id=\"T_e0f5b_level0_col7\" class=\"col_heading level0 col7\" >g_lowSNStars_sigmaMad pix</th>\n",
       "      <th id=\"T_e0f5b_level0_col8\" class=\"col_heading level0 col8\" >g_lowSNStars_count ct</th>\n",
       "      <th id=\"T_e0f5b_level0_col9\" class=\"col_heading level0 col9\" >r_highSNStars_median pix</th>\n",
       "      <th id=\"T_e0f5b_level0_col10\" class=\"col_heading level0 col10\" >r_highSNStars_sigmaMad pix</th>\n",
       "      <th id=\"T_e0f5b_level0_col11\" class=\"col_heading level0 col11\" >r_highSNStars_count ct</th>\n",
       "      <th id=\"T_e0f5b_level0_col12\" class=\"col_heading level0 col12\" >r_lowSNStars_median pix</th>\n",
       "      <th id=\"T_e0f5b_level0_col13\" class=\"col_heading level0 col13\" >r_lowSNStars_sigmaMad pix</th>\n",
       "      <th id=\"T_e0f5b_level0_col14\" class=\"col_heading level0 col14\" >r_lowSNStars_count ct</th>\n",
       "      <th id=\"T_e0f5b_level0_col15\" class=\"col_heading level0 col15\" >i_highSNStars_median pix</th>\n",
       "      <th id=\"T_e0f5b_level0_col16\" class=\"col_heading level0 col16\" >i_highSNStars_sigmaMad pix</th>\n",
       "      <th id=\"T_e0f5b_level0_col17\" class=\"col_heading level0 col17\" >i_highSNStars_count ct</th>\n",
       "      <th id=\"T_e0f5b_level0_col18\" class=\"col_heading level0 col18\" >i_lowSNStars_median pix</th>\n",
       "      <th id=\"T_e0f5b_level0_col19\" class=\"col_heading level0 col19\" >i_lowSNStars_sigmaMad pix</th>\n",
       "      <th id=\"T_e0f5b_level0_col20\" class=\"col_heading level0 col20\" >i_lowSNStars_count ct</th>\n",
       "    </tr>\n",
       "    <tr>\n",
       "      <th class=\"index_name level0\" >Tract</th>\n",
       "      <th class=\"blank col0\" >&nbsp;</th>\n",
       "      <th class=\"blank col1\" >&nbsp;</th>\n",
       "      <th class=\"blank col2\" >&nbsp;</th>\n",
       "      <th class=\"blank col3\" >&nbsp;</th>\n",
       "      <th class=\"blank col4\" >&nbsp;</th>\n",
       "      <th class=\"blank col5\" >&nbsp;</th>\n",
       "      <th class=\"blank col6\" >&nbsp;</th>\n",
       "      <th class=\"blank col7\" >&nbsp;</th>\n",
       "      <th class=\"blank col8\" >&nbsp;</th>\n",
       "      <th class=\"blank col9\" >&nbsp;</th>\n",
       "      <th class=\"blank col10\" >&nbsp;</th>\n",
       "      <th class=\"blank col11\" >&nbsp;</th>\n",
       "      <th class=\"blank col12\" >&nbsp;</th>\n",
       "      <th class=\"blank col13\" >&nbsp;</th>\n",
       "      <th class=\"blank col14\" >&nbsp;</th>\n",
       "      <th class=\"blank col15\" >&nbsp;</th>\n",
       "      <th class=\"blank col16\" >&nbsp;</th>\n",
       "      <th class=\"blank col17\" >&nbsp;</th>\n",
       "      <th class=\"blank col18\" >&nbsp;</th>\n",
       "      <th class=\"blank col19\" >&nbsp;</th>\n",
       "      <th class=\"blank col20\" >&nbsp;</th>\n",
       "    </tr>\n",
       "  </thead>\n",
       "  <tbody>\n",
       "    <tr>\n",
       "      <th id=\"T_e0f5b_level0_row0\" class=\"row_heading level0 row0\" >5614</th>\n",
       "      <td id=\"T_e0f5b_row0_col0\" class=\"data row0 col0\" >324.00</td>\n",
       "      <td id=\"T_e0f5b_row0_col1\" class=\"data row0 col1\" >326.00</td>\n",
       "      <td id=\"T_e0f5b_row0_col2\" class=\"data row0 col2\" >311.00</td>\n",
       "      <td id=\"T_e0f5b_row0_col3\" class=\"data row0 col3\" ><a href=\"https://usdf-rsp-dev.slac.stanford.edu/plot-navigator/tract/5614/LATISS/runs/AUXTEL_DRP_IMAGING_20230509_20240201/w_2024_05/PREOPS-4871/\">0.00</a></td>\n",
       "      <td id=\"T_e0f5b_row0_col4\" class=\"data row0 col4\" ><a href=\"https://usdf-rsp-dev.slac.stanford.edu/plot-navigator/tract/5614/LATISS/runs/AUXTEL_DRP_IMAGING_20230509_20240201/w_2024_05/PREOPS-4871/\">0.01</a></td>\n",
       "      <td id=\"T_e0f5b_row0_col5\" class=\"data row0 col5\" ><a href=\"https://usdf-rsp-dev.slac.stanford.edu/plot-navigator/tract/5614/LATISS/runs/AUXTEL_DRP_IMAGING_20230509_20240201/w_2024_05/PREOPS-4871/\">5.00</a></td>\n",
       "      <td id=\"T_e0f5b_row0_col6\" class=\"data row0 col6\" >0.00</td>\n",
       "      <td id=\"T_e0f5b_row0_col7\" class=\"data row0 col7\" >0.01</td>\n",
       "      <td id=\"T_e0f5b_row0_col8\" class=\"data row0 col8\" >54.00</td>\n",
       "      <td id=\"T_e0f5b_row0_col9\" class=\"data row0 col9\" >-0.01</td>\n",
       "      <td id=\"T_e0f5b_row0_col10\" class=\"data row0 col10\" >0.01</td>\n",
       "      <td id=\"T_e0f5b_row0_col11\" class=\"data row0 col11\" >4.00</td>\n",
       "      <td id=\"T_e0f5b_row0_col12\" class=\"data row0 col12\" >-0.00</td>\n",
       "      <td id=\"T_e0f5b_row0_col13\" class=\"data row0 col13\" >0.01</td>\n",
       "      <td id=\"T_e0f5b_row0_col14\" class=\"data row0 col14\" >66.00</td>\n",
       "      <td id=\"T_e0f5b_row0_col15\" class=\"data row0 col15\" >-0.00</td>\n",
       "      <td id=\"T_e0f5b_row0_col16\" class=\"data row0 col16\" >0.01</td>\n",
       "      <td id=\"T_e0f5b_row0_col17\" class=\"data row0 col17\" >6.00</td>\n",
       "      <td id=\"T_e0f5b_row0_col18\" class=\"data row0 col18\" >0.00</td>\n",
       "      <td id=\"T_e0f5b_row0_col19\" class=\"data row0 col19\" >0.01</td>\n",
       "      <td id=\"T_e0f5b_row0_col20\" class=\"data row0 col20\" >67.00</td>\n",
       "    </tr>\n",
       "    <tr>\n",
       "      <th id=\"T_e0f5b_level0_row1\" class=\"row_heading level0 row1\" >5615</th>\n",
       "      <td id=\"T_e0f5b_row1_col0\" class=\"data row1 col0\" >361.00</td>\n",
       "      <td id=\"T_e0f5b_row1_col1\" class=\"data row1 col1\" >369.00</td>\n",
       "      <td id=\"T_e0f5b_row1_col2\" class=\"data row1 col2\" >362.00</td>\n",
       "      <td id=\"T_e0f5b_row1_col3\" class=\"data row1 col3\" ><a href=\"https://usdf-rsp-dev.slac.stanford.edu/plot-navigator/tract/5615/LATISS/runs/AUXTEL_DRP_IMAGING_20230509_20240201/w_2024_05/PREOPS-4871/\">-0.00</a></td>\n",
       "      <td id=\"T_e0f5b_row1_col4\" class=\"data row1 col4\" ><a href=\"https://usdf-rsp-dev.slac.stanford.edu/plot-navigator/tract/5615/LATISS/runs/AUXTEL_DRP_IMAGING_20230509_20240201/w_2024_05/PREOPS-4871/\">0.00</a></td>\n",
       "      <td id=\"T_e0f5b_row1_col5\" class=\"data row1 col5\" ><a href=\"https://usdf-rsp-dev.slac.stanford.edu/plot-navigator/tract/5615/LATISS/runs/AUXTEL_DRP_IMAGING_20230509_20240201/w_2024_05/PREOPS-4871/\">9.00</a></td>\n",
       "      <td id=\"T_e0f5b_row1_col6\" class=\"data row1 col6\" >0.00</td>\n",
       "      <td id=\"T_e0f5b_row1_col7\" class=\"data row1 col7\" >0.00</td>\n",
       "      <td id=\"T_e0f5b_row1_col8\" class=\"data row1 col8\" >81.00</td>\n",
       "      <td id=\"T_e0f5b_row1_col9\" class=\"data row1 col9\" >0.00</td>\n",
       "      <td id=\"T_e0f5b_row1_col10\" class=\"data row1 col10\" >0.00</td>\n",
       "      <td id=\"T_e0f5b_row1_col11\" class=\"data row1 col11\" >13.00</td>\n",
       "      <td id=\"T_e0f5b_row1_col12\" class=\"data row1 col12\" >0.00</td>\n",
       "      <td id=\"T_e0f5b_row1_col13\" class=\"data row1 col13\" >0.00</td>\n",
       "      <td id=\"T_e0f5b_row1_col14\" class=\"data row1 col14\" >115.00</td>\n",
       "      <td id=\"T_e0f5b_row1_col15\" class=\"data row1 col15\" >-0.00</td>\n",
       "      <td id=\"T_e0f5b_row1_col16\" class=\"data row1 col16\" >0.01</td>\n",
       "      <td id=\"T_e0f5b_row1_col17\" class=\"data row1 col17\" >16.00</td>\n",
       "      <td id=\"T_e0f5b_row1_col18\" class=\"data row1 col18\" >0.00</td>\n",
       "      <td id=\"T_e0f5b_row1_col19\" class=\"data row1 col19\" >0.01</td>\n",
       "      <td id=\"T_e0f5b_row1_col20\" class=\"data row1 col20\" >133.00</td>\n",
       "    </tr>\n",
       "  </tbody>\n",
       "</table>\n"
      ],
      "text/plain": [
       "<pandas.io.formats.style.Styler at 0x7f175ffa6310>"
      ]
     },
     "metadata": {},
     "output_type": "display_data"
    }
   ],
   "source": [
    "bundleName = 'e2Diff'\n",
    "etricTable = metricBundletToDataFrame(bundleName, refs)\n",
    "displayTable(tractTable, metricTable)"
   ]
  },
  {
   "cell_type": "code",
   "execution_count": 13,
   "id": "872bed42-faf4-4c48-9cb3-bf72bb34b179",
   "metadata": {
    "execution": {
     "iopub.execute_input": "2024-07-15T22:43:57.441491Z",
     "iopub.status.busy": "2024-07-15T22:43:57.441360Z",
     "iopub.status.idle": "2024-07-15T22:43:57.443444Z",
     "shell.execute_reply": "2024-07-15T22:43:57.443105Z",
     "shell.execute_reply.started": "2024-07-15T22:43:57.441479Z"
    }
   },
   "outputs": [],
   "source": [
    "### Isolated Deblender Metrics"
   ]
  },
  {
   "cell_type": "code",
   "execution_count": 14,
   "id": "c566ccb7-1a4d-4f68-863a-b359578ebf89",
   "metadata": {
    "execution": {
     "iopub.execute_input": "2024-07-15T22:43:57.444051Z",
     "iopub.status.busy": "2024-07-15T22:43:57.443931Z",
     "iopub.status.idle": "2024-07-15T22:43:57.447270Z",
     "shell.execute_reply": "2024-07-15T22:43:57.446903Z",
     "shell.execute_reply.started": "2024-07-15T22:43:57.444041Z"
    }
   },
   "outputs": [],
   "source": [
    "#bundleName = 'isolatedDeblenderMetrics'\n",
    "#etricTable = metricBundletToDataFrame(bundleName, refs)\n",
    "#displayTable(tractTable, metricTable)"
   ]
  },
  {
   "cell_type": "markdown",
   "id": "2678fec0-700b-4f93-ac61-fb4f952caf52",
   "metadata": {},
   "source": [
    "### Parent Deblender Metrics"
   ]
  },
  {
   "cell_type": "code",
   "execution_count": 15,
   "id": "c007fe2f-85b6-48ef-98f8-3592d77c3ef8",
   "metadata": {
    "execution": {
     "iopub.execute_input": "2024-07-15T22:43:57.447869Z",
     "iopub.status.busy": "2024-07-15T22:43:57.447747Z",
     "iopub.status.idle": "2024-07-15T22:43:57.451457Z",
     "shell.execute_reply": "2024-07-15T22:43:57.451087Z",
     "shell.execute_reply.started": "2024-07-15T22:43:57.447858Z"
    }
   },
   "outputs": [],
   "source": [
    "#bundleName = 'parentDeblenderMetrics'\n",
    "#metricTable = metricBundletToDataFrame(bundleName, refs)\n",
    "#displayTable(tractTable, metricTable)"
   ]
  },
  {
   "cell_type": "markdown",
   "id": "0b024fd4-61cd-42ef-b03a-cde1f62ea359",
   "metadata": {},
   "source": [
    "### PSF CModel Scatter Metrics"
   ]
  },
  {
   "cell_type": "code",
   "execution_count": 16,
   "id": "dd34bad7-5986-4eda-a1e3-518536c90703",
   "metadata": {
    "execution": {
     "iopub.execute_input": "2024-07-15T22:43:57.452081Z",
     "iopub.status.busy": "2024-07-15T22:43:57.451963Z",
     "iopub.status.idle": "2024-07-15T22:43:57.454631Z",
     "shell.execute_reply": "2024-07-15T22:43:57.454297Z",
     "shell.execute_reply.started": "2024-07-15T22:43:57.452071Z"
    }
   },
   "outputs": [],
   "source": [
    "#bundleName = 'psfCModelScatter'\n",
    "#metricTable = metricBundletToDataFrame(bundleName, refs)\n",
    "#displayTable(tractTable, metricTable)"
   ]
  },
  {
   "cell_type": "markdown",
   "id": "3b68549a-2379-4f7c-b031-98967a5d7ade",
   "metadata": {},
   "source": [
    "### Shape Size Fractional Diff Metrics"
   ]
  },
  {
   "cell_type": "code",
   "execution_count": 17,
   "id": "cf6b2b2e-0491-4ef9-9b39-0303b37213b8",
   "metadata": {
    "execution": {
     "iopub.execute_input": "2024-07-15T22:43:57.455221Z",
     "iopub.status.busy": "2024-07-15T22:43:57.455101Z",
     "iopub.status.idle": "2024-07-15T22:43:57.842907Z",
     "shell.execute_reply": "2024-07-15T22:43:57.842499Z",
     "shell.execute_reply.started": "2024-07-15T22:43:57.455210Z"
    }
   },
   "outputs": [
    {
     "data": {
      "text/html": [
       "<style type=\"text/css\">\n",
       "</style>\n",
       "<table id=\"T_25c1f\">\n",
       "  <thead>\n",
       "    <tr>\n",
       "      <th class=\"blank level0\" >&nbsp;</th>\n",
       "      <th id=\"T_25c1f_level0_col0\" class=\"col_heading level0 col0\" >g</th>\n",
       "      <th id=\"T_25c1f_level0_col1\" class=\"col_heading level0 col1\" >i</th>\n",
       "      <th id=\"T_25c1f_level0_col2\" class=\"col_heading level0 col2\" >r</th>\n",
       "      <th id=\"T_25c1f_level0_col3\" class=\"col_heading level0 col3\" >g_highSNStars_median pix</th>\n",
       "      <th id=\"T_25c1f_level0_col4\" class=\"col_heading level0 col4\" >g_highSNStars_sigmaMad pix</th>\n",
       "      <th id=\"T_25c1f_level0_col5\" class=\"col_heading level0 col5\" >g_highSNStars_count ct</th>\n",
       "      <th id=\"T_25c1f_level0_col6\" class=\"col_heading level0 col6\" >g_lowSNStars_median pix</th>\n",
       "      <th id=\"T_25c1f_level0_col7\" class=\"col_heading level0 col7\" >g_lowSNStars_sigmaMad pix</th>\n",
       "      <th id=\"T_25c1f_level0_col8\" class=\"col_heading level0 col8\" >g_lowSNStars_count ct</th>\n",
       "      <th id=\"T_25c1f_level0_col9\" class=\"col_heading level0 col9\" >r_highSNStars_median pix</th>\n",
       "      <th id=\"T_25c1f_level0_col10\" class=\"col_heading level0 col10\" >r_highSNStars_sigmaMad pix</th>\n",
       "      <th id=\"T_25c1f_level0_col11\" class=\"col_heading level0 col11\" >r_highSNStars_count ct</th>\n",
       "      <th id=\"T_25c1f_level0_col12\" class=\"col_heading level0 col12\" >r_lowSNStars_median pix</th>\n",
       "      <th id=\"T_25c1f_level0_col13\" class=\"col_heading level0 col13\" >r_lowSNStars_sigmaMad pix</th>\n",
       "      <th id=\"T_25c1f_level0_col14\" class=\"col_heading level0 col14\" >r_lowSNStars_count ct</th>\n",
       "      <th id=\"T_25c1f_level0_col15\" class=\"col_heading level0 col15\" >i_highSNStars_median pix</th>\n",
       "      <th id=\"T_25c1f_level0_col16\" class=\"col_heading level0 col16\" >i_highSNStars_sigmaMad pix</th>\n",
       "      <th id=\"T_25c1f_level0_col17\" class=\"col_heading level0 col17\" >i_highSNStars_count ct</th>\n",
       "      <th id=\"T_25c1f_level0_col18\" class=\"col_heading level0 col18\" >i_lowSNStars_median pix</th>\n",
       "      <th id=\"T_25c1f_level0_col19\" class=\"col_heading level0 col19\" >i_lowSNStars_sigmaMad pix</th>\n",
       "      <th id=\"T_25c1f_level0_col20\" class=\"col_heading level0 col20\" >i_lowSNStars_count ct</th>\n",
       "    </tr>\n",
       "    <tr>\n",
       "      <th class=\"index_name level0\" >Tract</th>\n",
       "      <th class=\"blank col0\" >&nbsp;</th>\n",
       "      <th class=\"blank col1\" >&nbsp;</th>\n",
       "      <th class=\"blank col2\" >&nbsp;</th>\n",
       "      <th class=\"blank col3\" >&nbsp;</th>\n",
       "      <th class=\"blank col4\" >&nbsp;</th>\n",
       "      <th class=\"blank col5\" >&nbsp;</th>\n",
       "      <th class=\"blank col6\" >&nbsp;</th>\n",
       "      <th class=\"blank col7\" >&nbsp;</th>\n",
       "      <th class=\"blank col8\" >&nbsp;</th>\n",
       "      <th class=\"blank col9\" >&nbsp;</th>\n",
       "      <th class=\"blank col10\" >&nbsp;</th>\n",
       "      <th class=\"blank col11\" >&nbsp;</th>\n",
       "      <th class=\"blank col12\" >&nbsp;</th>\n",
       "      <th class=\"blank col13\" >&nbsp;</th>\n",
       "      <th class=\"blank col14\" >&nbsp;</th>\n",
       "      <th class=\"blank col15\" >&nbsp;</th>\n",
       "      <th class=\"blank col16\" >&nbsp;</th>\n",
       "      <th class=\"blank col17\" >&nbsp;</th>\n",
       "      <th class=\"blank col18\" >&nbsp;</th>\n",
       "      <th class=\"blank col19\" >&nbsp;</th>\n",
       "      <th class=\"blank col20\" >&nbsp;</th>\n",
       "    </tr>\n",
       "  </thead>\n",
       "  <tbody>\n",
       "    <tr>\n",
       "      <th id=\"T_25c1f_level0_row0\" class=\"row_heading level0 row0\" >5614</th>\n",
       "      <td id=\"T_25c1f_row0_col0\" class=\"data row0 col0\" >324.00</td>\n",
       "      <td id=\"T_25c1f_row0_col1\" class=\"data row0 col1\" >326.00</td>\n",
       "      <td id=\"T_25c1f_row0_col2\" class=\"data row0 col2\" >311.00</td>\n",
       "      <td id=\"T_25c1f_row0_col3\" class=\"data row0 col3\" ><a href=\"https://usdf-rsp-dev.slac.stanford.edu/plot-navigator/tract/5614/LATISS/runs/AUXTEL_DRP_IMAGING_20230509_20240201/w_2024_05/PREOPS-4871/\">0.00</a></td>\n",
       "      <td id=\"T_25c1f_row0_col4\" class=\"data row0 col4\" ><a href=\"https://usdf-rsp-dev.slac.stanford.edu/plot-navigator/tract/5614/LATISS/runs/AUXTEL_DRP_IMAGING_20230509_20240201/w_2024_05/PREOPS-4871/\">0.01</a></td>\n",
       "      <td id=\"T_25c1f_row0_col5\" class=\"data row0 col5\" ><a href=\"https://usdf-rsp-dev.slac.stanford.edu/plot-navigator/tract/5614/LATISS/runs/AUXTEL_DRP_IMAGING_20230509_20240201/w_2024_05/PREOPS-4871/\">5.00</a></td>\n",
       "      <td id=\"T_25c1f_row0_col6\" class=\"data row0 col6\" >0.00</td>\n",
       "      <td id=\"T_25c1f_row0_col7\" class=\"data row0 col7\" >0.01</td>\n",
       "      <td id=\"T_25c1f_row0_col8\" class=\"data row0 col8\" >54.00</td>\n",
       "      <td id=\"T_25c1f_row0_col9\" class=\"data row0 col9\" >-0.00</td>\n",
       "      <td id=\"T_25c1f_row0_col10\" class=\"data row0 col10\" >0.00</td>\n",
       "      <td id=\"T_25c1f_row0_col11\" class=\"data row0 col11\" >4.00</td>\n",
       "      <td id=\"T_25c1f_row0_col12\" class=\"data row0 col12\" >0.00</td>\n",
       "      <td id=\"T_25c1f_row0_col13\" class=\"data row0 col13\" >0.01</td>\n",
       "      <td id=\"T_25c1f_row0_col14\" class=\"data row0 col14\" >66.00</td>\n",
       "      <td id=\"T_25c1f_row0_col15\" class=\"data row0 col15\" >0.00</td>\n",
       "      <td id=\"T_25c1f_row0_col16\" class=\"data row0 col16\" >0.01</td>\n",
       "      <td id=\"T_25c1f_row0_col17\" class=\"data row0 col17\" >6.00</td>\n",
       "      <td id=\"T_25c1f_row0_col18\" class=\"data row0 col18\" >-0.00</td>\n",
       "      <td id=\"T_25c1f_row0_col19\" class=\"data row0 col19\" >0.01</td>\n",
       "      <td id=\"T_25c1f_row0_col20\" class=\"data row0 col20\" >67.00</td>\n",
       "    </tr>\n",
       "    <tr>\n",
       "      <th id=\"T_25c1f_level0_row1\" class=\"row_heading level0 row1\" >5615</th>\n",
       "      <td id=\"T_25c1f_row1_col0\" class=\"data row1 col0\" >361.00</td>\n",
       "      <td id=\"T_25c1f_row1_col1\" class=\"data row1 col1\" >369.00</td>\n",
       "      <td id=\"T_25c1f_row1_col2\" class=\"data row1 col2\" >362.00</td>\n",
       "      <td id=\"T_25c1f_row1_col3\" class=\"data row1 col3\" ><a href=\"https://usdf-rsp-dev.slac.stanford.edu/plot-navigator/tract/5615/LATISS/runs/AUXTEL_DRP_IMAGING_20230509_20240201/w_2024_05/PREOPS-4871/\">-0.00</a></td>\n",
       "      <td id=\"T_25c1f_row1_col4\" class=\"data row1 col4\" ><a href=\"https://usdf-rsp-dev.slac.stanford.edu/plot-navigator/tract/5615/LATISS/runs/AUXTEL_DRP_IMAGING_20230509_20240201/w_2024_05/PREOPS-4871/\">0.00</a></td>\n",
       "      <td id=\"T_25c1f_row1_col5\" class=\"data row1 col5\" ><a href=\"https://usdf-rsp-dev.slac.stanford.edu/plot-navigator/tract/5615/LATISS/runs/AUXTEL_DRP_IMAGING_20230509_20240201/w_2024_05/PREOPS-4871/\">9.00</a></td>\n",
       "      <td id=\"T_25c1f_row1_col6\" class=\"data row1 col6\" >-0.00</td>\n",
       "      <td id=\"T_25c1f_row1_col7\" class=\"data row1 col7\" >0.01</td>\n",
       "      <td id=\"T_25c1f_row1_col8\" class=\"data row1 col8\" >81.00</td>\n",
       "      <td id=\"T_25c1f_row1_col9\" class=\"data row1 col9\" >-0.00</td>\n",
       "      <td id=\"T_25c1f_row1_col10\" class=\"data row1 col10\" >0.00</td>\n",
       "      <td id=\"T_25c1f_row1_col11\" class=\"data row1 col11\" >13.00</td>\n",
       "      <td id=\"T_25c1f_row1_col12\" class=\"data row1 col12\" >-0.00</td>\n",
       "      <td id=\"T_25c1f_row1_col13\" class=\"data row1 col13\" >0.01</td>\n",
       "      <td id=\"T_25c1f_row1_col14\" class=\"data row1 col14\" >115.00</td>\n",
       "      <td id=\"T_25c1f_row1_col15\" class=\"data row1 col15\" >-0.01</td>\n",
       "      <td id=\"T_25c1f_row1_col16\" class=\"data row1 col16\" >0.01</td>\n",
       "      <td id=\"T_25c1f_row1_col17\" class=\"data row1 col17\" >16.00</td>\n",
       "      <td id=\"T_25c1f_row1_col18\" class=\"data row1 col18\" >-0.00</td>\n",
       "      <td id=\"T_25c1f_row1_col19\" class=\"data row1 col19\" >0.01</td>\n",
       "      <td id=\"T_25c1f_row1_col20\" class=\"data row1 col20\" >133.00</td>\n",
       "    </tr>\n",
       "  </tbody>\n",
       "</table>\n"
      ],
      "text/plain": [
       "<pandas.io.formats.style.Styler at 0x7f175c9934d0>"
      ]
     },
     "metadata": {},
     "output_type": "display_data"
    }
   ],
   "source": [
    "bundleName = 'shapeSizeFractionalDiff'\n",
    "metricTable = metricBundletToDataFrame(bundleName, refs)\n",
    "displayTable(tractTable, metricTable)"
   ]
  },
  {
   "cell_type": "markdown",
   "id": "05462a2d-a4c0-40df-a230-dd944155fab5",
   "metadata": {},
   "source": [
    "### Skipped Deblender Metrics"
   ]
  },
  {
   "cell_type": "code",
   "execution_count": 18,
   "id": "91f58784-8922-4e7c-accf-4945fc37eec4",
   "metadata": {
    "execution": {
     "iopub.execute_input": "2024-07-15T22:43:57.843610Z",
     "iopub.status.busy": "2024-07-15T22:43:57.843479Z",
     "iopub.status.idle": "2024-07-15T22:43:57.845460Z",
     "shell.execute_reply": "2024-07-15T22:43:57.845102Z",
     "shell.execute_reply.started": "2024-07-15T22:43:57.843598Z"
    }
   },
   "outputs": [],
   "source": [
    "#bundleName = 'skippedDeblenderMetrics'\n",
    "#metricTable = metricBundletToDataFrame(bundleName, refs)\n",
    "#displayTable(tractTable, metricTable)"
   ]
  },
  {
   "cell_type": "markdown",
   "id": "89a4e595-c6d7-49b4-a209-ebd6f2efcd2d",
   "metadata": {},
   "source": [
    "### Sky Flux Statistic Metrics"
   ]
  },
  {
   "cell_type": "code",
   "execution_count": 19,
   "id": "994e58f9-62da-4321-a54e-a94c959aae7a",
   "metadata": {
    "execution": {
     "iopub.execute_input": "2024-07-15T22:43:57.846078Z",
     "iopub.status.busy": "2024-07-15T22:43:57.845955Z",
     "iopub.status.idle": "2024-07-15T22:43:58.217512Z",
     "shell.execute_reply": "2024-07-15T22:43:58.217130Z",
     "shell.execute_reply.started": "2024-07-15T22:43:57.846067Z"
    }
   },
   "outputs": [
    {
     "data": {
      "text/html": [
       "<style type=\"text/css\">\n",
       "</style>\n",
       "<table id=\"T_516fd\">\n",
       "  <thead>\n",
       "    <tr>\n",
       "      <th class=\"blank level0\" >&nbsp;</th>\n",
       "      <th id=\"T_516fd_level0_col0\" class=\"col_heading level0 col0\" >g</th>\n",
       "      <th id=\"T_516fd_level0_col1\" class=\"col_heading level0 col1\" >i</th>\n",
       "      <th id=\"T_516fd_level0_col2\" class=\"col_heading level0 col2\" >r</th>\n",
       "      <th id=\"T_516fd_level0_col3\" class=\"col_heading level0 col3\" >g_medianSky nJy</th>\n",
       "      <th id=\"T_516fd_level0_col4\" class=\"col_heading level0 col4\" >g_meanSky nJy</th>\n",
       "      <th id=\"T_516fd_level0_col5\" class=\"col_heading level0 col5\" >g_stdevSky nJy</th>\n",
       "      <th id=\"T_516fd_level0_col6\" class=\"col_heading level0 col6\" >g_sigmaMADSky nJy</th>\n",
       "      <th id=\"T_516fd_level0_col7\" class=\"col_heading level0 col7\" >r_medianSky nJy</th>\n",
       "      <th id=\"T_516fd_level0_col8\" class=\"col_heading level0 col8\" >r_meanSky nJy</th>\n",
       "      <th id=\"T_516fd_level0_col9\" class=\"col_heading level0 col9\" >r_stdevSky nJy</th>\n",
       "      <th id=\"T_516fd_level0_col10\" class=\"col_heading level0 col10\" >r_sigmaMADSky nJy</th>\n",
       "      <th id=\"T_516fd_level0_col11\" class=\"col_heading level0 col11\" >i_medianSky nJy</th>\n",
       "      <th id=\"T_516fd_level0_col12\" class=\"col_heading level0 col12\" >i_meanSky nJy</th>\n",
       "      <th id=\"T_516fd_level0_col13\" class=\"col_heading level0 col13\" >i_stdevSky nJy</th>\n",
       "      <th id=\"T_516fd_level0_col14\" class=\"col_heading level0 col14\" >i_sigmaMADSky nJy</th>\n",
       "    </tr>\n",
       "    <tr>\n",
       "      <th class=\"index_name level0\" >Tract</th>\n",
       "      <th class=\"blank col0\" >&nbsp;</th>\n",
       "      <th class=\"blank col1\" >&nbsp;</th>\n",
       "      <th class=\"blank col2\" >&nbsp;</th>\n",
       "      <th class=\"blank col3\" >&nbsp;</th>\n",
       "      <th class=\"blank col4\" >&nbsp;</th>\n",
       "      <th class=\"blank col5\" >&nbsp;</th>\n",
       "      <th class=\"blank col6\" >&nbsp;</th>\n",
       "      <th class=\"blank col7\" >&nbsp;</th>\n",
       "      <th class=\"blank col8\" >&nbsp;</th>\n",
       "      <th class=\"blank col9\" >&nbsp;</th>\n",
       "      <th class=\"blank col10\" >&nbsp;</th>\n",
       "      <th class=\"blank col11\" >&nbsp;</th>\n",
       "      <th class=\"blank col12\" >&nbsp;</th>\n",
       "      <th class=\"blank col13\" >&nbsp;</th>\n",
       "      <th class=\"blank col14\" >&nbsp;</th>\n",
       "    </tr>\n",
       "  </thead>\n",
       "  <tbody>\n",
       "    <tr>\n",
       "      <th id=\"T_516fd_level0_row0\" class=\"row_heading level0 row0\" >5614</th>\n",
       "      <td id=\"T_516fd_row0_col0\" class=\"data row0 col0\" >324.00</td>\n",
       "      <td id=\"T_516fd_row0_col1\" class=\"data row0 col1\" >326.00</td>\n",
       "      <td id=\"T_516fd_row0_col2\" class=\"data row0 col2\" >311.00</td>\n",
       "      <td id=\"T_516fd_row0_col3\" class=\"data row0 col3\" >-12.57</td>\n",
       "      <td id=\"T_516fd_row0_col4\" class=\"data row0 col4\" >-46.04</td>\n",
       "      <td id=\"T_516fd_row0_col5\" class=\"data row0 col5\" >1514.20</td>\n",
       "      <td id=\"T_516fd_row0_col6\" class=\"data row0 col6\" >1085.16</td>\n",
       "      <td id=\"T_516fd_row0_col7\" class=\"data row0 col7\" >-57.43</td>\n",
       "      <td id=\"T_516fd_row0_col8\" class=\"data row0 col8\" >11.67</td>\n",
       "      <td id=\"T_516fd_row0_col9\" class=\"data row0 col9\" >2359.18</td>\n",
       "      <td id=\"T_516fd_row0_col10\" class=\"data row0 col10\" >1626.97</td>\n",
       "      <td id=\"T_516fd_row0_col11\" class=\"data row0 col11\" >98.26</td>\n",
       "      <td id=\"T_516fd_row0_col12\" class=\"data row0 col12\" >83.23</td>\n",
       "      <td id=\"T_516fd_row0_col13\" class=\"data row0 col13\" >2521.15</td>\n",
       "      <td id=\"T_516fd_row0_col14\" class=\"data row0 col14\" >1767.40</td>\n",
       "    </tr>\n",
       "    <tr>\n",
       "      <th id=\"T_516fd_level0_row1\" class=\"row_heading level0 row1\" >5615</th>\n",
       "      <td id=\"T_516fd_row1_col0\" class=\"data row1 col0\" >361.00</td>\n",
       "      <td id=\"T_516fd_row1_col1\" class=\"data row1 col1\" >369.00</td>\n",
       "      <td id=\"T_516fd_row1_col2\" class=\"data row1 col2\" >362.00</td>\n",
       "      <td id=\"T_516fd_row1_col3\" class=\"data row1 col3\" >-57.97</td>\n",
       "      <td id=\"T_516fd_row1_col4\" class=\"data row1 col4\" >-78.45</td>\n",
       "      <td id=\"T_516fd_row1_col5\" class=\"data row1 col5\" >1278.74</td>\n",
       "      <td id=\"T_516fd_row1_col6\" class=\"data row1 col6\" >686.46</td>\n",
       "      <td id=\"T_516fd_row1_col7\" class=\"data row1 col7\" >80.64</td>\n",
       "      <td id=\"T_516fd_row1_col8\" class=\"data row1 col8\" >-151.53</td>\n",
       "      <td id=\"T_516fd_row1_col9\" class=\"data row1 col9\" >3998.42</td>\n",
       "      <td id=\"T_516fd_row1_col10\" class=\"data row1 col10\" >933.20</td>\n",
       "      <td id=\"T_516fd_row1_col11\" class=\"data row1 col11\" >3.08</td>\n",
       "      <td id=\"T_516fd_row1_col12\" class=\"data row1 col12\" >-71.68</td>\n",
       "      <td id=\"T_516fd_row1_col13\" class=\"data row1 col13\" >2681.28</td>\n",
       "      <td id=\"T_516fd_row1_col14\" class=\"data row1 col14\" >970.33</td>\n",
       "    </tr>\n",
       "  </tbody>\n",
       "</table>\n"
      ],
      "text/plain": [
       "<pandas.io.formats.style.Styler at 0x7f177ac47110>"
      ]
     },
     "metadata": {},
     "output_type": "display_data"
    }
   ],
   "source": [
    "bundleName = 'skyFluxStatisticMetric'\n",
    "metricTable = metricBundletToDataFrame(bundleName, refs)\n",
    "displayTable(tractTable, metricTable)"
   ]
  },
  {
   "cell_type": "markdown",
   "id": "7edc785d-c0ac-41e3-8805-b7aa4fcb3274",
   "metadata": {},
   "source": [
    "### wPerp Cmodel Metrics"
   ]
  },
  {
   "cell_type": "code",
   "execution_count": 20,
   "id": "14bc9255-4794-4c68-8ef0-0bd1339d516a",
   "metadata": {
    "execution": {
     "iopub.execute_input": "2024-07-15T22:43:58.218230Z",
     "iopub.status.busy": "2024-07-15T22:43:58.218100Z",
     "iopub.status.idle": "2024-07-15T22:43:58.585846Z",
     "shell.execute_reply": "2024-07-15T22:43:58.585464Z",
     "shell.execute_reply.started": "2024-07-15T22:43:58.218217Z"
    }
   },
   "outputs": [
    {
     "data": {
      "text/html": [
       "<style type=\"text/css\">\n",
       "</style>\n",
       "<table id=\"T_0c880\">\n",
       "  <thead>\n",
       "    <tr>\n",
       "      <th class=\"blank level0\" >&nbsp;</th>\n",
       "      <th id=\"T_0c880_level0_col0\" class=\"col_heading level0 col0\" >g</th>\n",
       "      <th id=\"T_0c880_level0_col1\" class=\"col_heading level0 col1\" >i</th>\n",
       "      <th id=\"T_0c880_level0_col2\" class=\"col_heading level0 col2\" >r</th>\n",
       "      <th id=\"T_0c880_level0_col3\" class=\"col_heading level0 col3\" >wPerp_cModelFlux_sigmaMAD mmag</th>\n",
       "      <th id=\"T_0c880_level0_col4\" class=\"col_heading level0 col4\" >wPerp_cModelFlux_median mmag</th>\n",
       "    </tr>\n",
       "    <tr>\n",
       "      <th class=\"index_name level0\" >Tract</th>\n",
       "      <th class=\"blank col0\" >&nbsp;</th>\n",
       "      <th class=\"blank col1\" >&nbsp;</th>\n",
       "      <th class=\"blank col2\" >&nbsp;</th>\n",
       "      <th class=\"blank col3\" >&nbsp;</th>\n",
       "      <th class=\"blank col4\" >&nbsp;</th>\n",
       "    </tr>\n",
       "  </thead>\n",
       "  <tbody>\n",
       "    <tr>\n",
       "      <th id=\"T_0c880_level0_row0\" class=\"row_heading level0 row0\" >5614</th>\n",
       "      <td id=\"T_0c880_row0_col0\" class=\"data row0 col0\" >324.00</td>\n",
       "      <td id=\"T_0c880_row0_col1\" class=\"data row0 col1\" >326.00</td>\n",
       "      <td id=\"T_0c880_row0_col2\" class=\"data row0 col2\" >311.00</td>\n",
       "      <td id=\"T_0c880_row0_col3\" class=\"data row0 col3\" >32.19</td>\n",
       "      <td id=\"T_0c880_row0_col4\" class=\"data row0 col4\" >-3.23</td>\n",
       "    </tr>\n",
       "    <tr>\n",
       "      <th id=\"T_0c880_level0_row1\" class=\"row_heading level0 row1\" >5615</th>\n",
       "      <td id=\"T_0c880_row1_col0\" class=\"data row1 col0\" >361.00</td>\n",
       "      <td id=\"T_0c880_row1_col1\" class=\"data row1 col1\" >369.00</td>\n",
       "      <td id=\"T_0c880_row1_col2\" class=\"data row1 col2\" >362.00</td>\n",
       "      <td id=\"T_0c880_row1_col3\" class=\"data row1 col3\" >23.24</td>\n",
       "      <td id=\"T_0c880_row1_col4\" class=\"data row1 col4\" >0.04</td>\n",
       "    </tr>\n",
       "  </tbody>\n",
       "</table>\n"
      ],
      "text/plain": [
       "<pandas.io.formats.style.Styler at 0x7f17670cd510>"
      ]
     },
     "metadata": {},
     "output_type": "display_data"
    }
   ],
   "source": [
    "bundleName = 'wPerpCModel'\n",
    "metricTable = metricBundletToDataFrame(bundleName, refs)\n",
    "displayTable(tractTable, metricTable)"
   ]
  },
  {
   "cell_type": "markdown",
   "id": "0450c804-3b23-4943-a102-e205a8e8c3f2",
   "metadata": {},
   "source": [
    "### wPerp PSFP Metrics"
   ]
  },
  {
   "cell_type": "code",
   "execution_count": 21,
   "id": "f02de677-68b7-41a6-8a75-76aa72311641",
   "metadata": {
    "execution": {
     "iopub.execute_input": "2024-07-15T22:43:58.586588Z",
     "iopub.status.busy": "2024-07-15T22:43:58.586454Z",
     "iopub.status.idle": "2024-07-15T22:43:59.026173Z",
     "shell.execute_reply": "2024-07-15T22:43:59.025773Z",
     "shell.execute_reply.started": "2024-07-15T22:43:58.586576Z"
    }
   },
   "outputs": [
    {
     "data": {
      "text/html": [
       "<style type=\"text/css\">\n",
       "</style>\n",
       "<table id=\"T_852ab\">\n",
       "  <thead>\n",
       "    <tr>\n",
       "      <th class=\"blank level0\" >&nbsp;</th>\n",
       "      <th id=\"T_852ab_level0_col0\" class=\"col_heading level0 col0\" >g</th>\n",
       "      <th id=\"T_852ab_level0_col1\" class=\"col_heading level0 col1\" >i</th>\n",
       "      <th id=\"T_852ab_level0_col2\" class=\"col_heading level0 col2\" >r</th>\n",
       "      <th id=\"T_852ab_level0_col3\" class=\"col_heading level0 col3\" >wPerp_psfFlux_sigmaMAD mmag</th>\n",
       "      <th id=\"T_852ab_level0_col4\" class=\"col_heading level0 col4\" >wPerp_psfFlux_median mmag</th>\n",
       "    </tr>\n",
       "    <tr>\n",
       "      <th class=\"index_name level0\" >Tract</th>\n",
       "      <th class=\"blank col0\" >&nbsp;</th>\n",
       "      <th class=\"blank col1\" >&nbsp;</th>\n",
       "      <th class=\"blank col2\" >&nbsp;</th>\n",
       "      <th class=\"blank col3\" >&nbsp;</th>\n",
       "      <th class=\"blank col4\" >&nbsp;</th>\n",
       "    </tr>\n",
       "  </thead>\n",
       "  <tbody>\n",
       "    <tr>\n",
       "      <th id=\"T_852ab_level0_row0\" class=\"row_heading level0 row0\" >5614</th>\n",
       "      <td id=\"T_852ab_row0_col0\" class=\"data row0 col0\" >324.00</td>\n",
       "      <td id=\"T_852ab_row0_col1\" class=\"data row0 col1\" >326.00</td>\n",
       "      <td id=\"T_852ab_row0_col2\" class=\"data row0 col2\" >311.00</td>\n",
       "      <td id=\"T_852ab_row0_col3\" class=\"data row0 col3\" >35.38</td>\n",
       "      <td id=\"T_852ab_row0_col4\" class=\"data row0 col4\" >0.78</td>\n",
       "    </tr>\n",
       "    <tr>\n",
       "      <th id=\"T_852ab_level0_row1\" class=\"row_heading level0 row1\" >5615</th>\n",
       "      <td id=\"T_852ab_row1_col0\" class=\"data row1 col0\" >361.00</td>\n",
       "      <td id=\"T_852ab_row1_col1\" class=\"data row1 col1\" >369.00</td>\n",
       "      <td id=\"T_852ab_row1_col2\" class=\"data row1 col2\" >362.00</td>\n",
       "      <td id=\"T_852ab_row1_col3\" class=\"data row1 col3\" >20.57</td>\n",
       "      <td id=\"T_852ab_row1_col4\" class=\"data row1 col4\" >-0.61</td>\n",
       "    </tr>\n",
       "  </tbody>\n",
       "</table>\n"
      ],
      "text/plain": [
       "<pandas.io.formats.style.Styler at 0x7f17ac16bc10>"
      ]
     },
     "metadata": {},
     "output_type": "display_data"
    }
   ],
   "source": [
    "bundleName = 'wPerpPSFP'\n",
    "metricTable = metricBundletToDataFrame(bundleName, refs)\n",
    "displayTable(tractTable, metricTable)"
   ]
  },
  {
   "cell_type": "markdown",
   "id": "d16fb00f-b8d5-482b-8c49-509c7c505f1b",
   "metadata": {},
   "source": [
    "### xPerpCModel Metrics"
   ]
  },
  {
   "cell_type": "code",
   "execution_count": 22,
   "id": "13e756e9-2b46-46ed-8674-72575b690517",
   "metadata": {
    "execution": {
     "iopub.execute_input": "2024-07-15T22:43:59.026889Z",
     "iopub.status.busy": "2024-07-15T22:43:59.026743Z",
     "iopub.status.idle": "2024-07-15T22:43:59.394958Z",
     "shell.execute_reply": "2024-07-15T22:43:59.394582Z",
     "shell.execute_reply.started": "2024-07-15T22:43:59.026876Z"
    }
   },
   "outputs": [
    {
     "data": {
      "text/html": [
       "<style type=\"text/css\">\n",
       "</style>\n",
       "<table id=\"T_4a417\">\n",
       "  <thead>\n",
       "    <tr>\n",
       "      <th class=\"blank level0\" >&nbsp;</th>\n",
       "      <th id=\"T_4a417_level0_col0\" class=\"col_heading level0 col0\" >g</th>\n",
       "      <th id=\"T_4a417_level0_col1\" class=\"col_heading level0 col1\" >i</th>\n",
       "      <th id=\"T_4a417_level0_col2\" class=\"col_heading level0 col2\" >r</th>\n",
       "      <th id=\"T_4a417_level0_col3\" class=\"col_heading level0 col3\" >xPerp_cModelFlux_sigmaMAD mmag</th>\n",
       "      <th id=\"T_4a417_level0_col4\" class=\"col_heading level0 col4\" >xPerp_cModelFlux_median mmag</th>\n",
       "    </tr>\n",
       "    <tr>\n",
       "      <th class=\"index_name level0\" >Tract</th>\n",
       "      <th class=\"blank col0\" >&nbsp;</th>\n",
       "      <th class=\"blank col1\" >&nbsp;</th>\n",
       "      <th class=\"blank col2\" >&nbsp;</th>\n",
       "      <th class=\"blank col3\" >&nbsp;</th>\n",
       "      <th class=\"blank col4\" >&nbsp;</th>\n",
       "    </tr>\n",
       "  </thead>\n",
       "  <tbody>\n",
       "    <tr>\n",
       "      <th id=\"T_4a417_level0_row0\" class=\"row_heading level0 row0\" >5614</th>\n",
       "      <td id=\"T_4a417_row0_col0\" class=\"data row0 col0\" >324.00</td>\n",
       "      <td id=\"T_4a417_row0_col1\" class=\"data row0 col1\" >326.00</td>\n",
       "      <td id=\"T_4a417_row0_col2\" class=\"data row0 col2\" >311.00</td>\n",
       "      <td id=\"T_4a417_row0_col3\" class=\"data row0 col3\" >-</td>\n",
       "      <td id=\"T_4a417_row0_col4\" class=\"data row0 col4\" >-</td>\n",
       "    </tr>\n",
       "    <tr>\n",
       "      <th id=\"T_4a417_level0_row1\" class=\"row_heading level0 row1\" >5615</th>\n",
       "      <td id=\"T_4a417_row1_col0\" class=\"data row1 col0\" >361.00</td>\n",
       "      <td id=\"T_4a417_row1_col1\" class=\"data row1 col1\" >369.00</td>\n",
       "      <td id=\"T_4a417_row1_col2\" class=\"data row1 col2\" >362.00</td>\n",
       "      <td id=\"T_4a417_row1_col3\" class=\"data row1 col3\" >-</td>\n",
       "      <td id=\"T_4a417_row1_col4\" class=\"data row1 col4\" >-</td>\n",
       "    </tr>\n",
       "  </tbody>\n",
       "</table>\n"
      ],
      "text/plain": [
       "<pandas.io.formats.style.Styler at 0x7f17670cd510>"
      ]
     },
     "metadata": {},
     "output_type": "display_data"
    }
   ],
   "source": [
    "bundleName = 'xPerpCModel'\n",
    "metricTable = metricBundletToDataFrame(bundleName, refs)\n",
    "displayTable(tractTable, metricTable)"
   ]
  },
  {
   "cell_type": "markdown",
   "id": "29bd58a8-9ce3-4bc5-bc89-7426418d4a1f",
   "metadata": {},
   "source": [
    "### xPerpPSFP Metrics"
   ]
  },
  {
   "cell_type": "code",
   "execution_count": 23,
   "id": "b84d99eb-1e4c-428d-aff8-34b4136d1cb2",
   "metadata": {
    "execution": {
     "iopub.execute_input": "2024-07-15T22:43:59.395619Z",
     "iopub.status.busy": "2024-07-15T22:43:59.395494Z",
     "iopub.status.idle": "2024-07-15T22:43:59.711893Z",
     "shell.execute_reply": "2024-07-15T22:43:59.711517Z",
     "shell.execute_reply.started": "2024-07-15T22:43:59.395607Z"
    }
   },
   "outputs": [
    {
     "data": {
      "text/html": [
       "<style type=\"text/css\">\n",
       "</style>\n",
       "<table id=\"T_8f73a\">\n",
       "  <thead>\n",
       "    <tr>\n",
       "      <th class=\"blank level0\" >&nbsp;</th>\n",
       "      <th id=\"T_8f73a_level0_col0\" class=\"col_heading level0 col0\" >g</th>\n",
       "      <th id=\"T_8f73a_level0_col1\" class=\"col_heading level0 col1\" >i</th>\n",
       "      <th id=\"T_8f73a_level0_col2\" class=\"col_heading level0 col2\" >r</th>\n",
       "      <th id=\"T_8f73a_level0_col3\" class=\"col_heading level0 col3\" >xPerp_psfFlux_sigmaMAD mmag</th>\n",
       "      <th id=\"T_8f73a_level0_col4\" class=\"col_heading level0 col4\" >xPerp_psfFlux_median mmag</th>\n",
       "    </tr>\n",
       "    <tr>\n",
       "      <th class=\"index_name level0\" >Tract</th>\n",
       "      <th class=\"blank col0\" >&nbsp;</th>\n",
       "      <th class=\"blank col1\" >&nbsp;</th>\n",
       "      <th class=\"blank col2\" >&nbsp;</th>\n",
       "      <th class=\"blank col3\" >&nbsp;</th>\n",
       "      <th class=\"blank col4\" >&nbsp;</th>\n",
       "    </tr>\n",
       "  </thead>\n",
       "  <tbody>\n",
       "    <tr>\n",
       "      <th id=\"T_8f73a_level0_row0\" class=\"row_heading level0 row0\" >5614</th>\n",
       "      <td id=\"T_8f73a_row0_col0\" class=\"data row0 col0\" >324.00</td>\n",
       "      <td id=\"T_8f73a_row0_col1\" class=\"data row0 col1\" >326.00</td>\n",
       "      <td id=\"T_8f73a_row0_col2\" class=\"data row0 col2\" >311.00</td>\n",
       "      <td id=\"T_8f73a_row0_col3\" class=\"data row0 col3\" >-</td>\n",
       "      <td id=\"T_8f73a_row0_col4\" class=\"data row0 col4\" >-</td>\n",
       "    </tr>\n",
       "    <tr>\n",
       "      <th id=\"T_8f73a_level0_row1\" class=\"row_heading level0 row1\" >5615</th>\n",
       "      <td id=\"T_8f73a_row1_col0\" class=\"data row1 col0\" >361.00</td>\n",
       "      <td id=\"T_8f73a_row1_col1\" class=\"data row1 col1\" >369.00</td>\n",
       "      <td id=\"T_8f73a_row1_col2\" class=\"data row1 col2\" >362.00</td>\n",
       "      <td id=\"T_8f73a_row1_col3\" class=\"data row1 col3\" >-</td>\n",
       "      <td id=\"T_8f73a_row1_col4\" class=\"data row1 col4\" >-</td>\n",
       "    </tr>\n",
       "  </tbody>\n",
       "</table>\n"
      ],
      "text/plain": [
       "<pandas.io.formats.style.Styler at 0x7f17670cd510>"
      ]
     },
     "metadata": {},
     "output_type": "display_data"
    }
   ],
   "source": [
    "bundleName = 'xPerpPSFP'\n",
    "metricTable = metricBundletToDataFrame(bundleName, refs)\n",
    "displayTable(tractTable, metricTable)"
   ]
  },
  {
   "cell_type": "markdown",
   "id": "f9ddd7c2-815e-4431-a1f1-fd6124fa1346",
   "metadata": {},
   "source": [
    "## Object Table Extended Metrics"
   ]
  },
  {
   "cell_type": "code",
   "execution_count": 24,
   "id": "ee26602e-b598-4c22-b930-2d0b7f235305",
   "metadata": {
    "execution": {
     "iopub.execute_input": "2024-07-15T22:43:59.712565Z",
     "iopub.status.busy": "2024-07-15T22:43:59.712438Z",
     "iopub.status.idle": "2024-07-15T22:43:59.714499Z",
     "shell.execute_reply": "2024-07-15T22:43:59.714137Z",
     "shell.execute_reply.started": "2024-07-15T22:43:59.712553Z"
    }
   },
   "outputs": [],
   "source": [
    "#refs = list(registry.queryDatasets('objectTableExtended_metrics'))"
   ]
  },
  {
   "cell_type": "markdown",
   "id": "33dfa2b4-4d9f-4703-a3ba-e7fc1bde0d04",
   "metadata": {},
   "source": [
    "### Ap12PSFSky Metrics"
   ]
  },
  {
   "cell_type": "code",
   "execution_count": 25,
   "id": "86c43ffb-6949-420a-888d-25acb681fdd2",
   "metadata": {
    "execution": {
     "iopub.execute_input": "2024-07-15T22:43:59.715100Z",
     "iopub.status.busy": "2024-07-15T22:43:59.714980Z",
     "iopub.status.idle": "2024-07-15T22:43:59.718340Z",
     "shell.execute_reply": "2024-07-15T22:43:59.718017Z",
     "shell.execute_reply.started": "2024-07-15T22:43:59.715090Z"
    }
   },
   "outputs": [],
   "source": [
    "#bundleName = 'ap12PsfSky'\n",
    "#metricTable = metricBundletToDataFrame(bundleName, refs)\n",
    "#displayTable(tractTable, metricTable)"
   ]
  },
  {
   "cell_type": "code",
   "execution_count": null,
   "id": "26c78036-0dc7-46b9-835c-ac973d281e90",
   "metadata": {},
   "outputs": [],
   "source": []
  },
  {
   "cell_type": "code",
   "execution_count": null,
   "id": "a76b5d0c-7ca7-4016-bf53-48b0c03897c0",
   "metadata": {},
   "outputs": [],
   "source": []
  },
  {
   "cell_type": "code",
   "execution_count": null,
   "id": "3f361150-2573-4f11-b0bd-cbc9aff1635d",
   "metadata": {},
   "outputs": [],
   "source": []
  }
 ],
 "metadata": {
  "kernelspec": {
   "display_name": "LSST",
   "language": "python",
   "name": "lsst"
  },
  "language_info": {
   "codemirror_mode": {
    "name": "ipython",
    "version": 3
   },
   "file_extension": ".py",
   "mimetype": "text/x-python",
   "name": "python",
   "nbconvert_exporter": "python",
   "pygments_lexer": "ipython3",
   "version": "3.11.7"
  }
 },
 "nbformat": 4,
 "nbformat_minor": 5
}
