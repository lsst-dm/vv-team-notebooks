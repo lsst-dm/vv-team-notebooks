{
 "cells": [
  {
   "cell_type": "markdown",
   "id": "b3669b84-3ad7-4aea-be85-92bb46d8d914",
   "metadata": {},
   "source": [
    "Nightly Validation Pipeline Errors for night of {{ params.day_obs }}\n",
    "====="
   ]
  },
  {
   "cell_type": "code",
   "execution_count": null,
   "id": "9f415fb2-9873-41a5-8735-0596517e8b26",
   "metadata": {},
   "outputs": [],
   "source": [
    "day_obs = \"2024-06-18\"\n",
    "instrument = \"LSSTComCamSim\""
   ]
  },
  {
   "cell_type": "code",
   "execution_count": null,
   "id": "27ce894e-7a5b-44fa-9163-fe4ef6366bfb",
   "metadata": {},
   "outputs": [],
   "source": [
    "if instrument == \"LATISS\":\n",
    "    butler_alias = \"/repo/embargo\"\n",
    "else:\n",
    "    butler_alias = \"embargo_or4\"\n",
    "\n",
    "day_obs_int = int(day_obs.replace('-',''))"
   ]
  },
  {
   "cell_type": "code",
   "execution_count": null,
   "id": "3678de1f-cdc5-4842-941d-b03f0f06630a",
   "metadata": {},
   "outputs": [],
   "source": [
    "import lsst.daf.butler as dafButler\n",
    "from lsst.daf.butler import DimensionNameError\n",
    "from lsst.pipe.base import Pipeline\n",
    "import tabulate\n",
    "from dataclasses import dataclass\n",
    "\n",
    "@dataclass\n",
    "class error_summary:\n",
    "    visit: int\n",
    "    detector: int\n",
    "    error_messages: list\n",
    "\n",
    "b = dafButler.Butler(butler_alias, collections=f\"{instrument}/nightlyValidation\")"
   ]
  },
  {
   "cell_type": "code",
   "execution_count": null,
   "id": "f3f97f97-b7b2-4e78-9ab8-893d778dcba9",
   "metadata": {},
   "outputs": [],
   "source": [
    "log_visit_detector = set([(x.dataId['exposure'], x.dataId['detector']) for x in b.registry.queryDatasets(\"isr_log\", where=f\"day_obs = {day_obs_int}\")])\n",
    "print(\"Number of ISR records in butler: {:d}\".format(len(log_visit_detector)))\n",
    "\n",
    "isr_visit_detector = set([(x.dataId['exposure'], x.dataId['detector']) for x in b.registry.queryDatasets(\"postISRCCD\", where=f\"day_obs = {day_obs_int}\")])\n",
    "print(\"Number of successful ISR results: {:d}\".format(len(isr_visit_detector)))\n",
    "\n",
    "pvi_visit_detector = set([(x.dataId['visit'], x.dataId['detector']) for x in b.registry.queryDatasets(\"calexp\", where=f\"day_obs = {day_obs_int}\")])\n",
    "print(\"Number of successful processCcd results: {:d}\".format(len(pvi_visit_detector)))\n",
    "\n",
    "missing_pvis = set(log_visit_detector - pvi_visit_detector)\n",
    "missing_visits = [x[0] for x in missing_pvis]\n",
    "print(\"Number of unsuccessful processCcd attempts (no resulting calexp): {:d}\".format(len(missing_pvis)))\n"
   ]
  },
  {
   "cell_type": "code",
   "execution_count": null,
   "id": "32f001bc-3a06-4cd0-a2f5-6135900c30a0",
   "metadata": {},
   "outputs": [],
   "source": [
    "def make_error_summaries(log_dataset_types_exposure, log_dataset_types_visit, data_ids):\n",
    "    error_summaries = []\n",
    "    for visit, detector in data_ids:\n",
    "    \n",
    "        visit_errors = []\n",
    "        \n",
    "        for ds_types in log_dataset_types_exposure:\n",
    "            log_messages = b.get(ds_types, dataId={\"instrument\": instrument, \"exposure\": visit, \"detector\": detector})\n",
    "            isr_errors = [msg for msg in log_messages if msg.levelno > 30]\n",
    "            visit_errors.extend(isr_errors)\n",
    "        \n",
    "        for ds_types in log_dataset_types_visit:\n",
    "            try:\n",
    "                log_messages = b.get(ds_types, dataId={\"instrument\": instrument, \"visit\": visit, \"detector\": detector})\n",
    "            except DimensionNameError: # Visit records can be missing due to corrupted headers.\n",
    "                errors = []\n",
    "            else:\n",
    "                errors = [msg for msg in log_messages if msg.levelno > 30]\n",
    "            finally:\n",
    "                visit_errors.extend(errors)\n",
    "    \n",
    "        error_summaries.append(error_summary(visit=visit, detector=detector, error_messages=visit_errors))\n",
    "    return error_summaries"
   ]
  },
  {
   "cell_type": "code",
   "execution_count": null,
   "id": "5976bb71-4f42-43a5-bb48-ebaa116b617d",
   "metadata": {},
   "outputs": [],
   "source": [
    "def make_url_from_visit(visit):\n",
    "    s = str(visit)\n",
    "    day_string = f\"{s[0:4]}-{s[4:6]}-{s[6:8]}\"\n",
    "    counter = int(s[8:])\n",
    "    if instrument == \"LATISS\":\n",
    "        instrument_url = \"auxtel\"\n",
    "    else:\n",
    "        instrument_url = \"comcam_sim\"\n",
    "    #url = f\"https://usdf-rsp.slac.stanford.edu/rubintv/summit/auxtel/monitor/event/{day_string:s}/{counter:d}\"\n",
    "    # Example: https://usdf-rsp.slac.stanford.edu/rubintv/summit-usdf/comcam_sim/event?key=comcam_sim/2024-06-21/calexp_mosaic/000011/comcam_sim_calexp_mosaic_2024-06-21_000011.png\n",
    "    url = f\"https://usdf-rsp.slac.stanford.edu/rubintv/summit-usdf/{instrument_url:s}/event?key={instrument_url:s}/{date_string:s}/calexp_mosaic/{counter:06d}/comcam_sim_calexp_mosaic_{date_string:s}_{counter:06d}.png\"\n",
    "    \n",
    "    return url"
   ]
  },
  {
   "cell_type": "code",
   "execution_count": null,
   "id": "e40d2f33-8db0-457b-8d74-7609b216ba22",
   "metadata": {},
   "outputs": [],
   "source": [
    "pipeline = Pipeline.from_uri(f\"$DRP_PIPE_DIR/pipelines/{instrument}/nightly-validation.yaml#step1\")\n",
    "pipeline_graph = pipeline.to_graph(registry=b.registry)"
   ]
  },
  {
   "cell_type": "code",
   "execution_count": null,
   "id": "7bb1cabe-4710-4c1d-aee9-b624f7d17c35",
   "metadata": {},
   "outputs": [],
   "source": [
    "last_records = log_visit_detector\n",
    "table_contents = []\n",
    "last_task = \"isr\"\n",
    "for task in pipeline_graph.tasks:\n",
    "    if task in (\"isr\", \"getRegionTimeFromVisit\"):\n",
    "        continue\n",
    "    records = set([(x.dataId['visit'], x.dataId['detector']) for x in b.registry.queryDatasets(task+\"_log\")])\n",
    "    error_summaries = make_error_summaries([\"isr_log\"], [last_task+\"_log\"], set(last_records) - set(records))\n",
    "    for e in error_summaries: \n",
    "        msg = e.error_messages[0].message[:1000] if e.error_messages else f\"No {task}; last {last_task}\"\n",
    "        table_contents.append((e.visit, e.detector, \"<a href=\\\"\" + make_url_from_visit(e.visit) + \"\\\" target=\\\"_blank\\\">img</a>\", msg)) \n",
    "        \n",
    "    print(f\"  {len(records):d} {task} records\")\n",
    "    last_task = task\n",
    "    last_records = records"
   ]
  },
  {
   "cell_type": "code",
   "execution_count": null,
   "id": "d5ea2433-c3ca-407d-a5ba-bca4a08fd6fe",
   "metadata": {},
   "outputs": [],
   "source": [
    "table = tabulate.tabulate(table_contents, tablefmt='unsafehtml', headers=(\"Visit\", \"Det\", \"Img\", \"Error Message\"))\n",
    "table"
   ]
  },
  {
   "cell_type": "code",
   "execution_count": null,
   "id": "75e52e4d-8d6c-44ea-9bc1-2086a79d901a",
   "metadata": {},
   "outputs": [],
   "source": []
  }
 ],
 "metadata": {
  "kernelspec": {
   "display_name": "LSST",
   "language": "python",
   "name": "lsst"
  },
  "language_info": {
   "codemirror_mode": {
    "name": "ipython",
    "version": 3
   },
   "file_extension": ".py",
   "mimetype": "text/x-python",
   "name": "python",
   "nbconvert_exporter": "python",
   "pygments_lexer": "ipython3",
   "version": "3.11.7"
  }
 },
 "nbformat": 4,
 "nbformat_minor": 5
}
