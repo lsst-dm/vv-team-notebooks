{
 "cells": [
  {
   "cell_type": "code",
   "execution_count": 1,
   "id": "886e18ac-8709-4ab7-bf49-3a4dfa30b53e",
   "metadata": {
    "execution": {
     "iopub.execute_input": "2024-06-24T20:39:46.955766Z",
     "iopub.status.busy": "2024-06-24T20:39:46.955272Z",
     "iopub.status.idle": "2024-06-24T20:39:46.959503Z",
     "shell.execute_reply": "2024-06-24T20:39:46.959226Z",
     "shell.execute_reply.started": "2024-06-24T20:39:46.955752Z"
    }
   },
   "outputs": [],
   "source": [
    "tract = 9638\n",
    "band = 'i'\n",
    "query=f\"skymap='ops_rehersal_prep_2k_v1' AND tract={tract} AND band='{band}'\""
   ]
  },
  {
   "cell_type": "code",
   "execution_count": 2,
   "id": "f1b22e88-bf14-4ccd-9056-2eb7003e935b",
   "metadata": {
    "execution": {
     "iopub.execute_input": "2024-06-24T20:39:48.338024Z",
     "iopub.status.busy": "2024-06-24T20:39:48.337886Z",
     "iopub.status.idle": "2024-06-24T20:39:48.340172Z",
     "shell.execute_reply": "2024-06-24T20:39:48.339719Z",
     "shell.execute_reply.started": "2024-06-24T20:39:48.338010Z"
    }
   },
   "outputs": [],
   "source": [
    "# As part of Step 3:\n",
    "#- analyzeMatchedVisitCore\n",
    "#- analyzeObjectTableCore: Checked\n",
    "#- analyzeObjectTableExtended: Checked\n",
    "#- catalogMatchTract\n",
    "#- photometricCatalogMatch\n",
    "#- photometricRefCatObjectTract: Checked\n",
    "#- plotPropertyMapTract: Checked\n",
    "#- refCatObjectTract\n",
    "#- validateObjectTableCore\n",
    "\n",
    "# As part of Step 7:\n",
    "#- consolidateHealSparsePropertyMaps\n",
    "#- makeMetricTableMatchedVisitCore\n",
    "#- analyzeObjectTableSurveyCore: Checked\n",
    "#- makeMetricTableObjectTableCore\n",
    "#- matchedVisitCoreWholeSkyPlot\n",
    "#- objectTableCoreWholeSkyPlot"
   ]
  },
  {
   "cell_type": "code",
   "execution_count": 3,
   "id": "287a97b5-5ca6-4123-b4b2-ac34afc33586",
   "metadata": {
    "execution": {
     "iopub.execute_input": "2024-06-24T20:39:49.347568Z",
     "iopub.status.busy": "2024-06-24T20:39:49.347021Z",
     "iopub.status.idle": "2024-06-24T20:39:49.838455Z",
     "shell.execute_reply": "2024-06-24T20:39:49.837960Z",
     "shell.execute_reply.started": "2024-06-24T20:39:49.347548Z"
    }
   },
   "outputs": [],
   "source": [
    "import lsst.daf.butler as dafButler\n",
    "from IPython.display import Image, display\n",
    "import ipywidgets as widgets"
   ]
  },
  {
   "cell_type": "code",
   "execution_count": 4,
   "id": "406b55dc-2142-45e4-a6ce-a84634b6e956",
   "metadata": {
    "execution": {
     "iopub.execute_input": "2024-06-24T20:39:50.865990Z",
     "iopub.status.busy": "2024-06-24T20:39:50.865269Z",
     "iopub.status.idle": "2024-06-24T20:39:50.869682Z",
     "shell.execute_reply": "2024-06-24T20:39:50.869305Z",
     "shell.execute_reply.started": "2024-06-24T20:39:50.865974Z"
    }
   },
   "outputs": [],
   "source": [
    "def buildPlotGrid(butler, plotNames, query):\n",
    "    row = []\n",
    "    rows = []\n",
    "    plotCount = 0\n",
    "    for i, plotName in enumerate(plotNames):\n",
    "\n",
    "        ref = list(butler.registry.queryDatasets(plotName, where=query))\n",
    "        try:\n",
    "            uri = butler.getURI(ref[0])\n",
    "            plotCount += 1\n",
    "        except:\n",
    "            print('Cannot get {}'.format(plotName))\n",
    "            pass\n",
    "        wi1 = widgets.Image(value=uri.read(), format='png', width=600)\n",
    "        row.append(wi1)\n",
    "        if i%2 == 1:\n",
    "            rows.append(widgets.HBox(row))\n",
    "            row = []\n",
    "    # Need two columns per row\n",
    "    # Add the last plot again if there's an odd number of plots:\n",
    "    if plotCount%2 == 1:\n",
    "        row.append(wi1)\n",
    "        rows.append(widgets.HBox(row))\n",
    "\n",
    "    return(widgets.VBox(rows))"
   ]
  },
  {
   "cell_type": "code",
   "execution_count": 5,
   "id": "bf5f327c-202e-40a4-84be-616755a42a86",
   "metadata": {
    "execution": {
     "iopub.execute_input": "2024-06-24T20:39:52.121288Z",
     "iopub.status.busy": "2024-06-24T20:39:52.120635Z",
     "iopub.status.idle": "2024-06-24T20:39:52.616384Z",
     "shell.execute_reply": "2024-06-24T20:39:52.615956Z",
     "shell.execute_reply.started": "2024-06-24T20:39:52.121273Z"
    }
   },
   "outputs": [],
   "source": [
    "repo = '/repo/ops-rehearsal-3-prep'\n",
    "collections = 'u/mullaney/OR4Prep'\n",
    "butler = dafButler.Butler(repo, collections=collections)\n",
    "registry = butler.registry"
   ]
  },
  {
   "cell_type": "code",
   "execution_count": 6,
   "id": "54fe5ac7-54d5-4d47-bcc1-887dffb40059",
   "metadata": {
    "execution": {
     "iopub.execute_input": "2024-06-24T20:39:54.107385Z",
     "iopub.status.busy": "2024-06-24T20:39:54.106704Z",
     "iopub.status.idle": "2024-06-24T20:39:54.318353Z",
     "shell.execute_reply": "2024-06-24T20:39:54.317946Z",
     "shell.execute_reply.started": "2024-06-24T20:39:54.107367Z"
    }
   },
   "outputs": [
    {
     "data": {
      "application/vnd.jupyter.widget-view+json": {
       "model_id": "5093b5be81554198af653657c46058ec",
       "version_major": 2,
       "version_minor": 0
      },
      "text/plain": [
       "VBox(children=(HBox(children=(Image(value=b'\\x89PNG\\r\\n\\x1a\\n\\x00\\x00\\x00\\rIHDR\\x00\\x00\\x06@\\x00\\x00\\x06@\\x08\\…"
      ]
     },
     "metadata": {},
     "output_type": "display_data"
    }
   ],
   "source": [
    "plotNames = [\n",
    "    'propertyMapTract_HealSparseMap_deepCoadd_exposure_time_sum_PropertyMapPlot',\n",
    "    'propertyMapTract_HealSparseMap_deepCoadd_sky_noise_weighted_mean_PropertyMapPlot',\n",
    "    'propertyMapTract_HealSparseMap_deepCoadd_psf_size_weighted_mean_PropertyMapPlot',\n",
    "    'propertyMapTract_HealSparseMap_deepCoadd_sky_background_weighted_mean_PropertyMapPlot',\n",
    "]\n",
    "grid = buildPlotGrid(butler, plotNames, query)\n",
    "display(grid)"
   ]
  },
  {
   "cell_type": "code",
   "execution_count": 7,
   "id": "c4c4c866-0024-41d9-a5b8-6b25f52810bc",
   "metadata": {
    "execution": {
     "iopub.execute_input": "2024-06-24T20:40:03.793069Z",
     "iopub.status.busy": "2024-06-24T20:40:03.792492Z",
     "iopub.status.idle": "2024-06-24T20:40:04.047252Z",
     "shell.execute_reply": "2024-06-24T20:40:04.046874Z",
     "shell.execute_reply.started": "2024-06-24T20:40:03.793055Z"
    }
   },
   "outputs": [
    {
     "data": {
      "application/vnd.jupyter.widget-view+json": {
       "model_id": "3d9076b9f66d4fd58dc9d07471e3cf30",
       "version_major": 2,
       "version_minor": 0
      },
      "text/plain": [
       "VBox(children=(HBox(children=(Image(value=b'\\x89PNG\\r\\n\\x1a\\n\\x00\\x00\\x00\\rIHDR\\x00\\x00\\x07\\x80\\x00\\x00\\x05\\xa…"
      ]
     },
     "metadata": {},
     "output_type": "display_data"
    }
   ],
   "source": [
    "# Filename:\n",
    "# {connections.outputName}_{band}_{atools.name}_{PlotType}\n",
    "plotNames = [\n",
    "    f'objectTableCore_{band}_nInputImage_SkyPlot', #Needs to be changed to f'objectTableCore_{band}_coaddCount_SkyPlot' for OR4\n",
    "    f'objectTableCore_{band}_skyObjectSky_SkyPlot',\n",
    "    f'objectTableCore_{band}_skyObjectFlux_HistPlot',\n",
    "    f'objectTableCore_{band}_e1Diff_ScatterPlotWithTwoHists',\n",
    "    f'objectTableCore_{band}_e2Diff_ScatterPlotWithTwoHists',\n",
    "    f'objectTableCore_{band}_shapeSizeFractionalDiff_ScatterPlotWithTwoHists',\n",
    "    f'objectTableCore_{band}_psfCModelScatter_ScatterPlotWithTwoHists',\n",
    "]\n",
    "grid = buildPlotGrid(butler, plotNames, query)\n",
    "display(grid)"
   ]
  },
  {
   "cell_type": "code",
   "execution_count": 8,
   "id": "b12b9ef2-c2c3-4196-8b79-b521f6cdf330",
   "metadata": {
    "execution": {
     "iopub.execute_input": "2024-06-24T20:40:04.251240Z",
     "iopub.status.busy": "2024-06-24T20:40:04.251092Z",
     "iopub.status.idle": "2024-06-24T20:40:04.310481Z",
     "shell.execute_reply": "2024-06-24T20:40:04.310149Z",
     "shell.execute_reply.started": "2024-06-24T20:40:04.251228Z"
    }
   },
   "outputs": [
    {
     "data": {
      "application/vnd.jupyter.widget-view+json": {
       "model_id": "3c3d45b21a3d4f58ad711c151efb12da",
       "version_major": 2,
       "version_minor": 0
      },
      "text/plain": [
       "VBox(children=(HBox(children=(Image(value=b'\\x89PNG\\r\\n\\x1a\\n\\x00\\x00\\x00\\rIHDR\\x00\\x00\\x07\\x80\\x00\\x00\\x05\\xa…"
      ]
     },
     "metadata": {},
     "output_type": "display_data"
    }
   ],
   "source": [
    "plotNames = [\n",
    "    f'objectTableCore_wPerpCModel_ColorColorFitPlot',\n",
    "    f'objectTableCore_xPerpCModel_ColorColorFitPlot',\n",
    "]\n",
    "grid = buildPlotGrid(butler, plotNames, query)\n",
    "display(grid)"
   ]
  },
  {
   "cell_type": "code",
   "execution_count": 9,
   "id": "ea176b7b-3750-413f-8aa6-4f5cc2bb45ea",
   "metadata": {
    "execution": {
     "iopub.execute_input": "2024-06-24T20:40:04.446835Z",
     "iopub.status.busy": "2024-06-24T20:40:04.446388Z",
     "iopub.status.idle": "2024-06-24T20:40:04.505893Z",
     "shell.execute_reply": "2024-06-24T20:40:04.505530Z",
     "shell.execute_reply.started": "2024-06-24T20:40:04.446821Z"
    }
   },
   "outputs": [
    {
     "data": {
      "application/vnd.jupyter.widget-view+json": {
       "model_id": "940c48cccd484d40804ce0714c236a45",
       "version_major": 2,
       "version_minor": 0
      },
      "text/plain": [
       "VBox(children=(HBox(children=(Image(value=b'\\x89PNG\\r\\n\\x1a\\n\\x00\\x00\\x00\\rIHDR\\x00\\x00\\x07\\x80\\x00\\x00\\x05\\xa…"
      ]
     },
     "metadata": {},
     "output_type": "display_data"
    }
   ],
   "source": [
    "plotNames = [\n",
    "    f'objectTableExtended_{band}_psfCModelSky_SkyPlot',\n",
    "    f'objectTableExtended_{band}_ap12PsfSky_SkyPlot',\n",
    "]\n",
    "grid = buildPlotGrid(butler, plotNames, query)\n",
    "display(grid)"
   ]
  },
  {
   "cell_type": "code",
   "execution_count": 10,
   "id": "6a50e550-92bd-4101-86b6-1bd353c50da7",
   "metadata": {
    "execution": {
     "iopub.execute_input": "2024-06-24T20:40:04.590982Z",
     "iopub.status.busy": "2024-06-24T20:40:04.590504Z",
     "iopub.status.idle": "2024-06-24T20:40:04.707805Z",
     "shell.execute_reply": "2024-06-24T20:40:04.707457Z",
     "shell.execute_reply.started": "2024-06-24T20:40:04.590968Z"
    }
   },
   "outputs": [
    {
     "data": {
      "application/vnd.jupyter.widget-view+json": {
       "model_id": "9504f1b8326445279c1fe99ed909f33b",
       "version_major": 2,
       "version_minor": 0
      },
      "text/plain": [
       "VBox(children=(HBox(children=(Image(value=b'\\x89PNG\\r\\n\\x1a\\n\\x00\\x00\\x00\\rIHDR\\x00\\x00\\x07\\x80\\x00\\x00\\x05\\xa…"
      ]
     },
     "metadata": {},
     "output_type": "display_data"
    }
   ],
   "source": [
    "plotNames = [\n",
    "    f'objectTable_tract_ps1_pv3_3pi_20170110_match_{band}_targetRefCatDeltaPsfScatterPlot_ScatterPlotWithTwoHists',\n",
    "    f'objectTable_tract_ps1_pv3_3pi_20170110_match_{band}_targetRefCatDeltaCModelSkyPlot_SkyPlot',\n",
    "    f'objectTable_tract_ps1_pv3_3pi_20170110_match_{band}_targetRefCatDeltaCModelScatterPlot_ScatterPlotWithTwoHists',\n",
    "    f'objectTable_tract_ps1_pv3_3pi_20170110_match_{band}_targetRefCatDeltaPsfSkyPlot_SkyPlot',\n",
    "]\n",
    "grid = buildPlotGrid(butler, plotNames, query)\n",
    "display(grid)"
   ]
  },
  {
   "cell_type": "code",
   "execution_count": 11,
   "id": "d7df988d-4021-4dee-a8b1-0786025d2057",
   "metadata": {
    "execution": {
     "iopub.execute_input": "2024-06-24T20:40:04.749439Z",
     "iopub.status.busy": "2024-06-24T20:40:04.748951Z",
     "iopub.status.idle": "2024-06-24T20:40:05.021542Z",
     "shell.execute_reply": "2024-06-24T20:40:05.021171Z",
     "shell.execute_reply.started": "2024-06-24T20:40:04.749423Z"
    }
   },
   "outputs": [
    {
     "data": {
      "application/vnd.jupyter.widget-view+json": {
       "model_id": "c5cdb00959bb496396f63145ead876cf",
       "version_major": 2,
       "version_minor": 0
      },
      "text/plain": [
       "VBox(children=(HBox(children=(Image(value=b'\\x89PNG\\r\\n\\x1a\\n\\x00\\x00\\x00\\rIHDR\\x00\\x00\\x07\\x80\\x00\\x00\\x05\\xa…"
      ]
     },
     "metadata": {},
     "output_type": "display_data"
    }
   ],
   "source": [
    "plotNames = [\n",
    "    f'objectTable_tract_gaia_dr3_20230707_match_{band}_astromDiffDecSkyPlot_SkyPlot',\n",
    "    f'objectTable_tract_gaia_dr3_20230707_match_{band}_astromDiffRAScatterPlot_ScatterPlotWithTwoHists',\n",
    "    f'objectTable_tract_gaia_dr3_20230707_match_{band}_astromDiffDecScatterPlot_ScatterPlotWithTwoHists',\n",
    "    f'objectTable_tract_gaia_dr3_20230707_match_{band}_astromDiffRASkyPlot_SkyPlot',\n",
    "]\n",
    "grid = buildPlotGrid(butler, plotNames, query)\n",
    "display(grid)"
   ]
  },
  {
   "cell_type": "code",
   "execution_count": 12,
   "id": "b5595ff6-7446-46a2-b656-19d3d366531c",
   "metadata": {
    "execution": {
     "iopub.execute_input": "2024-06-24T20:40:05.106854Z",
     "iopub.status.busy": "2024-06-24T20:40:05.106312Z",
     "iopub.status.idle": "2024-06-24T20:40:05.259333Z",
     "shell.execute_reply": "2024-06-24T20:40:05.258944Z",
     "shell.execute_reply.started": "2024-06-24T20:40:05.106839Z"
    }
   },
   "outputs": [
    {
     "data": {
      "application/vnd.jupyter.widget-view+json": {
       "model_id": "9b78055e04df453a973510725f594892",
       "version_major": 2,
       "version_minor": 0
      },
      "text/plain": [
       "VBox(children=(HBox(children=(Image(value=b'\\x89PNG\\r\\n\\x1a\\n\\x00\\x00\\x00\\rIHDR\\x00\\x00\\x07\\x80\\x00\\x00\\x05\\xa…"
      ]
     },
     "metadata": {},
     "output_type": "display_data"
    }
   ],
   "source": [
    "# These plots only currently exist for i-band\n",
    "plotNames = [\n",
    "    'objectTableSurvey_i_rhoStatistics_rho1_RhoStatisticsPlot',\n",
    "    'objectTableSurvey_i_rhoStatistics_rho4_RhoStatisticsPlot',\n",
    "    'objectTableSurvey_i_rhoStatistics_rho5_RhoStatisticsPlot',\n",
    "    'objectTableSurvey_i_rhoStatistics_rho2_RhoStatisticsPlot',\n",
    "]\n",
    "grid = buildPlotGrid(butler, plotNames, query)\n",
    "display(grid)"
   ]
  },
  {
   "cell_type": "code",
   "execution_count": null,
   "id": "5182db02-6fd3-4437-8d18-2e3bd44e0411",
   "metadata": {},
   "outputs": [],
   "source": []
  }
 ],
 "metadata": {
  "kernelspec": {
   "display_name": "LSST",
   "language": "python",
   "name": "lsst"
  },
  "language_info": {
   "codemirror_mode": {
    "name": "ipython",
    "version": 3
   },
   "file_extension": ".py",
   "mimetype": "text/x-python",
   "name": "python",
   "nbconvert_exporter": "python",
   "pygments_lexer": "ipython3",
   "version": "3.11.7"
  }
 },
 "nbformat": 4,
 "nbformat_minor": 5
}
