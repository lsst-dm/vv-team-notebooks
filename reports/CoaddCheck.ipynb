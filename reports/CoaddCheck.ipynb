{
 "cells": [
  {
   "cell_type": "code",
   "execution_count": 17,
   "id": "886e18ac-8709-4ab7-bf49-3a4dfa30b53e",
   "metadata": {
    "execution": {
     "iopub.execute_input": "2024-06-27T17:06:04.983227Z",
     "iopub.status.busy": "2024-06-27T17:06:04.982956Z",
     "iopub.status.idle": "2024-06-27T17:06:04.985754Z",
     "shell.execute_reply": "2024-06-27T17:06:04.985406Z",
     "shell.execute_reply.started": "2024-06-27T17:06:04.983211Z"
    }
   },
   "outputs": [],
   "source": [
    "tract = 9638\n",
    "band = 'i'\n",
    "query=f\"skymap='ops_rehersal_prep_2k_v1' AND tract={tract} AND band='{band}'\""
   ]
  },
  {
   "cell_type": "code",
   "execution_count": 18,
   "id": "f1b22e88-bf14-4ccd-9056-2eb7003e935b",
   "metadata": {
    "execution": {
     "iopub.execute_input": "2024-06-27T17:06:05.150484Z",
     "iopub.status.busy": "2024-06-27T17:06:05.150352Z",
     "iopub.status.idle": "2024-06-27T17:06:05.152382Z",
     "shell.execute_reply": "2024-06-27T17:06:05.152027Z",
     "shell.execute_reply.started": "2024-06-27T17:06:05.150472Z"
    }
   },
   "outputs": [],
   "source": [
    "# As part of Step 3:\n",
    "#- analyzeMatchedVisitCore\n",
    "#- analyzeObjectTableCore: Checked\n",
    "#- analyzeObjectTableExtended: Checked\n",
    "#- catalogMatchTract\n",
    "#- photometricCatalogMatch\n",
    "#- photometricRefCatObjectTract: Checked\n",
    "#- plotPropertyMapTract: Checked\n",
    "#- refCatObjectTract\n",
    "#- validateObjectTableCore\n",
    "\n",
    "# As part of Step 7:\n",
    "#- consolidateHealSparsePropertyMaps\n",
    "#- makeMetricTableMatchedVisitCore\n",
    "#- analyzeObjectTableSurveyCore: Checked\n",
    "#- makeMetricTableObjectTableCore\n",
    "#- matchedVisitCoreWholeSkyPlot\n",
    "#- objectTableCoreWholeSkyPlot"
   ]
  },
  {
   "cell_type": "code",
   "execution_count": 19,
   "id": "287a97b5-5ca6-4123-b4b2-ac34afc33586",
   "metadata": {
    "execution": {
     "iopub.execute_input": "2024-06-27T17:06:05.273571Z",
     "iopub.status.busy": "2024-06-27T17:06:05.273197Z",
     "iopub.status.idle": "2024-06-27T17:06:05.275601Z",
     "shell.execute_reply": "2024-06-27T17:06:05.275240Z",
     "shell.execute_reply.started": "2024-06-27T17:06:05.273555Z"
    }
   },
   "outputs": [],
   "source": [
    "import lsst.daf.butler as dafButler\n",
    "from IPython.display import Image, display\n",
    "import ipywidgets as widgets"
   ]
  },
  {
   "cell_type": "code",
   "execution_count": 20,
   "id": "406b55dc-2142-45e4-a6ce-a84634b6e956",
   "metadata": {
    "execution": {
     "iopub.execute_input": "2024-06-27T17:06:05.428517Z",
     "iopub.status.busy": "2024-06-27T17:06:05.428236Z",
     "iopub.status.idle": "2024-06-27T17:06:05.432060Z",
     "shell.execute_reply": "2024-06-27T17:06:05.431696Z",
     "shell.execute_reply.started": "2024-06-27T17:06:05.428503Z"
    }
   },
   "outputs": [],
   "source": [
    "def buildPlotGrid(butler, plotNames, query):\n",
    "    row = []\n",
    "    rows = []\n",
    "    plotCount = 0\n",
    "    for i, plotName in enumerate(plotNames):\n",
    "\n",
    "        ref = list(butler.registry.queryDatasets(plotName, where=query))\n",
    "        try:\n",
    "            uri = butler.getURI(ref[0])\n",
    "            plotCount += 1\n",
    "        except:\n",
    "            print('Cannot get {}'.format(plotName))\n",
    "            pass\n",
    "        wi1 = widgets.Image(value=uri.read(), format='png', width=600)\n",
    "        row.append(wi1)\n",
    "        if i%2 == 1:\n",
    "            rows.append(widgets.HBox(row))\n",
    "            row = []\n",
    "    # Need two columns per row\n",
    "    # Add the last plot again if there's an odd number of plots:\n",
    "    if plotCount%2 == 1:\n",
    "        row.append(wi1)\n",
    "        rows.append(widgets.HBox(row))\n",
    "\n",
    "    return(widgets.VBox(rows))"
   ]
  },
  {
   "cell_type": "code",
   "execution_count": 21,
   "id": "bf5f327c-202e-40a4-84be-616755a42a86",
   "metadata": {
    "execution": {
     "iopub.execute_input": "2024-06-27T17:06:05.629496Z",
     "iopub.status.busy": "2024-06-27T17:06:05.629376Z",
     "iopub.status.idle": "2024-06-27T17:06:05.791852Z",
     "shell.execute_reply": "2024-06-27T17:06:05.791318Z",
     "shell.execute_reply.started": "2024-06-27T17:06:05.629485Z"
    }
   },
   "outputs": [],
   "source": [
    "repo = 'embargo_or4'\n",
    "collections = 'LSSTComCamSim/runs/nightlyValidation/20240625/w_2024_25/DM-44966'\n",
    "butler = dafButler.Butler(repo, collections=collections)\n",
    "registry = butler.registry"
   ]
  },
  {
   "cell_type": "code",
   "execution_count": 22,
   "id": "54fe5ac7-54d5-4d47-bcc1-887dffb40059",
   "metadata": {
    "execution": {
     "iopub.execute_input": "2024-06-27T17:06:06.547627Z",
     "iopub.status.busy": "2024-06-27T17:06:06.547417Z",
     "iopub.status.idle": "2024-06-27T17:06:06.923852Z",
     "shell.execute_reply": "2024-06-27T17:06:06.923478Z",
     "shell.execute_reply.started": "2024-06-27T17:06:06.547612Z"
    }
   },
   "outputs": [
    {
     "data": {
      "application/vnd.jupyter.widget-view+json": {
       "model_id": "0c5cd4375b014202a5c138b4ebfc1341",
       "version_major": 2,
       "version_minor": 0
      },
      "text/plain": [
       "VBox(children=(HBox(children=(Image(value=b'\\x89PNG\\r\\n\\x1a\\n\\x00\\x00\\x00\\rIHDR\\x00\\x00\\x06@\\x00\\x00\\x06@\\x08\\…"
      ]
     },
     "metadata": {},
     "output_type": "display_data"
    }
   ],
   "source": [
    "plotNames = [\n",
    "    'propertyMapTract_HealSparseMap_deepCoadd_exposure_time_sum_PropertyMapPlot',\n",
    "    'propertyMapTract_HealSparseMap_deepCoadd_sky_noise_weighted_mean_PropertyMapPlot',\n",
    "    'propertyMapTract_HealSparseMap_deepCoadd_psf_size_weighted_mean_PropertyMapPlot',\n",
    "    'propertyMapTract_HealSparseMap_deepCoadd_sky_background_weighted_mean_PropertyMapPlot',\n",
    "]\n",
    "grid = buildPlotGrid(butler, plotNames, query)\n",
    "display(grid)"
   ]
  },
  {
   "cell_type": "code",
   "execution_count": 23,
   "id": "c4c4c866-0024-41d9-a5b8-6b25f52810bc",
   "metadata": {
    "execution": {
     "iopub.execute_input": "2024-06-27T17:06:07.118393Z",
     "iopub.status.busy": "2024-06-27T17:06:07.118171Z",
     "iopub.status.idle": "2024-06-27T17:06:07.362229Z",
     "shell.execute_reply": "2024-06-27T17:06:07.361847Z",
     "shell.execute_reply.started": "2024-06-27T17:06:07.118377Z"
    }
   },
   "outputs": [
    {
     "data": {
      "application/vnd.jupyter.widget-view+json": {
       "model_id": "a96f3e11d32741eabd9d73d42f3f8bd2",
       "version_major": 2,
       "version_minor": 0
      },
      "text/plain": [
       "VBox(children=(HBox(children=(Image(value=b'\\x89PNG\\r\\n\\x1a\\n\\x00\\x00\\x00\\rIHDR\\x00\\x00\\x07\\x80\\x00\\x00\\x05\\xa…"
      ]
     },
     "metadata": {},
     "output_type": "display_data"
    }
   ],
   "source": [
    "# Filename:\n",
    "# {connections.outputName}_{band}_{atools.name}_{PlotType}\n",
    "plotNames = [\n",
    "    f'objectTableCore_{band}_coaddInputCount_SkyPlot', #Needs to be changed to f'objectTableCore_{band}_coaddCount_SkyPlot' for OR4\n",
    "    f'objectTableCore_{band}_skyObjectSky_SkyPlot',\n",
    "    f'objectTableCore_{band}_skyObjectFlux_HistPlot',\n",
    "    f'objectTableCore_{band}_e1Diff_ScatterPlotWithTwoHists',\n",
    "    f'objectTableCore_{band}_e2Diff_ScatterPlotWithTwoHists',\n",
    "    f'objectTableCore_{band}_shapeSizeFractionalDiff_ScatterPlotWithTwoHists',\n",
    "    f'objectTableCore_{band}_psfCModelScatter_ScatterPlotWithTwoHists',\n",
    "]\n",
    "grid = buildPlotGrid(butler, plotNames, query)\n",
    "display(grid)"
   ]
  },
  {
   "cell_type": "code",
   "execution_count": 24,
   "id": "b12b9ef2-c2c3-4196-8b79-b521f6cdf330",
   "metadata": {
    "execution": {
     "iopub.execute_input": "2024-06-27T17:06:07.781098Z",
     "iopub.status.busy": "2024-06-27T17:06:07.780931Z",
     "iopub.status.idle": "2024-06-27T17:06:07.847467Z",
     "shell.execute_reply": "2024-06-27T17:06:07.847129Z",
     "shell.execute_reply.started": "2024-06-27T17:06:07.781085Z"
    }
   },
   "outputs": [
    {
     "data": {
      "application/vnd.jupyter.widget-view+json": {
       "model_id": "d076279f54a04b6186c87946c2736934",
       "version_major": 2,
       "version_minor": 0
      },
      "text/plain": [
       "VBox(children=(HBox(children=(Image(value=b'\\x89PNG\\r\\n\\x1a\\n\\x00\\x00\\x00\\rIHDR\\x00\\x00\\x03\\x00\\x00\\x00\\x02@\\x…"
      ]
     },
     "metadata": {},
     "output_type": "display_data"
    }
   ],
   "source": [
    "plotNames = [\n",
    "    f'objectTableCore_wPerpCModel_ColorColorFitPlot',\n",
    "    f'objectTableCore_xPerpCModel_ColorColorFitPlot',\n",
    "]\n",
    "grid = buildPlotGrid(butler, plotNames, query)\n",
    "display(grid)"
   ]
  },
  {
   "cell_type": "code",
   "execution_count": 25,
   "id": "ea176b7b-3750-413f-8aa6-4f5cc2bb45ea",
   "metadata": {
    "execution": {
     "iopub.execute_input": "2024-06-27T17:06:08.018120Z",
     "iopub.status.busy": "2024-06-27T17:06:08.017568Z",
     "iopub.status.idle": "2024-06-27T17:06:08.091402Z",
     "shell.execute_reply": "2024-06-27T17:06:08.091060Z",
     "shell.execute_reply.started": "2024-06-27T17:06:08.018105Z"
    }
   },
   "outputs": [
    {
     "data": {
      "application/vnd.jupyter.widget-view+json": {
       "model_id": "838b9384861648b8b69eb4fc81b46c6d",
       "version_major": 2,
       "version_minor": 0
      },
      "text/plain": [
       "VBox(children=(HBox(children=(Image(value=b'\\x89PNG\\r\\n\\x1a\\n\\x00\\x00\\x00\\rIHDR\\x00\\x00\\x07\\x80\\x00\\x00\\x05\\xa…"
      ]
     },
     "metadata": {},
     "output_type": "display_data"
    }
   ],
   "source": [
    "plotNames = [\n",
    "    f'objectTableExtended_{band}_psfCModelSky_SkyPlot',\n",
    "    f'objectTableExtended_{band}_ap12PsfSky_SkyPlot',\n",
    "]\n",
    "grid = buildPlotGrid(butler, plotNames, query)\n",
    "display(grid)"
   ]
  },
  {
   "cell_type": "code",
   "execution_count": 26,
   "id": "6a50e550-92bd-4101-86b6-1bd353c50da7",
   "metadata": {
    "execution": {
     "iopub.execute_input": "2024-06-27T17:06:08.270933Z",
     "iopub.status.busy": "2024-06-27T17:06:08.270793Z",
     "iopub.status.idle": "2024-06-27T17:06:08.412651Z",
     "shell.execute_reply": "2024-06-27T17:06:08.412263Z",
     "shell.execute_reply.started": "2024-06-27T17:06:08.270921Z"
    }
   },
   "outputs": [
    {
     "data": {
      "application/vnd.jupyter.widget-view+json": {
       "model_id": "6cf29c652aa744d6932092760332739a",
       "version_major": 2,
       "version_minor": 0
      },
      "text/plain": [
       "VBox(children=(HBox(children=(Image(value=b'\\x89PNG\\r\\n\\x1a\\n\\x00\\x00\\x00\\rIHDR\\x00\\x00\\x07\\x80\\x00\\x00\\x05\\xa…"
      ]
     },
     "metadata": {},
     "output_type": "display_data"
    }
   ],
   "source": [
    "plotNames = [\n",
    "    f'objectTable_tract_ps1_pv3_3pi_20170110_match_{band}_targetRefCatDeltaPsfScatterPlot_ScatterPlotWithTwoHists',\n",
    "    f'objectTable_tract_ps1_pv3_3pi_20170110_match_{band}_targetRefCatDeltaCModelSkyPlot_SkyPlot',\n",
    "    f'objectTable_tract_ps1_pv3_3pi_20170110_match_{band}_targetRefCatDeltaCModelScatterPlot_ScatterPlotWithTwoHists',\n",
    "    f'objectTable_tract_ps1_pv3_3pi_20170110_match_{band}_targetRefCatDeltaPsfSkyPlot_SkyPlot',\n",
    "]\n",
    "grid = buildPlotGrid(butler, plotNames, query)\n",
    "display(grid)"
   ]
  },
  {
   "cell_type": "code",
   "execution_count": 27,
   "id": "d7df988d-4021-4dee-a8b1-0786025d2057",
   "metadata": {
    "execution": {
     "iopub.execute_input": "2024-06-27T17:06:08.413508Z",
     "iopub.status.busy": "2024-06-27T17:06:08.413374Z",
     "iopub.status.idle": "2024-06-27T17:06:08.555369Z",
     "shell.execute_reply": "2024-06-27T17:06:08.555014Z",
     "shell.execute_reply.started": "2024-06-27T17:06:08.413495Z"
    }
   },
   "outputs": [
    {
     "data": {
      "application/vnd.jupyter.widget-view+json": {
       "model_id": "6da78020ddf94c059de81509803beb8b",
       "version_major": 2,
       "version_minor": 0
      },
      "text/plain": [
       "VBox(children=(HBox(children=(Image(value=b'\\x89PNG\\r\\n\\x1a\\n\\x00\\x00\\x00\\rIHDR\\x00\\x00\\x07\\x80\\x00\\x00\\x05\\xa…"
      ]
     },
     "metadata": {},
     "output_type": "display_data"
    }
   ],
   "source": [
    "plotNames = [\n",
    "    f'objectTable_tract_gaia_dr3_20230707_match_{band}_astromDiffDecSkyPlot_SkyPlot',\n",
    "    f'objectTable_tract_gaia_dr3_20230707_match_{band}_astromDiffRAScatterPlot_ScatterPlotWithTwoHists',\n",
    "    f'objectTable_tract_gaia_dr3_20230707_match_{band}_astromDiffDecScatterPlot_ScatterPlotWithTwoHists',\n",
    "    f'objectTable_tract_gaia_dr3_20230707_match_{band}_astromDiffRASkyPlot_SkyPlot',\n",
    "]\n",
    "grid = buildPlotGrid(butler, plotNames, query)\n",
    "display(grid)"
   ]
  },
  {
   "cell_type": "code",
   "execution_count": 28,
   "id": "b5595ff6-7446-46a2-b656-19d3d366531c",
   "metadata": {
    "execution": {
     "iopub.execute_input": "2024-06-27T17:06:08.591930Z",
     "iopub.status.busy": "2024-06-27T17:06:08.591794Z",
     "iopub.status.idle": "2024-06-27T17:06:08.725685Z",
     "shell.execute_reply": "2024-06-27T17:06:08.725339Z",
     "shell.execute_reply.started": "2024-06-27T17:06:08.591918Z"
    }
   },
   "outputs": [
    {
     "data": {
      "application/vnd.jupyter.widget-view+json": {
       "model_id": "042927c26c46446d9ad12b466982fe0a",
       "version_major": 2,
       "version_minor": 0
      },
      "text/plain": [
       "VBox(children=(HBox(children=(Image(value=b'\\x89PNG\\r\\n\\x1a\\n\\x00\\x00\\x00\\rIHDR\\x00\\x00\\x07\\x80\\x00\\x00\\x05\\xa…"
      ]
     },
     "metadata": {},
     "output_type": "display_data"
    }
   ],
   "source": [
    "# These plots only currently exist for i-band\n",
    "plotNames = [\n",
    "    'objectTableSurvey_i_rhoStatistics_rho1_RhoStatisticsPlot',\n",
    "    'objectTableSurvey_i_rhoStatistics_rho4_RhoStatisticsPlot',\n",
    "    'objectTableSurvey_i_rhoStatistics_rho5_RhoStatisticsPlot',\n",
    "    'objectTableSurvey_i_rhoStatistics_rho2_RhoStatisticsPlot',\n",
    "]\n",
    "grid = buildPlotGrid(butler, plotNames, query)\n",
    "display(grid)"
   ]
  },
  {
   "cell_type": "code",
   "execution_count": null,
   "id": "5182db02-6fd3-4437-8d18-2e3bd44e0411",
   "metadata": {},
   "outputs": [],
   "source": []
  }
 ],
 "metadata": {
  "kernelspec": {
   "display_name": "LSST",
   "language": "python",
   "name": "lsst"
  },
  "language_info": {
   "codemirror_mode": {
    "name": "ipython",
    "version": 3
   },
   "file_extension": ".py",
   "mimetype": "text/x-python",
   "name": "python",
   "nbconvert_exporter": "python",
   "pygments_lexer": "ipython3",
   "version": "3.11.7"
  }
 },
 "nbformat": 4,
 "nbformat_minor": 5
}
