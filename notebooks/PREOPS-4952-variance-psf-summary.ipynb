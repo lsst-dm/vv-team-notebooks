{
 "cells": [
  {
   "cell_type": "markdown",
   "id": "70d50f77-26c3-42aa-ae43-2d74ecbb426f",
   "metadata": {},
   "source": [
    "This notebook compares the ```depth (variance)``` and ```PSF``` of ```coadds (templates)``` and ```difference images``` from two butler collections.\n",
    "\n",
    "The idea behind is we expect to see more variance in the good template than deep template. But, the PSF is better for the good than deep. \n",
    "\n",
    "1. At which point can we say using one is better over using the other?\n",
    "\n",
    "incollection = LATISS/runs/AUXTEL_DRP_IMAGING_20230509_20231207/w_2023_49/PREOPS-4648\n",
    "\n",
    "```good seeing template :``` \n",
    "include only good seeing visits to create the template.\n",
    "\n",
    "collection_good = f\"u/jarugula/auxtel_goodseeing_template_subtract\"\n",
    "\n",
    "```deepcoadd template :```\n",
    "includes all the visits to create the template. This is done by adding the following code in the pipeline yaml \n",
    "\n",
    "```\n",
    "tasks:\n",
    "    selectGoodSeeingVisits:\n",
    "        class: lsst.pipe.tasks.selectImages.BestSeeingQuantileSelectVisitsTask\n",
    "        config:\n",
    "          connections.goodVisits: goodSeeingVisits\n",
    "          qMin: 0\n",
    "          qMax: 0.99\n",
    "    \n",
    "```\n",
    "collection_deep = f\"u/jarugula/auxtel_deep_template_subtract\"\n",
    "\n",
    "\n",
    "\n",
    "All the Plots and tables are in PREOPS-4952-depthcomparision.ipynb"
   ]
  },
  {
   "cell_type": "code",
   "execution_count": 1,
   "id": "4643e066-4c05-4bf5-afb3-2e6bb1574ddc",
   "metadata": {
    "execution": {
     "iopub.execute_input": "2024-05-14T19:32:49.890575Z",
     "iopub.status.busy": "2024-05-14T19:32:49.890453Z",
     "iopub.status.idle": "2024-05-14T19:32:52.229756Z",
     "shell.execute_reply": "2024-05-14T19:32:52.229351Z",
     "shell.execute_reply.started": "2024-05-14T19:32:49.890564Z"
    }
   },
   "outputs": [],
   "source": [
    "import numpy as np\n",
    "import matplotlib.pyplot as plt\n",
    "import pandas as pd\n",
    "import gc\n",
    "import random \n",
    "\n",
    "from astropy.coordinates import SkyCoord\n",
    "import astropy.units as u\n",
    "\n",
    "import lsst.daf.butler as dafButler\n",
    "from lsst.pex.config import Config\n",
    "from lsst.pipe.base import Instrument\n",
    "import lsst.afw.display as afwDisplay\n",
    "import lsst.display.astrowidgets\n",
    "\n",
    "afwDisplay.setDefaultBackend('astrowidgets')\n",
    "afwDisplay.setDefaultBackend('matplotlib')\n",
    "plt.style.use('tableau-colorblind10')\n",
    "%matplotlib inline"
   ]
  },
  {
   "cell_type": "markdown",
   "id": "56721aaf-59a9-4271-8119-fe52ea563e2e",
   "metadata": {},
   "source": [
    "### The two butler collections"
   ]
  },
  {
   "cell_type": "code",
   "execution_count": 2,
   "id": "228f1c90-37a6-4103-a73c-d1cce718e0aa",
   "metadata": {
    "execution": {
     "iopub.execute_input": "2024-05-14T19:32:53.175885Z",
     "iopub.status.busy": "2024-05-14T19:32:53.175629Z",
     "iopub.status.idle": "2024-05-14T19:32:53.968673Z",
     "shell.execute_reply": "2024-05-14T19:32:53.968214Z",
     "shell.execute_reply.started": "2024-05-14T19:32:53.175873Z"
    }
   },
   "outputs": [],
   "source": [
    "repo = '/sdf/group/rubin/repo/embargo'\n",
    "skymapName = 'latiss_v1'\n",
    "instrumentName = 'LATISS'\n",
    "\n",
    "collection_good = f\"u/{os.environ['USER']}/auxtel_goodseeing_template_subtract\"\n",
    "collection_deep = f\"u/{os.environ['USER']}/auxtel_deep_template_subtract\"\n",
    "\n",
    "butler_good = dafButler.Butler(repo, collections=collection_good, skymap=skymapName)\n",
    "butler_deep = dafButler.Butler(repo, collections=collection_deep, skymap=skymapName)\n",
    "\n",
    "registry_good = butler_good.registry\n",
    "registry_deep = butler_deep.registry"
   ]
  },
  {
   "cell_type": "markdown",
   "id": "121785d0-091d-40e0-9510-4e94891f76b0",
   "metadata": {},
   "source": [
    "### Selecting the dataids with varying number of visits going into making the good and deep templates\n",
    "\n",
    "There are more visits in the deep than good templates.\n",
    "\n",
    "Randomly select 10 visits from the vists going into making the coadds. We compare the variance and PSF of these visits"
   ]
  },
  {
   "cell_type": "code",
   "execution_count": 3,
   "id": "690d828c-eee7-47c0-8f58-f72bd90d60e1",
   "metadata": {
    "execution": {
     "iopub.execute_input": "2024-05-14T19:33:08.542326Z",
     "iopub.status.busy": "2024-05-14T19:33:08.542061Z",
     "iopub.status.idle": "2024-05-14T19:33:08.547007Z",
     "shell.execute_reply": "2024-05-14T19:33:08.546620Z",
     "shell.execute_reply.started": "2024-05-14T19:33:08.542313Z"
    }
   },
   "outputs": [],
   "source": [
    "dataid_template_list = [{'band': 'r', 'skymap': 'latiss_v1', 'tract': 8188, 'patch': 65},\n",
    "                        {'band': 'g', 'skymap': 'latiss_v1', 'tract': 10644, 'patch': 183},\n",
    "                        {'band': 'i', 'skymap': 'latiss_v1', 'tract': 3863, 'patch': 262},\n",
    "                        {'band': 'y', 'skymap': 'latiss_v1', 'tract': 383, 'patch': 359},\n",
    "                        {'band': 'y', 'skymap': 'latiss_v1', 'tract': 455, 'patch': 14},\n",
    "                        {'band': 'i', 'skymap': 'latiss_v1', 'tract': 5614, 'patch': 211},\n",
    "                        {'band': 'i', 'skymap': 'latiss_v1', 'tract': 382, 'patch': 342},\n",
    "                        {'band': 'r', 'skymap': 'latiss_v1', 'tract': 455, 'patch': 33},\n",
    "                        {'band': 'g', 'skymap': 'latiss_v1', 'tract': 3864, 'patch': 254},\n",
    "                        {'band': 'i', 'skymap': 'latiss_v1', 'tract': 5634, 'patch': 74},\n",
    "                        {'band': 'r', 'skymap': 'latiss_v1', 'tract': 5634, 'patch': 93},\n",
    "                        {'band': 'g', 'skymap': 'latiss_v1', 'tract': 3864, 'patch': 256},\n",
    "                        {'band': 'g', 'skymap': 'latiss_v1', 'tract': 5634, 'patch': 92},\n",
    "                        {'band': 'r', 'skymap': 'latiss_v1', 'tract': 5634, 'patch': 92}]\n",
    "\n",
    "good_template_visits = [1, 2, 5, 4, 5, 8, 16, 22, 25, 34, 47, 63, 102, 119]\n",
    "deep_template_visits = [1, 2, 5, 12, 17, 21, 41, 54, 79, 97, 137, 195, 265, 350]\n",
    "\n"
   ]
  },
  {
   "cell_type": "code",
   "execution_count": 4,
   "id": "dfae6781-25ed-463f-a59c-a0c9c8f7af15",
   "metadata": {
    "execution": {
     "iopub.execute_input": "2024-05-14T19:33:11.368429Z",
     "iopub.status.busy": "2024-05-14T19:33:11.368099Z",
     "iopub.status.idle": "2024-05-14T19:33:21.003886Z",
     "shell.execute_reply": "2024-05-14T19:33:21.003322Z",
     "shell.execute_reply.started": "2024-05-14T19:33:11.368417Z"
    }
   },
   "outputs": [
    {
     "name": "stdout",
     "output_type": "stream",
     "text": [
      "Selecting random 10 visits from the visits in goodseeing template\n"
     ]
    }
   ],
   "source": [
    "print('Selecting random 10 visits from the visits in goodseeing template')\n",
    "visit_list = []\n",
    "for i, dataId in enumerate(dataid_template_list):\n",
    "    # print(dataId)\n",
    "    # print('Number of visits in good template: ', good_template_visits[i])\n",
    "    # print('Number of visits in deep template: ', deep_template_visits[i])\n",
    "    exposure_good = butler_good.get('goodSeeingCoadd', dataId=dataId)\n",
    "    visits = exposure_good.getInfo().getCoaddInputs().visits[\"id\"].tolist()\n",
    "    if len(set(visits)) >= 10:\n",
    "        random_visits = random.sample(visits, 10)\n",
    "    else:\n",
    "        random_visits = visits\n",
    "    # print(random_visits)\n",
    "    visit_list.append(random_visits)\n",
    "    # print('----------------')"
   ]
  },
  {
   "cell_type": "markdown",
   "id": "16af91d5-8dd3-4451-87e7-337644aa192f",
   "metadata": {},
   "source": [
    "e.g.\n",
    "\n",
    "![alt text](./PREOPS-4952-figures/select_visits_good_deep.png \"Title\")"
   ]
  },
  {
   "cell_type": "markdown",
   "id": "d71c03eb-8e6a-4186-976d-590f43ea33e1",
   "metadata": {},
   "source": [
    "The DIA sources from ```goodSeeingDiff_diaSrcTable``` from the selected visits\n",
    "\n",
    "![alt text](./PREOPS-4952-figures/dia_src_example.png \"Title\")"
   ]
  },
  {
   "cell_type": "code",
   "execution_count": 6,
   "id": "26f976f1-22ec-4615-8a5f-fb0f28c54ca9",
   "metadata": {
    "execution": {
     "iopub.execute_input": "2024-05-14T19:34:10.686902Z",
     "iopub.status.busy": "2024-05-14T19:34:10.686615Z",
     "iopub.status.idle": "2024-05-14T19:34:11.163268Z",
     "shell.execute_reply": "2024-05-14T19:34:11.162801Z",
     "shell.execute_reply.started": "2024-05-14T19:34:10.686889Z"
    }
   },
   "outputs": [
    {
     "name": "stdout",
     "output_type": "stream",
     "text": [
      "Number of visits in good template:  1\n",
      "Number of visits in deep template:  1\n",
      "{instrument: 'LATISS', detector: 0, visit: 2023070400574, band: 'r', day_obs: 20230704, physical_filter: 'SDSSr_65mm~empty'}\n",
      "---------------------------\n",
      "Number of visits in good template:  2\n",
      "Number of visits in deep template:  2\n",
      "{instrument: 'LATISS', detector: 0, visit: 2023070400488, band: 'g', day_obs: 20230704, physical_filter: 'SDSSg_65mm~empty'}\n",
      "{instrument: 'LATISS', detector: 0, visit: 2023070400596, band: 'g', day_obs: 20230704, physical_filter: 'SDSSg_65mm~empty'}\n",
      "---------------------------\n",
      "Number of visits in good template:  5\n",
      "Number of visits in deep template:  5\n",
      "{instrument: 'LATISS', detector: 0, visit: 2023110700574, band: 'i', day_obs: 20231107, physical_filter: 'empty~SDSSi_65mm'}\n",
      "{instrument: 'LATISS', detector: 0, visit: 2023110700593, band: 'i', day_obs: 20231107, physical_filter: 'empty~SDSSi_65mm'}\n",
      "{instrument: 'LATISS', detector: 0, visit: 2023110700596, band: 'i', day_obs: 20231107, physical_filter: 'empty~SDSSi_65mm'}\n",
      "{instrument: 'LATISS', detector: 0, visit: 2023110700583, band: 'i', day_obs: 20231107, physical_filter: 'empty~SDSSi_65mm'}\n",
      "{instrument: 'LATISS', detector: 0, visit: 2023110700580, band: 'i', day_obs: 20231107, physical_filter: 'empty~SDSSi_65mm'}\n",
      "---------------------------\n",
      "Number of visits in good template:  4\n",
      "Number of visits in deep template:  12\n",
      "{instrument: 'LATISS', detector: 0, visit: 2023112100225, band: 'y', day_obs: 20231121, physical_filter: 'empty~SDSSy_65mm'}\n",
      "{instrument: 'LATISS', detector: 0, visit: 2023112100229, band: 'y', day_obs: 20231121, physical_filter: 'empty~SDSSy_65mm'}\n",
      "{instrument: 'LATISS', detector: 0, visit: 2023112100233, band: 'y', day_obs: 20231121, physical_filter: 'empty~SDSSy_65mm'}\n",
      "{instrument: 'LATISS', detector: 0, visit: 2023112900295, band: 'y', day_obs: 20231129, physical_filter: 'empty~SDSSy_65mm'}\n",
      "---------------------------\n",
      "Number of visits in good template:  5\n",
      "Number of visits in deep template:  17\n",
      "{instrument: 'LATISS', detector: 0, visit: 2023112100221, band: 'y', day_obs: 20231121, physical_filter: 'empty~SDSSy_65mm'}\n",
      "{instrument: 'LATISS', detector: 0, visit: 2023112100225, band: 'y', day_obs: 20231121, physical_filter: 'empty~SDSSy_65mm'}\n",
      "{instrument: 'LATISS', detector: 0, visit: 2023112100217, band: 'y', day_obs: 20231121, physical_filter: 'empty~SDSSy_65mm'}\n",
      "{instrument: 'LATISS', detector: 0, visit: 2023112100233, band: 'y', day_obs: 20231121, physical_filter: 'empty~SDSSy_65mm'}\n",
      "{instrument: 'LATISS', detector: 0, visit: 2023112800294, band: 'y', day_obs: 20231128, physical_filter: 'empty~SDSSy_65mm'}\n",
      "---------------------------\n",
      "Number of visits in good template:  8\n",
      "Number of visits in deep template:  21\n",
      "{instrument: 'LATISS', detector: 0, visit: 2023051100543, band: 'i', day_obs: 20230511, physical_filter: 'SDSSi_65mm~empty'}\n",
      "{instrument: 'LATISS', detector: 0, visit: 2023051100546, band: 'i', day_obs: 20230511, physical_filter: 'SDSSi_65mm~empty'}\n",
      "{instrument: 'LATISS', detector: 0, visit: 2023051100493, band: 'i', day_obs: 20230511, physical_filter: 'SDSSi_65mm~empty'}\n",
      "{instrument: 'LATISS', detector: 0, visit: 2023051100549, band: 'i', day_obs: 20230511, physical_filter: 'SDSSi_65mm~empty'}\n",
      "{instrument: 'LATISS', detector: 0, visit: 2023051100529, band: 'i', day_obs: 20230511, physical_filter: 'SDSSi_65mm~empty'}\n",
      "{instrument: 'LATISS', detector: 0, visit: 2023051100399, band: 'i', day_obs: 20230511, physical_filter: 'SDSSi_65mm~empty'}\n",
      "{instrument: 'LATISS', detector: 0, visit: 2023051100499, band: 'i', day_obs: 20230511, physical_filter: 'SDSSi_65mm~empty'}\n",
      "{instrument: 'LATISS', detector: 0, visit: 2023051100498, band: 'i', day_obs: 20230511, physical_filter: 'SDSSi_65mm~empty'}\n",
      "---------------------------\n",
      "Number of visits in good template:  16\n",
      "Number of visits in deep template:  41\n",
      "{instrument: 'LATISS', detector: 0, visit: 2023111300194, band: 'i', day_obs: 20231113, physical_filter: 'empty~SDSSi_65mm'}\n",
      "{instrument: 'LATISS', detector: 0, visit: 2023110800318, band: 'i', day_obs: 20231108, physical_filter: 'empty~SDSSi_65mm'}\n",
      "{instrument: 'LATISS', detector: 0, visit: 2023111300239, band: 'i', day_obs: 20231113, physical_filter: 'empty~SDSSi_65mm'}\n",
      "{instrument: 'LATISS', detector: 0, visit: 2023110800309, band: 'i', day_obs: 20231108, physical_filter: 'empty~SDSSi_65mm'}\n",
      "{instrument: 'LATISS', detector: 0, visit: 2023110800368, band: 'i', day_obs: 20231108, physical_filter: 'empty~SDSSi_65mm'}\n",
      "{instrument: 'LATISS', detector: 0, visit: 2023110800312, band: 'i', day_obs: 20231108, physical_filter: 'empty~SDSSi_65mm'}\n",
      "{instrument: 'LATISS', detector: 0, visit: 2023110800339, band: 'i', day_obs: 20231108, physical_filter: 'empty~SDSSi_65mm'}\n",
      "{instrument: 'LATISS', detector: 0, visit: 2023111300188, band: 'i', day_obs: 20231113, physical_filter: 'empty~SDSSi_65mm'}\n",
      "{instrument: 'LATISS', detector: 0, visit: 2023111300242, band: 'i', day_obs: 20231113, physical_filter: 'empty~SDSSi_65mm'}\n",
      "{instrument: 'LATISS', detector: 0, visit: 2023110800342, band: 'i', day_obs: 20231108, physical_filter: 'empty~SDSSi_65mm'}\n",
      "---------------------------\n",
      "Number of visits in good template:  22\n",
      "Number of visits in deep template:  54\n",
      "{instrument: 'LATISS', detector: 0, visit: 2023110800284, band: 'r', day_obs: 20231108, physical_filter: 'SDSSr_65mm~empty'}\n",
      "{instrument: 'LATISS', detector: 0, visit: 2023110800320, band: 'r', day_obs: 20231108, physical_filter: 'SDSSr_65mm~empty'}\n",
      "{instrument: 'LATISS', detector: 0, visit: 2023110800332, band: 'r', day_obs: 20231108, physical_filter: 'SDSSr_65mm~empty'}\n",
      "{instrument: 'LATISS', detector: 0, visit: 2023111300226, band: 'r', day_obs: 20231113, physical_filter: 'SDSSr_65mm~empty'}\n",
      "{instrument: 'LATISS', detector: 0, visit: 2023111300229, band: 'r', day_obs: 20231113, physical_filter: 'SDSSr_65mm~empty'}\n",
      "{instrument: 'LATISS', detector: 0, visit: 2023110800364, band: 'r', day_obs: 20231108, physical_filter: 'SDSSr_65mm~empty'}\n",
      "{instrument: 'LATISS', detector: 0, visit: 2023111300211, band: 'r', day_obs: 20231113, physical_filter: 'SDSSr_65mm~empty'}\n",
      "{instrument: 'LATISS', detector: 0, visit: 2023110800367, band: 'r', day_obs: 20231108, physical_filter: 'SDSSr_65mm~empty'}\n",
      "{instrument: 'LATISS', detector: 0, visit: 2023111300202, band: 'r', day_obs: 20231113, physical_filter: 'SDSSr_65mm~empty'}\n",
      "{instrument: 'LATISS', detector: 0, visit: 2023111300193, band: 'r', day_obs: 20231113, physical_filter: 'SDSSr_65mm~empty'}\n",
      "---------------------------\n",
      "Number of visits in good template:  25\n",
      "Number of visits in deep template:  79\n",
      "{instrument: 'LATISS', detector: 0, visit: 2023112700381, band: 'g', day_obs: 20231127, physical_filter: 'SDSSg_65mm~empty'}\n",
      "{instrument: 'LATISS', detector: 0, visit: 2023112700389, band: 'g', day_obs: 20231127, physical_filter: 'SDSSg_65mm~empty'}\n",
      "{instrument: 'LATISS', detector: 0, visit: 2023120400617, band: 'g', day_obs: 20231204, physical_filter: 'SDSSg_65mm~empty'}\n",
      "{instrument: 'LATISS', detector: 0, visit: 2023120600315, band: 'g', day_obs: 20231206, physical_filter: 'SDSSg_65mm~empty'}\n",
      "{instrument: 'LATISS', detector: 0, visit: 2023112900621, band: 'g', day_obs: 20231129, physical_filter: 'SDSSg_65mm~empty'}\n",
      "{instrument: 'LATISS', detector: 0, visit: 2023120400585, band: 'g', day_obs: 20231204, physical_filter: 'SDSSg_65mm~empty'}\n",
      "{instrument: 'LATISS', detector: 0, visit: 2023120500517, band: 'g', day_obs: 20231205, physical_filter: 'SDSSg_65mm~empty'}\n",
      "{instrument: 'LATISS', detector: 0, visit: 2023120500513, band: 'g', day_obs: 20231205, physical_filter: 'SDSSg_65mm~empty'}\n",
      "{instrument: 'LATISS', detector: 0, visit: 2023120600256, band: 'g', day_obs: 20231206, physical_filter: 'SDSSg_65mm~empty'}\n",
      "{instrument: 'LATISS', detector: 0, visit: 2023120500521, band: 'g', day_obs: 20231205, physical_filter: 'SDSSg_65mm~empty'}\n",
      "---------------------------\n",
      "Number of visits in good template:  34\n",
      "Number of visits in deep template:  97\n",
      "{instrument: 'LATISS', detector: 0, visit: 2023071800243, band: 'i', day_obs: 20230718, physical_filter: 'SDSSi_65mm~empty'}\n",
      "{instrument: 'LATISS', detector: 0, visit: 2023080300329, band: 'i', day_obs: 20230803, physical_filter: 'SDSSi_65mm~empty'}\n",
      "{instrument: 'LATISS', detector: 0, visit: 2023052400698, band: 'i', day_obs: 20230524, physical_filter: 'SDSSi_65mm~empty'}\n",
      "{instrument: 'LATISS', detector: 0, visit: 2023080300606, band: 'i', day_obs: 20230803, physical_filter: 'SDSSi_65mm~empty'}\n",
      "{instrument: 'LATISS', detector: 0, visit: 2023080300330, band: 'i', day_obs: 20230803, physical_filter: 'SDSSi_65mm~empty'}\n",
      "{instrument: 'LATISS', detector: 0, visit: 2023071800266, band: 'i', day_obs: 20230718, physical_filter: 'SDSSi_65mm~empty'}\n",
      "{instrument: 'LATISS', detector: 0, visit: 2023072000343, band: 'i', day_obs: 20230720, physical_filter: 'SDSSi_65mm~empty'}\n",
      "{instrument: 'LATISS', detector: 0, visit: 2023080300612, band: 'i', day_obs: 20230803, physical_filter: 'SDSSi_65mm~empty'}\n",
      "{instrument: 'LATISS', detector: 0, visit: 2023052400705, band: 'i', day_obs: 20230524, physical_filter: 'SDSSi_65mm~empty'}\n",
      "{instrument: 'LATISS', detector: 0, visit: 2023081700499, band: 'i', day_obs: 20230817, physical_filter: 'SDSSi_65mm~empty'}\n",
      "---------------------------\n",
      "Number of visits in good template:  47\n",
      "Number of visits in deep template:  137\n",
      "{instrument: 'LATISS', detector: 0, visit: 2023080300293, band: 'r', day_obs: 20230803, physical_filter: 'SDSSr_65mm~empty'}\n",
      "{instrument: 'LATISS', detector: 0, visit: 2023082900422, band: 'r', day_obs: 20230829, physical_filter: 'SDSSr_65mm~empty'}\n",
      "{instrument: 'LATISS', detector: 0, visit: 2023091400080, band: 'r', day_obs: 20230914, physical_filter: 'SDSSr_65mm~empty'}\n",
      "{instrument: 'LATISS', detector: 0, visit: 2023082900441, band: 'r', day_obs: 20230829, physical_filter: 'SDSSr_65mm~empty'}\n",
      "{instrument: 'LATISS', detector: 0, visit: 2023080300488, band: 'r', day_obs: 20230803, physical_filter: 'SDSSr_65mm~empty'}\n",
      "{instrument: 'LATISS', detector: 0, visit: 2023070600405, band: 'r', day_obs: 20230706, physical_filter: 'SDSSr_65mm~empty'}\n",
      "{instrument: 'LATISS', detector: 0, visit: 2023080200616, band: 'r', day_obs: 20230802, physical_filter: 'SDSSr_65mm~empty'}\n",
      "{instrument: 'LATISS', detector: 0, visit: 2023091400066, band: 'r', day_obs: 20230914, physical_filter: 'SDSSr_65mm~empty'}\n",
      "{instrument: 'LATISS', detector: 0, visit: 2023070600410, band: 'r', day_obs: 20230706, physical_filter: 'SDSSr_65mm~empty'}\n",
      "{instrument: 'LATISS', detector: 0, visit: 2023072000194, band: 'r', day_obs: 20230720, physical_filter: 'SDSSr_65mm~empty'}\n",
      "---------------------------\n",
      "Number of visits in good template:  63\n",
      "Number of visits in deep template:  195\n",
      "{instrument: 'LATISS', detector: 0, visit: 2023112700385, band: 'g', day_obs: 20231127, physical_filter: 'SDSSg_65mm~empty'}\n",
      "{instrument: 'LATISS', detector: 0, visit: 2023112000337, band: 'g', day_obs: 20231120, physical_filter: 'SDSSg_65mm~empty'}\n",
      "{instrument: 'LATISS', detector: 0, visit: 2023112900605, band: 'g', day_obs: 20231129, physical_filter: 'SDSSg_65mm~empty'}\n",
      "{instrument: 'LATISS', detector: 0, visit: 2023120400559, band: 'g', day_obs: 20231204, physical_filter: 'SDSSg_65mm~empty'}\n",
      "{instrument: 'LATISS', detector: 0, visit: 2023111500542, band: 'g', day_obs: 20231115, physical_filter: 'SDSSg_65mm~empty'}\n",
      "{instrument: 'LATISS', detector: 0, visit: 2023120400601, band: 'g', day_obs: 20231204, physical_filter: 'SDSSg_65mm~empty'}\n",
      "{instrument: 'LATISS', detector: 0, visit: 2023120600315, band: 'g', day_obs: 20231206, physical_filter: 'SDSSg_65mm~empty'}\n",
      "{instrument: 'LATISS', detector: 0, visit: 2023120400507, band: 'g', day_obs: 20231204, physical_filter: 'SDSSg_65mm~empty'}\n",
      "{instrument: 'LATISS', detector: 0, visit: 2023120500501, band: 'g', day_obs: 20231205, physical_filter: 'SDSSg_65mm~empty'}\n",
      "{instrument: 'LATISS', detector: 0, visit: 2023112700365, band: 'g', day_obs: 20231127, physical_filter: 'SDSSg_65mm~empty'}\n",
      "---------------------------\n",
      "Number of visits in good template:  102\n",
      "Number of visits in deep template:  265\n",
      "{instrument: 'LATISS', detector: 0, visit: 2023080300542, band: 'g', day_obs: 20230803, physical_filter: 'SDSSg_65mm~empty'}\n",
      "{instrument: 'LATISS', detector: 0, visit: 2023080300496, band: 'g', day_obs: 20230803, physical_filter: 'SDSSg_65mm~empty'}\n",
      "{instrument: 'LATISS', detector: 0, visit: 2023080200628, band: 'g', day_obs: 20230802, physical_filter: 'SDSSg_65mm~empty'}\n",
      "{instrument: 'LATISS', detector: 0, visit: 2023080200669, band: 'g', day_obs: 20230802, physical_filter: 'SDSSg_65mm~empty'}\n",
      "{instrument: 'LATISS', detector: 0, visit: 2023080200612, band: 'g', day_obs: 20230802, physical_filter: 'SDSSg_65mm~empty'}\n",
      "{instrument: 'LATISS', detector: 0, visit: 2023072000190, band: 'g', day_obs: 20230720, physical_filter: 'SDSSg_65mm~empty'}\n",
      "{instrument: 'LATISS', detector: 0, visit: 2023072000163, band: 'g', day_obs: 20230720, physical_filter: 'SDSSg_65mm~empty'}\n",
      "{instrument: 'LATISS', detector: 0, visit: 2023082900448, band: 'g', day_obs: 20230829, physical_filter: 'SDSSg_65mm~empty'}\n",
      "{instrument: 'LATISS', detector: 0, visit: 2023080300487, band: 'g', day_obs: 20230803, physical_filter: 'SDSSg_65mm~empty'}\n",
      "{instrument: 'LATISS', detector: 0, visit: 2023101000252, band: 'g', day_obs: 20231010, physical_filter: 'SDSSg_65mm~empty'}\n",
      "---------------------------\n",
      "Number of visits in good template:  119\n",
      "Number of visits in deep template:  350\n",
      "{instrument: 'LATISS', detector: 0, visit: 2023070600495, band: 'r', day_obs: 20230706, physical_filter: 'SDSSr_65mm~empty'}\n",
      "{instrument: 'LATISS', detector: 0, visit: 2023080300327, band: 'r', day_obs: 20230803, physical_filter: 'SDSSr_65mm~empty'}\n",
      "{instrument: 'LATISS', detector: 0, visit: 2023091400082, band: 'r', day_obs: 20230914, physical_filter: 'SDSSr_65mm~empty'}\n",
      "{instrument: 'LATISS', detector: 0, visit: 2023091400084, band: 'r', day_obs: 20230914, physical_filter: 'SDSSr_65mm~empty'}\n",
      "{instrument: 'LATISS', detector: 0, visit: 2023080200673, band: 'r', day_obs: 20230802, physical_filter: 'SDSSr_65mm~empty'}\n",
      "{instrument: 'LATISS', detector: 0, visit: 2023101000283, band: 'r', day_obs: 20231010, physical_filter: 'SDSSr_65mm~empty'}\n",
      "{instrument: 'LATISS', detector: 0, visit: 2023071800245, band: 'r', day_obs: 20230718, physical_filter: 'SDSSr_65mm~empty'}\n",
      "{instrument: 'LATISS', detector: 0, visit: 2023080300333, band: 'r', day_obs: 20230803, physical_filter: 'SDSSr_65mm~empty'}\n",
      "{instrument: 'LATISS', detector: 0, visit: 2023071800258, band: 'r', day_obs: 20230718, physical_filter: 'SDSSr_65mm~empty'}\n",
      "{instrument: 'LATISS', detector: 0, visit: 2023082900452, band: 'r', day_obs: 20230829, physical_filter: 'SDSSr_65mm~empty'}\n",
      "---------------------------\n"
     ]
    }
   ],
   "source": [
    "dataId_list_all_templates = []\n",
    "\n",
    "for i, visits in enumerate(visit_list):\n",
    "    print('Number of visits in good template: ', good_template_visits[i])\n",
    "    print('Number of visits in deep template: ', deep_template_visits[i])    \n",
    "    refs = registry_good.queryDatasets('calexp', \n",
    "                                      where=\"visit IN (visit_ids)\",\n",
    "                                      bind={\"visit_ids\": visits})\n",
    "    dataId_list = []\n",
    "    for ref in refs:\n",
    "        print(ref.dataId)\n",
    "        dataId_list.append(ref.dataId)\n",
    "    dataId_list_all_templates.append(dataId_list)\n",
    "    print('---------------------------')"
   ]
  },
  {
   "cell_type": "code",
   "execution_count": 7,
   "id": "ead50f6c-9997-4d6d-bcf1-16dfd12fc42c",
   "metadata": {
    "execution": {
     "iopub.execute_input": "2024-05-14T19:34:24.793967Z",
     "iopub.status.busy": "2024-05-14T19:34:24.793351Z",
     "iopub.status.idle": "2024-05-14T19:34:24.796668Z",
     "shell.execute_reply": "2024-05-14T19:34:24.796304Z",
     "shell.execute_reply.started": "2024-05-14T19:34:24.793953Z"
    }
   },
   "outputs": [],
   "source": [
    "visit_list_all = [x for xs in visit_list for x in xs]\n",
    "num_visits_good = []\n",
    "num_visits_deep = []\n",
    "\n",
    "for i, dataId_list in enumerate(dataId_list_all_templates):\n",
    "    for dataId in dataId_list:\n",
    "        num_visits_good.append(good_template_visits[i])\n",
    "        num_visits_deep.append(deep_template_visits[i])  "
   ]
  },
  {
   "cell_type": "markdown",
   "id": "7d914c41-775a-422d-8fd1-d3c3e16572f9",
   "metadata": {},
   "source": [
    "## Computing the Variance of good and deep templates and the difference images\n",
    "\n",
    "The psf determinant radius is computed\n",
    "\n",
    "[https://community.lsst.org/t/image-difference-task-using-decam-images-gen3/5947/27](https://community.lsst.org/t/image-difference-task-using-decam-images-gen3/5947/27)\n",
    "\n",
    "[https://pipelines.lsst.io/py-api/lsst.afw.geom.Quadrupole.html#lsst.afw.geom.Quadrupole](https://pipelines.lsst.io/py-api/lsst.afw.geom.Quadrupole.html#lsst.afw.geom.Quadrupole)\n"
   ]
  },
  {
   "cell_type": "code",
   "execution_count": 8,
   "id": "92083d5c-ab95-4d39-b214-dd6920edf6c6",
   "metadata": {
    "execution": {
     "iopub.execute_input": "2024-05-14T19:34:29.642153Z",
     "iopub.status.busy": "2024-05-14T19:34:29.641540Z",
     "iopub.status.idle": "2024-05-14T19:45:11.672732Z",
     "shell.execute_reply": "2024-05-14T19:45:11.672277Z",
     "shell.execute_reply.started": "2024-05-14T19:34:29.642139Z"
    }
   },
   "outputs": [
    {
     "name": "stdout",
     "output_type": "stream",
     "text": [
      "Number of visits in good template:  1\n",
      "Number of visits in good template:  2\n",
      "Number of visits in good template:  5\n",
      "Number of visits in good template:  4\n",
      "Number of visits in good template:  5\n",
      "Number of visits in good template:  8\n",
      "Number of visits in good template:  16\n",
      "Number of visits in good template:  22\n",
      "Number of visits in good template:  25\n",
      "Number of visits in good template:  34\n",
      "Number of visits in good template:  47\n",
      "Number of visits in good template:  63\n",
      "Number of visits in good template:  102\n",
      "Number of visits in good template:  119\n"
     ]
    }
   ],
   "source": [
    "# Plotting calexp, good template and difference image variance\n",
    "\n",
    "sigma2fwhm = 2.*np.sqrt(2.*np.log(2.))\n",
    "\n",
    "median_calexp_good = []\n",
    "median_template_good = []\n",
    "median_diff_good = []\n",
    "\n",
    "psf_radius_calexp_good = []\n",
    "psf_radius_template_good = []\n",
    "psf_radius_diff_good = []\n",
    "\n",
    "for i, dataId_list in enumerate(dataId_list_all_templates):\n",
    "    print('Number of visits in good template: ', good_template_visits[i])\n",
    "\n",
    "    for dataId in dataId_list:\n",
    "        dataId = dataId.mapping\n",
    "        dataId_string = {str(key): dataId[key] for key in dataId.keys()}\n",
    "        \n",
    "        calexp_image_good = butler_good.get('calexp', **dataId_string).variance\n",
    "        diff_image_good = butler_good.get('goodSeeingDiff_differenceExp', **dataId_string).variance\n",
    "        template_image_good = butler_good.get('goodSeeingDiff_templateExp', **dataId_string).variance\n",
    "\n",
    "        calexp_image_psf = butler_good.get('calexp', **dataId_string).psf\n",
    "        calexp_psf_radius = calexp_image_psf.computeShape(calexp_image_psf.getAveragePosition()).getDeterminantRadius()*sigma2fwhm\n",
    "        \n",
    "        diff_image_psf = butler_good.get('goodSeeingDiff_differenceExp', **dataId_string).psf\n",
    "        diff_psf_radius = diff_image_psf.computeShape(diff_image_psf.getAveragePosition()).getDeterminantRadius()*sigma2fwhm\n",
    "        \n",
    "        template_image_psf = butler_good.get('goodSeeingDiff_templateExp', **dataId_string).psf\n",
    "        template_psf_radius = template_image_psf.computeShape(template_image_psf.getAveragePosition()).getDeterminantRadius()*sigma2fwhm\n",
    "\n",
    "        \n",
    "        psf_radius_calexp_good.append(calexp_psf_radius)\n",
    "        psf_radius_template_good.append(template_psf_radius)\n",
    "        psf_radius_diff_good.append(diff_psf_radius)\n",
    "    \n",
    "\n",
    "        image_arr = template_image_good.array\n",
    "        median_template = round(np.nanmedian(image_arr), 3)\n",
    "        median_template_good.append(median_template)\n",
    "    \n",
    "        image_arr = calexp_image_good.array\n",
    "        median_calexp = round(np.nanmedian(image_arr), 3)\n",
    "        median_calexp_good.append(median_calexp)\n",
    "\n",
    "        image_arr = diff_image_good.array\n",
    "        median_diff = round(np.nanmedian(image_arr), 3)\n",
    "        median_diff_good.append(median_diff)\n",
    "\n",
    "        del(dataId_string)"
   ]
  },
  {
   "cell_type": "code",
   "execution_count": null,
   "id": "581a7392-1e52-4172-b02a-12ae7a0e396d",
   "metadata": {
    "execution": {
     "iopub.execute_input": "2024-05-14T19:46:31.465808Z",
     "iopub.status.busy": "2024-05-14T19:46:31.465607Z"
    }
   },
   "outputs": [
    {
     "name": "stdout",
     "output_type": "stream",
     "text": [
      "Number of visits in deep template:  1\n",
      "Number of visits in deep template:  2\n",
      "Number of visits in deep template:  5\n",
      "Number of visits in deep template:  12\n",
      "Number of visits in deep template:  17\n",
      "Number of visits in deep template:  21\n",
      "Number of visits in deep template:  41\n",
      "Number of visits in deep template:  54\n",
      "Number of visits in deep template:  79\n",
      "Number of visits in deep template:  97\n",
      "Number of visits in deep template:  137\n",
      "Number of visits in deep template:  195\n",
      "Number of visits in deep template:  265\n",
      "Number of visits in deep template:  350\n"
     ]
    }
   ],
   "source": [
    "# Plotting calexp, deep template and difference image variance\n",
    "\n",
    "median_calexp_deep = []\n",
    "median_template_deep = []\n",
    "median_diff_deep = []\n",
    "\n",
    "psf_radius_calexp_deep = []\n",
    "psf_radius_template_deep = []\n",
    "psf_radius_diff_deep = []\n",
    "\n",
    "for i, dataId_list in enumerate(dataId_list_all_templates):\n",
    "    print('Number of visits in deep template: ', deep_template_visits[i])\n",
    "\n",
    "    for dataId in dataId_list:\n",
    "        dataId = dataId.mapping\n",
    "        dataId_string = {str(key): dataId[key] for key in dataId.keys()}\n",
    "        calexp_image_deep = butler_deep.get('calexp', **dataId_string).variance\n",
    "        diff_image_deep = butler_deep.get('goodSeeingDiff_differenceExp', **dataId_string).variance\n",
    "        template_image_deep = butler_deep.get('goodSeeingDiff_templateExp', **dataId_string).variance\n",
    "\n",
    "        calexp_image_psf = butler_deep.get('calexp', **dataId_string).psf\n",
    "        calexp_psf_radius = calexp_image_psf.computeShape(calexp_image_psf.getAveragePosition()).getDeterminantRadius()*sigma2fwhm\n",
    "        \n",
    "        diff_image_psf = butler_deep.get('goodSeeingDiff_differenceExp', **dataId_string).psf\n",
    "        diff_psf_radius = diff_image_psf.computeShape(diff_image_psf.getAveragePosition()).getDeterminantRadius()*sigma2fwhm\n",
    "        \n",
    "        template_image_psf = butler_deep.get('goodSeeingDiff_templateExp', **dataId_string).psf\n",
    "        template_psf_radius = template_image_psf.computeShape(template_image_psf.getAveragePosition()).getDeterminantRadius()*sigma2fwhm\n",
    "\n",
    "        psf_radius_calexp_deep.append(calexp_psf_radius)\n",
    "        psf_radius_template_deep.append(template_psf_radius)\n",
    "        psf_radius_diff_deep.append(diff_psf_radius)\n",
    "\n",
    "        image_arr = template_image_deep.array\n",
    "        median_template = round(np.nanmedian(image_arr), 3)\n",
    "        median_template_deep.append(median_template)\n",
    "    \n",
    "        image_arr = calexp_image_deep.array\n",
    "        median_calexp = round(np.nanmedian(image_arr), 3)\n",
    "        median_calexp_deep.append(median_calexp)\n",
    "    \n",
    "        image_arr = diff_image_deep.array\n",
    "        median_diff = round(np.nanmedian(image_arr), 3)\n",
    "        median_diff_deep.append(median_diff)\n",
    "    \n",
    "        del(dataId_string)"
   ]
  },
  {
   "cell_type": "code",
   "execution_count": null,
   "id": "8b654ff0-c634-493e-9548-550200606470",
   "metadata": {},
   "outputs": [],
   "source": [
    "median_dict = {'num of visits in good coadd': num_visits_good,\n",
    "               'num of visits in deep coadd': num_visits_deep,\n",
    "               'visit' : visit_list_all,\n",
    "               'median calexp variance' : median_calexp_good,\n",
    "               'median template variance good' : median_template_good,\n",
    "               'median template variance deep' : median_template_deep,\n",
    "               'median diff variance good' : median_diff_good,\n",
    "               'median diff variance deep' : median_diff_deep,\n",
    "               'calexp psf' : psf_radius_calexp_deep,\n",
    "               'template psf good': psf_radius_template_good,\n",
    "               'template psf deep': psf_radius_template_deep,\n",
    "               'diff psf good': psf_radius_diff_good,\n",
    "               'diff psf deep': psf_radius_diff_deep,\n",
    "              }\n",
    "median_df = pd.DataFrame.from_dict(median_dict)\n",
    "# median_df.to_csv('median_variance_psf_10visits_per_coadd.csv')"
   ]
  },
  {
   "cell_type": "code",
   "execution_count": 5,
   "id": "a80c621a-a9b3-44f3-a998-a64898d0fe45",
   "metadata": {
    "collapsed": true,
    "execution": {
     "iopub.execute_input": "2024-05-09T17:40:47.630504Z",
     "iopub.status.busy": "2024-05-09T17:40:47.630171Z",
     "iopub.status.idle": "2024-05-09T17:40:47.720744Z",
     "shell.execute_reply": "2024-05-09T17:40:47.720101Z",
     "shell.execute_reply.started": "2024-05-09T17:40:47.630488Z"
    },
    "jupyter": {
     "outputs_hidden": true
    },
    "scrolled": true
   },
   "outputs": [
    {
     "ename": "NameError",
     "evalue": "name 'psf_radius_calexp_deep' is not defined",
     "output_type": "error",
     "traceback": [
      "\u001b[0;31m---------------------------------------------------------------------------\u001b[0m",
      "\u001b[0;31mNameError\u001b[0m                                 Traceback (most recent call last)",
      "Cell \u001b[0;32mIn[5], line 2\u001b[0m\n\u001b[1;32m      1\u001b[0m bins\u001b[38;5;241m=\u001b[39mnp\u001b[38;5;241m.\u001b[39mlinspace(\u001b[38;5;241m5\u001b[39m, \u001b[38;5;241m25\u001b[39m, \u001b[38;5;241m20\u001b[39m)\n\u001b[0;32m----> 2\u001b[0m plt\u001b[38;5;241m.\u001b[39mhist(\u001b[43mpsf_radius_calexp_deep\u001b[49m, bins\u001b[38;5;241m=\u001b[39mbins, alpha\u001b[38;5;241m=\u001b[39m\u001b[38;5;241m0.8\u001b[39m, edgecolor\u001b[38;5;241m=\u001b[39m\u001b[38;5;124m'\u001b[39m\u001b[38;5;124morange\u001b[39m\u001b[38;5;124m'\u001b[39m, label\u001b[38;5;241m=\u001b[39m\u001b[38;5;124m'\u001b[39m\u001b[38;5;124mDeep\u001b[39m\u001b[38;5;124m'\u001b[39m, facecolor\u001b[38;5;241m=\u001b[39m\u001b[38;5;124m\"\u001b[39m\u001b[38;5;124mNone\u001b[39m\u001b[38;5;124m\"\u001b[39m)\n\u001b[1;32m      3\u001b[0m plt\u001b[38;5;241m.\u001b[39mhist(psf_radius_calexp_good, bins\u001b[38;5;241m=\u001b[39mbins, alpha\u001b[38;5;241m=\u001b[39m\u001b[38;5;241m0.8\u001b[39m, edgecolor\u001b[38;5;241m=\u001b[39m\u001b[38;5;124m'\u001b[39m\u001b[38;5;124mblue\u001b[39m\u001b[38;5;124m'\u001b[39m, label\u001b[38;5;241m=\u001b[39m\u001b[38;5;124m'\u001b[39m\u001b[38;5;124mGood\u001b[39m\u001b[38;5;124m'\u001b[39m, facecolor\u001b[38;5;241m=\u001b[39m\u001b[38;5;124m\"\u001b[39m\u001b[38;5;124mNone\u001b[39m\u001b[38;5;124m\"\u001b[39m)\n\u001b[1;32m      4\u001b[0m plt\u001b[38;5;241m.\u001b[39mxlabel(\u001b[38;5;124m'\u001b[39m\u001b[38;5;124mPSF radius\u001b[39m\u001b[38;5;124m'\u001b[39m)\n",
      "\u001b[0;31mNameError\u001b[0m: name 'psf_radius_calexp_deep' is not defined"
     ]
    }
   ],
   "source": [
    "bins=np.linspace(0, 10, 20)\n",
    "plt.hist(median_template_good, bins=bins, alpha=0.8, edgecolor='orange', label='Good', facecolor=\"None\")\n",
    "plt.hist(median_template_deep, bins=bins, alpha=0.8, edgecolor='blue', label='Deep', facecolor=\"None\")\n",
    "plt.xlabel('Variance')\n",
    "plt.title('Median Variance of Templates')\n",
    "plt.legend()\n",
    "\n",
    "plt.hist(median_diff_good, alpha=0.8, edgecolor='orange', label='Good', facecolor=\"None\")\n",
    "plt.hist(median_diff_deep, alpha=0.8, edgecolor='blue', label='Deep', facecolor=\"None\")\n",
    "plt.xlabel('Variance')\n",
    "plt.title('Median Variance of Difference Images')\n",
    "plt.legend()"
   ]
  },
  {
   "cell_type": "markdown",
   "id": "10c62985-586c-4fee-b795-28ab89f3f080",
   "metadata": {},
   "source": [
    "\n",
    "![alt text](./PREOPS-4952-figures/median_variance_templates.png \"Title\")\n",
    "\n",
    "![alt text](./PREOPS-4952-figures/median_variance_diff.png \"Title\")\n",
    "\n",
    "\n",
    "The variance of the good templates is slightly larger than the deep templates. \n",
    "\n",
    "This is expected as there are fewer visits going into making the good template than the deep template"
   ]
  },
  {
   "cell_type": "markdown",
   "id": "bb5c89db-09c2-46d0-91bd-a906852e0fc3",
   "metadata": {},
   "source": [
    "### PSF\n",
    "\n",
    "For the different methods of convolution refer to the notes\n",
    "\n",
    "[https://dmtn-256.lsst.io](https://dmtn-256.lsst.io)\n",
    "\n",
    "The default convolution algorithm adjusts the PSF of the templates (if the PSF of template is larger) to match the PSF of the calexp.\n",
    "\n",
    "The PSF of the deep templates is larger (worse) than the good templates as expected due to more visits going into making it. \n",
    "\n",
    "However, the PSF of the difference images is similar no matter which template we use. This is probably because of the convolution algorithm used to match the PSFs to the PSF of calexp."
   ]
  },
  {
   "cell_type": "code",
   "execution_count": null,
   "id": "d79218fe-1c8b-4e1d-a4cf-e2a81ec66906",
   "metadata": {},
   "outputs": [],
   "source": [
    "bins=np.linspace(5, 25, 20)\n",
    "plt.hist(psf_radius_calexp_deep, bins=bins, alpha=0.8, edgecolor='orange', label='Deep', facecolor=\"None\")\n",
    "plt.hist(psf_radius_calexp_good, bins=bins, alpha=0.8, edgecolor='blue', label='Good', facecolor=\"None\")\n",
    "plt.xlabel('PSF radius')\n",
    "plt.title('PSF historam of Calexp images')\n",
    "plt.legend()\n",
    "\n",
    "plt.hist(psf_radius_template_deep, bins=bins, alpha=0.8, edgecolor='orange', label='Deep', facecolor=\"None\")\n",
    "plt.hist(psf_radius_template_good,bins=bins,  alpha=0.8, edgecolor='blue', label='Good', facecolor=\"None\")\n",
    "plt.xlabel('PSF radius')\n",
    "plt.title('PSF historam of Template images')\n",
    "plt.legend()\n",
    "\n",
    "plt.hist(psf_radius_diff_deep, bins=bins, alpha=0.8, edgecolor='orange', label='Deep', facecolor=\"None\")\n",
    "plt.hist(psf_radius_diff_good, bins=bins, alpha=0.8, edgecolor='blue', label='Good', facecolor=\"None\")\n",
    "plt.xlabel('PSF radius')\n",
    "plt.title('PSF historam of Difference images: Default convolution to match to calexp PSF')\n",
    "plt.legend()"
   ]
  },
  {
   "cell_type": "markdown",
   "id": "c5895abf-4c64-48d4-bd48-2b0728200a88",
   "metadata": {},
   "source": [
    "![alt text](./PREOPS-4952-figures/psf_calexp.png \"Title\")\n",
    "\n",
    "![alt text](./PREOPS-4952-figures/psf_templates.png \"Title\")\n",
    "\n",
    "![alt text](./PREOPS-4952-figures/psf_diff.png \"Title\")"
   ]
  },
  {
   "cell_type": "code",
   "execution_count": null,
   "id": "ae8d12de-f8ae-4921-8c30-420fad74c2c2",
   "metadata": {},
   "outputs": [],
   "source": [
    "plt.scatter(median_df['calexp psf'], median_df['template psf good'])\n",
    "plt.plot([9,20], [9, 20])\n",
    "plt.xlabel('Calexp PSF')\n",
    "plt.ylabel('Good Template PSF')\n",
    "\n",
    "plt.scatter(median_df['calexp psf'], median_df['template psf deep'])\n",
    "plt.plot([9,20], [9, 20])\n",
    "plt.xlabel('Calexp PSF')\n",
    "plt.ylabel('Deep Template PSF')"
   ]
  },
  {
   "cell_type": "markdown",
   "id": "fa934167-13e4-4c41-9a05-33c1387cb5c7",
   "metadata": {},
   "source": [
    "![alt text](./PREOPS-4952-figures/psf_good_calexp.png \"Title\")\n",
    "\n",
    "![alt text](./PREOPS-4952-figures/psf_deep_calexp.png \"Title\")\n"
   ]
  },
  {
   "cell_type": "markdown",
   "id": "10a4badd-2bee-4466-85d9-38b2e45ee724",
   "metadata": {},
   "source": [
    "###Selecting visits where good template psf < visit psf < deep template psf \n",
    "\n",
    "fraction of visits with good template psf < visit psf < deep template psf :  0.524\n",
    "\n",
    "fraction of visits with visit psf < good and deep template:  0.409\n",
    "\n",
    "fraction of visits with deep template psf < visit psf < good template psf:  0.0"
   ]
  },
  {
   "cell_type": "code",
   "execution_count": null,
   "id": "b27ce3e8-2cd8-48f3-a8f9-b7ad09e85928",
   "metadata": {},
   "outputs": [],
   "source": [
    "df_interesting_visits =  median_df[(median_df['calexp psf'] > median_df['template psf good']) \n",
    "                                    & (median_df['calexp psf'] < median_df['template psf deep'])]\n",
    "\n",
    "# Difference between the Calexp and Template PSF\n",
    "diff_visit_good = df_interesting_visits['calexp psf'].values - df_interesting_visits['template psf good'].values\n",
    "diff_visit_deep =  df_interesting_visits['template psf deep'].values - df_interesting_visits['calexp psf'].values"
   ]
  },
  {
   "cell_type": "code",
   "execution_count": null,
   "id": "8bfd07b2-8948-4eb4-aeda-4b1e64c46a32",
   "metadata": {},
   "outputs": [],
   "source": [
    "bins=np.linspace(8, 19, 20)\n",
    "plt.hist(df_interesting_visits['calexp psf'], bins=bins, alpha=1.0, edgecolor='k',  histtype='step', label='Visit')\n",
    "plt.hist(df_interesting_visits['template psf deep'], bins=bins, alpha=1.0, edgecolor='orange',  histtype='step', label='Deep')\n",
    "plt.hist(df_interesting_visits['template psf good'], bins=bins, alpha=1.0, edgecolor='blue',  histtype='step', label='Good')\n",
    "plt.xlabel('PSF radius')\n",
    "# plt.title('PSF historam of Template images')\n",
    "plt.legend()\n",
    "\n",
    "bins=np.linspace(0.0, 3.0, 20)\n",
    "plt.hist(diff_visit_good, bins=bins, alpha=1.0, edgecolor='k',  histtype='step', label='Visit - Good template PSF')\n",
    "plt.hist(diff_visit_deep, bins=bins, alpha=1.0, edgecolor='orange',  histtype='step', label='Deep template - Visit PSF')\n",
    "plt.xlabel('PSF Difference radius')\n",
    "# plt.title('PSF historam of Template images')\n",
    "plt.legend()\n",
    "\n",
    "bins=np.linspace(0.0, 0.5, 20)\n",
    "plt.hist(diff_visit_good/df_interesting_visits['calexp psf'].values, bins=bins, alpha=1.0, edgecolor='k',  histtype='step', label='Visit - Good template PSF')\n",
    "plt.hist(diff_visit_deep/df_interesting_visits['calexp psf'].values, bins=bins, alpha=1.0, edgecolor='orange',  histtype='step', label='Deep template - Visit PSF')\n",
    "plt.xlabel('PSF Difference radius / Visit PSF')\n",
    "# plt.title('PSF historam of Template images')\n",
    "plt.legend()"
   ]
  },
  {
   "cell_type": "markdown",
   "id": "cb9a84f3-f851-45d0-9109-dc3e51174b17",
   "metadata": {},
   "source": [
    "![alt text](./PREOPS-4952-figures/psf_good_deep_calexp.png \"Title\")\n",
    "\n",
    "![alt text](./PREOPS-4952-figures/psf_difference.png \"Title\")\n",
    "\n",
    "![alt text](./PREOPS-4952-figures/psf_difference_fraction.png \"Title\")"
   ]
  },
  {
   "cell_type": "markdown",
   "id": "6366c087-0f6d-4fd8-89ea-669e9a112d29",
   "metadata": {},
   "source": [
    "### SNR of interesting visits"
   ]
  },
  {
   "cell_type": "code",
   "execution_count": null,
   "id": "fca69955-529b-4285-a913-651b613d5b03",
   "metadata": {},
   "outputs": [],
   "source": [
    "for visit in df_interesting_visits['visit']:\n",
    "    \n",
    "    fig, axs = plt.subplots(1, 3, figsize=(10,3), facecolor='w', edgecolor='k')\n",
    "    fig.subplots_adjust(hspace = .3, wspace=.2)\n",
    "    axs = axs.ravel()\n",
    "\n",
    "    DiaSourceTable_good = butler_good.get('goodSeeingDiff_diaSrcTable', visit=visit, detector=0)\n",
    "    DiaSourceTable_deep = butler_deep.get('goodSeeingDiff_diaSrcTable', visit=visit, detector=0)\n",
    "\n",
    "    axs[0].scatter(DiaSourceTable_good['ra'], DiaSourceTable_good['dec'], s=24, color='C1', label='good', marker='*')\n",
    "    axs[0].scatter(DiaSourceTable_deep['ra'], DiaSourceTable_deep['dec'], s=8, color='C0', label = 'deep')\n",
    "    axs[0].set_title('Visit: '+ str(visit), fontsize=8)\n",
    "    axs[0].set_xlabel('RA (deg)', fontsize=7)\n",
    "    axs[0].set_ylabel('DEC (deg)', fontsize=7)\n",
    "    axs[0].xaxis.set_tick_params(labelsize=6)\n",
    "    axs[0].yaxis.set_tick_params(labelsize=6)\n",
    "    axs[0].legend(loc='lower left')\n",
    "\n",
    "    flux_df_good = DiaSourceTable_good[['psfFlux', 'psfFluxErr']]\n",
    "    flux_df_good = flux_df_good[flux_df_good['psfFlux'] > 0]\n",
    "    flux_df_deep = DiaSourceTable_deep[['psfFlux', 'psfFluxErr']]\n",
    "    flux_df_deep = flux_df_deep[flux_df_deep['psfFlux'] > 0]\n",
    "    flux_df_good['SNR'] = flux_df_good['psfFlux']/flux_df_good['psfFluxErr']\n",
    "    flux_df_deep['SNR'] = flux_df_deep['psfFlux']/flux_df_deep['psfFluxErr']\n",
    "\n",
    "    calexp_psf = df_interesting_visits[df_interesting_visits['visit'] == visit]['calexp psf'].values\n",
    "    good_psf = df_interesting_visits[df_interesting_visits['visit'] == visit]['template psf good'].values\n",
    "    deep_psf = df_interesting_visits[df_interesting_visits['visit'] == visit]['template psf deep'].values\n",
    "    \n",
    "    diff_visit_good = calexp_psf - good_psf\n",
    "    diff_visit_deep = deep_psf - calexp_psf \n",
    "\n",
    "    print('Visit psf - Good psf: ', round(diff_visit_good[0],3))\n",
    "    print('Deep psf - Visit psf: ', round(diff_visit_deep[0],3))\n",
    "\n",
    "    # Plot SNR\n",
    "    \n",
    "    bins = 20\n",
    "\n",
    "    axs[1].hist(flux_df_good['SNR'],bins=bins, histtype = 'step', alpha=1.0, edgecolor='blue', label='Good');\n",
    "    axs[1].hist(flux_df_deep['SNR'],bins=bins, histtype = 'step', alpha=1.0, edgecolor='orange',label='Deep');\n",
    "    \n",
    "    axs[1].set_xlabel('SNR = PSF Flux / PSF Flux Err')\n",
    "    axs[1].set_yscale('log')\n",
    "    axs[1].legend(loc='upper right')\n",
    "\n",
    "    # Plot psf flux error\n",
    "\n",
    "    axs[2].hist(flux_df_good['psfFluxErr'],bins=bins, histtype = 'step', alpha=1.0, edgecolor='blue', label='Good');\n",
    "    axs[2].hist(flux_df_deep['psfFluxErr'],bins=bins, histtype = 'step', alpha=1.0, edgecolor='orange',label='Deep');\n",
    "    \n",
    "    axs[2].set_xlabel('PSF Flux Err')\n",
    "    axs[2].set_yscale('log')\n",
    "    axs[2].legend(loc='upper right')\n",
    "\n",
    "    \n",
    "    plt.show()\n",
    "    plt.close()"
   ]
  },
  {
   "cell_type": "markdown",
   "id": "cb66aa29-81e8-4e49-81e9-fa6be7f8d1bc",
   "metadata": {},
   "source": [
    "![alt text](./PREOPS-4952-figures/snr_interesting_visits.png \"Title\")"
   ]
  },
  {
   "cell_type": "code",
   "execution_count": null,
   "id": "72d7200e-6857-4072-91df-b1d0ac821881",
   "metadata": {},
   "outputs": [],
   "source": []
  }
 ],
 "metadata": {
  "kernelspec": {
   "display_name": "LSST",
   "language": "python",
   "name": "lsst"
  },
  "language_info": {
   "codemirror_mode": {
    "name": "ipython",
    "version": 3
   },
   "file_extension": ".py",
   "mimetype": "text/x-python",
   "name": "python",
   "nbconvert_exporter": "python",
   "pygments_lexer": "ipython3",
   "version": "3.11.7"
  }
 },
 "nbformat": 4,
 "nbformat_minor": 5
}
