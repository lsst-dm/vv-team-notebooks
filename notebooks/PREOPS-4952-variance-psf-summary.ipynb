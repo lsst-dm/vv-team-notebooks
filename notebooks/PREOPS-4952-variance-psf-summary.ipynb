{
 "cells": [
  {
   "cell_type": "markdown",
   "id": "70d50f77-26c3-42aa-ae43-2d74ecbb426f",
   "metadata": {},
   "source": [
    "This notebook compares the ```depth (variance)``` and ```PSF``` of ```coadds (templates)``` and ```difference images``` from two butler collections.\n",
    "\n",
    "The idea behind is we expect to see more variance in the good template than deep template. But, the PSF is better for the good than deep. \n",
    "\n",
    "1. At which point can we say using one is better over using the other?\n",
    "\n",
    "incollection = LATISS/runs/AUXTEL_DRP_IMAGING_20230509_20231207/w_2023_49/PREOPS-4648\n",
    "\n",
    "```good seeing template :``` \n",
    "include only good seeing visits to create the template.\n",
    "\n",
    "collection_good = f\"u/jarugula/auxtel_goodseeing_template_subtract\"\n",
    "\n",
    "```deepcoadd template :```\n",
    "includes all the visits to create the template. This is done by adding the following code in the pipeline yaml \n",
    "\n",
    "```\n",
    "tasks:\n",
    "    selectGoodSeeingVisits:\n",
    "        class: lsst.pipe.tasks.selectImages.BestSeeingQuantileSelectVisitsTask\n",
    "        config:\n",
    "          connections.goodVisits: goodSeeingVisits\n",
    "          qMin: 0\n",
    "          qMax: 0.99\n",
    "    \n",
    "```\n",
    "collection_deep = f\"u/jarugula/auxtel_deep_template_subtract\"\n",
    "\n",
    "\n",
    "\n",
    "All the Plots and tables are in PREOPS-4952-depthcomparision.ipynb"
   ]
  },
  {
   "cell_type": "code",
   "execution_count": 1,
   "id": "4643e066-4c05-4bf5-afb3-2e6bb1574ddc",
   "metadata": {
    "execution": {
     "iopub.execute_input": "2024-05-09T17:23:54.867152Z",
     "iopub.status.busy": "2024-05-09T17:23:54.867021Z",
     "iopub.status.idle": "2024-05-09T17:23:57.273766Z",
     "shell.execute_reply": "2024-05-09T17:23:57.273315Z",
     "shell.execute_reply.started": "2024-05-09T17:23:54.867138Z"
    }
   },
   "outputs": [],
   "source": [
    "import numpy as np\n",
    "import matplotlib.pyplot as plt\n",
    "import pandas as pd\n",
    "import gc\n",
    "import random \n",
    "\n",
    "from astropy.coordinates import SkyCoord\n",
    "import astropy.units as u\n",
    "\n",
    "import lsst.daf.butler as dafButler\n",
    "from lsst.pex.config import Config\n",
    "from lsst.pipe.base import Instrument\n",
    "import lsst.afw.display as afwDisplay\n",
    "import lsst.display.astrowidgets\n",
    "\n",
    "afwDisplay.setDefaultBackend('astrowidgets')\n",
    "afwDisplay.setDefaultBackend('matplotlib')\n",
    "plt.style.use('tableau-colorblind10')\n",
    "%matplotlib inline"
   ]
  },
  {
   "cell_type": "markdown",
   "id": "56721aaf-59a9-4271-8119-fe52ea563e2e",
   "metadata": {},
   "source": [
    "### The two butler collections"
   ]
  },
  {
   "cell_type": "code",
   "execution_count": 2,
   "id": "228f1c90-37a6-4103-a73c-d1cce718e0aa",
   "metadata": {
    "execution": {
     "iopub.execute_input": "2024-05-09T17:23:57.274746Z",
     "iopub.status.busy": "2024-05-09T17:23:57.274343Z",
     "iopub.status.idle": "2024-05-09T17:23:59.201926Z",
     "shell.execute_reply": "2024-05-09T17:23:59.201427Z",
     "shell.execute_reply.started": "2024-05-09T17:23:57.274730Z"
    }
   },
   "outputs": [],
   "source": [
    "repo = '/sdf/group/rubin/repo/embargo'\n",
    "skymapName = 'latiss_v1'\n",
    "instrumentName = 'LATISS'\n",
    "\n",
    "collection_good = f\"u/{os.environ['USER']}/auxtel_goodseeing_template_subtract\"\n",
    "collection_deep = f\"u/{os.environ['USER']}/auxtel_deep_template_subtract\"\n",
    "\n",
    "butler_good = dafButler.Butler(repo, collections=collection_good, skymap=skymapName)\n",
    "butler_deep = dafButler.Butler(repo, collections=collection_deep, skymap=skymapName)\n",
    "\n",
    "registry_good = butler_good.registry\n",
    "registry_deep = butler_deep.registry"
   ]
  },
  {
   "cell_type": "markdown",
   "id": "121785d0-091d-40e0-9510-4e94891f76b0",
   "metadata": {},
   "source": [
    "### Selecting the dataids with varying number of visits going into making the good and deep templates\n",
    "\n",
    "There are more visits in the deep than good templates.\n",
    "\n",
    "Randomly select 10 visits from the vists going into making the coadds. We compare the variance and PSF of these visits"
   ]
  },
  {
   "cell_type": "code",
   "execution_count": 3,
   "id": "690d828c-eee7-47c0-8f58-f72bd90d60e1",
   "metadata": {
    "execution": {
     "iopub.execute_input": "2024-05-09T17:23:59.202843Z",
     "iopub.status.busy": "2024-05-09T17:23:59.202684Z",
     "iopub.status.idle": "2024-05-09T17:23:59.207414Z",
     "shell.execute_reply": "2024-05-09T17:23:59.207027Z",
     "shell.execute_reply.started": "2024-05-09T17:23:59.202824Z"
    }
   },
   "outputs": [],
   "source": [
    "dataid_template_list = [{'band': 'r', 'skymap': 'latiss_v1', 'tract': 8188, 'patch': 65},\n",
    "                        {'band': 'g', 'skymap': 'latiss_v1', 'tract': 10644, 'patch': 183},\n",
    "                        {'band': 'i', 'skymap': 'latiss_v1', 'tract': 3863, 'patch': 262},\n",
    "                        {'band': 'y', 'skymap': 'latiss_v1', 'tract': 383, 'patch': 359},\n",
    "                        {'band': 'y', 'skymap': 'latiss_v1', 'tract': 455, 'patch': 14},\n",
    "                        {'band': 'i', 'skymap': 'latiss_v1', 'tract': 5614, 'patch': 211},\n",
    "                        {'band': 'i', 'skymap': 'latiss_v1', 'tract': 382, 'patch': 342},\n",
    "                        {'band': 'r', 'skymap': 'latiss_v1', 'tract': 455, 'patch': 33},\n",
    "                        {'band': 'g', 'skymap': 'latiss_v1', 'tract': 3864, 'patch': 254},\n",
    "                        {'band': 'i', 'skymap': 'latiss_v1', 'tract': 5634, 'patch': 74},\n",
    "                        {'band': 'r', 'skymap': 'latiss_v1', 'tract': 5634, 'patch': 93},\n",
    "                        {'band': 'g', 'skymap': 'latiss_v1', 'tract': 3864, 'patch': 256},\n",
    "                        {'band': 'g', 'skymap': 'latiss_v1', 'tract': 5634, 'patch': 92},\n",
    "                        {'band': 'r', 'skymap': 'latiss_v1', 'tract': 5634, 'patch': 92}]\n",
    "\n",
    "good_template_visits = [1, 2, 5, 4, 5, 8, 16, 22, 25, 34, 47, 63, 102, 119]\n",
    "deep_template_visits = [1, 2, 5, 12, 17, 21, 41, 54, 79, 97, 137, 195, 265, 350]\n",
    "\n"
   ]
  },
  {
   "cell_type": "code",
   "execution_count": 4,
   "id": "dfae6781-25ed-463f-a59c-a0c9c8f7af15",
   "metadata": {
    "execution": {
     "iopub.execute_input": "2024-05-09T17:23:59.233433Z",
     "iopub.status.busy": "2024-05-09T17:23:59.233295Z",
     "iopub.status.idle": "2024-05-09T17:29:51.242920Z",
     "shell.execute_reply": "2024-05-09T17:29:51.242414Z",
     "shell.execute_reply.started": "2024-05-09T17:23:59.233418Z"
    }
   },
   "outputs": [
    {
     "name": "stdout",
     "output_type": "stream",
     "text": [
      "Selecting random 10 visits from the visits in goodseeing template\n"
     ]
    }
   ],
   "source": [
    "print('Selecting random 10 visits from the visits in goodseeing template')\n",
    "visit_list = []\n",
    "for i, dataId in enumerate(dataid_template_list):\n",
    "    # print(dataId)\n",
    "    # print('Number of visits in good template: ', good_template_visits[i])\n",
    "    # print('Number of visits in deep template: ', deep_template_visits[i])\n",
    "    exposure_good = butler_good.get('goodSeeingCoadd', dataId=dataId)\n",
    "    visits = exposure_good.getInfo().getCoaddInputs().visits[\"id\"].tolist()\n",
    "    if len(set(visits)) >= 10:\n",
    "        random_visits = random.sample(visits, 10)\n",
    "    else:\n",
    "        random_visits = visits\n",
    "    # print(random_visits)\n",
    "    visit_list.append(random_visits)\n",
    "    # print('----------------')"
   ]
  },
  {
   "cell_type": "markdown",
   "id": "16af91d5-8dd3-4451-87e7-337644aa192f",
   "metadata": {},
   "source": [
    "e.g.\n",
    "\n",
    "![alt text](./PREOPS-4952-figures/select_visits_good_deep.png \"Title\")"
   ]
  },
  {
   "cell_type": "markdown",
   "id": "d71c03eb-8e6a-4186-976d-590f43ea33e1",
   "metadata": {},
   "source": [
    "The DIA sources from ```goodSeeingDiff_diaSrcTable``` from the selected visits\n",
    "\n",
    "![alt text](./PREOPS-4952-figures/dia_src_example.png \"Title\")"
   ]
  },
  {
   "cell_type": "code",
   "execution_count": null,
   "id": "ead50f6c-9997-4d6d-bcf1-16dfd12fc42c",
   "metadata": {},
   "outputs": [],
   "source": [
    "visit_list_all = [x for xs in visit_list for x in xs]\n",
    "num_visits_good = []\n",
    "num_visits_deep = []\n",
    "\n",
    "for i, dataId_list in enumerate(dataId_list_all_templates):\n",
    "    for dataId in dataId_list:\n",
    "        num_visits_good.append(good_template_visits[i])\n",
    "        num_visits_deep.append(deep_template_visits[i])  "
   ]
  },
  {
   "cell_type": "markdown",
   "id": "7d914c41-775a-422d-8fd1-d3c3e16572f9",
   "metadata": {},
   "source": [
    "## Computing the Variance of good and deep templates and the difference images\n",
    "\n",
    "The psf determinant radius is computed\n",
    "\n",
    "[https://community.lsst.org/t/image-difference-task-using-decam-images-gen3/5947/27](https://community.lsst.org/t/image-difference-task-using-decam-images-gen3/5947/27)\n",
    "\n",
    "[https://pipelines.lsst.io/py-api/lsst.afw.geom.Quadrupole.html#lsst.afw.geom.Quadrupole](https://pipelines.lsst.io/py-api/lsst.afw.geom.Quadrupole.html#lsst.afw.geom.Quadrupole)\n"
   ]
  },
  {
   "cell_type": "code",
   "execution_count": null,
   "id": "92083d5c-ab95-4d39-b214-dd6920edf6c6",
   "metadata": {},
   "outputs": [],
   "source": [
    "# Plotting calexp, good template and difference image variance\n",
    "\n",
    "sigma2fwhm = 2.*np.sqrt(2.*np.log(2.))\n",
    "\n",
    "median_calexp_good = []\n",
    "median_template_good = []\n",
    "median_diff_good = []\n",
    "\n",
    "psf_radius_calexp_good = []\n",
    "psf_radius_template_good = []\n",
    "psf_radius_diff_good = []\n",
    "\n",
    "for i, dataId_list in enumerate(dataId_list_all_templates):\n",
    "    print('Number of visits in good template: ', good_template_visits[i])\n",
    "\n",
    "    for dataId in dataId_list:\n",
    "        dataId = dataId.mapping\n",
    "        dataId_string = {str(key): dataId[key] for key in dataId.keys()}\n",
    "        \n",
    "        calexp_image_good = butler_good.get('calexp', **dataId_string).variance\n",
    "        diff_image_good = butler_good.get('goodSeeingDiff_differenceExp', **dataId_string).variance\n",
    "        template_image_good = butler_good.get('goodSeeingDiff_templateExp', **dataId_string).variance\n",
    "\n",
    "        calexp_image_psf = butler_good.get('calexp', **dataId_string).psf\n",
    "        calexp_psf_radius = calexp_image_psf.computeShape(calexp_image_psf.getAveragePosition()).getDeterminantRadius()*sigma2fwhm\n",
    "        \n",
    "        diff_image_psf = butler_good.get('goodSeeingDiff_differenceExp', **dataId_string).psf\n",
    "        diff_psf_radius = diff_image_psf.computeShape(diff_image_psf.getAveragePosition()).getDeterminantRadius()*sigma2fwhm\n",
    "        \n",
    "        template_image_psf = butler_good.get('goodSeeingDiff_templateExp', **dataId_string).psf\n",
    "        template_psf_radius = template_image_psf.computeShape(template_image_psf.getAveragePosition()).getDeterminantRadius()*sigma2fwhm\n",
    "\n",
    "        \n",
    "        psf_radius_calexp_good.append(calexp_psf_radius)\n",
    "        psf_radius_template_good.append(template_psf_radius)\n",
    "        psf_radius_diff_good.append(diff_psf_radius)\n",
    "    \n",
    "\n",
    "        image_arr = template_image_good.array\n",
    "        median_template = round(np.nanmedian(image_arr), 3)\n",
    "        median_template_good.append(median_template)\n",
    "    \n",
    "        image_arr = calexp_image_good.array\n",
    "        median_calexp = round(np.nanmedian(image_arr), 3)\n",
    "        median_calexp_good.append(median_calexp)\n",
    "\n",
    "        image_arr = diff_image_good.array\n",
    "        median_diff = round(np.nanmedian(image_arr), 3)\n",
    "        median_diff_good.append(median_diff)\n",
    "\n",
    "        del(dataId_string)"
   ]
  },
  {
   "cell_type": "code",
   "execution_count": null,
   "id": "581a7392-1e52-4172-b02a-12ae7a0e396d",
   "metadata": {},
   "outputs": [],
   "source": [
    "# Plotting calexp, deep template and difference image variance\n",
    "\n",
    "median_calexp_deep = []\n",
    "median_template_deep = []\n",
    "median_diff_deep = []\n",
    "\n",
    "psf_radius_calexp_deep = []\n",
    "psf_radius_template_deep = []\n",
    "psf_radius_diff_deep = []\n",
    "\n",
    "for i, dataId_list in enumerate(dataId_list_all_templates):\n",
    "    print('Number of visits in deep template: ', deep_template_visits[i])\n",
    "\n",
    "    for dataId in dataId_list:\n",
    "        dataId = dataId.mapping\n",
    "        dataId_string = {str(key): dataId[key] for key in dataId.keys()}\n",
    "        calexp_image_deep = butler_deep.get('calexp', **dataId_string).variance\n",
    "        diff_image_deep = butler_deep.get('goodSeeingDiff_differenceExp', **dataId_string).variance\n",
    "        template_image_deep = butler_deep.get('goodSeeingDiff_templateExp', **dataId_string).variance\n",
    "\n",
    "        calexp_image_psf = butler_deep.get('calexp', **dataId_string).psf\n",
    "        calexp_psf_radius = calexp_image_psf.computeShape(calexp_image_psf.getAveragePosition()).getDeterminantRadius()*sigma2fwhm\n",
    "        \n",
    "        diff_image_psf = butler_deep.get('goodSeeingDiff_differenceExp', **dataId_string).psf\n",
    "        diff_psf_radius = diff_image_psf.computeShape(diff_image_psf.getAveragePosition()).getDeterminantRadius()*sigma2fwhm\n",
    "        \n",
    "        template_image_psf = butler_deep.get('goodSeeingDiff_templateExp', **dataId_string).psf\n",
    "        template_psf_radius = template_image_psf.computeShape(template_image_psf.getAveragePosition()).getDeterminantRadius()*sigma2fwhm\n",
    "\n",
    "        psf_radius_calexp_deep.append(calexp_psf_radius)\n",
    "        psf_radius_template_deep.append(template_psf_radius)\n",
    "        psf_radius_diff_deep.append(diff_psf_radius)\n",
    "\n",
    "        image_arr = template_image_deep.array\n",
    "        median_template = round(np.nanmedian(image_arr), 3)\n",
    "        median_template_deep.append(median_template)\n",
    "    \n",
    "        image_arr = calexp_image_deep.array\n",
    "        median_calexp = round(np.nanmedian(image_arr), 3)\n",
    "        median_calexp_deep.append(median_calexp)\n",
    "    \n",
    "        image_arr = diff_image_deep.array\n",
    "        median_diff = round(np.nanmedian(image_arr), 3)\n",
    "        median_diff_deep.append(median_diff)\n",
    "    \n",
    "        del(dataId_string)"
   ]
  },
  {
   "cell_type": "code",
   "execution_count": null,
   "id": "8b654ff0-c634-493e-9548-550200606470",
   "metadata": {},
   "outputs": [],
   "source": [
    "median_dict = {'num of visits in good coadd': num_visits_good,\n",
    "               'num of visits in deep coadd': num_visits_deep,\n",
    "               'visit' : visit_list_all,\n",
    "               'median calexp variance' : median_calexp_good,\n",
    "               'median template variance good' : median_template_good,\n",
    "               'median template variance deep' : median_template_deep,\n",
    "               'median diff variance good' : median_diff_good,\n",
    "               'median diff variance deep' : median_diff_deep,\n",
    "               'calexp psf' : psf_radius_calexp_deep,\n",
    "               'template psf good': psf_radius_template_good,\n",
    "               'template psf deep': psf_radius_template_deep,\n",
    "               'diff psf good': psf_radius_diff_good,\n",
    "               'diff psf deep': psf_radius_diff_deep,\n",
    "              }\n",
    "median_df = pd.DataFrame.from_dict(median_dict)\n",
    "median_df.to_csv('median_variance_psf_10visits_per_coadd.csv')"
   ]
  },
  {
   "cell_type": "code",
   "execution_count": 5,
   "id": "a80c621a-a9b3-44f3-a998-a64898d0fe45",
   "metadata": {
    "collapsed": true,
    "execution": {
     "iopub.execute_input": "2024-05-09T17:40:47.630504Z",
     "iopub.status.busy": "2024-05-09T17:40:47.630171Z",
     "iopub.status.idle": "2024-05-09T17:40:47.720744Z",
     "shell.execute_reply": "2024-05-09T17:40:47.720101Z",
     "shell.execute_reply.started": "2024-05-09T17:40:47.630488Z"
    },
    "jupyter": {
     "outputs_hidden": true
    }
   },
   "outputs": [
    {
     "ename": "NameError",
     "evalue": "name 'psf_radius_calexp_deep' is not defined",
     "output_type": "error",
     "traceback": [
      "\u001b[0;31m---------------------------------------------------------------------------\u001b[0m",
      "\u001b[0;31mNameError\u001b[0m                                 Traceback (most recent call last)",
      "Cell \u001b[0;32mIn[5], line 2\u001b[0m\n\u001b[1;32m      1\u001b[0m bins\u001b[38;5;241m=\u001b[39mnp\u001b[38;5;241m.\u001b[39mlinspace(\u001b[38;5;241m5\u001b[39m, \u001b[38;5;241m25\u001b[39m, \u001b[38;5;241m20\u001b[39m)\n\u001b[0;32m----> 2\u001b[0m plt\u001b[38;5;241m.\u001b[39mhist(\u001b[43mpsf_radius_calexp_deep\u001b[49m, bins\u001b[38;5;241m=\u001b[39mbins, alpha\u001b[38;5;241m=\u001b[39m\u001b[38;5;241m0.8\u001b[39m, edgecolor\u001b[38;5;241m=\u001b[39m\u001b[38;5;124m'\u001b[39m\u001b[38;5;124morange\u001b[39m\u001b[38;5;124m'\u001b[39m, label\u001b[38;5;241m=\u001b[39m\u001b[38;5;124m'\u001b[39m\u001b[38;5;124mDeep\u001b[39m\u001b[38;5;124m'\u001b[39m, facecolor\u001b[38;5;241m=\u001b[39m\u001b[38;5;124m\"\u001b[39m\u001b[38;5;124mNone\u001b[39m\u001b[38;5;124m\"\u001b[39m)\n\u001b[1;32m      3\u001b[0m plt\u001b[38;5;241m.\u001b[39mhist(psf_radius_calexp_good, bins\u001b[38;5;241m=\u001b[39mbins, alpha\u001b[38;5;241m=\u001b[39m\u001b[38;5;241m0.8\u001b[39m, edgecolor\u001b[38;5;241m=\u001b[39m\u001b[38;5;124m'\u001b[39m\u001b[38;5;124mblue\u001b[39m\u001b[38;5;124m'\u001b[39m, label\u001b[38;5;241m=\u001b[39m\u001b[38;5;124m'\u001b[39m\u001b[38;5;124mGood\u001b[39m\u001b[38;5;124m'\u001b[39m, facecolor\u001b[38;5;241m=\u001b[39m\u001b[38;5;124m\"\u001b[39m\u001b[38;5;124mNone\u001b[39m\u001b[38;5;124m\"\u001b[39m)\n\u001b[1;32m      4\u001b[0m plt\u001b[38;5;241m.\u001b[39mxlabel(\u001b[38;5;124m'\u001b[39m\u001b[38;5;124mPSF radius\u001b[39m\u001b[38;5;124m'\u001b[39m)\n",
      "\u001b[0;31mNameError\u001b[0m: name 'psf_radius_calexp_deep' is not defined"
     ]
    }
   ],
   "source": [
    "bins=np.linspace(5, 25, 20)\n",
    "plt.hist(psf_radius_calexp_deep, bins=bins, alpha=0.8, edgecolor='orange', label='Deep', facecolor=\"None\")\n",
    "plt.hist(psf_radius_calexp_good, bins=bins, alpha=0.8, edgecolor='blue', label='Good', facecolor=\"None\")\n",
    "plt.xlabel('PSF radius')\n",
    "plt.title('PSF historam of Calexp images')\n",
    "plt.legend()\n",
    "\n",
    "bins=np.linspace(0, 10, 20)\n",
    "plt.hist(median_template_good, bins=bins, alpha=0.8, edgecolor='orange', label='Good', facecolor=\"None\")\n",
    "plt.hist(median_template_deep, bins=bins, alpha=0.8, edgecolor='blue', label='Deep', facecolor=\"None\")\n",
    "plt.xlabel('Variance')\n",
    "plt.title('Median Variance of Templates')\n",
    "plt.legend()\n",
    "\n",
    "plt.hist(median_diff_good, alpha=0.8, edgecolor='orange', label='Good', facecolor=\"None\")\n",
    "plt.hist(median_diff_deep, alpha=0.8, edgecolor='blue', label='Deep', facecolor=\"None\")\n",
    "plt.xlabel('Variance')\n",
    "plt.title('Median Variance of Difference Images')\n",
    "plt.legend()"
   ]
  },
  {
   "cell_type": "markdown",
   "id": "10c62985-586c-4fee-b795-28ab89f3f080",
   "metadata": {},
   "source": [
    "![alt text](./PREOPS-4952-figures/median_variance_calexp.png \"Title\")\n",
    "\n",
    "![alt text](./PREOPS-4952-figures/median_variance_templates.png \"Title\")\n",
    "\n",
    "![alt text](./PREOPS-4952-figures/median_variance_diff.png \"Title\")\n",
    "\n",
    "\n",
    "The variance of the good templates is slightly larger than the deep templates. \n",
    "\n",
    "This is expected as there are fewer visits going into making the good template than the deep template"
   ]
  },
  {
   "cell_type": "markdown",
   "id": "bb5c89db-09c2-46d0-91bd-a906852e0fc3",
   "metadata": {},
   "source": [
    "### PSF\n",
    "\n",
    "For the different methods of convolution refer to the notes\n",
    "\n",
    "[https://dmtn-256.lsst.io](https://dmtn-256.lsst.io)\n",
    "\n",
    "The default convolution algorithm adjusts the PSF of the templates (if the PSF of template is larger) to match the PSF of the calexp.\n",
    "\n",
    "The PSF of the deep templates is larger (worse) than the good templates as expected due to more visits going into making it. \n",
    "\n",
    "However, the PSF of the difference images is similar no matter which template we use. This is probably because of the convolution algorithm used to match the PSFs to the PSF of calexp."
   ]
  },
  {
   "cell_type": "code",
   "execution_count": null,
   "id": "d79218fe-1c8b-4e1d-a4cf-e2a81ec66906",
   "metadata": {},
   "outputs": [],
   "source": [
    "bins=np.linspace(5, 25, 20)\n",
    "plt.hist(psf_radius_calexp_deep, bins=bins, alpha=0.8, edgecolor='orange', label='Deep', facecolor=\"None\")\n",
    "plt.hist(psf_radius_calexp_good, bins=bins, alpha=0.8, edgecolor='blue', label='Good', facecolor=\"None\")\n",
    "plt.xlabel('PSF radius')\n",
    "plt.title('PSF historam of Calexp images')\n",
    "plt.legend()\n",
    "\n",
    "plt.hist(psf_radius_template_deep, bins=bins, alpha=0.8, edgecolor='orange', label='Deep', facecolor=\"None\")\n",
    "plt.hist(psf_radius_template_good,bins=bins,  alpha=0.8, edgecolor='blue', label='Good', facecolor=\"None\")\n",
    "plt.xlabel('PSF radius')\n",
    "plt.title('PSF historam of Template images')\n",
    "plt.legend()\n",
    "\n",
    "plt.hist(psf_radius_diff_deep, bins=bins, alpha=0.8, edgecolor='orange', label='Deep', facecolor=\"None\")\n",
    "plt.hist(psf_radius_diff_good, bins=bins, alpha=0.8, edgecolor='blue', label='Good', facecolor=\"None\")\n",
    "plt.xlabel('PSF radius')\n",
    "plt.title('PSF historam of Difference images: Default convolution to match to calexp PSF')\n",
    "plt.legend()"
   ]
  },
  {
   "cell_type": "markdown",
   "id": "c5895abf-4c64-48d4-bd48-2b0728200a88",
   "metadata": {},
   "source": [
    "![alt text](./PREOPS-4952-figures/psf_calexp.png \"Title\")\n",
    "\n",
    "![alt text](./PREOPS-4952-figures/psf_templates.png \"Title\")\n",
    "\n",
    "![alt text](./PREOPS-4952-figures/psf_diff.png \"Title\")"
   ]
  },
  {
   "cell_type": "code",
   "execution_count": null,
   "id": "ae8d12de-f8ae-4921-8c30-420fad74c2c2",
   "metadata": {},
   "outputs": [],
   "source": [
    "plt.scatter(median_df['calexp psf'], median_df['template psf good'])\n",
    "plt.plot([9,20], [9, 20])\n",
    "plt.xlabel('Calexp PSF')\n",
    "plt.ylabel('Good Template PSF')\n",
    "\n",
    "plt.scatter(median_df['calexp psf'], median_df['template psf deep'])\n",
    "plt.plot([9,20], [9, 20])\n",
    "plt.xlabel('Calexp PSF')\n",
    "plt.ylabel('Deep Template PSF')"
   ]
  },
  {
   "cell_type": "markdown",
   "id": "fa934167-13e4-4c41-9a05-33c1387cb5c7",
   "metadata": {},
   "source": [
    "![alt text](./PREOPS-4952-figures/psf_good_calexp.png \"Title\")\n",
    "\n",
    "![alt text](./PREOPS-4952-figures/psf_deep_calexp.png \"Title\")\n"
   ]
  },
  {
   "cell_type": "markdown",
   "id": "10a4badd-2bee-4466-85d9-38b2e45ee724",
   "metadata": {},
   "source": [
    "###Selecting visits where good template psf < visit psf < deep template psf \n",
    "\n",
    "fraction of visits with good template psf < visit psf < deep template psf :  0.524\n",
    "\n",
    "fraction of visits with visit psf < good and deep template:  0.409\n",
    "\n",
    "fraction of visits with deep template psf < visit psf < good template psf:  0.0"
   ]
  },
  {
   "cell_type": "code",
   "execution_count": null,
   "id": "b27ce3e8-2cd8-48f3-a8f9-b7ad09e85928",
   "metadata": {},
   "outputs": [],
   "source": [
    "df_interesting_visits =  median_df[(median_df['calexp psf'] > median_df['template psf good']) \n",
    "                                    & (median_df['calexp psf'] < median_df['template psf deep'])]\n",
    "\n",
    "# Difference between the Calexp and Template PSF\n",
    "diff_visit_good = df_interesting_visits['calexp psf'].values - df_interesting_visits['template psf good'].values\n",
    "diff_visit_deep =  df_interesting_visits['template psf deep'].values - df_interesting_visits['calexp psf'].values"
   ]
  },
  {
   "cell_type": "code",
   "execution_count": null,
   "id": "8bfd07b2-8948-4eb4-aeda-4b1e64c46a32",
   "metadata": {},
   "outputs": [],
   "source": [
    "bins=np.linspace(8, 19, 20)\n",
    "plt.hist(df_interesting_visits['calexp psf'], bins=bins, alpha=1.0, edgecolor='k',  histtype='step', label='Visit')\n",
    "plt.hist(df_interesting_visits['template psf deep'], bins=bins, alpha=1.0, edgecolor='orange',  histtype='step', label='Deep')\n",
    "plt.hist(df_interesting_visits['template psf good'], bins=bins, alpha=1.0, edgecolor='blue',  histtype='step', label='Good')\n",
    "plt.xlabel('PSF radius')\n",
    "# plt.title('PSF historam of Template images')\n",
    "plt.legend()\n",
    "\n",
    "bins=np.linspace(0.0, 3.0, 20)\n",
    "plt.hist(diff_visit_good, bins=bins, alpha=1.0, edgecolor='k',  histtype='step', label='Visit - Good template PSF')\n",
    "plt.hist(diff_visit_deep, bins=bins, alpha=1.0, edgecolor='orange',  histtype='step', label='Deep template - Visit PSF')\n",
    "plt.xlabel('PSF Difference radius')\n",
    "# plt.title('PSF historam of Template images')\n",
    "plt.legend()\n",
    "\n",
    "bins=np.linspace(0.0, 0.5, 20)\n",
    "plt.hist(diff_visit_good/df_interesting_visits['calexp psf'].values, bins=bins, alpha=1.0, edgecolor='k',  histtype='step', label='Visit - Good template PSF')\n",
    "plt.hist(diff_visit_deep/df_interesting_visits['calexp psf'].values, bins=bins, alpha=1.0, edgecolor='orange',  histtype='step', label='Deep template - Visit PSF')\n",
    "plt.xlabel('PSF Difference radius / Visit PSF')\n",
    "# plt.title('PSF historam of Template images')\n",
    "plt.legend()"
   ]
  },
  {
   "cell_type": "markdown",
   "id": "cb9a84f3-f851-45d0-9109-dc3e51174b17",
   "metadata": {},
   "source": [
    "![alt text](./PREOPS-4952-figures/psf_good_deep_calexp.png \"Title\")\n",
    "\n",
    "![alt text](./PREOPS-4952-figures/psf_difference.png \"Title\")\n",
    "\n",
    "![alt text](./PREOPS-4952-figures/psf_difference_fraction.png \"Title\")"
   ]
  },
  {
   "cell_type": "markdown",
   "id": "6366c087-0f6d-4fd8-89ea-669e9a112d29",
   "metadata": {},
   "source": [
    "### SNR of interesting visits"
   ]
  },
  {
   "cell_type": "code",
   "execution_count": null,
   "id": "fca69955-529b-4285-a913-651b613d5b03",
   "metadata": {},
   "outputs": [],
   "source": []
  }
 ],
 "metadata": {
  "kernelspec": {
   "display_name": "LSST",
   "language": "python",
   "name": "lsst"
  },
  "language_info": {
   "codemirror_mode": {
    "name": "ipython",
    "version": 3
   },
   "file_extension": ".py",
   "mimetype": "text/x-python",
   "name": "python",
   "nbconvert_exporter": "python",
   "pygments_lexer": "ipython3",
   "version": "3.11.7"
  }
 },
 "nbformat": 4,
 "nbformat_minor": 5
}
