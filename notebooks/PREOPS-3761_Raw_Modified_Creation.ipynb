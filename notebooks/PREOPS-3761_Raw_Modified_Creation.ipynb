{
 "cells": [
  {
   "cell_type": "markdown",
   "id": "fade4985-fbd6-4c33-9067-e649247e7297",
   "metadata": {},
   "source": [
    "Created by John Banovetz\n",
    "Last Edited: 10/12/2023"
   ]
  },
  {
   "cell_type": "markdown",
   "id": "854745a5-94df-4050-9b67-6961ff6fdd62",
   "metadata": {},
   "source": [
    "This notebook shows how the 'raw' DC2 images were modified and then resaved as 'raw_modified' images for PREOPS-3761"
   ]
  },
  {
   "cell_type": "code",
   "execution_count": 1,
   "id": "d9f05f30-ffc6-49d8-b470-942d6de0bdec",
   "metadata": {
    "execution": {
     "iopub.execute_input": "2023-10-12T22:04:53.833657Z",
     "iopub.status.busy": "2023-10-12T22:04:53.833441Z",
     "iopub.status.idle": "2023-10-12T22:04:53.835876Z",
     "shell.execute_reply": "2023-10-12T22:04:53.835544Z",
     "shell.execute_reply.started": "2023-10-12T22:04:53.833641Z"
    },
    "tags": []
   },
   "outputs": [],
   "source": [
    "from lsst.daf.butler import Butler"
   ]
  },
  {
   "cell_type": "code",
   "execution_count": 2,
   "id": "c0d6a332-7348-4c7e-9b73-13adfe81165a",
   "metadata": {
    "execution": {
     "iopub.execute_input": "2023-10-12T22:04:54.290209Z",
     "iopub.status.busy": "2023-10-12T22:04:54.290076Z",
     "iopub.status.idle": "2023-10-12T22:04:56.366281Z",
     "shell.execute_reply": "2023-10-12T22:04:56.365807Z",
     "shell.execute_reply.started": "2023-10-12T22:04:54.290199Z"
    },
    "tags": []
   },
   "outputs": [],
   "source": [
    "butler=Butler('/repo/dc2')\n",
    "registry=butler.registry"
   ]
  },
  {
   "cell_type": "code",
   "execution_count": 3,
   "id": "9380f1a5-f048-4805-934b-cf025fe3466c",
   "metadata": {
    "execution": {
     "iopub.execute_input": "2023-10-12T22:05:18.566216Z",
     "iopub.status.busy": "2023-10-12T22:05:18.565623Z",
     "iopub.status.idle": "2023-10-12T22:05:18.568225Z",
     "shell.execute_reply": "2023-10-12T22:05:18.567842Z",
     "shell.execute_reply.started": "2023-10-12T22:05:18.566203Z"
    },
    "tags": []
   },
   "outputs": [],
   "source": [
    "# This was the latest reprocessing of DC2 data\n",
    "dc2_collection=[\n",
    "    '2.2i/runs/test-med-1/w_2023_34/DM-40459'\n",
    "]"
   ]
  },
  {
   "cell_type": "code",
   "execution_count": 5,
   "id": "1349d999-090e-4286-af76-26422f27d640",
   "metadata": {
    "execution": {
     "iopub.execute_input": "2023-10-12T22:05:41.082931Z",
     "iopub.status.busy": "2023-10-12T22:05:41.082429Z",
     "iopub.status.idle": "2023-10-12T22:05:41.548987Z",
     "shell.execute_reply": "2023-10-12T22:05:41.548486Z",
     "shell.execute_reply.started": "2023-10-12T22:05:41.082911Z"
    },
    "tags": []
   },
   "outputs": [],
   "source": [
    "# Dectecor 88 was chosen as it is an e2V detector where the persistence is present\n",
    "det=88\n",
    "kwargs={\n",
    "\"datasetType\": \"raw\",\n",
    "\"collections\": dc2_collection,\n",
    "\"findFirst\": True,\n",
    "'detector': det,\n",
    "'instrument': 'LSSTCam-imSim'\n",
    "}\n",
    "\n",
    "datasetRefs_dc2 = list(registry.queryDatasets(**kwargs))"
   ]
  },
  {
   "cell_type": "code",
   "execution_count": null,
   "id": "7621a6c8-02ac-498b-a3c9-09576e963dd8",
   "metadata": {},
   "outputs": [],
   "source": [
    "# Set run to where ever you want the output, this is the output for the process used in PREOPS-3761\n",
    "butler_output=Butler('/repo/dc2',run='u/banovetz/dc2/w_2023_34/raw_persistence_single_value',writeable=True)"
   ]
  },
  {
   "cell_type": "code",
   "execution_count": null,
   "id": "318ba9ca-be6a-4eb8-a8f5-e3946d3c1ed4",
   "metadata": {},
   "outputs": [],
   "source": [
    "#This sets up the new dataset type, might not have to be executed\n",
    "original_raw_dst=butler_output.registry.getDatasetType(\"raw\")\n",
    "new_dst=DatasetType('raw_modified',original_raw_dst.dimensions,original_raw_dst.storageClass)"
   ]
  },
  {
   "cell_type": "code",
   "execution_count": 6,
   "id": "b9b1a267-3ddc-439f-a7e4-fda8d4b5ffb1",
   "metadata": {
    "execution": {
     "iopub.execute_input": "2023-10-12T22:33:12.410567Z",
     "iopub.status.busy": "2023-10-12T22:33:12.410129Z",
     "iopub.status.idle": "2023-10-12T22:33:12.413723Z",
     "shell.execute_reply": "2023-10-12T22:33:12.413312Z",
     "shell.execute_reply.started": "2023-10-12T22:33:12.410554Z"
    },
    "tags": []
   },
   "outputs": [],
   "source": [
    "def tau_function(t):\n",
    "#   Simple model for the persistence\n",
    "    tau=37\n",
    "    a=6\n",
    "    return(a*np.exp(-t/tau))\n",
    "\n",
    "def saturated_footprints(exp):\n",
    "    # Detection method for finding the saturated pixels\n",
    "    # Adapation of the lsst.summit.utils.detectObjectsinExp code\n",
    "    threshold=140000\n",
    "    grow=1\n",
    "    nPixMin=5\n",
    "    threshold = afwDetect.Threshold(threshold, afwDetect.Threshold.VALUE)\n",
    "    footPrintSet = afwDetect.FootprintSet(exp.getMaskedImage(), threshold, \"DETECTED\", nPixMin)\n",
    "    if grow > 0:\n",
    "        isotropic = True\n",
    "        footPrintSet = afwDetect.FootprintSet(footPrintSet, grow, isotropic)\n",
    "    return(footPrintSet)"
   ]
  },
  {
   "cell_type": "code",
   "execution_count": null,
   "id": "0becbe1d-93fc-49af-9679-18d7217c6d9e",
   "metadata": {},
   "outputs": [],
   "source": [
    "# This is the for loop that runs the changes. Currently does only 100 of the 345 images and saves the 'raw_modified' images to the run from above.\n",
    "times=[]\n",
    "fptset_all=[]\n",
    "for i in range(0,101):\n",
    "    if i==0:\n",
    "        check=butler.get(datasetRefs_2[i])\n",
    "        times.append(0)\n",
    "        fptset=saturated_footprints(check)\n",
    "        fptset_all.append(fptset)\n",
    "    else:\n",
    "        og=butler.get(datasetRefs_2[i])\n",
    "        check=og.clone()\n",
    "        dark=np.zeros_like(check.image.array)\n",
    "        for ind,(time,fptset) in enumerate(zip(times,fptset_all)):\n",
    "            persist=tau_function(time)\n",
    "            for fpt in fptset.getFootprints():\n",
    "                x1=fpt.getBBox().beginX\n",
    "                x2=fpt.getBBox().endX\n",
    "                y1=fpt.getBBox().beginY\n",
    "                y2=fpt.getBBox().endY\n",
    "                sat_arr=fpt.spans.asArray()\n",
    "                float_arr=np.zeros_like(sat_arr,dtype='float')\n",
    "                for y,row in enumerate(sat_arr):\n",
    "                    for x,val in enumerate(row):\n",
    "                        if val==True:\n",
    "                            float_arr[y][x]=persist\n",
    "                        else:\n",
    "                            float_arr[y][x]=0 \n",
    "                yc=int((y1+y2)/2)\n",
    "                xc=int(x2-x2)\n",
    "                if yc<2000:\n",
    "                    yt1=0\n",
    "                    yt2=yc\n",
    "                else:\n",
    "                    yt1=yc\n",
    "                    yt2=og.image.array.shape[1]\n",
    "                trail_arr=np.zeros_like(check.image.array[yt1:yt2,x1:x2])\n",
    "                trail_arr[:,:]=persist\n",
    "                check.image.array[y1:y2,x1:x2]=check.image.array[y1:y2,x1:x2]+float_arr\n",
    "                check.image.array[yt1:yt2,x1:x2]=check.image.array[yt1:yt2,x1:x2]+trail_arr\n",
    "                dark[yt1:yt2,x1:x2]=trail_arr\n",
    "                dark[y1:y2,x1:x2]=float_arr\n",
    "            times[ind]+=30\n",
    "        times.append(0)\n",
    "        fptset=saturated_footprints(check)\n",
    "        fptset_all.append(fptset)\n",
    "        butler_output.put(check, 'raw_modified', datasetRefs_2[i].dataId)"
   ]
  },
  {
   "cell_type": "markdown",
   "id": "755aed89-9315-476d-bfbf-3a9e7c37b01f",
   "metadata": {},
   "source": [
    "This is then run through the pipeline via this yaml file:"
   ]
  },
  {
   "cell_type": "raw",
   "id": "5fbb5f9d-98a2-40e1-a6f3-33fd2b4eda2b",
   "metadata": {},
   "source": [
    "description: DRP specialized for ci_imsim test package.\n",
    "instrument: lsst.obs.lsst.LsstCamImSim\n",
    "imports:\n",
    "  - $DRP_PIPE_DIR/pipelines/_ingredients/LSSTCam-imSim/DRP.yaml\n",
    "tasks:\n",
    "  isr:\n",
    "    class: lsst.ip.isr.IsrTask\n",
    "    config:\n",
    "      connections.newBFKernel: bfk\n",
    "      doDefect: false\n",
    "      doBrighterFatter: true\n",
    "      connections.ccdExposure: raw_modified"
   ]
  },
  {
   "cell_type": "markdown",
   "id": "764c0dcf-baa8-4519-b6ec-786ac645e3d9",
   "metadata": {},
   "source": [
    "Pipeline command is:"
   ]
  },
  {
   "cell_type": "raw",
   "id": "366913f0-dcbc-41b8-b77c-11b4b312f274",
   "metadata": {},
   "source": [
    "pipetask run -b /repo/dc2 -i 2.2i/defaults/test-med-1,u/banovetz/dc2/w_2023_34/raw_persistence -o u/banovetz/dc2/w_2023_34/raw_persistence_output -p /home/b/banovetz/raw_modified.yaml#isr,characterizeImage,calibrate -d \"instrument='LSSTCam-imSim' and detector=88\""
   ]
  },
  {
   "cell_type": "code",
   "execution_count": null,
   "id": "64c6dd3e-9c35-4c1c-8805-bb959447f901",
   "metadata": {},
   "outputs": [],
   "source": []
  }
 ],
 "metadata": {
  "kernelspec": {
   "display_name": "LSST",
   "language": "python",
   "name": "lsst"
  },
  "language_info": {
   "codemirror_mode": {
    "name": "ipython",
    "version": 3
   },
   "file_extension": ".py",
   "mimetype": "text/x-python",
   "name": "python",
   "nbconvert_exporter": "python",
   "pygments_lexer": "ipython3",
   "version": "3.11.4"
  }
 },
 "nbformat": 4,
 "nbformat_minor": 5
}
