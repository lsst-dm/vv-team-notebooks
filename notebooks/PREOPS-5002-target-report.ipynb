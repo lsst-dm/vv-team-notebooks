{
 "cells": [
  {
   "cell_type": "markdown",
   "id": "b79f6019-6d93-4ae3-b977-e871420921eb",
   "metadata": {},
   "source": [
    "<img align=\"left\" src = https://project.lsst.org/sites/default/files/Rubin-O-Logo_0.png width=250 style=\"padding: 10px\"> \n",
    "<br><b>Prototype Target Dashboard</b> <br>\n",
    "Contact author: Douglas Tucker <br>\n",
    "Last verified to run: 2024-08-07 <br>\n",
    "LSST Science Pipelines version: Weekly 2024_16 <br>\n",
    "Container size: medium <br>"
   ]
  },
  {
   "cell_type": "markdown",
   "id": "3c90fdc1-462a-425e-948c-5ca98a52f1e1",
   "metadata": {},
   "source": [
    "**Description:** A prototype dashboard for exploring targets (and science programs) for a given night.  This initial version focuses on AuxTel observations, but should be useful for ComCom and LSSTcam commissioning, when there will be a greater diversity of observational programs than those provided by the survey scheduler during standard operations.\n",
    "\n",
    "See Jira issue <a href=https://rubinobs.atlassian.net/browse/PREOPS-5002>PREOPS-5002</a>."
   ]
  },
  {
   "cell_type": "markdown",
   "id": "5c8cbb2d-467b-4ddc-87df-635862976392",
   "metadata": {},
   "source": [
    "**Credit:** Based heavily on the <a href=https://github.com/sylvielsstfr/AuxTelComm/blob/main/notebooks_usdf/ana_auxtelprod_jn/spectractor_v3.1.0_May2024/ListOfExposures-hologram-oga.ipynb> List of Exposures at USDF in OGA</a> notebook by Sylvie Dagoret-Campagne.  This initial \"Prototype Target Dashboard\" notebook would not have been possible without it."
   ]
  },
  {
   "cell_type": "markdown",
   "id": "d5c0d326-b723-40d6-8c8d-53b0276b24ae",
   "metadata": {},
   "source": [
    "## 1. Introduction"
   ]
  },
  {
   "cell_type": "markdown",
   "id": "41598310-4edb-4da0-a820-33b50d72a0b6",
   "metadata": {},
   "source": [
    "### 1.0 User Input"
   ]
  },
  {
   "cell_type": "markdown",
   "id": "4e1784fd-3f13-41aa-ac49-d90bf80df574",
   "metadata": {},
   "source": [
    "Define repo, collection, instrument, and day of observation to study:"
   ]
  },
  {
   "cell_type": "code",
   "execution_count": 1,
   "id": "d516ac27-04e5-42bd-83b0-2ade3cfa96cb",
   "metadata": {
    "execution": {
     "iopub.execute_input": "2024-08-07T23:19:46.333337Z",
     "iopub.status.busy": "2024-08-07T23:19:46.333042Z",
     "iopub.status.idle": "2024-08-07T23:19:46.336131Z",
     "shell.execute_reply": "2024-08-07T23:19:46.335805Z",
     "shell.execute_reply.started": "2024-08-07T23:19:46.333320Z"
    }
   },
   "outputs": [],
   "source": [
    "## LATISS data from April 2024:\n",
    "##repo = \"/sdf/group/rubin/repo/main\"\n",
    "##repo=\"/sdf/group/rubin/repo/oga/\"\n",
    "##collection='LATISS/raw/all'\n",
    "##instrument = 'LATISS'\n",
    "##day_obs = 20240422\n",
    "\n",
    "## Ops Rehearsal 3, \"Intermittent Cumulative DRP: of the 3 nights of ops rehearsal 3 data\n",
    "##  (https://confluence.lsstcorp.org/display/DM/Campaigns)\n",
    "#repo = \"/repo/embargo\"\n",
    "#collection='LSSTComCamSim/quickLook/24'\n",
    "#instrument = 'LSSTComCamSim'\n",
    "#day_obs = 20240404\n",
    "\n",
    "# Ops Rehearsal 4 intra-night\n",
    "#  (https://confluence.lsstcorp.org/display/DM/Campaigns)\n",
    "repo = \"embargo_or4\"\n",
    "collection = 'LSSTComCamSim/nightlyValidation/0'\n",
    "instrument = 'LSSTComCamSim'\n",
    "day_obs = 20240625\n",
    "\n",
    "# The intra-night collection does not seem to have a skymap; \n",
    "#  so we will use the 10am collection to grab the skymap\n",
    "lsst_distrib_tag = \"w_2024_25\"\n",
    "collection_sky = \"\"\"LSSTComCamSim/runs/nightlyValidation/%d/%s/DM-44966\"\"\" % (day_obs, lsst_distrib_tag)\n",
    "skymap_name = 'ops_rehersal_prep_2k_v1'\n"
   ]
  },
  {
   "cell_type": "markdown",
   "id": "592b9a8e-8cd0-4e2f-872b-c87d705a4611",
   "metadata": {},
   "source": [
    "Define columns to groupby and plot against each other:"
   ]
  },
  {
   "cell_type": "code",
   "execution_count": 2,
   "id": "480274e8-cb05-4ec2-977a-0b94f55c11b1",
   "metadata": {
    "execution": {
     "iopub.execute_input": "2024-08-07T23:19:46.336694Z",
     "iopub.status.busy": "2024-08-07T23:19:46.336576Z",
     "iopub.status.idle": "2024-08-07T23:19:46.344934Z",
     "shell.execute_reply": "2024-08-07T23:19:46.344592Z",
     "shell.execute_reply.started": "2024-08-07T23:19:46.336684Z"
    }
   },
   "outputs": [],
   "source": [
    "col_sciprog = 'science_program'\n",
    "#col_target = 'target'\n",
    "#col_target = 'HPX8'  # HPX8 is used as a proxy for target_name or block\n",
    "col_target = 'field_name'  # field_name is used as a proxy for target_name or block\n",
    "col_filter = 'filter'\n",
    "col_id = 'id'"
   ]
  },
  {
   "cell_type": "markdown",
   "id": "11939796-4036-4e02-938e-5acb59cff017",
   "metadata": {},
   "source": [
    "### 1.1 Import Packages"
   ]
  },
  {
   "cell_type": "code",
   "execution_count": 3,
   "id": "08b3556a",
   "metadata": {
    "execution": {
     "iopub.execute_input": "2024-08-07T23:19:46.345479Z",
     "iopub.status.busy": "2024-08-07T23:19:46.345366Z",
     "iopub.status.idle": "2024-08-07T23:19:47.920809Z",
     "shell.execute_reply": "2024-08-07T23:19:47.920219Z",
     "shell.execute_reply.started": "2024-08-07T23:19:46.345469Z"
    },
    "tags": []
   },
   "outputs": [],
   "source": [
    "import sys\n",
    "import os\n",
    "import io\n",
    "import math\n",
    "import matplotlib.pyplot as plt\n",
    "import seaborn as sns\n",
    "import numpy as np\n",
    "import pandas as pd\n",
    "import healpy as hp\n",
    "from matplotlib.colors import LogNorm\n",
    "from IPython.display import display, HTML\n",
    "import lsst.afw.display as afwDisplay\n",
    "import lsst.daf.butler as dafButler\n",
    "import lsst.geom as geom\n",
    "\n",
    "from mpl_toolkits.axes_grid1 import make_axes_locatable\n",
    "\n",
    "import matplotlib.ticker\n",
    "from matplotlib.ticker import (MultipleLocator, FormatStrFormatter, AutoMinorLocator)\n",
    "\n",
    "from astropy.io import fits\n",
    "from astropy.time import Time\n",
    "\n",
    "import warnings"
   ]
  },
  {
   "cell_type": "markdown",
   "id": "7f0480fa-3163-4355-81e2-b66004e31f0b",
   "metadata": {},
   "source": [
    "### 1.2. Define functions and parameters"
   ]
  },
  {
   "cell_type": "markdown",
   "id": "34fbb5ee-c89e-4cb3-a746-1eb0c3dbc38b",
   "metadata": {},
   "source": [
    "Create a function to create a pandas DataFrame, df_grouped, that contains the results of performing a 2D groupby operation on a pandas DataFrame, df, and counts the number of entries in the col_count column for each (col_x, col_y).  One can choose to include a count of zero for cases where (col_x, col_y) have no entries in col_count (the default), or to exclude those cases.  The resulting pandas DataFrame, df_grouped, is also sorted by (col_x, col_y)."
   ]
  },
  {
   "cell_type": "code",
   "execution_count": 4,
   "id": "2fd7808f-8111-4c23-8735-5a8fbc26b67f",
   "metadata": {
    "execution": {
     "iopub.execute_input": "2024-08-07T23:19:47.922268Z",
     "iopub.status.busy": "2024-08-07T23:19:47.922122Z",
     "iopub.status.idle": "2024-08-07T23:19:47.925629Z",
     "shell.execute_reply": "2024-08-07T23:19:47.925208Z",
     "shell.execute_reply.started": "2024-08-07T23:19:47.922256Z"
    }
   },
   "outputs": [],
   "source": [
    "# Thanks to the ChatGPT on Poe.com and to https://stackoverflow.com/questions/37003100/pandas-groupby-for-zero-values for help in creating this function!\n",
    "\n",
    "def df2Dgroupby(df, col_x, col_y, col_count, fill_zeros=True):\n",
    "\n",
    "    if fill_zeros==True:\n",
    "\n",
    "        df_grouped = (\n",
    "            df_science.groupby([col_x, col_y])[col_count]\n",
    "            .count()\n",
    "            .unstack(fill_value=0)\n",
    "            .stack()\n",
    "            .reset_index()\n",
    "            .rename(columns={0: \"number\"})\n",
    "            .sort_values([col_x, col_y])\n",
    "        )\n",
    "\n",
    "    else:\n",
    "\n",
    "        df_grouped = (\n",
    "            df_science.groupby([col_x, col_y])[col_count]\n",
    "            .count()\n",
    "            .reset_index()\n",
    "            .rename(columns={col_count: \"number\"})\n",
    "            .sort_values([col_x, col_y])\n",
    "        )\n",
    "        \n",
    "    return df_grouped"
   ]
  },
  {
   "cell_type": "markdown",
   "id": "b30c8654-0e50-49a0-8fd1-4c4977c5f5f1",
   "metadata": {},
   "source": [
    "The same, but for performing the `groupby` over 3 columns:  "
   ]
  },
  {
   "cell_type": "code",
   "execution_count": 5,
   "id": "48629971-c159-4e22-af48-f1a7afb61839",
   "metadata": {
    "execution": {
     "iopub.execute_input": "2024-08-07T23:19:47.926404Z",
     "iopub.status.busy": "2024-08-07T23:19:47.926149Z",
     "iopub.status.idle": "2024-08-07T23:19:47.935422Z",
     "shell.execute_reply": "2024-08-07T23:19:47.935009Z",
     "shell.execute_reply.started": "2024-08-07T23:19:47.926392Z"
    }
   },
   "outputs": [],
   "source": [
    "# Thanks to the ChatGPT on Poe.com and to https://stackoverflow.com/questions/37003100/pandas-groupby-for-zero-values for help in creating this function!\n",
    "\n",
    "def df3Dgroupby(df, col_x, col_y, col_z, col_count, fill_zeros=True):\n",
    "\n",
    "    if fill_zeros==True:\n",
    "\n",
    "        df_grouped = (\n",
    "            df_science.groupby([col_x, col_y, col_z])[col_count]\n",
    "            .count()\n",
    "            .unstack(fill_value=0)\n",
    "            .stack()\n",
    "            .reset_index()\n",
    "            .rename(columns={0: \"number\"})\n",
    "            .sort_values([col_x, col_y, col_z])\n",
    "        )\n",
    "\n",
    "    else:\n",
    "\n",
    "        df_grouped = (\n",
    "            df_science.groupby([col_x, col_y, col_z])[col_count]\n",
    "            .count()\n",
    "            .reset_index()\n",
    "            .rename(columns={col_count: \"number\"})\n",
    "            .sort_values([col_x, col_y, col_z])\n",
    "        )\n",
    "        \n",
    "    return df_grouped"
   ]
  },
  {
   "cell_type": "markdown",
   "id": "3a7f9d55-4e9b-4f15-a483-dce41a6f76cc",
   "metadata": {},
   "source": [
    "Create a function to plot an annotated headmap for a pandas DataFrame created by the above `df2Dgroupby` function:"
   ]
  },
  {
   "cell_type": "code",
   "execution_count": 6,
   "id": "ee220a70-00c4-4726-a384-cdc758a4a298",
   "metadata": {
    "execution": {
     "iopub.execute_input": "2024-08-07T23:19:47.935982Z",
     "iopub.status.busy": "2024-08-07T23:19:47.935866Z",
     "iopub.status.idle": "2024-08-07T23:19:47.943140Z",
     "shell.execute_reply": "2024-08-07T23:19:47.942733Z",
     "shell.execute_reply.started": "2024-08-07T23:19:47.935972Z"
    }
   },
   "outputs": [],
   "source": [
    "# With a little help from https://seaborn.pydata.org/generated/seaborn.heatmap.html ...\n",
    "\n",
    "def plotAnnotatedHeatMap_df2Dgroupby(df_grouped, col_index, col_column, col_values, title='Annotated Heatmap', cmap='Blues'):\n",
    "\n",
    "    # Estimate a good figure size in x,y for the resulting plot...\n",
    "    figsize_x = df_grouped[col_column].unique().size\n",
    "    figsize_y = df_grouped[col_index].unique().size\n",
    "    if figsize_y < 3:\n",
    "        figsize_y = 1\n",
    "    else:\n",
    "        figsize_y = round(figsize_y/3)\n",
    "    \n",
    "    # Pivot the DataFrame to works with Seaborn heatmap...\n",
    "    pivot_table = df_grouped.pivot(index=col_index, columns=col_column, values=col_values)\n",
    "    fig, ax = plt.subplots(figsize=(figsize_x, figsize_y))\n",
    "    #fig, ax = plt.subplots(figsize=(5, 15))\n",
    "    #fig, ax = plt.subplots()\n",
    "\n",
    "    # Plot the annoated heatmap...\n",
    "    sns.heatmap(pivot_table, annot=True, cmap=cmap, linecolor='Black', linewidths=0.1, ax=ax)\n",
    "\n",
    "    # Add labels and title and rotate the x tick labels by 90 degrees...\n",
    "    ax.set_xlabel(col_column)\n",
    "    ax.set_ylabel(col_index)\n",
    "    ax.set_title(title)\n",
    "    plt.xticks(rotation=90)"
   ]
  },
  {
   "cell_type": "markdown",
   "id": "98e8f8a9-2518-4fb7-9e4f-44a7cdcf3264",
   "metadata": {},
   "source": [
    "Create a function to perform a many-to-one match based on RA, DEC sky coordinates:"
   ]
  },
  {
   "cell_type": "code",
   "execution_count": 7,
   "id": "b9ef46fb-8f50-49d0-bbae-0a2662baa7d5",
   "metadata": {
    "execution": {
     "iopub.execute_input": "2024-08-07T23:19:47.943767Z",
     "iopub.status.busy": "2024-08-07T23:19:47.943651Z",
     "iopub.status.idle": "2024-08-07T23:19:47.955467Z",
     "shell.execute_reply": "2024-08-07T23:19:47.955127Z",
     "shell.execute_reply.started": "2024-08-07T23:19:47.943757Z"
    }
   },
   "outputs": [],
   "source": [
    "# Kudos to Claude-3.5-Sonnet AI from Poe.com fro this function!\n",
    "\n",
    "def skyMatchCatManytoOne(df_a, df_a_ra_colname, df_a_dec_colname, df_b, df_b_ra_colname, df_b_dec_colname, max_sep_deg):\n",
    "\n",
    "    from astropy.coordinates import SkyCoord # High-level coordinates\n",
    "    from astropy.coordinates import ICRS, Galactic, FK4, FK5  # Low-level frames\n",
    "    from astropy.coordinates import Angle, Latitude, Longitude  # Angles\n",
    "    from astropy import units as u\n",
    "    from astropy.coordinates.matching import search_around_sky\n",
    "    import numpy as np\n",
    "    import pandas as pd\n",
    "\n",
    "    # Create SkyCoord objects for both DataFrames\n",
    "    coords_a = SkyCoord(ra=df_a[df_a_ra_colname].values*u.degree, dec=df_a[df_a_dec_colname].values*u.degree)\n",
    "    coords_b = SkyCoord(ra=df_b[df_b_ra_colname].values*u.degree, dec=df_b[df_b_dec_colname].values*u.degree)\n",
    "\n",
    "    # Set a maximum separation for matching (adjust as needed)\n",
    "    max_sep_deg = max_sep_deg * u.degree\n",
    "\n",
    "    # Perform the search\n",
    "    idx_a, idx_b, d2d, _ = search_around_sky(coords_a, coords_b, max_sep_deg)\n",
    "\n",
    "    # Create a DataFrame with the matches\n",
    "    df_matches = pd.DataFrame({\n",
    "        'idx_a': idx_a,\n",
    "        'idx_b': idx_b,\n",
    "        'separation': d2d.degree\n",
    "    })\n",
    "\n",
    "    # Group by idx_a and find the minimum separation for each\n",
    "    best_matches = df_matches.loc[df_matches.groupby('idx_a')['separation'].idxmin()]\n",
    "\n",
    "    # Create the final matched DataFrame, keeping all entries from df_a\n",
    "    df_matched = df_a.copy()\n",
    "\n",
    "    # Prepare the data from df_b to be joined\n",
    "    df_b_matched = df_b.iloc[best_matches['idx_b']].copy()\n",
    "    df_b_matched['idx_a'] = best_matches['idx_a'].values\n",
    "    df_b_matched['separation'] = best_matches['separation'].values\n",
    "    df_b_matched = df_b_matched.set_index('idx_a')\n",
    "\n",
    "    # Perform the left join\n",
    "    df_matched = df_matched.join(df_b_matched, rsuffix='_b')\n",
    "    \n",
    "    # Reset index if needed\n",
    "    df_matched = df_matched.reset_index(drop=True)\n",
    "\n",
    "    # Fill NaN values in the 'separation' column with a sentinel value (e.g., -1) to indicate no match\n",
    "    df_matched['separation'] = df_matched['separation'].fillna(-1)\n",
    "\n",
    "    # Optionally, you can add a boolean column to easily identify matched and unmatched rows\n",
    "    df_matched['has_match'] = df_matched['separation'] != -1\n",
    "\n",
    "    # Print some statistics\n",
    "    print(f\"Total entries in df_a: {len(df_a)}\")\n",
    "    print(f\"Entries in df_a with matches: {df_matched['has_match'].sum()}\")\n",
    "    print(f\"Entries in df_a without matches: {(~df_matched['has_match']).sum()}\")\n",
    "\n",
    "    return df_matched"
   ]
  },
  {
   "cell_type": "markdown",
   "id": "801c9fdf-70a4-463f-b73e-6f01a6497967",
   "metadata": {},
   "source": [
    "Define some healpix tools <span style=\"color:red; font-weight:bold\">(Maybe no longer necessary?)</span>:"
   ]
  },
  {
   "cell_type": "code",
   "execution_count": 8,
   "id": "45b41be8-c1e3-428c-9aa2-ab6e2f46afd6",
   "metadata": {
    "execution": {
     "iopub.execute_input": "2024-08-07T23:19:47.956019Z",
     "iopub.status.busy": "2024-08-07T23:19:47.955905Z",
     "iopub.status.idle": "2024-08-07T23:19:47.965270Z",
     "shell.execute_reply": "2024-08-07T23:19:47.964929Z",
     "shell.execute_reply.started": "2024-08-07T23:19:47.956010Z"
    }
   },
   "outputs": [],
   "source": [
    "# Thanks to Sahar Allam and Alex Drlica-Wagner!\n",
    "\n",
    "##################################\n",
    "def radec2thetaphi(ra, dec):\n",
    "    import numpy as np\n",
    "    return (90-dec)*np.pi/180., ra*np.pi/180.\n",
    "\n",
    "##################################\n",
    "#DESDM uses nside=128, nest=True\n",
    "#Alex Drlica Wagner's healpixelated Gaia DR2 on des40 uses nside=32, nest=False\n",
    "def getipix(nside,ra,dec,nest=True):\n",
    "    import healpy as hp\n",
    "    theta, phi = radec2thetaphi(ra, dec)\n",
    "    ipix = hp.pixelfunc.ang2pix(nside, theta, phi, nest)\n",
    "    return ipix\n",
    "\n",
    "##################################"
   ]
  },
  {
   "cell_type": "markdown",
   "id": "a8052dc3-f672-4ae6-9a16-e0ef6a30722c",
   "metadata": {},
   "source": [
    "Define a function to return the tract id, given the ra, dec and a skymap:"
   ]
  },
  {
   "cell_type": "code",
   "execution_count": 9,
   "id": "06739927-d21e-449c-ac6a-89e0118d14ad",
   "metadata": {
    "execution": {
     "iopub.execute_input": "2024-08-07T23:19:47.965796Z",
     "iopub.status.busy": "2024-08-07T23:19:47.965675Z",
     "iopub.status.idle": "2024-08-07T23:19:47.975171Z",
     "shell.execute_reply": "2024-08-07T23:19:47.974601Z",
     "shell.execute_reply.started": "2024-08-07T23:19:47.965784Z"
    }
   },
   "outputs": [],
   "source": [
    "def find_tract(ra,dec,skymap):\n",
    "\n",
    "    import lsst.geom as geom\n",
    "    \n",
    "    try:\n",
    "        sky_point = geom.SpherePoint(ra * geom.degrees,\n",
    "                                     dec * geom.degrees)\n",
    "\n",
    "        tract = skymap.findTract(sky_point)\n",
    "        tract = tract.tract_id\n",
    "    \n",
    "        del sky_point\n",
    "\n",
    "    except:\n",
    "        \n",
    "        tract = -1\n",
    "    \n",
    "    return tract"
   ]
  },
  {
   "cell_type": "markdown",
   "id": "8190d119-3a48-490d-ae6b-f9d2b1a4f7e6",
   "metadata": {},
   "source": [
    "Define a class to stop \"Run All\" at a code cell containing the command \"raise StopExecution\":"
   ]
  },
  {
   "cell_type": "code",
   "execution_count": 10,
   "id": "c81c9f13-1b9a-4d60-84a8-50368873fb0e",
   "metadata": {
    "execution": {
     "iopub.execute_input": "2024-08-07T23:19:47.976049Z",
     "iopub.status.busy": "2024-08-07T23:19:47.975877Z",
     "iopub.status.idle": "2024-08-07T23:19:47.984063Z",
     "shell.execute_reply": "2024-08-07T23:19:47.983781Z",
     "shell.execute_reply.started": "2024-08-07T23:19:47.976032Z"
    }
   },
   "outputs": [],
   "source": [
    "class StopExecution(Exception):\n",
    "    def _render_traceback_(self):\n",
    "        pass"
   ]
  },
  {
   "cell_type": "markdown",
   "id": "2336c731-3637-48f0-bcf4-9b68258f28b1",
   "metadata": {},
   "source": [
    "Set filter warnings to \"ignore\" to avoid a lot of \"logorrhea\" to the screen:"
   ]
  },
  {
   "cell_type": "code",
   "execution_count": 11,
   "id": "4c6ba6a7-c940-4c0c-a513-f9a4a1dab1b8",
   "metadata": {
    "execution": {
     "iopub.execute_input": "2024-08-07T23:19:47.984563Z",
     "iopub.status.busy": "2024-08-07T23:19:47.984452Z",
     "iopub.status.idle": "2024-08-07T23:19:47.993045Z",
     "shell.execute_reply": "2024-08-07T23:19:47.992740Z",
     "shell.execute_reply.started": "2024-08-07T23:19:47.984554Z"
    }
   },
   "outputs": [],
   "source": [
    "warnings.filterwarnings(\"ignore\")"
   ]
  },
  {
   "cell_type": "markdown",
   "id": "5b0f81cd-5843-4489-aa49-a9649dafd666",
   "metadata": {
    "execution": {
     "iopub.execute_input": "2024-06-04T21:49:42.971382Z",
     "iopub.status.busy": "2024-06-04T21:49:42.971259Z",
     "iopub.status.idle": "2024-06-04T21:49:42.973507Z",
     "shell.execute_reply": "2024-06-04T21:49:42.973039Z",
     "shell.execute_reply.started": "2024-06-04T21:49:42.971372Z"
    },
    "tags": []
   },
   "source": [
    "Set default backend for afwDisplay to `matplotlib`:"
   ]
  },
  {
   "cell_type": "code",
   "execution_count": 12,
   "id": "07168a2e",
   "metadata": {
    "execution": {
     "iopub.execute_input": "2024-08-07T23:19:47.993612Z",
     "iopub.status.busy": "2024-08-07T23:19:47.993497Z",
     "iopub.status.idle": "2024-08-07T23:19:48.009650Z",
     "shell.execute_reply": "2024-08-07T23:19:48.009342Z",
     "shell.execute_reply.started": "2024-08-07T23:19:47.993602Z"
    },
    "tags": []
   },
   "outputs": [],
   "source": [
    "afwDisplay.setDefaultBackend('matplotlib')"
   ]
  },
  {
   "cell_type": "markdown",
   "id": "2eee66fe-15ef-4f91-9500-9160bb83de69",
   "metadata": {
    "execution": {
     "iopub.execute_input": "2024-06-04T21:49:42.998432Z",
     "iopub.status.busy": "2024-06-04T21:49:42.998312Z",
     "iopub.status.idle": "2024-06-04T21:49:43.000578Z",
     "shell.execute_reply": "2024-06-04T21:49:43.000106Z",
     "shell.execute_reply.started": "2024-06-04T21:49:42.998423Z"
    },
    "tags": []
   },
   "source": [
    "Set a few parameters to use later, when plotting:"
   ]
  },
  {
   "cell_type": "code",
   "execution_count": 13,
   "id": "0bff8f23-c35c-4b72-b9f5-7d32b432ac22",
   "metadata": {
    "execution": {
     "iopub.execute_input": "2024-08-07T23:19:48.010239Z",
     "iopub.status.busy": "2024-08-07T23:19:48.010114Z",
     "iopub.status.idle": "2024-08-07T23:19:48.012651Z",
     "shell.execute_reply": "2024-08-07T23:19:48.012374Z",
     "shell.execute_reply.started": "2024-08-07T23:19:48.010229Z"
    }
   },
   "outputs": [],
   "source": [
    "plt.style.use('tableau-colorblind10')\n",
    "\n",
    "plot_filter_labels = ['u', 'g', 'r', 'i', 'z', 'y']\n",
    "plot_filter_colors = {'u': '#56b4e9', 'g': '#008060', 'r': '#ff4000',\n",
    "                      'i': '#850000', 'z': '#6600cc', 'y': '#000000'}\n",
    "plot_filter_symbols = {'u': 'o', 'g': '^', 'r': 'v', 'i': 's', 'z': '*', 'y': 'p'}"
   ]
  },
  {
   "cell_type": "markdown",
   "id": "bc65c4bf-8dd4-4db1-a99c-5af991d3f028",
   "metadata": {},
   "source": []
  },
  {
   "cell_type": "markdown",
   "id": "fa930739-7f05-4e5d-8e66-844ad0940553",
   "metadata": {},
   "source": [
    "This is a temporary fix to attach field names to the Ops Rehearsal 4 science exposures:"
   ]
  },
  {
   "cell_type": "code",
   "execution_count": 14,
   "id": "bab9ef6c-ced2-4d09-b67a-419f1b33d4a8",
   "metadata": {
    "execution": {
     "iopub.execute_input": "2024-08-07T23:19:48.013140Z",
     "iopub.status.busy": "2024-08-07T23:19:48.013025Z",
     "iopub.status.idle": "2024-08-07T23:19:48.023861Z",
     "shell.execute_reply": "2024-08-07T23:19:48.023573Z",
     "shell.execute_reply.started": "2024-08-07T23:19:48.013130Z"
    }
   },
   "outputs": [],
   "source": [
    "# Table of Ops Rehearsal 4 Fields from https://confluence.lsstcorp.org/pages/viewpage.action?pageId=259785406\n",
    "ascii_table = \"\"\"\n",
    "Field                       RA          DEC     stellarDens     E_BV\n",
    "Rubin_SV_095_-25           95.00      -25.00        2.92        0.05\n",
    "Rubin_SV_125_-15          125.00      -15.00        3.78        0.06\n",
    "DESI_SV3_R1               179.60        0.00        0.53        0.03\n",
    "Rubin_SV_225_-40          225.00      -40.00       12.67        0.08\n",
    "DEEP_A0                   216.00      -12.50        1.17        0.09\n",
    "Rubin_SV_250_2            250.00        2.00        4.56        0.07\n",
    "Rubin_SV_300_-41          300.00      -41.00        5.22        0.09\n",
    "Rubin_SV_280_-48          280.00      -48.00       17.64        0.07\n",
    "DEEP_B0                   310.00      -19.00        3.28        0.04\n",
    "ELAIS_S1                    9.45      -44.00        0.56        0.01\n",
    "XMM_LSS                    35.71       -4.75        0.47        0.03\n",
    "ECDFS                      53.12      -28.10        0.61        0.01\n",
    "COSMOS                    150.10        2.18        0.67        0.02\n",
    "EDFS_A                     58.90      -49.31        0.75        0.01\n",
    "EDFS_B                     63.60      -47.60        0.81        0.01\"\"\"\n",
    "\n",
    "# Convert the string to a file-like object\n",
    "ascii_io = io.StringIO(ascii_table)\n",
    "\n",
    "# Read the ASCII table into a pandas DataFrame\n",
    "df_field = pd.read_csv(ascii_io, delim_whitespace=True)\n",
    "\n",
    "## Display df_field\n",
    "#df_field"
   ]
  },
  {
   "cell_type": "markdown",
   "id": "50848e66-4071-496c-8e59-9877d73ade0f",
   "metadata": {},
   "source": [
    "Add two healpix columns to this table, one *very* roughly the area of a ComCam field-of-view (NSIDE=2^6=64 --> 0.84 sq deg) and one *very* roughly the area of an LSSTCam field-of-view (NSIDE=2^4=16 --> 13 sq deg) <span style=\"color:red; font-weight:bold\">(Maybe no longer necessary?)</span>:"
   ]
  },
  {
   "cell_type": "code",
   "execution_count": 15,
   "id": "37a2355e-3e40-4b08-9d05-fdf0791a644a",
   "metadata": {
    "execution": {
     "iopub.execute_input": "2024-08-07T23:19:48.024401Z",
     "iopub.status.busy": "2024-08-07T23:19:48.024284Z",
     "iopub.status.idle": "2024-08-07T23:19:48.030887Z",
     "shell.execute_reply": "2024-08-07T23:19:48.030595Z",
     "shell.execute_reply.started": "2024-08-07T23:19:48.024391Z"
    }
   },
   "outputs": [],
   "source": [
    "# Add healpix info\n",
    "df_field.loc[:,'HPX64'] = getipix(64, df_field.loc[:,'RA'].values, df_field.loc[:,'DEC'].values)\n",
    "df_field.loc[:,'HPX16'] = getipix(16, df_field.loc[:,'RA'].values, df_field.loc[:,'DEC'].values)\n",
    "\n",
    "## Display df_field\n",
    "#df_field"
   ]
  },
  {
   "cell_type": "markdown",
   "id": "3a7b35c7",
   "metadata": {},
   "source": [
    "## 2. Access data for this repo, collection, and day of observation"
   ]
  },
  {
   "cell_type": "markdown",
   "id": "9091f96f-6457-4c29-bab7-d6e1b16c6d7e",
   "metadata": {},
   "source": [
    "### 2.1 Instantiate butler and create registry"
   ]
  },
  {
   "cell_type": "code",
   "execution_count": 16,
   "id": "81254df0-8ec8-4515-b2dc-743f3cceca16",
   "metadata": {
    "execution": {
     "iopub.execute_input": "2024-08-07T23:19:48.031414Z",
     "iopub.status.busy": "2024-08-07T23:19:48.031298Z",
     "iopub.status.idle": "2024-08-07T23:19:48.651779Z",
     "shell.execute_reply": "2024-08-07T23:19:48.651329Z",
     "shell.execute_reply.started": "2024-08-07T23:19:48.031405Z"
    }
   },
   "outputs": [
    {
     "data": {
      "text/html": [
       "<pre style=\"margin: 0.1em;\n",
       "padding-left: 0.25em;\n",
       "border-left-style: solid;\n",
       "font-family: var(--jp-code-font-family);\n",
       "font-size: var(--jp-code-font-size);\n",
       "line-height: var(--jp-code-line-height);\n",
       "\"><span style=\"color: var(--jp-warn-color2)\">botocore.credentials</span> <span style=\"color: var(--jp-info-color0)\">INFO</span>: Found credentials in shared credentials file: /home/d/dltucker/.lsst/aws-credentials.ini</pre>"
      ],
      "text/plain": [
       "<IPython.core.display.HTML object>"
      ]
     },
     "metadata": {},
     "output_type": "display_data"
    }
   ],
   "source": [
    "butler = dafButler.Butler(repo, collections=collection)\n",
    "registry = butler.registry"
   ]
  },
  {
   "cell_type": "markdown",
   "id": "0effdd19-98fc-43b7-a79a-bca56c3831a9",
   "metadata": {},
   "source": [
    "### 2.2 Read in information from the `exposure` dimension and create pandas DataFrame"
   ]
  },
  {
   "cell_type": "markdown",
   "id": "aaffdcdf-a859-4c19-8b35-782c79ffc063",
   "metadata": {},
   "source": [
    "Query the metadata for the `exposure` dimension, limiting the results to this particular instrument and day of observation:"
   ]
  },
  {
   "cell_type": "code",
   "execution_count": 17,
   "id": "95d36237-32a9-486b-893a-646ab892ae33",
   "metadata": {
    "execution": {
     "iopub.execute_input": "2024-08-07T23:19:48.652505Z",
     "iopub.status.busy": "2024-08-07T23:19:48.652374Z",
     "iopub.status.idle": "2024-08-07T23:19:48.670994Z",
     "shell.execute_reply": "2024-08-07T23:19:48.670623Z",
     "shell.execute_reply.started": "2024-08-07T23:19:48.652494Z"
    }
   },
   "outputs": [],
   "source": [
    "query=\"instrument='%s' AND day_obs=%d\" % (instrument, day_obs)\n",
    "results = registry.queryDimensionRecords('exposure',where=query)"
   ]
  },
  {
   "cell_type": "markdown",
   "id": "50d526f6-7237-4c13-a35e-5facd3f9030c",
   "metadata": {},
   "source": [
    "Stop executing if there are no results returned:"
   ]
  },
  {
   "cell_type": "code",
   "execution_count": 18,
   "id": "0a3d8db3-ca82-450e-bfd9-29bbdf26cdd8",
   "metadata": {
    "execution": {
     "iopub.execute_input": "2024-08-07T23:19:48.671619Z",
     "iopub.status.busy": "2024-08-07T23:19:48.671497Z",
     "iopub.status.idle": "2024-08-07T23:19:48.677676Z",
     "shell.execute_reply": "2024-08-07T23:19:48.677276Z",
     "shell.execute_reply.started": "2024-08-07T23:19:48.671609Z"
    }
   },
   "outputs": [
    {
     "name": "stdout",
     "output_type": "stream",
     "text": [
      "There are 862 results returned.\n"
     ]
    }
   ],
   "source": [
    "n_results = results.count()\n",
    "\n",
    "if n_results <= 0:\n",
    "    raise StopExecution\n",
    "else:\n",
    "    print(\"There are %d results returned.\" % n_results)"
   ]
  },
  {
   "cell_type": "markdown",
   "id": "49f149b7-fe0d-4278-8c7c-b57720d8a15b",
   "metadata": {},
   "source": [
    "Instantiate a pandas `DataFrame` with useful columns available in the `exposure` dimension:"
   ]
  },
  {
   "cell_type": "code",
   "execution_count": 19,
   "id": "473cdd14",
   "metadata": {
    "execution": {
     "iopub.execute_input": "2024-08-07T23:19:48.680424Z",
     "iopub.status.busy": "2024-08-07T23:19:48.680297Z",
     "iopub.status.idle": "2024-08-07T23:19:48.688435Z",
     "shell.execute_reply": "2024-08-07T23:19:48.688067Z",
     "shell.execute_reply.started": "2024-08-07T23:19:48.680414Z"
    },
    "tags": []
   },
   "outputs": [],
   "source": [
    "df_exposure = pd.DataFrame(columns=['id', 'obs_id','day_obs', 'seq_num',\n",
    "                                    'time_start','time_end' ,'type', 'reason', \n",
    "                                    'target','filter','zenith_angle',\n",
    "                                    'expos','ra','dec','skyangle',\n",
    "                                    'azimuth','zenith','science_program',\n",
    "                                    'jd','mjd'])"
   ]
  },
  {
   "cell_type": "markdown",
   "id": "91475e9a-ea61-48ca-a704-14b2c4ce1d56",
   "metadata": {},
   "source": [
    "Read the query results into the new pandas `DataFrame`:"
   ]
  },
  {
   "cell_type": "code",
   "execution_count": 20,
   "id": "f2c9f07f",
   "metadata": {
    "execution": {
     "iopub.execute_input": "2024-08-07T23:19:48.689038Z",
     "iopub.status.busy": "2024-08-07T23:19:48.688922Z",
     "iopub.status.idle": "2024-08-07T23:19:50.858296Z",
     "shell.execute_reply": "2024-08-07T23:19:50.857825Z",
     "shell.execute_reply.started": "2024-08-07T23:19:48.689028Z"
    },
    "tags": []
   },
   "outputs": [],
   "source": [
    "for count, info in enumerate(results):\n",
    "    \n",
    "    \n",
    "    try:\n",
    "        df_exposure.loc[count] = [info.id, info.obs_id, info.day_obs, info.seq_num, \n",
    "                                  pd.to_datetime(info.timespan.begin.to_string()),\n",
    "                                  pd.to_datetime(info.timespan.end.to_string()),\n",
    "                                  info.observation_type, info.observation_reason, info.target_name, \n",
    "                                  info.physical_filter, info.zenith_angle, \n",
    "                                  info.exposure_time,info.tracking_ra, info.tracking_dec, \n",
    "                                  info.sky_angle,info.azimuth ,info.zenith_angle, \n",
    "                                  info.science_program, info.timespan.begin.jd,info.timespan.begin.mjd ]\n",
    "    except:\n",
    "        print(\">>>   Unexpected error:\", sys.exc_info()[0])\n",
    "        info_timespan_begin_to_string = \"2021-01-01 00:00:00.00\"\n",
    "        info_timespan_end_to_string = \"2051-01-01 00:00:00.00\"\n",
    "        info_timespan_begin_jd = 0\n",
    "        info_timespan_begin_mjd = 0\n",
    "        df_exposure.loc[count] = [info.id, info.obs_id, info.day_obs, info.seq_num, \n",
    "                                  pd.to_datetime(info_timespan_begin_to_string),\n",
    "                                  pd.to_datetime(info_timespan_end_to_string), \n",
    "                                  info.observation_type, info.observation_reason, info.target_name, \n",
    "                                  info.physical_filter, info.zenith_angle, \n",
    "                                  info.exposure_time,info.tracking_ra, info.tracking_dec, \n",
    "                                  info.sky_angle,info.azimuth ,info.zenith_angle, \n",
    "                                  info.science_program, info_timespan_begin_jd, info_timespan_begin_mjd ]\n",
    " \n",
    "    \n"
   ]
  },
  {
   "cell_type": "markdown",
   "id": "6af13bc6-a543-4310-a16e-e36c9df9c95f",
   "metadata": {},
   "source": [
    "Re-cast the `id`, `day_obs`, and `seq_num` rows as `int`'s:"
   ]
  },
  {
   "cell_type": "code",
   "execution_count": 21,
   "id": "344a6240-a01b-4876-bc5a-30441b03b5f5",
   "metadata": {
    "execution": {
     "iopub.execute_input": "2024-08-07T23:19:50.859098Z",
     "iopub.status.busy": "2024-08-07T23:19:50.858962Z",
     "iopub.status.idle": "2024-08-07T23:19:50.863621Z",
     "shell.execute_reply": "2024-08-07T23:19:50.863123Z",
     "shell.execute_reply.started": "2024-08-07T23:19:50.859088Z"
    }
   },
   "outputs": [],
   "source": [
    "df_exposure = df_exposure.astype({\"id\": int,'day_obs': int,'seq_num':int})"
   ]
  },
  {
   "cell_type": "markdown",
   "id": "faf456c3-65d7-4404-b496-31e2cb345ad2",
   "metadata": {},
   "source": [
    "Replace `NaN`'s in the `ra` and `dec` columns with zero.  (`NaN`'s in `ra`, `dec` wreak havoc for the healpix tools defined in Section 1.2 above.) <span style=\"color:red; font-weight:bold\">(Maybe no longer necessary?)</span>"
   ]
  },
  {
   "cell_type": "code",
   "execution_count": 22,
   "id": "9d71ed48-b6ff-43a9-aa91-98e5cd835e3a",
   "metadata": {
    "execution": {
     "iopub.execute_input": "2024-08-07T23:19:50.864224Z",
     "iopub.status.busy": "2024-08-07T23:19:50.864096Z",
     "iopub.status.idle": "2024-08-07T23:19:50.872455Z",
     "shell.execute_reply": "2024-08-07T23:19:50.872097Z",
     "shell.execute_reply.started": "2024-08-07T23:19:50.864213Z"
    }
   },
   "outputs": [],
   "source": [
    "df_exposure['ra'] = df_exposure['ra'].fillna(0)\n",
    "df_exposure['dec'] = df_exposure['dec'].fillna(0)"
   ]
  },
  {
   "cell_type": "markdown",
   "id": "dfc32aac-46dd-488a-9c80-3de05eddc3af",
   "metadata": {},
   "source": [
    "Add healpix info <span style=\"color:red; font-weight:bold\">(Maybe no longer necessary?):"
   ]
  },
  {
   "cell_type": "code",
   "execution_count": 23,
   "id": "4121311c-592e-497a-8eca-8611374087fb",
   "metadata": {
    "execution": {
     "iopub.execute_input": "2024-08-07T23:19:50.873040Z",
     "iopub.status.busy": "2024-08-07T23:19:50.872924Z",
     "iopub.status.idle": "2024-08-07T23:19:50.881863Z",
     "shell.execute_reply": "2024-08-07T23:19:50.881521Z",
     "shell.execute_reply.started": "2024-08-07T23:19:50.873031Z"
    }
   },
   "outputs": [],
   "source": [
    "df_exposure.loc[:,'HPX64'] = getipix(64, df_exposure.loc[:,'ra'].values, df_exposure.loc[:,'dec'].values)\n",
    "df_exposure.loc[:,'HPX16'] = getipix(16, df_exposure.loc[:,'ra'].values, df_exposure.loc[:,'dec'].values)"
   ]
  },
  {
   "cell_type": "markdown",
   "id": "9970cb39-3280-4731-9285-83dba3fe5d21",
   "metadata": {},
   "source": [
    "To add the field_name to df_exposure, perform a left join of df_field on df_exposure <span style=\"color:red; font-weight:bold\">(Note use of HPX16, but maybe that part is no longer necessary?)</span>:"
   ]
  },
  {
   "cell_type": "code",
   "execution_count": 24,
   "id": "17ef1097-23b6-482a-9560-d55e38d3fa3e",
   "metadata": {
    "execution": {
     "iopub.execute_input": "2024-08-07T23:19:50.882415Z",
     "iopub.status.busy": "2024-08-07T23:19:50.882300Z",
     "iopub.status.idle": "2024-08-07T23:19:50.928459Z",
     "shell.execute_reply": "2024-08-07T23:19:50.928093Z",
     "shell.execute_reply.started": "2024-08-07T23:19:50.882406Z"
    }
   },
   "outputs": [
    {
     "name": "stdout",
     "output_type": "stream",
     "text": [
      "Total entries in df_a: 862\n",
      "Entries in df_a with matches: 733\n",
      "Entries in df_a without matches: 129\n"
     ]
    }
   ],
   "source": [
    "# First, perform the merge...\n",
    "# (Before we had the table of fields, we matched by HPX16 value.)\n",
    "#df_merged = df_exposure.merge(df_field, on='HPX16', how='left', suffixes=('', '_fld'))\n",
    "df_merged = skyMatchCatManytoOne(df_exposure, 'ra', 'dec', df_field, 'RA', 'DEC', 3.)\n",
    "\n",
    "# Next, define a function to fill NaN values in 'Field' with 'HPX16' for unmatched exposures\n",
    "def fill_field(row):\n",
    "    if pd.isna(row['Field']):\n",
    "        return 'HPX16_'+str(row['HPX16'])  # Convert to string if you want 'Field' to be string type\n",
    "    return row['Field']\n",
    "\n",
    "# Apply the function to fill NaN values\n",
    "df_merged['Field'] = df_merged.apply(fill_field, axis=1)\n",
    "\n",
    "# Remove extraneous columns from df_merged\n",
    "#df_merged = df_merged.drop(['RA', 'DEC', 'stellarDens', 'E_BV', 'HPX64_fld', 'HPX16_fld'], axis=1)\n",
    "df_merged = df_merged.drop(['RA', 'DEC', 'stellarDens', 'E_BV', 'HPX64_b', 'HPX16_b'], axis=1)\n",
    "\n",
    "# Rename 'Field' column to 'field_name'\n",
    "df_merged = df_merged.rename(columns={'Field': 'field_name'})\n",
    "\n",
    "# Rename df_merged to df_exposure\n",
    "df_exposure = df_merged\n",
    "\n",
    "## Display updated df_exposure\n",
    "#df_exposure"
   ]
  },
  {
   "cell_type": "markdown",
   "id": "eaf9a38a-58e1-49d1-952e-c4da281e9902",
   "metadata": {},
   "source": [
    "Add the tract id as a column in df_exposure.  First, access the skymap, then add the tract to the df_exposure DataFrame:"
   ]
  },
  {
   "cell_type": "code",
   "execution_count": 25,
   "id": "9e52043b-a9ee-402d-8ad8-20887e1e2f73",
   "metadata": {
    "execution": {
     "iopub.execute_input": "2024-08-07T23:19:50.929035Z",
     "iopub.status.busy": "2024-08-07T23:19:50.928915Z",
     "iopub.status.idle": "2024-08-07T23:19:51.314581Z",
     "shell.execute_reply": "2024-08-07T23:19:51.314110Z",
     "shell.execute_reply.started": "2024-08-07T23:19:50.929025Z"
    }
   },
   "outputs": [],
   "source": [
    "butler_sky = dafButler.Butler(repo, collections=collection_sky)\n",
    "registry_sky = butler_sky.registry\n",
    "skymap = butler_sky.get('skyMap', skymap=skymap_name)\n",
    "df_exposure['tract'] = df_exposure.apply(lambda row: find_tract(row['ra'], row['dec'], skymap), axis=1)"
   ]
  },
  {
   "cell_type": "markdown",
   "id": "2faee1e8-c31e-49a1-94c8-809829f9604f",
   "metadata": {},
   "source": [
    "Create a `DataFrame` containing just the science exposures:"
   ]
  },
  {
   "cell_type": "code",
   "execution_count": 26,
   "id": "2aeeed89-d52d-4da4-bff6-a07fa875bcf7",
   "metadata": {
    "execution": {
     "iopub.execute_input": "2024-08-07T23:19:51.315465Z",
     "iopub.status.busy": "2024-08-07T23:19:51.315326Z",
     "iopub.status.idle": "2024-08-07T23:19:51.318756Z",
     "shell.execute_reply": "2024-08-07T23:19:51.318390Z",
     "shell.execute_reply.started": "2024-08-07T23:19:51.315454Z"
    }
   },
   "outputs": [],
   "source": [
    "df_science = df_exposure[df_exposure.type == 'science']"
   ]
  },
  {
   "cell_type": "markdown",
   "id": "29db8cec-182a-4868-83c3-328a5e63aea4",
   "metadata": {},
   "source": [
    "## 3. Analyse results of the exposure query"
   ]
  },
  {
   "cell_type": "markdown",
   "id": "bc55e5f3-7b1e-4d52-acd5-a73c480f89fc",
   "metadata": {},
   "source": [
    "For the rest of the notebook, we do not want to restrict the the number of rows displayed for\n",
    "pandas tabular information.  Therefore, let us turn off the pandas maximum rows setting.  We will turn it back on at the end of the notebook."
   ]
  },
  {
   "cell_type": "code",
   "execution_count": 27,
   "id": "a90fa41a-7ac4-4236-9d77-d747052a37d3",
   "metadata": {
    "execution": {
     "iopub.execute_input": "2024-08-07T23:19:51.319413Z",
     "iopub.status.busy": "2024-08-07T23:19:51.319230Z",
     "iopub.status.idle": "2024-08-07T23:19:51.325972Z",
     "shell.execute_reply": "2024-08-07T23:19:51.325603Z",
     "shell.execute_reply.started": "2024-08-07T23:19:51.319397Z"
    }
   },
   "outputs": [],
   "source": [
    "# Change the display.max_rows option\n",
    "pd.set_option(\"display.max_rows\", None)"
   ]
  },
  {
   "cell_type": "markdown",
   "id": "831b90e9-2e59-442e-a9ce-ac1d8656e68e",
   "metadata": {},
   "source": [
    "### 3.1 Tract and Field"
   ]
  },
  {
   "cell_type": "markdown",
   "id": "126e9ee0-d2c3-446d-afdc-5c23908b5946",
   "metadata": {},
   "source": [
    "Display table showing which tracts are associated with which field, sorted by field name:"
   ]
  },
  {
   "cell_type": "code",
   "execution_count": 28,
   "id": "0f804669-d428-4871-b952-6f1247182b46",
   "metadata": {
    "execution": {
     "iopub.execute_input": "2024-08-07T23:19:51.326504Z",
     "iopub.status.busy": "2024-08-07T23:19:51.326391Z",
     "iopub.status.idle": "2024-08-07T23:19:51.337810Z",
     "shell.execute_reply": "2024-08-07T23:19:51.337484Z",
     "shell.execute_reply.started": "2024-08-07T23:19:51.326495Z"
    }
   },
   "outputs": [
    {
     "data": {
      "text/html": [
       "<div>\n",
       "<style scoped>\n",
       "    .dataframe tbody tr th:only-of-type {\n",
       "        vertical-align: middle;\n",
       "    }\n",
       "\n",
       "    .dataframe tbody tr th {\n",
       "        vertical-align: top;\n",
       "    }\n",
       "\n",
       "    .dataframe thead th {\n",
       "        text-align: right;\n",
       "    }\n",
       "</style>\n",
       "<table border=\"1\" class=\"dataframe\">\n",
       "  <thead>\n",
       "    <tr style=\"text-align: right;\">\n",
       "      <th></th>\n",
       "      <th>field_name</th>\n",
       "      <th>tract</th>\n",
       "    </tr>\n",
       "  </thead>\n",
       "  <tbody>\n",
       "    <tr>\n",
       "      <th>0</th>\n",
       "      <td>DEEP_A0</td>\n",
       "      <td>7445</td>\n",
       "    </tr>\n",
       "    <tr>\n",
       "      <th>1</th>\n",
       "      <td>DEEP_B0</td>\n",
       "      <td>6568</td>\n",
       "    </tr>\n",
       "    <tr>\n",
       "      <th>2</th>\n",
       "      <td>ELAIS_S1</td>\n",
       "      <td>2877</td>\n",
       "    </tr>\n",
       "    <tr>\n",
       "      <th>3</th>\n",
       "      <td>Rubin_SV_225_-40</td>\n",
       "      <td>3346</td>\n",
       "    </tr>\n",
       "    <tr>\n",
       "      <th>4</th>\n",
       "      <td>Rubin_SV_225_-40</td>\n",
       "      <td>3533</td>\n",
       "    </tr>\n",
       "    <tr>\n",
       "      <th>5</th>\n",
       "      <td>Rubin_SV_250_2</td>\n",
       "      <td>9880</td>\n",
       "    </tr>\n",
       "    <tr>\n",
       "      <th>6</th>\n",
       "      <td>Rubin_SV_280_-48</td>\n",
       "      <td>2494</td>\n",
       "    </tr>\n",
       "    <tr>\n",
       "      <th>7</th>\n",
       "      <td>Rubin_SV_280_-48</td>\n",
       "      <td>2495</td>\n",
       "    </tr>\n",
       "    <tr>\n",
       "      <th>8</th>\n",
       "      <td>Rubin_SV_300_-41</td>\n",
       "      <td>3384</td>\n",
       "    </tr>\n",
       "  </tbody>\n",
       "</table>\n",
       "</div>"
      ],
      "text/plain": [
       "         field_name  tract\n",
       "0           DEEP_A0   7445\n",
       "1           DEEP_B0   6568\n",
       "2          ELAIS_S1   2877\n",
       "3  Rubin_SV_225_-40   3346\n",
       "4  Rubin_SV_225_-40   3533\n",
       "5    Rubin_SV_250_2   9880\n",
       "6  Rubin_SV_280_-48   2494\n",
       "7  Rubin_SV_280_-48   2495\n",
       "8  Rubin_SV_300_-41   3384"
      ]
     },
     "execution_count": 28,
     "metadata": {},
     "output_type": "execute_result"
    }
   ],
   "source": [
    "df_science[[col_target,'tract']].drop_duplicates().sort_values([col_target, 'tract']).reset_index(drop=True)"
   ]
  },
  {
   "cell_type": "markdown",
   "id": "910758b9-7451-4b0e-964e-8a3abb17a138",
   "metadata": {},
   "source": [
    "Display table showing which fields are associated with which tract, sorted by tract number:"
   ]
  },
  {
   "cell_type": "code",
   "execution_count": 29,
   "id": "9559753f-80e5-4d03-a7a9-bb52a0ec0aab",
   "metadata": {
    "execution": {
     "iopub.execute_input": "2024-08-07T23:19:51.338376Z",
     "iopub.status.busy": "2024-08-07T23:19:51.338259Z",
     "iopub.status.idle": "2024-08-07T23:19:51.344875Z",
     "shell.execute_reply": "2024-08-07T23:19:51.344547Z",
     "shell.execute_reply.started": "2024-08-07T23:19:51.338367Z"
    }
   },
   "outputs": [
    {
     "data": {
      "text/html": [
       "<div>\n",
       "<style scoped>\n",
       "    .dataframe tbody tr th:only-of-type {\n",
       "        vertical-align: middle;\n",
       "    }\n",
       "\n",
       "    .dataframe tbody tr th {\n",
       "        vertical-align: top;\n",
       "    }\n",
       "\n",
       "    .dataframe thead th {\n",
       "        text-align: right;\n",
       "    }\n",
       "</style>\n",
       "<table border=\"1\" class=\"dataframe\">\n",
       "  <thead>\n",
       "    <tr style=\"text-align: right;\">\n",
       "      <th></th>\n",
       "      <th>tract</th>\n",
       "      <th>field_name</th>\n",
       "    </tr>\n",
       "  </thead>\n",
       "  <tbody>\n",
       "    <tr>\n",
       "      <th>0</th>\n",
       "      <td>2494</td>\n",
       "      <td>Rubin_SV_280_-48</td>\n",
       "    </tr>\n",
       "    <tr>\n",
       "      <th>1</th>\n",
       "      <td>2495</td>\n",
       "      <td>Rubin_SV_280_-48</td>\n",
       "    </tr>\n",
       "    <tr>\n",
       "      <th>2</th>\n",
       "      <td>2877</td>\n",
       "      <td>ELAIS_S1</td>\n",
       "    </tr>\n",
       "    <tr>\n",
       "      <th>3</th>\n",
       "      <td>3346</td>\n",
       "      <td>Rubin_SV_225_-40</td>\n",
       "    </tr>\n",
       "    <tr>\n",
       "      <th>4</th>\n",
       "      <td>3384</td>\n",
       "      <td>Rubin_SV_300_-41</td>\n",
       "    </tr>\n",
       "    <tr>\n",
       "      <th>5</th>\n",
       "      <td>3533</td>\n",
       "      <td>Rubin_SV_225_-40</td>\n",
       "    </tr>\n",
       "    <tr>\n",
       "      <th>6</th>\n",
       "      <td>6568</td>\n",
       "      <td>DEEP_B0</td>\n",
       "    </tr>\n",
       "    <tr>\n",
       "      <th>7</th>\n",
       "      <td>7445</td>\n",
       "      <td>DEEP_A0</td>\n",
       "    </tr>\n",
       "    <tr>\n",
       "      <th>8</th>\n",
       "      <td>9880</td>\n",
       "      <td>Rubin_SV_250_2</td>\n",
       "    </tr>\n",
       "  </tbody>\n",
       "</table>\n",
       "</div>"
      ],
      "text/plain": [
       "   tract        field_name\n",
       "0   2494  Rubin_SV_280_-48\n",
       "1   2495  Rubin_SV_280_-48\n",
       "2   2877          ELAIS_S1\n",
       "3   3346  Rubin_SV_225_-40\n",
       "4   3384  Rubin_SV_300_-41\n",
       "5   3533  Rubin_SV_225_-40\n",
       "6   6568           DEEP_B0\n",
       "7   7445           DEEP_A0\n",
       "8   9880    Rubin_SV_250_2"
      ]
     },
     "execution_count": 29,
     "metadata": {},
     "output_type": "execute_result"
    }
   ],
   "source": [
    "df_science[['tract',col_target,]].drop_duplicates().sort_values(['tract', col_target]).reset_index(drop=True)"
   ]
  },
  {
   "cell_type": "markdown",
   "id": "649bd87e",
   "metadata": {},
   "source": [
    "### 3.2 Counts"
   ]
  },
  {
   "cell_type": "markdown",
   "id": "2c04931d-f1e7-4c80-ab8b-fa539d734a7e",
   "metadata": {
    "execution": {
     "iopub.execute_input": "2024-07-03T21:15:04.583668Z",
     "iopub.status.busy": "2024-07-03T21:15:04.583384Z",
     "iopub.status.idle": "2024-07-03T21:15:04.585964Z",
     "shell.execute_reply": "2024-07-03T21:15:04.585585Z",
     "shell.execute_reply.started": "2024-07-03T21:15:04.583653Z"
    }
   },
   "source": [
    "#### 3.2.1 General"
   ]
  },
  {
   "cell_type": "markdown",
   "id": "739ca54a-2fa8-4570-8362-beed84cf2402",
   "metadata": {},
   "source": [
    "Tabulate the counts of different types of exposures taken on this date:"
   ]
  },
  {
   "cell_type": "code",
   "execution_count": 30,
   "id": "87b6985b-e756-4195-918d-448e66d10747",
   "metadata": {
    "execution": {
     "iopub.execute_input": "2024-08-07T23:19:51.345444Z",
     "iopub.status.busy": "2024-08-07T23:19:51.345325Z",
     "iopub.status.idle": "2024-08-07T23:19:51.354007Z",
     "shell.execute_reply": "2024-08-07T23:19:51.353658Z",
     "shell.execute_reply.started": "2024-08-07T23:19:51.345434Z"
    }
   },
   "outputs": [
    {
     "data": {
      "text/html": [
       "<div>\n",
       "<style scoped>\n",
       "    .dataframe tbody tr th:only-of-type {\n",
       "        vertical-align: middle;\n",
       "    }\n",
       "\n",
       "    .dataframe tbody tr th {\n",
       "        vertical-align: top;\n",
       "    }\n",
       "\n",
       "    .dataframe thead th {\n",
       "        text-align: right;\n",
       "    }\n",
       "</style>\n",
       "<table border=\"1\" class=\"dataframe\">\n",
       "  <thead>\n",
       "    <tr style=\"text-align: right;\">\n",
       "      <th></th>\n",
       "      <th>type</th>\n",
       "      <th>Number</th>\n",
       "    </tr>\n",
       "  </thead>\n",
       "  <tbody>\n",
       "    <tr>\n",
       "      <th>0</th>\n",
       "      <td>acq</td>\n",
       "      <td>23</td>\n",
       "    </tr>\n",
       "    <tr>\n",
       "      <th>1</th>\n",
       "      <td>bias</td>\n",
       "      <td>11</td>\n",
       "    </tr>\n",
       "    <tr>\n",
       "      <th>2</th>\n",
       "      <td>cwfs</td>\n",
       "      <td>46</td>\n",
       "    </tr>\n",
       "    <tr>\n",
       "      <th>3</th>\n",
       "      <td>dark</td>\n",
       "      <td>11</td>\n",
       "    </tr>\n",
       "    <tr>\n",
       "      <th>4</th>\n",
       "      <td>flat</td>\n",
       "      <td>11</td>\n",
       "    </tr>\n",
       "    <tr>\n",
       "      <th>5</th>\n",
       "      <td>focus</td>\n",
       "      <td>27</td>\n",
       "    </tr>\n",
       "    <tr>\n",
       "      <th>6</th>\n",
       "      <td>science</td>\n",
       "      <td>733</td>\n",
       "    </tr>\n",
       "  </tbody>\n",
       "</table>\n",
       "</div>"
      ],
      "text/plain": [
       "      type  Number\n",
       "0      acq      23\n",
       "1     bias      11\n",
       "2     cwfs      46\n",
       "3     dark      11\n",
       "4     flat      11\n",
       "5    focus      27\n",
       "6  science     733"
      ]
     },
     "execution_count": 30,
     "metadata": {},
     "output_type": "execute_result"
    }
   ],
   "source": [
    "#df_exposure.groupby(\"type\").count()[\"id\"]\n",
    "df_exposure.groupby(\"type\").count()[\"id\"].reset_index().rename(columns={'id': 'Number'})"
   ]
  },
  {
   "cell_type": "markdown",
   "id": "ea462481-386c-4b88-9198-7ea51c6be4c7",
   "metadata": {},
   "source": [
    "#### 3.2.2 Science Program"
   ]
  },
  {
   "cell_type": "markdown",
   "id": "e96a5876-2fed-42c5-a9e0-266b9107b7de",
   "metadata": {},
   "source": [
    "Tabulate exposures for the different science programs run on this date:"
   ]
  },
  {
   "cell_type": "code",
   "execution_count": 31,
   "id": "d3199e68-0f98-4df0-ad10-2f3ddb82103d",
   "metadata": {
    "execution": {
     "iopub.execute_input": "2024-08-07T23:19:51.354583Z",
     "iopub.status.busy": "2024-08-07T23:19:51.354462Z",
     "iopub.status.idle": "2024-08-07T23:19:51.363605Z",
     "shell.execute_reply": "2024-08-07T23:19:51.363209Z",
     "shell.execute_reply.started": "2024-08-07T23:19:51.354573Z"
    }
   },
   "outputs": [
    {
     "data": {
      "text/html": [
       "<div>\n",
       "<style scoped>\n",
       "    .dataframe tbody tr th:only-of-type {\n",
       "        vertical-align: middle;\n",
       "    }\n",
       "\n",
       "    .dataframe tbody tr th {\n",
       "        vertical-align: top;\n",
       "    }\n",
       "\n",
       "    .dataframe thead th {\n",
       "        text-align: right;\n",
       "    }\n",
       "</style>\n",
       "<table border=\"1\" class=\"dataframe\">\n",
       "  <thead>\n",
       "    <tr style=\"text-align: right;\">\n",
       "      <th></th>\n",
       "      <th>science_program</th>\n",
       "      <th>Number</th>\n",
       "    </tr>\n",
       "  </thead>\n",
       "  <tbody>\n",
       "    <tr>\n",
       "      <th>0</th>\n",
       "      <td>BLOCK-297</td>\n",
       "      <td>733</td>\n",
       "    </tr>\n",
       "  </tbody>\n",
       "</table>\n",
       "</div>"
      ],
      "text/plain": [
       "  science_program  Number\n",
       "0       BLOCK-297     733"
      ]
     },
     "execution_count": 31,
     "metadata": {},
     "output_type": "execute_result"
    }
   ],
   "source": [
    "#df_science.groupby(col_sciprog).count()[col_id]\n",
    "df_science.groupby(col_sciprog).count()[col_id].reset_index().rename(columns={'id': 'Number'})"
   ]
  },
  {
   "cell_type": "markdown",
   "id": "b29e0630-e4d3-4da0-93c3-bb2eb0bfa815",
   "metadata": {},
   "source": [
    "Plot as a 1D histogram:"
   ]
  },
  {
   "cell_type": "code",
   "execution_count": 32,
   "id": "40dae7b2-183e-4b26-afa5-faf0feefbb79",
   "metadata": {
    "execution": {
     "iopub.execute_input": "2024-08-07T23:19:51.364240Z",
     "iopub.status.busy": "2024-08-07T23:19:51.364105Z",
     "iopub.status.idle": "2024-08-07T23:19:51.490806Z",
     "shell.execute_reply": "2024-08-07T23:19:51.490334Z",
     "shell.execute_reply.started": "2024-08-07T23:19:51.364230Z"
    }
   },
   "outputs": [
    {
     "data": {
      "image/png": "[encoded data removed]",
      "text/plain": [
       "<Figure size 1000x600 with 1 Axes>"
      ]
     },
     "metadata": {},
     "output_type": "display_data"
    }
   ],
   "source": [
    "plt.figure(figsize=(10, 6))\n",
    "\n",
    "# Count the occurrences of each unique value in col1\n",
    "value_counts = df_science[col_sciprog].value_counts()\n",
    "\n",
    "# Create the bar plot\n",
    "value_counts.plot(kind='bar')\n",
    "\n",
    "# Add labels and title\n",
    "plt.xlabel(col_sciprog)\n",
    "plt.ylabel('Count')\n",
    "title = \"Count of %s Observations in Different Science Programs on %s\" % (instrument, day_obs)\n",
    "plt.title(title)\n",
    "plt.grid(True)\n"
   ]
  },
  {
   "cell_type": "markdown",
   "id": "de492d06-89b4-44a3-9bde-0514f4e2ca6f",
   "metadata": {},
   "source": [
    "#### 3.2.3 Targets"
   ]
  },
  {
   "cell_type": "markdown",
   "id": "8ceab83b-1f0f-438c-84b5-f5bdd34cc33f",
   "metadata": {
    "execution": {
     "iopub.execute_input": "2024-06-05T21:53:35.030486Z",
     "iopub.status.busy": "2024-06-05T21:53:35.030018Z",
     "iopub.status.idle": "2024-06-05T21:53:35.034854Z",
     "shell.execute_reply": "2024-06-05T21:53:35.034538Z",
     "shell.execute_reply.started": "2024-06-05T21:53:35.030470Z"
    }
   },
   "source": [
    "Tabulate the counts of exposures for the different targets observed on this date:"
   ]
  },
  {
   "cell_type": "code",
   "execution_count": 33,
   "id": "ed3a4d23-600d-4fd5-beea-e46f701d725c",
   "metadata": {
    "execution": {
     "iopub.execute_input": "2024-08-07T23:19:51.491440Z",
     "iopub.status.busy": "2024-08-07T23:19:51.491315Z",
     "iopub.status.idle": "2024-08-07T23:19:51.497497Z",
     "shell.execute_reply": "2024-08-07T23:19:51.497168Z",
     "shell.execute_reply.started": "2024-08-07T23:19:51.491430Z"
    }
   },
   "outputs": [
    {
     "data": {
      "text/html": [
       "<div>\n",
       "<style scoped>\n",
       "    .dataframe tbody tr th:only-of-type {\n",
       "        vertical-align: middle;\n",
       "    }\n",
       "\n",
       "    .dataframe tbody tr th {\n",
       "        vertical-align: top;\n",
       "    }\n",
       "\n",
       "    .dataframe thead th {\n",
       "        text-align: right;\n",
       "    }\n",
       "</style>\n",
       "<table border=\"1\" class=\"dataframe\">\n",
       "  <thead>\n",
       "    <tr style=\"text-align: right;\">\n",
       "      <th></th>\n",
       "      <th>field_name</th>\n",
       "      <th>Number</th>\n",
       "    </tr>\n",
       "  </thead>\n",
       "  <tbody>\n",
       "    <tr>\n",
       "      <th>0</th>\n",
       "      <td>DEEP_A0</td>\n",
       "      <td>60</td>\n",
       "    </tr>\n",
       "    <tr>\n",
       "      <th>1</th>\n",
       "      <td>DEEP_B0</td>\n",
       "      <td>103</td>\n",
       "    </tr>\n",
       "    <tr>\n",
       "      <th>2</th>\n",
       "      <td>ELAIS_S1</td>\n",
       "      <td>60</td>\n",
       "    </tr>\n",
       "    <tr>\n",
       "      <th>3</th>\n",
       "      <td>Rubin_SV_225_-40</td>\n",
       "      <td>60</td>\n",
       "    </tr>\n",
       "    <tr>\n",
       "      <th>4</th>\n",
       "      <td>Rubin_SV_250_2</td>\n",
       "      <td>60</td>\n",
       "    </tr>\n",
       "    <tr>\n",
       "      <th>5</th>\n",
       "      <td>Rubin_SV_280_-48</td>\n",
       "      <td>180</td>\n",
       "    </tr>\n",
       "    <tr>\n",
       "      <th>6</th>\n",
       "      <td>Rubin_SV_300_-41</td>\n",
       "      <td>210</td>\n",
       "    </tr>\n",
       "  </tbody>\n",
       "</table>\n",
       "</div>"
      ],
      "text/plain": [
       "         field_name  Number\n",
       "0           DEEP_A0      60\n",
       "1           DEEP_B0     103\n",
       "2          ELAIS_S1      60\n",
       "3  Rubin_SV_225_-40      60\n",
       "4    Rubin_SV_250_2      60\n",
       "5  Rubin_SV_280_-48     180\n",
       "6  Rubin_SV_300_-41     210"
      ]
     },
     "execution_count": 33,
     "metadata": {},
     "output_type": "execute_result"
    }
   ],
   "source": [
    "#df_science.groupby(col_target).count()[col_id]\n",
    "df_science.groupby(col_target).count()[col_id].reset_index().rename(columns={'id': 'Number'})"
   ]
  },
  {
   "cell_type": "markdown",
   "id": "ef12ca88-a85b-4243-b0d0-301126ee0fd8",
   "metadata": {},
   "source": [
    "Plot as a 1D histogram:"
   ]
  },
  {
   "cell_type": "code",
   "execution_count": 34,
   "id": "cd85d39b-bf28-4606-8dfd-7f0d056c4d56",
   "metadata": {
    "execution": {
     "iopub.execute_input": "2024-08-07T23:19:51.498121Z",
     "iopub.status.busy": "2024-08-07T23:19:51.497997Z",
     "iopub.status.idle": "2024-08-07T23:19:51.647416Z",
     "shell.execute_reply": "2024-08-07T23:19:51.647025Z",
     "shell.execute_reply.started": "2024-08-07T23:19:51.498111Z"
    }
   },
   "outputs": [
    {
     "data": {
      "image/png": "[encoded data removed]",
      "text/plain": [
       "<Figure size 1000x600 with 1 Axes>"
      ]
     },
     "metadata": {},
     "output_type": "display_data"
    }
   ],
   "source": [
    "plt.figure(figsize=(10, 6))\n",
    "\n",
    "# Count the occurrences of each unique value in col1\n",
    "#value_counts = df_science['target'].value_counts()\n",
    "value_counts = df_science[col_target].value_counts()\n",
    "\n",
    "# Create the bar plot\n",
    "value_counts.plot(kind='bar')\n",
    "\n",
    "# Add labels and title\n",
    "plt.xlabel(col_target)\n",
    "plt.ylabel('Count')\n",
    "title = \"\"\"Count of %s Observations in Different Science Program Targets on %s\"\"\" %(instrument, day_obs)\n",
    "plt.title(title)\n",
    "plt.grid(True)\n"
   ]
  },
  {
   "cell_type": "markdown",
   "id": "cb479437-f728-4aad-a131-6a55e9478305",
   "metadata": {},
   "source": [
    "#### 3.2.4 Science Program and Target"
   ]
  },
  {
   "cell_type": "markdown",
   "id": "43048502-1b37-4d12-bd31-30bd8bd0e7b6",
   "metadata": {
    "execution": {
     "iopub.execute_input": "2024-08-07T23:09:37.615813Z",
     "iopub.status.busy": "2024-08-07T23:09:37.615525Z",
     "iopub.status.idle": "2024-08-07T23:09:37.618813Z",
     "shell.execute_reply": "2024-08-07T23:09:37.618332Z",
     "shell.execute_reply.started": "2024-08-07T23:09:37.615801Z"
    }
   },
   "source": [
    "Tabulate the counts of exposures for the different science programs and targets observed on this date:"
   ]
  },
  {
   "cell_type": "code",
   "execution_count": 35,
   "id": "c7d00fcd-5828-4fc5-884b-086e45b9b420",
   "metadata": {
    "execution": {
     "iopub.execute_input": "2024-08-07T23:19:51.648092Z",
     "iopub.status.busy": "2024-08-07T23:19:51.647967Z",
     "iopub.status.idle": "2024-08-07T23:19:51.653378Z",
     "shell.execute_reply": "2024-08-07T23:19:51.653008Z",
     "shell.execute_reply.started": "2024-08-07T23:19:51.648081Z"
    }
   },
   "outputs": [
    {
     "data": {
      "text/plain": [
       "science_program  field_name      \n",
       "BLOCK-297        DEEP_A0              60\n",
       "                 DEEP_B0             103\n",
       "                 ELAIS_S1             60\n",
       "                 Rubin_SV_225_-40     60\n",
       "                 Rubin_SV_250_2       60\n",
       "                 Rubin_SV_280_-48    180\n",
       "                 Rubin_SV_300_-41    210\n",
       "Name: id, dtype: int64"
      ]
     },
     "execution_count": 35,
     "metadata": {},
     "output_type": "execute_result"
    }
   ],
   "source": [
    "df_science.groupby([col_sciprog,col_target]).count()[col_id]"
   ]
  },
  {
   "cell_type": "markdown",
   "id": "ff77aef4-a730-4ff1-bbb9-6b69a9964f9b",
   "metadata": {},
   "source": [
    "Convert results to a pandas DataFrame using the `df2Dgroupby` function defined in Section 1.2.    Ignore any targets with a count of 0 by setting `fill_zeros` parameter to `False`."
   ]
  },
  {
   "cell_type": "code",
   "execution_count": 36,
   "id": "d7b4421e-f60c-4fed-97c4-c00146b943cc",
   "metadata": {
    "execution": {
     "iopub.execute_input": "2024-08-07T23:19:51.654050Z",
     "iopub.status.busy": "2024-08-07T23:19:51.653885Z",
     "iopub.status.idle": "2024-08-07T23:19:51.662646Z",
     "shell.execute_reply": "2024-08-07T23:19:51.662306Z",
     "shell.execute_reply.started": "2024-08-07T23:19:51.654039Z"
    }
   },
   "outputs": [
    {
     "data": {
      "text/html": [
       "<div>\n",
       "<style scoped>\n",
       "    .dataframe tbody tr th:only-of-type {\n",
       "        vertical-align: middle;\n",
       "    }\n",
       "\n",
       "    .dataframe tbody tr th {\n",
       "        vertical-align: top;\n",
       "    }\n",
       "\n",
       "    .dataframe thead th {\n",
       "        text-align: right;\n",
       "    }\n",
       "</style>\n",
       "<table border=\"1\" class=\"dataframe\">\n",
       "  <thead>\n",
       "    <tr style=\"text-align: right;\">\n",
       "      <th></th>\n",
       "      <th>science_program</th>\n",
       "      <th>field_name</th>\n",
       "      <th>number</th>\n",
       "    </tr>\n",
       "  </thead>\n",
       "  <tbody>\n",
       "    <tr>\n",
       "      <th>0</th>\n",
       "      <td>BLOCK-297</td>\n",
       "      <td>DEEP_A0</td>\n",
       "      <td>60</td>\n",
       "    </tr>\n",
       "    <tr>\n",
       "      <th>1</th>\n",
       "      <td>BLOCK-297</td>\n",
       "      <td>DEEP_B0</td>\n",
       "      <td>103</td>\n",
       "    </tr>\n",
       "    <tr>\n",
       "      <th>2</th>\n",
       "      <td>BLOCK-297</td>\n",
       "      <td>ELAIS_S1</td>\n",
       "      <td>60</td>\n",
       "    </tr>\n",
       "    <tr>\n",
       "      <th>3</th>\n",
       "      <td>BLOCK-297</td>\n",
       "      <td>Rubin_SV_225_-40</td>\n",
       "      <td>60</td>\n",
       "    </tr>\n",
       "    <tr>\n",
       "      <th>4</th>\n",
       "      <td>BLOCK-297</td>\n",
       "      <td>Rubin_SV_250_2</td>\n",
       "      <td>60</td>\n",
       "    </tr>\n",
       "    <tr>\n",
       "      <th>5</th>\n",
       "      <td>BLOCK-297</td>\n",
       "      <td>Rubin_SV_280_-48</td>\n",
       "      <td>180</td>\n",
       "    </tr>\n",
       "    <tr>\n",
       "      <th>6</th>\n",
       "      <td>BLOCK-297</td>\n",
       "      <td>Rubin_SV_300_-41</td>\n",
       "      <td>210</td>\n",
       "    </tr>\n",
       "  </tbody>\n",
       "</table>\n",
       "</div>"
      ],
      "text/plain": [
       "  science_program        field_name  number\n",
       "0       BLOCK-297           DEEP_A0      60\n",
       "1       BLOCK-297           DEEP_B0     103\n",
       "2       BLOCK-297          ELAIS_S1      60\n",
       "3       BLOCK-297  Rubin_SV_225_-40      60\n",
       "4       BLOCK-297    Rubin_SV_250_2      60\n",
       "5       BLOCK-297  Rubin_SV_280_-48     180\n",
       "6       BLOCK-297  Rubin_SV_300_-41     210"
      ]
     },
     "execution_count": 36,
     "metadata": {},
     "output_type": "execute_result"
    }
   ],
   "source": [
    "df_science_grouped = df2Dgroupby(df_science, col_sciprog, col_target, col_id, False)\n",
    "df_science_grouped"
   ]
  },
  {
   "cell_type": "markdown",
   "id": "7b1514c7-1b90-4147-a7b5-9f2202e0ae56",
   "metadata": {},
   "source": [
    "Plot results as an annotated heatmap:"
   ]
  },
  {
   "cell_type": "code",
   "execution_count": 37,
   "id": "071a9f20-ccee-47f8-ab08-96d7d6b45d24",
   "metadata": {
    "execution": {
     "iopub.execute_input": "2024-08-07T23:19:51.663239Z",
     "iopub.status.busy": "2024-08-07T23:19:51.663112Z",
     "iopub.status.idle": "2024-08-07T23:19:51.796777Z",
     "shell.execute_reply": "2024-08-07T23:19:51.796427Z",
     "shell.execute_reply.started": "2024-08-07T23:19:51.663229Z"
    }
   },
   "outputs": [
    {
     "data": {
      "image/png": "[encoded data removed]",
      "text/plain": [
       "<Figure size 100x200 with 2 Axes>"
      ]
     },
     "metadata": {},
     "output_type": "display_data"
    }
   ],
   "source": [
    "# First, we re-group df_science, setting the `fill_zeros` parameter back to `True`.  \n",
    "#  This is mostly for aesthetic reasons for the plotting below (the value of '0' \n",
    "#  will be included in the annotations for those science_progam/target combos that\n",
    "#  have no observations); otherwise those boxes will be left blank).\n",
    "df_science_grouped = df2Dgroupby(df_science, col_sciprog, col_target, col_id, True)\n",
    "\n",
    "# Now call the plotAnnotatedHeatMap_df2Dgroupby function defined in Section 1.2 above.\n",
    "plotAnnotatedHeatMap_df2Dgroupby(df_science_grouped, col_target, col_sciprog, 'number', title='Annotated Heatmap', cmap='Blues')\n"
   ]
  },
  {
   "cell_type": "markdown",
   "id": "d6f8a684-d4f9-410c-8a49-c821571d4be7",
   "metadata": {},
   "source": [
    "#### 3.2.5 Target and Filter"
   ]
  },
  {
   "cell_type": "markdown",
   "id": "9bd1eb3d-4c50-41eb-9135-ad40a203f9ae",
   "metadata": {},
   "source": [
    "Tabulate the counts of exposures for the different targets and filters observed on this date:"
   ]
  },
  {
   "cell_type": "code",
   "execution_count": 38,
   "id": "7a84e9bc-d878-456d-9510-4b3423316757",
   "metadata": {
    "execution": {
     "iopub.execute_input": "2024-08-07T23:19:51.797388Z",
     "iopub.status.busy": "2024-08-07T23:19:51.797266Z",
     "iopub.status.idle": "2024-08-07T23:19:51.802330Z",
     "shell.execute_reply": "2024-08-07T23:19:51.801972Z",
     "shell.execute_reply.started": "2024-08-07T23:19:51.797378Z"
    }
   },
   "outputs": [
    {
     "data": {
      "text/plain": [
       "field_name        filter\n",
       "DEEP_A0           g_01      20\n",
       "                  i_06      20\n",
       "                  r_03      20\n",
       "DEEP_B0           g_01      40\n",
       "                  i_06      23\n",
       "                  r_03      40\n",
       "ELAIS_S1          g_01      20\n",
       "                  i_06      20\n",
       "                  r_03      20\n",
       "Rubin_SV_225_-40  g_01      20\n",
       "                  i_06      20\n",
       "                  r_03      20\n",
       "Rubin_SV_250_2    g_01      20\n",
       "                  i_06      20\n",
       "                  r_03      20\n",
       "Rubin_SV_280_-48  g_01      60\n",
       "                  i_06      60\n",
       "                  r_03      60\n",
       "Rubin_SV_300_-41  g_01      70\n",
       "                  i_06      80\n",
       "                  r_03      60\n",
       "Name: id, dtype: int64"
      ]
     },
     "execution_count": 38,
     "metadata": {},
     "output_type": "execute_result"
    }
   ],
   "source": [
    "df_science.groupby([col_target,col_filter]).count()[col_id]"
   ]
  },
  {
   "cell_type": "markdown",
   "id": "376c790b-3142-4b6c-b297-d12bbb04a55b",
   "metadata": {},
   "source": [
    "Convert results into a pandas DataFrame:"
   ]
  },
  {
   "cell_type": "code",
   "execution_count": 39,
   "id": "30afc449-755c-49e5-8d5d-bdf3ac1be28e",
   "metadata": {
    "execution": {
     "iopub.execute_input": "2024-08-07T23:19:51.802930Z",
     "iopub.status.busy": "2024-08-07T23:19:51.802806Z",
     "iopub.status.idle": "2024-08-07T23:19:51.813501Z",
     "shell.execute_reply": "2024-08-07T23:19:51.813144Z",
     "shell.execute_reply.started": "2024-08-07T23:19:51.802920Z"
    }
   },
   "outputs": [
    {
     "data": {
      "text/html": [
       "<div>\n",
       "<style scoped>\n",
       "    .dataframe tbody tr th:only-of-type {\n",
       "        vertical-align: middle;\n",
       "    }\n",
       "\n",
       "    .dataframe tbody tr th {\n",
       "        vertical-align: top;\n",
       "    }\n",
       "\n",
       "    .dataframe thead th {\n",
       "        text-align: right;\n",
       "    }\n",
       "</style>\n",
       "<table border=\"1\" class=\"dataframe\">\n",
       "  <thead>\n",
       "    <tr style=\"text-align: right;\">\n",
       "      <th></th>\n",
       "      <th>field_name</th>\n",
       "      <th>filter</th>\n",
       "      <th>number</th>\n",
       "    </tr>\n",
       "  </thead>\n",
       "  <tbody>\n",
       "    <tr>\n",
       "      <th>0</th>\n",
       "      <td>DEEP_A0</td>\n",
       "      <td>g_01</td>\n",
       "      <td>20</td>\n",
       "    </tr>\n",
       "    <tr>\n",
       "      <th>1</th>\n",
       "      <td>DEEP_A0</td>\n",
       "      <td>i_06</td>\n",
       "      <td>20</td>\n",
       "    </tr>\n",
       "    <tr>\n",
       "      <th>2</th>\n",
       "      <td>DEEP_A0</td>\n",
       "      <td>r_03</td>\n",
       "      <td>20</td>\n",
       "    </tr>\n",
       "    <tr>\n",
       "      <th>3</th>\n",
       "      <td>DEEP_B0</td>\n",
       "      <td>g_01</td>\n",
       "      <td>40</td>\n",
       "    </tr>\n",
       "    <tr>\n",
       "      <th>4</th>\n",
       "      <td>DEEP_B0</td>\n",
       "      <td>i_06</td>\n",
       "      <td>23</td>\n",
       "    </tr>\n",
       "    <tr>\n",
       "      <th>5</th>\n",
       "      <td>DEEP_B0</td>\n",
       "      <td>r_03</td>\n",
       "      <td>40</td>\n",
       "    </tr>\n",
       "    <tr>\n",
       "      <th>6</th>\n",
       "      <td>ELAIS_S1</td>\n",
       "      <td>g_01</td>\n",
       "      <td>20</td>\n",
       "    </tr>\n",
       "    <tr>\n",
       "      <th>7</th>\n",
       "      <td>ELAIS_S1</td>\n",
       "      <td>i_06</td>\n",
       "      <td>20</td>\n",
       "    </tr>\n",
       "    <tr>\n",
       "      <th>8</th>\n",
       "      <td>ELAIS_S1</td>\n",
       "      <td>r_03</td>\n",
       "      <td>20</td>\n",
       "    </tr>\n",
       "    <tr>\n",
       "      <th>9</th>\n",
       "      <td>Rubin_SV_225_-40</td>\n",
       "      <td>g_01</td>\n",
       "      <td>20</td>\n",
       "    </tr>\n",
       "    <tr>\n",
       "      <th>10</th>\n",
       "      <td>Rubin_SV_225_-40</td>\n",
       "      <td>i_06</td>\n",
       "      <td>20</td>\n",
       "    </tr>\n",
       "    <tr>\n",
       "      <th>11</th>\n",
       "      <td>Rubin_SV_225_-40</td>\n",
       "      <td>r_03</td>\n",
       "      <td>20</td>\n",
       "    </tr>\n",
       "    <tr>\n",
       "      <th>12</th>\n",
       "      <td>Rubin_SV_250_2</td>\n",
       "      <td>g_01</td>\n",
       "      <td>20</td>\n",
       "    </tr>\n",
       "    <tr>\n",
       "      <th>13</th>\n",
       "      <td>Rubin_SV_250_2</td>\n",
       "      <td>i_06</td>\n",
       "      <td>20</td>\n",
       "    </tr>\n",
       "    <tr>\n",
       "      <th>14</th>\n",
       "      <td>Rubin_SV_250_2</td>\n",
       "      <td>r_03</td>\n",
       "      <td>20</td>\n",
       "    </tr>\n",
       "    <tr>\n",
       "      <th>15</th>\n",
       "      <td>Rubin_SV_280_-48</td>\n",
       "      <td>g_01</td>\n",
       "      <td>60</td>\n",
       "    </tr>\n",
       "    <tr>\n",
       "      <th>16</th>\n",
       "      <td>Rubin_SV_280_-48</td>\n",
       "      <td>i_06</td>\n",
       "      <td>60</td>\n",
       "    </tr>\n",
       "    <tr>\n",
       "      <th>17</th>\n",
       "      <td>Rubin_SV_280_-48</td>\n",
       "      <td>r_03</td>\n",
       "      <td>60</td>\n",
       "    </tr>\n",
       "    <tr>\n",
       "      <th>18</th>\n",
       "      <td>Rubin_SV_300_-41</td>\n",
       "      <td>g_01</td>\n",
       "      <td>70</td>\n",
       "    </tr>\n",
       "    <tr>\n",
       "      <th>19</th>\n",
       "      <td>Rubin_SV_300_-41</td>\n",
       "      <td>i_06</td>\n",
       "      <td>80</td>\n",
       "    </tr>\n",
       "    <tr>\n",
       "      <th>20</th>\n",
       "      <td>Rubin_SV_300_-41</td>\n",
       "      <td>r_03</td>\n",
       "      <td>60</td>\n",
       "    </tr>\n",
       "  </tbody>\n",
       "</table>\n",
       "</div>"
      ],
      "text/plain": [
       "          field_name filter  number\n",
       "0            DEEP_A0   g_01      20\n",
       "1            DEEP_A0   i_06      20\n",
       "2            DEEP_A0   r_03      20\n",
       "3            DEEP_B0   g_01      40\n",
       "4            DEEP_B0   i_06      23\n",
       "5            DEEP_B0   r_03      40\n",
       "6           ELAIS_S1   g_01      20\n",
       "7           ELAIS_S1   i_06      20\n",
       "8           ELAIS_S1   r_03      20\n",
       "9   Rubin_SV_225_-40   g_01      20\n",
       "10  Rubin_SV_225_-40   i_06      20\n",
       "11  Rubin_SV_225_-40   r_03      20\n",
       "12    Rubin_SV_250_2   g_01      20\n",
       "13    Rubin_SV_250_2   i_06      20\n",
       "14    Rubin_SV_250_2   r_03      20\n",
       "15  Rubin_SV_280_-48   g_01      60\n",
       "16  Rubin_SV_280_-48   i_06      60\n",
       "17  Rubin_SV_280_-48   r_03      60\n",
       "18  Rubin_SV_300_-41   g_01      70\n",
       "19  Rubin_SV_300_-41   i_06      80\n",
       "20  Rubin_SV_300_-41   r_03      60"
      ]
     },
     "execution_count": 39,
     "metadata": {},
     "output_type": "execute_result"
    }
   ],
   "source": [
    "df_science_grouped = df2Dgroupby(df_science, col_target, col_filter, col_id, False)\n",
    "df_science_grouped"
   ]
  },
  {
   "cell_type": "markdown",
   "id": "5596a257-2113-40d0-9d93-8f518cd46f1c",
   "metadata": {},
   "source": [
    "Plot results as an annotated heatmap:"
   ]
  },
  {
   "cell_type": "code",
   "execution_count": 40,
   "id": "b531ef1c-b18a-4986-91cb-7147c13816fa",
   "metadata": {
    "execution": {
     "iopub.execute_input": "2024-08-07T23:19:51.814117Z",
     "iopub.status.busy": "2024-08-07T23:19:51.813994Z",
     "iopub.status.idle": "2024-08-07T23:19:51.968640Z",
     "shell.execute_reply": "2024-08-07T23:19:51.968259Z",
     "shell.execute_reply.started": "2024-08-07T23:19:51.814107Z"
    }
   },
   "outputs": [
    {
     "data": {
      "image/png": "[encoded data removed]",
      "text/plain": [
       "<Figure size 300x200 with 2 Axes>"
      ]
     },
     "metadata": {},
     "output_type": "display_data"
    }
   ],
   "source": [
    "df_science_grouped = df2Dgroupby(df_science, col_target, col_filter, col_id, True)\n",
    "plotAnnotatedHeatMap_df2Dgroupby(df_science_grouped, col_target, col_filter, 'number', title='Annotated Heatmap', cmap='Blues')"
   ]
  },
  {
   "cell_type": "markdown",
   "id": "850bf2f2-a99b-45b1-9443-d3b8968f990a",
   "metadata": {},
   "source": [
    "#### 3.2.6 Science Program, Target, and Filter"
   ]
  },
  {
   "cell_type": "markdown",
   "id": "7de2db33-83e0-445d-96b8-f2f4bd0bbdea",
   "metadata": {},
   "source": [
    "Tabulate the counts of exposures for the different science programs, targets, and filters observed on this date:"
   ]
  },
  {
   "cell_type": "code",
   "execution_count": 41,
   "id": "446c806f-612e-4946-9a53-76b03a715587",
   "metadata": {
    "execution": {
     "iopub.execute_input": "2024-08-07T23:19:51.969300Z",
     "iopub.status.busy": "2024-08-07T23:19:51.969165Z",
     "iopub.status.idle": "2024-08-07T23:19:51.974496Z",
     "shell.execute_reply": "2024-08-07T23:19:51.974158Z",
     "shell.execute_reply.started": "2024-08-07T23:19:51.969290Z"
    }
   },
   "outputs": [
    {
     "data": {
      "text/plain": [
       "science_program  field_name        filter\n",
       "BLOCK-297        DEEP_A0           g_01      20\n",
       "                                   i_06      20\n",
       "                                   r_03      20\n",
       "                 DEEP_B0           g_01      40\n",
       "                                   i_06      23\n",
       "                                   r_03      40\n",
       "                 ELAIS_S1          g_01      20\n",
       "                                   i_06      20\n",
       "                                   r_03      20\n",
       "                 Rubin_SV_225_-40  g_01      20\n",
       "                                   i_06      20\n",
       "                                   r_03      20\n",
       "                 Rubin_SV_250_2    g_01      20\n",
       "                                   i_06      20\n",
       "                                   r_03      20\n",
       "                 Rubin_SV_280_-48  g_01      60\n",
       "                                   i_06      60\n",
       "                                   r_03      60\n",
       "                 Rubin_SV_300_-41  g_01      70\n",
       "                                   i_06      80\n",
       "                                   r_03      60\n",
       "Name: id, dtype: int64"
      ]
     },
     "execution_count": 41,
     "metadata": {},
     "output_type": "execute_result"
    }
   ],
   "source": [
    "df_science.groupby([col_sciprog,col_target,col_filter]).count()[col_id]"
   ]
  },
  {
   "cell_type": "markdown",
   "id": "1ca929d5-0c50-4f50-9462-3062aa49cd58",
   "metadata": {},
   "source": [
    "Convert this result into a pandas DataFrame using the `df3groupby` function defined in Section 1.2 above and display the resulting table:"
   ]
  },
  {
   "cell_type": "code",
   "execution_count": 42,
   "id": "a79fc04b-874e-4ccd-bd64-7516552cf0cf",
   "metadata": {
    "execution": {
     "iopub.execute_input": "2024-08-07T23:19:51.975053Z",
     "iopub.status.busy": "2024-08-07T23:19:51.974936Z",
     "iopub.status.idle": "2024-08-07T23:19:51.985897Z",
     "shell.execute_reply": "2024-08-07T23:19:51.985565Z",
     "shell.execute_reply.started": "2024-08-07T23:19:51.975043Z"
    }
   },
   "outputs": [
    {
     "data": {
      "text/html": [
       "<div>\n",
       "<style scoped>\n",
       "    .dataframe tbody tr th:only-of-type {\n",
       "        vertical-align: middle;\n",
       "    }\n",
       "\n",
       "    .dataframe tbody tr th {\n",
       "        vertical-align: top;\n",
       "    }\n",
       "\n",
       "    .dataframe thead th {\n",
       "        text-align: right;\n",
       "    }\n",
       "</style>\n",
       "<table border=\"1\" class=\"dataframe\">\n",
       "  <thead>\n",
       "    <tr style=\"text-align: right;\">\n",
       "      <th></th>\n",
       "      <th>science_program</th>\n",
       "      <th>field_name</th>\n",
       "      <th>filter</th>\n",
       "      <th>number</th>\n",
       "    </tr>\n",
       "  </thead>\n",
       "  <tbody>\n",
       "    <tr>\n",
       "      <th>0</th>\n",
       "      <td>BLOCK-297</td>\n",
       "      <td>DEEP_A0</td>\n",
       "      <td>g_01</td>\n",
       "      <td>20</td>\n",
       "    </tr>\n",
       "    <tr>\n",
       "      <th>1</th>\n",
       "      <td>BLOCK-297</td>\n",
       "      <td>DEEP_A0</td>\n",
       "      <td>i_06</td>\n",
       "      <td>20</td>\n",
       "    </tr>\n",
       "    <tr>\n",
       "      <th>2</th>\n",
       "      <td>BLOCK-297</td>\n",
       "      <td>DEEP_A0</td>\n",
       "      <td>r_03</td>\n",
       "      <td>20</td>\n",
       "    </tr>\n",
       "    <tr>\n",
       "      <th>3</th>\n",
       "      <td>BLOCK-297</td>\n",
       "      <td>DEEP_B0</td>\n",
       "      <td>g_01</td>\n",
       "      <td>40</td>\n",
       "    </tr>\n",
       "    <tr>\n",
       "      <th>4</th>\n",
       "      <td>BLOCK-297</td>\n",
       "      <td>DEEP_B0</td>\n",
       "      <td>i_06</td>\n",
       "      <td>23</td>\n",
       "    </tr>\n",
       "    <tr>\n",
       "      <th>5</th>\n",
       "      <td>BLOCK-297</td>\n",
       "      <td>DEEP_B0</td>\n",
       "      <td>r_03</td>\n",
       "      <td>40</td>\n",
       "    </tr>\n",
       "    <tr>\n",
       "      <th>6</th>\n",
       "      <td>BLOCK-297</td>\n",
       "      <td>ELAIS_S1</td>\n",
       "      <td>g_01</td>\n",
       "      <td>20</td>\n",
       "    </tr>\n",
       "    <tr>\n",
       "      <th>7</th>\n",
       "      <td>BLOCK-297</td>\n",
       "      <td>ELAIS_S1</td>\n",
       "      <td>i_06</td>\n",
       "      <td>20</td>\n",
       "    </tr>\n",
       "    <tr>\n",
       "      <th>8</th>\n",
       "      <td>BLOCK-297</td>\n",
       "      <td>ELAIS_S1</td>\n",
       "      <td>r_03</td>\n",
       "      <td>20</td>\n",
       "    </tr>\n",
       "    <tr>\n",
       "      <th>9</th>\n",
       "      <td>BLOCK-297</td>\n",
       "      <td>Rubin_SV_225_-40</td>\n",
       "      <td>g_01</td>\n",
       "      <td>20</td>\n",
       "    </tr>\n",
       "    <tr>\n",
       "      <th>10</th>\n",
       "      <td>BLOCK-297</td>\n",
       "      <td>Rubin_SV_225_-40</td>\n",
       "      <td>i_06</td>\n",
       "      <td>20</td>\n",
       "    </tr>\n",
       "    <tr>\n",
       "      <th>11</th>\n",
       "      <td>BLOCK-297</td>\n",
       "      <td>Rubin_SV_225_-40</td>\n",
       "      <td>r_03</td>\n",
       "      <td>20</td>\n",
       "    </tr>\n",
       "    <tr>\n",
       "      <th>12</th>\n",
       "      <td>BLOCK-297</td>\n",
       "      <td>Rubin_SV_250_2</td>\n",
       "      <td>g_01</td>\n",
       "      <td>20</td>\n",
       "    </tr>\n",
       "    <tr>\n",
       "      <th>13</th>\n",
       "      <td>BLOCK-297</td>\n",
       "      <td>Rubin_SV_250_2</td>\n",
       "      <td>i_06</td>\n",
       "      <td>20</td>\n",
       "    </tr>\n",
       "    <tr>\n",
       "      <th>14</th>\n",
       "      <td>BLOCK-297</td>\n",
       "      <td>Rubin_SV_250_2</td>\n",
       "      <td>r_03</td>\n",
       "      <td>20</td>\n",
       "    </tr>\n",
       "    <tr>\n",
       "      <th>15</th>\n",
       "      <td>BLOCK-297</td>\n",
       "      <td>Rubin_SV_280_-48</td>\n",
       "      <td>g_01</td>\n",
       "      <td>60</td>\n",
       "    </tr>\n",
       "    <tr>\n",
       "      <th>16</th>\n",
       "      <td>BLOCK-297</td>\n",
       "      <td>Rubin_SV_280_-48</td>\n",
       "      <td>i_06</td>\n",
       "      <td>60</td>\n",
       "    </tr>\n",
       "    <tr>\n",
       "      <th>17</th>\n",
       "      <td>BLOCK-297</td>\n",
       "      <td>Rubin_SV_280_-48</td>\n",
       "      <td>r_03</td>\n",
       "      <td>60</td>\n",
       "    </tr>\n",
       "    <tr>\n",
       "      <th>18</th>\n",
       "      <td>BLOCK-297</td>\n",
       "      <td>Rubin_SV_300_-41</td>\n",
       "      <td>g_01</td>\n",
       "      <td>70</td>\n",
       "    </tr>\n",
       "    <tr>\n",
       "      <th>19</th>\n",
       "      <td>BLOCK-297</td>\n",
       "      <td>Rubin_SV_300_-41</td>\n",
       "      <td>i_06</td>\n",
       "      <td>80</td>\n",
       "    </tr>\n",
       "    <tr>\n",
       "      <th>20</th>\n",
       "      <td>BLOCK-297</td>\n",
       "      <td>Rubin_SV_300_-41</td>\n",
       "      <td>r_03</td>\n",
       "      <td>60</td>\n",
       "    </tr>\n",
       "  </tbody>\n",
       "</table>\n",
       "</div>"
      ],
      "text/plain": [
       "   science_program        field_name filter  number\n",
       "0        BLOCK-297           DEEP_A0   g_01      20\n",
       "1        BLOCK-297           DEEP_A0   i_06      20\n",
       "2        BLOCK-297           DEEP_A0   r_03      20\n",
       "3        BLOCK-297           DEEP_B0   g_01      40\n",
       "4        BLOCK-297           DEEP_B0   i_06      23\n",
       "5        BLOCK-297           DEEP_B0   r_03      40\n",
       "6        BLOCK-297          ELAIS_S1   g_01      20\n",
       "7        BLOCK-297          ELAIS_S1   i_06      20\n",
       "8        BLOCK-297          ELAIS_S1   r_03      20\n",
       "9        BLOCK-297  Rubin_SV_225_-40   g_01      20\n",
       "10       BLOCK-297  Rubin_SV_225_-40   i_06      20\n",
       "11       BLOCK-297  Rubin_SV_225_-40   r_03      20\n",
       "12       BLOCK-297    Rubin_SV_250_2   g_01      20\n",
       "13       BLOCK-297    Rubin_SV_250_2   i_06      20\n",
       "14       BLOCK-297    Rubin_SV_250_2   r_03      20\n",
       "15       BLOCK-297  Rubin_SV_280_-48   g_01      60\n",
       "16       BLOCK-297  Rubin_SV_280_-48   i_06      60\n",
       "17       BLOCK-297  Rubin_SV_280_-48   r_03      60\n",
       "18       BLOCK-297  Rubin_SV_300_-41   g_01      70\n",
       "19       BLOCK-297  Rubin_SV_300_-41   i_06      80\n",
       "20       BLOCK-297  Rubin_SV_300_-41   r_03      60"
      ]
     },
     "execution_count": 42,
     "metadata": {},
     "output_type": "execute_result"
    }
   ],
   "source": [
    "df_science_grouped = df3Dgroupby(df_science, col_sciprog, col_target, col_filter, col_id, False)\n",
    "df_science_grouped"
   ]
  },
  {
   "cell_type": "markdown",
   "id": "40b0c743-987f-408f-bcea-3c915c8f1a7c",
   "metadata": {
    "execution": {
     "iopub.execute_input": "2024-06-05T23:04:32.044248Z",
     "iopub.status.busy": "2024-06-05T23:04:32.043966Z",
     "iopub.status.idle": "2024-06-05T23:04:32.046337Z",
     "shell.execute_reply": "2024-06-05T23:04:32.045960Z",
     "shell.execute_reply.started": "2024-06-05T23:04:32.044235Z"
    }
   },
   "source": [
    "### 3.3 Positions"
   ]
  },
  {
   "cell_type": "markdown",
   "id": "1a622dcd-b076-4c9e-bc56-386dffc4393e",
   "metadata": {
    "execution": {
     "iopub.execute_input": "2024-06-05T23:05:09.152878Z",
     "iopub.status.busy": "2024-06-05T23:05:09.152583Z",
     "iopub.status.idle": "2024-06-05T23:05:09.155918Z",
     "shell.execute_reply": "2024-06-05T23:05:09.155469Z",
     "shell.execute_reply.started": "2024-06-05T23:05:09.152864Z"
    }
   },
   "source": [
    "#### 3.3.1 Target RA, DEC"
   ]
  },
  {
   "cell_type": "code",
   "execution_count": 43,
   "id": "3a255c90-e086-4bf4-8796-fdfd7b08f8aa",
   "metadata": {
    "execution": {
     "iopub.execute_input": "2024-08-07T23:19:51.986490Z",
     "iopub.status.busy": "2024-08-07T23:19:51.986373Z",
     "iopub.status.idle": "2024-08-07T23:19:52.156679Z",
     "shell.execute_reply": "2024-08-07T23:19:52.156324Z",
     "shell.execute_reply.started": "2024-08-07T23:19:51.986481Z"
    }
   },
   "outputs": [
    {
     "data": {
      "image/png": "[encoded data removed]",
      "text/plain": [
       "<Figure size 1000x1000 with 1 Axes>"
      ]
     },
     "metadata": {},
     "output_type": "display_data"
    }
   ],
   "source": [
    "df_science.sort_values(by='field_name', inplace=True)\n",
    "\n",
    "plt.figure(figsize=(10, 10))\n",
    "\n",
    "# Plot in Cartesian coordinates\n",
    "if df_science[col_target].dtype == \"int64\" or df_science[col_target].dtype == \"float64\":\n",
    "    # We create and annotate the plot one way if col_target is numerical...\n",
    "    ax = sns.scatterplot(data=df_science, x=\"ra\", y=\"dec\", hue=col_target, palette='viridis', s=100)\n",
    "else:\n",
    "    # Otherwise, if col_target is a string or similar, we create and annotate the plot this way...\n",
    "    #  (This could be done better.  As it is, the spacing is very crowded.)\n",
    "    ax = sns.scatterplot(data=df_science, x=\"ra\", y=\"dec\", s=100)\n",
    "    prev_label = 'XXXXXX'\n",
    "    for i, label in enumerate(df_science[col_target]):\n",
    "        if label != prev_label:\n",
    "            ax.annotate(label, (df_science['ra'].iloc[i], df_science['dec'].iloc[i]), fontsize=6)\n",
    "            prev_label = label\n",
    "\n",
    "# Add labels and title\n",
    "plt.xlabel('RA')\n",
    "plt.ylabel('DEC')\n",
    "title = \"\"\"RA, DEC positions of %s Observations of Different Science Program Targets on %s\"\"\" %(instrument, day_obs)\n",
    "plt.title(title)\n",
    "plt.grid(True)"
   ]
  },
  {
   "cell_type": "markdown",
   "id": "6f44aa7c-1ffa-455b-9140-aef639149773",
   "metadata": {},
   "source": [
    "#### 3.3.2 Target vs. zenith_angle"
   ]
  },
  {
   "cell_type": "code",
   "execution_count": 44,
   "id": "c34cf1ba-4e0d-429f-8d9b-52fa29f08658",
   "metadata": {
    "execution": {
     "iopub.execute_input": "2024-08-07T23:19:52.157469Z",
     "iopub.status.busy": "2024-08-07T23:19:52.157201Z",
     "iopub.status.idle": "2024-08-07T23:19:52.303851Z",
     "shell.execute_reply": "2024-08-07T23:19:52.303482Z",
     "shell.execute_reply.started": "2024-08-07T23:19:52.157457Z"
    }
   },
   "outputs": [
    {
     "data": {
      "image/png": "[encoded data removed]",
      "text/plain": [
       "<Figure size 1000x1000 with 1 Axes>"
      ]
     },
     "metadata": {},
     "output_type": "display_data"
    }
   ],
   "source": [
    "plt.figure(figsize=(10, 10))\n",
    "\n",
    "ax = sns.scatterplot(data=df_science, x=\"zenith_angle\", y=col_target)\n",
    "\n",
    "# Add labels and title\n",
    "#plt.xlabel('Zenith Angle')\n",
    "#plt.ylabel('Target')\n",
    "title = \"\"\"Zenith distances for of %s Observations of Different Science Program Targets on %s\"\"\" %(instrument, day_obs)\n",
    "plt.title(title)\n",
    "plt.grid(True)\n"
   ]
  },
  {
   "cell_type": "markdown",
   "id": "adef1139-2f33-4e3f-bd45-9dbd609aec6f",
   "metadata": {},
   "source": [
    "#### 3.3.3 Target vs. MJD"
   ]
  },
  {
   "cell_type": "code",
   "execution_count": 45,
   "id": "1d4139ce-9cd4-47d9-8288-681db988dcc4",
   "metadata": {
    "execution": {
     "iopub.execute_input": "2024-08-07T23:19:52.304487Z",
     "iopub.status.busy": "2024-08-07T23:19:52.304364Z",
     "iopub.status.idle": "2024-08-07T23:19:52.453700Z",
     "shell.execute_reply": "2024-08-07T23:19:52.453334Z",
     "shell.execute_reply.started": "2024-08-07T23:19:52.304476Z"
    }
   },
   "outputs": [
    {
     "data": {
      "image/png": "[encoded data removed]",
      "text/plain": [
       "<Figure size 1000x1000 with 1 Axes>"
      ]
     },
     "metadata": {},
     "output_type": "display_data"
    }
   ],
   "source": [
    "plt.figure(figsize=(10, 10))\n",
    "\n",
    "#ax = sns.scatterplot(data=df_science, x=\"mjd\", y=\"target\")\n",
    "ax = sns.scatterplot(data=df_science, x=\"mjd\", y=col_target)\n",
    "\n",
    "\n",
    "# Add labels and title\n",
    "plt.xlabel('MJD')\n",
    "plt.ylabel(col_target)\n",
    "title = \"\"\"MJDs of %s Observations of Different Science Program Targets on %s\"\"\" %(instrument, day_obs)\n",
    "plt.title(title)\n",
    "plt.grid(True)\n"
   ]
  },
  {
   "cell_type": "markdown",
   "id": "24882080-4a9b-4442-a7e6-46b316d85bcc",
   "metadata": {},
   "source": [
    "#### 3.3.4 Target zenith angle vs. MJD"
   ]
  },
  {
   "cell_type": "code",
   "execution_count": 46,
   "id": "3d2d7e9a-a8c5-43e3-9fb3-f8b7cf5b6e87",
   "metadata": {
    "execution": {
     "iopub.execute_input": "2024-08-07T23:19:52.454324Z",
     "iopub.status.busy": "2024-08-07T23:19:52.454202Z",
     "iopub.status.idle": "2024-08-07T23:19:52.659077Z",
     "shell.execute_reply": "2024-08-07T23:19:52.658696Z",
     "shell.execute_reply.started": "2024-08-07T23:19:52.454314Z"
    }
   },
   "outputs": [
    {
     "data": {
      "image/png": "[encoded data removed]",
      "text/plain": [
       "<Figure size 1000x1000 with 1 Axes>"
      ]
     },
     "metadata": {},
     "output_type": "display_data"
    }
   ],
   "source": [
    "df_science.sort_values(by='mjd', inplace=True)\n",
    "\n",
    "plt.figure(figsize=(10, 10))\n",
    "\n",
    "# Plot in Cartesian coordinates\n",
    "if df_science[col_target].dtype == \"int64\" or df_science[col_target].dtype == \"float64\":\n",
    "    # We create and annotate the plot one way if col_target is numerical...\n",
    "    ax = sns.scatterplot(data=df_science, x=\"mjd\", y=\"zenith_angle\", hue=col_target, palette='viridis', s=100)\n",
    "else:\n",
    "    # Otherwise, if col_target is a string or similar, we create and annotate the plot this way...\n",
    "    #  (This could be done better.  As it is, the spacing is very crowded.)\n",
    "    ax = sns.scatterplot(data=df_science, x=\"mjd\", y=\"zenith_angle\", s=100)\n",
    "    prev_label = 'XXXXXX'\n",
    "    for i, label in enumerate(df_science[col_target]):\n",
    "        if label != prev_label:\n",
    "            #mjd = df_science['mjd'].iloc[i]\n",
    "            #za = df_science['zenith_angle'].iloc[i]\n",
    "            #print(i, label, mjd, za)\n",
    "            ax.annotate(label, (df_science['mjd'].iloc[i], df_science['zenith_angle'].iloc[i]), fontsize=6)\n",
    "            prev_label = label\n",
    "\n",
    "# Add labels and title\n",
    "plt.xlabel('MJD')\n",
    "plt.ylabel('Zenith Angle')\n",
    "title = \"\"\"Zenith Angle vs. MJD of %s Observations of Different Science Program Targets on %s\"\"\" %(instrument, day_obs)\n",
    "plt.title(title)\n",
    "plt.grid(True)"
   ]
  },
  {
   "cell_type": "markdown",
   "id": "c25e34d6-4067-4002-983f-60a7d279eb1e",
   "metadata": {},
   "source": [
    "## 4. Final cleanup"
   ]
  },
  {
   "cell_type": "markdown",
   "id": "76e1ea9b-78d2-455b-b59b-85a046d5663b",
   "metadata": {},
   "source": [
    "Reset the pandas maximum rows option it its original default."
   ]
  },
  {
   "cell_type": "code",
   "execution_count": 47,
   "id": "c1c4ccc9-25a5-4ddc-853c-01da52b614fd",
   "metadata": {
    "execution": {
     "iopub.execute_input": "2024-08-07T23:19:52.659714Z",
     "iopub.status.busy": "2024-08-07T23:19:52.659590Z",
     "iopub.status.idle": "2024-08-07T23:19:52.661756Z",
     "shell.execute_reply": "2024-08-07T23:19:52.661435Z",
     "shell.execute_reply.started": "2024-08-07T23:19:52.659703Z"
    }
   },
   "outputs": [],
   "source": [
    "# Reset the display.max_rows option to the original default\n",
    "pd.reset_option(\"display.max_rows\")"
   ]
  },
  {
   "cell_type": "code",
   "execution_count": 48,
   "id": "02c94801-1bfc-4f2b-94e2-05842a92766e",
   "metadata": {
    "execution": {
     "iopub.execute_input": "2024-08-07T23:19:52.662307Z",
     "iopub.status.busy": "2024-08-07T23:19:52.662175Z",
     "iopub.status.idle": "2024-08-07T23:19:52.671080Z",
     "shell.execute_reply": "2024-08-07T23:19:52.669654Z",
     "shell.execute_reply.started": "2024-08-07T23:19:52.662297Z"
    }
   },
   "outputs": [],
   "source": [
    "# Stop automatic execution of cells before reaching the Sandbox...\n",
    "#sys.exit(\"Notebook execution stopped here.\")\n",
    "\n",
    "raise StopExecution"
   ]
  },
  {
   "cell_type": "markdown",
   "id": "95a3e199-dd2a-4cb8-a5b1-5105533eab75",
   "metadata": {
    "execution": {
     "iopub.execute_input": "2024-08-06T23:52:44.479013Z",
     "iopub.status.busy": "2024-08-06T23:52:44.478734Z",
     "iopub.status.idle": "2024-08-06T23:52:44.481105Z",
     "shell.execute_reply": "2024-08-06T23:52:44.480736Z",
     "shell.execute_reply.started": "2024-08-06T23:52:44.479001Z"
    }
   },
   "source": [
    "## 5. Sandbox"
   ]
  },
  {
   "cell_type": "code",
   "execution_count": null,
   "id": "1f1bf331-3be5-4edf-a300-50435aef536a",
   "metadata": {},
   "outputs": [],
   "source": []
  }
 ],
 "metadata": {
  "kernelspec": {
   "display_name": "LSST",
   "language": "python",
   "name": "lsst"
  },
  "language_info": {
   "codemirror_mode": {
    "name": "ipython",
    "version": 3
   },
   "file_extension": ".py",
   "mimetype": "text/x-python",
   "name": "python",
   "nbconvert_exporter": "python",
   "pygments_lexer": "ipython3",
   "version": "3.11.7"
  }
 },
 "nbformat": 4,
 "nbformat_minor": 5
}
