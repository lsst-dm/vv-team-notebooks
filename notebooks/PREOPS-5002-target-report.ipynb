{
 "cells": [
  {
   "cell_type": "markdown",
   "id": "b79f6019-6d93-4ae3-b977-e871420921eb",
   "metadata": {},
   "source": [
    "<img align=\"left\" src = https://project.lsst.org/sites/default/files/Rubin-O-Logo_0.png width=250 style=\"padding: 10px\"> \n",
    "<br><b>Prototype Target Dashboard</b> <br>\n",
    "Contact author: Douglas Tucker <br>\n",
    "Last verified to run: 2024-06-12 <br>\n",
    "LSST Science Pipelines version: Weekly 2024_16 <br>\n",
    "Container size: medium <br>"
   ]
  },
  {
   "cell_type": "markdown",
   "id": "3c90fdc1-462a-425e-948c-5ca98a52f1e1",
   "metadata": {},
   "source": [
    "**Description:** A prototype dashboard for exploring targets (and science programs) for a given night.  This initial version focuses on AuxTel observations, but should be useful for ComCom and LSSTcam commissioning, when there will be a greater diversity of observational programs than those provided by the survey scheduler during standard operations.\n",
    "\n",
    "See Jira issue <a href=https://rubinobs.atlassian.net/browse/PREOPS-5002>PREOPS-5002</a>."
   ]
  },
  {
   "cell_type": "markdown",
   "id": "5c8cbb2d-467b-4ddc-87df-635862976392",
   "metadata": {},
   "source": [
    "**Credit:** Based heavily on the <a href=https://github.com/sylvielsstfr/AuxTelComm/blob/main/notebooks_usdf/ana_auxtelprod_jn/spectractor_v3.1.0_May2024/ListOfExposures-hologram-oga.ipynb> List of Exposures at USDF in OGA</a> notebook by Sylvie Dagoret-Campagne.  This initial \"Prototype Target Dashboard\" notebook would not have been possible without it."
   ]
  },
  {
   "cell_type": "markdown",
   "id": "d5c0d326-b723-40d6-8c8d-53b0276b24ae",
   "metadata": {},
   "source": [
    "## 1. Introduction"
   ]
  },
  {
   "cell_type": "markdown",
   "id": "11939796-4036-4e02-938e-5acb59cff017",
   "metadata": {},
   "source": [
    "### 1.1 Import Packages"
   ]
  },
  {
   "cell_type": "code",
   "execution_count": 1,
   "id": "08b3556a",
   "metadata": {
    "execution": {
     "iopub.execute_input": "2024-06-13T00:10:33.358940Z",
     "iopub.status.busy": "2024-06-13T00:10:33.358618Z",
     "iopub.status.idle": "2024-06-13T00:10:34.961294Z",
     "shell.execute_reply": "2024-06-13T00:10:34.960837Z",
     "shell.execute_reply.started": "2024-06-13T00:10:33.358923Z"
    },
    "tags": []
   },
   "outputs": [],
   "source": [
    "import sys\n",
    "import os\n",
    "import matplotlib.pyplot as plt\n",
    "import seaborn as sns\n",
    "import numpy as np\n",
    "import pandas as pd\n",
    "from matplotlib.colors import LogNorm\n",
    "from IPython.display import display, HTML\n",
    "import lsst.afw.display as afwDisplay\n",
    "import lsst.daf.butler as dafButler\n",
    "\n",
    "from mpl_toolkits.axes_grid1 import make_axes_locatable\n",
    "\n",
    "import matplotlib.ticker\n",
    "from matplotlib.ticker import (MultipleLocator, FormatStrFormatter, AutoMinorLocator)\n",
    "\n",
    "from astropy.io import fits\n",
    "from astropy.time import Time\n",
    "\n",
    "import warnings"
   ]
  },
  {
   "cell_type": "markdown",
   "id": "7f0480fa-3163-4355-81e2-b66004e31f0b",
   "metadata": {},
   "source": [
    "### 1.2. Define functions and parameters"
   ]
  },
  {
   "cell_type": "markdown",
   "id": "34fbb5ee-c89e-4cb3-a746-1eb0c3dbc38b",
   "metadata": {},
   "source": [
    "Create a function to create a pandas DataFrame, df_grouped, that contains the results of performing a 2D groupby operation on a pandas DataFrame, df, and counts the number of entries in the col_count column for each (col_x, col_y).  One can choose to include a count of zero for cases where (col_x, col_y) have no entries in col_count (the default), or to exclude those cases.  The resulting pandas DataFrame, df_grouped, is also sorted by (col_x, col_y)."
   ]
  },
  {
   "cell_type": "code",
   "execution_count": 2,
   "id": "2fd7808f-8111-4c23-8735-5a8fbc26b67f",
   "metadata": {
    "execution": {
     "iopub.execute_input": "2024-06-13T00:10:34.962391Z",
     "iopub.status.busy": "2024-06-13T00:10:34.962166Z",
     "iopub.status.idle": "2024-06-13T00:10:34.965666Z",
     "shell.execute_reply": "2024-06-13T00:10:34.965271Z",
     "shell.execute_reply.started": "2024-06-13T00:10:34.962378Z"
    }
   },
   "outputs": [],
   "source": [
    "# Thanks to the ChatGPT on Poe.com and to https://stackoverflow.com/questions/37003100/pandas-groupby-for-zero-values for help in creating this function!\n",
    "\n",
    "def df2Dgroupby(df, col_x, col_y, col_count, fill_zeros=True):\n",
    "\n",
    "    if fill_zeros==True:\n",
    "\n",
    "        df_grouped = (\n",
    "            df_science.groupby([col_x, col_y])[col_count]\n",
    "            .count()\n",
    "            .unstack(fill_value=0)\n",
    "            .stack()\n",
    "            .reset_index()\n",
    "            .rename(columns={0: \"number\"})\n",
    "            .sort_values([col_x, col_y])\n",
    "        )\n",
    "\n",
    "    else:\n",
    "\n",
    "        df_grouped = (\n",
    "            df_science.groupby([col_x, col_y])[col_count]\n",
    "            .count()\n",
    "            .reset_index()\n",
    "            .rename(columns={col_count: \"number\"})\n",
    "            .sort_values([col_x, col_y])\n",
    "        )\n",
    "        \n",
    "    return df_grouped"
   ]
  },
  {
   "cell_type": "markdown",
   "id": "b30c8654-0e50-49a0-8fd1-4c4977c5f5f1",
   "metadata": {},
   "source": [
    "Let us also do the same, but for performing the `groupby` over 3 columns.  (Should just generalize this to `N` columns, but that can wait...) "
   ]
  },
  {
   "cell_type": "code",
   "execution_count": 3,
   "id": "48629971-c159-4e22-af48-f1a7afb61839",
   "metadata": {
    "execution": {
     "iopub.execute_input": "2024-06-13T00:10:34.966306Z",
     "iopub.status.busy": "2024-06-13T00:10:34.966180Z",
     "iopub.status.idle": "2024-06-13T00:10:34.970997Z",
     "shell.execute_reply": "2024-06-13T00:10:34.970641Z",
     "shell.execute_reply.started": "2024-06-13T00:10:34.966295Z"
    }
   },
   "outputs": [],
   "source": [
    "# Thanks to the ChatGPT on Poe.com and to https://stackoverflow.com/questions/37003100/pandas-groupby-for-zero-values for help in creating this function!\n",
    "\n",
    "def df3Dgroupby(df, col_x, col_y, col_z, col_count, fill_zeros=True):\n",
    "\n",
    "    if fill_zeros==True:\n",
    "\n",
    "        df_grouped = (\n",
    "            df_science.groupby([col_x, col_y, col_z])[col_count]\n",
    "            .count()\n",
    "            .unstack(fill_value=0)\n",
    "            .stack()\n",
    "            .reset_index()\n",
    "            .rename(columns={0: \"number\"})\n",
    "            .sort_values([col_x, col_y, col_z])\n",
    "        )\n",
    "\n",
    "    else:\n",
    "\n",
    "        df_grouped = (\n",
    "            df_science.groupby([col_x, col_y, col_z])[col_count]\n",
    "            .count()\n",
    "            .reset_index()\n",
    "            .rename(columns={col_count: \"number\"})\n",
    "            .sort_values([col_x, col_y, col_z])\n",
    "        )\n",
    "        \n",
    "    return df_grouped"
   ]
  },
  {
   "cell_type": "markdown",
   "id": "3a7f9d55-4e9b-4f15-a483-dce41a6f76cc",
   "metadata": {},
   "source": [
    "Create a function to plot an annotated headmap for a pandas DataFrame created by the above `df2Dgroupby` function."
   ]
  },
  {
   "cell_type": "code",
   "execution_count": 4,
   "id": "ee220a70-00c4-4726-a384-cdc758a4a298",
   "metadata": {
    "execution": {
     "iopub.execute_input": "2024-06-13T00:10:34.971997Z",
     "iopub.status.busy": "2024-06-13T00:10:34.971871Z",
     "iopub.status.idle": "2024-06-13T00:10:34.979782Z",
     "shell.execute_reply": "2024-06-13T00:10:34.979421Z",
     "shell.execute_reply.started": "2024-06-13T00:10:34.971985Z"
    }
   },
   "outputs": [],
   "source": [
    "# With a little help from https://seaborn.pydata.org/generated/seaborn.heatmap.html ...\n",
    "\n",
    "def plotAnnotatedHeatMap_df2Dgroupby(df_grouped, col_index, col_column, col_values, title='Annotated Heatmap', cmap='Blues'):\n",
    "\n",
    "    # Estimate a good figure size in x,y for the resulting plot...\n",
    "    figsize_x = df_grouped[col_column].unique().size\n",
    "    figsize_y = df_grouped[col_index].unique().size\n",
    "    if figsize_y < 3:\n",
    "        figsize_y = 1\n",
    "    else:\n",
    "        figsize_y = round(figsize_y/3)\n",
    "    \n",
    "    # Pivot the DataFrame to works with Seaborn heatmap...\n",
    "    pivot_table = df_grouped.pivot(index=col_index, columns=col_column, values=col_values)\n",
    "    fig, ax = plt.subplots(figsize=(figsize_x, figsize_y))\n",
    "    #fig, ax = plt.subplots(figsize=(5, 15))\n",
    "    #fig, ax = plt.subplots()\n",
    "\n",
    "    # Plot the annoated heatmap...\n",
    "    sns.heatmap(pivot_table, annot=True, cmap=cmap, linecolor='Black', linewidths=0.1, ax=ax)\n",
    "\n",
    "    # Add labels and title and rotate the x tick labels by 90 degrees...\n",
    "    ax.set_xlabel(col_column)\n",
    "    ax.set_ylabel(col_index)\n",
    "    ax.set_title(title)\n",
    "    plt.xticks(rotation=90)"
   ]
  },
  {
   "cell_type": "markdown",
   "id": "2336c731-3637-48f0-bcf4-9b68258f28b1",
   "metadata": {},
   "source": [
    "Set filter warnings to \"ignore\" to avoid a lot of \"logorrhea\" to the screen:"
   ]
  },
  {
   "cell_type": "code",
   "execution_count": 5,
   "id": "4c6ba6a7-c940-4c0c-a513-f9a4a1dab1b8",
   "metadata": {
    "execution": {
     "iopub.execute_input": "2024-06-13T00:10:34.980377Z",
     "iopub.status.busy": "2024-06-13T00:10:34.980253Z",
     "iopub.status.idle": "2024-06-13T00:10:34.983999Z",
     "shell.execute_reply": "2024-06-13T00:10:34.983646Z",
     "shell.execute_reply.started": "2024-06-13T00:10:34.980366Z"
    }
   },
   "outputs": [],
   "source": [
    "warnings.filterwarnings(\"ignore\")"
   ]
  },
  {
   "cell_type": "markdown",
   "id": "5b0f81cd-5843-4489-aa49-a9649dafd666",
   "metadata": {
    "execution": {
     "iopub.execute_input": "2024-06-04T21:49:42.971382Z",
     "iopub.status.busy": "2024-06-04T21:49:42.971259Z",
     "iopub.status.idle": "2024-06-04T21:49:42.973507Z",
     "shell.execute_reply": "2024-06-04T21:49:42.973039Z",
     "shell.execute_reply.started": "2024-06-04T21:49:42.971372Z"
    },
    "tags": []
   },
   "source": [
    "Set default backend for afwDisplay to `matplotlib`:"
   ]
  },
  {
   "cell_type": "code",
   "execution_count": 6,
   "id": "07168a2e",
   "metadata": {
    "execution": {
     "iopub.execute_input": "2024-06-13T00:10:34.984591Z",
     "iopub.status.busy": "2024-06-13T00:10:34.984471Z",
     "iopub.status.idle": "2024-06-13T00:10:34.996131Z",
     "shell.execute_reply": "2024-06-13T00:10:34.995774Z",
     "shell.execute_reply.started": "2024-06-13T00:10:34.984581Z"
    },
    "tags": []
   },
   "outputs": [],
   "source": [
    "afwDisplay.setDefaultBackend('matplotlib')"
   ]
  },
  {
   "cell_type": "markdown",
   "id": "2eee66fe-15ef-4f91-9500-9160bb83de69",
   "metadata": {
    "execution": {
     "iopub.execute_input": "2024-06-04T21:49:42.998432Z",
     "iopub.status.busy": "2024-06-04T21:49:42.998312Z",
     "iopub.status.idle": "2024-06-04T21:49:43.000578Z",
     "shell.execute_reply": "2024-06-04T21:49:43.000106Z",
     "shell.execute_reply.started": "2024-06-04T21:49:42.998423Z"
    },
    "tags": []
   },
   "source": [
    "Set a few parameters to use later, when plotting:"
   ]
  },
  {
   "cell_type": "code",
   "execution_count": 7,
   "id": "0bff8f23-c35c-4b72-b9f5-7d32b432ac22",
   "metadata": {
    "execution": {
     "iopub.execute_input": "2024-06-13T00:10:34.996722Z",
     "iopub.status.busy": "2024-06-13T00:10:34.996603Z",
     "iopub.status.idle": "2024-06-13T00:10:34.999165Z",
     "shell.execute_reply": "2024-06-13T00:10:34.998809Z",
     "shell.execute_reply.started": "2024-06-13T00:10:34.996713Z"
    }
   },
   "outputs": [],
   "source": [
    "plt.style.use('tableau-colorblind10')\n",
    "\n",
    "plot_filter_labels = ['u', 'g', 'r', 'i', 'z', 'y']\n",
    "plot_filter_colors = {'u': '#56b4e9', 'g': '#008060', 'r': '#ff4000',\n",
    "                      'i': '#850000', 'z': '#6600cc', 'y': '#000000'}\n",
    "plot_filter_symbols = {'u': 'o', 'g': '^', 'r': 'v', 'i': 's', 'z': '*', 'y': 'p'}"
   ]
  },
  {
   "cell_type": "markdown",
   "id": "0d0d39de-dbca-4d81-a5d9-0ca7128a8d48",
   "metadata": {},
   "source": [
    "Define repo, collection, instrument, and day of observation to study:\n",
    "\n",
    "<span style=\"color:red; font-weight:bold\">I think I lost the correct repo designation that Colin told me on June 7...</span>\n",
    "\n"
   ]
  },
  {
   "cell_type": "code",
   "execution_count": 8,
   "id": "6e21fce6",
   "metadata": {
    "execution": {
     "iopub.execute_input": "2024-06-13T00:10:34.999777Z",
     "iopub.status.busy": "2024-06-13T00:10:34.999660Z",
     "iopub.status.idle": "2024-06-13T00:10:35.003111Z",
     "shell.execute_reply": "2024-06-13T00:10:35.002766Z",
     "shell.execute_reply.started": "2024-06-13T00:10:34.999766Z"
    },
    "tags": []
   },
   "outputs": [],
   "source": [
    "#repo = \"/sdf/group/rubin/repo/main\"\n",
    "repo=\"/sdf/group/rubin/repo/oga/\"\n",
    "collection='LATISS/raw/all'\n",
    "instrument = 'LATISS'\n",
    "day_obs = 20240422\n",
    "\n",
    "# Ops Rehearsal 3, DRP on Simulated ComCom data at USDF, Iteration #3\n",
    "#  (https://confluence.lsstcorp.org/display/DM/Campaigns)\n",
    "#repo='/repo/ops-rehearsal-3-prep'\n",
    "#collection = 'u/homer/w_2024_12/DM-43439'\n",
    "#instrument = 'LSSTComCamSim'\n",
    "#day_obs = 20240404\n"
   ]
  },
  {
   "cell_type": "markdown",
   "id": "3a7b35c7",
   "metadata": {},
   "source": [
    "## 2. Access data for this repo, collection, and day of observation"
   ]
  },
  {
   "cell_type": "markdown",
   "id": "9091f96f-6457-4c29-bab7-d6e1b16c6d7e",
   "metadata": {},
   "source": [
    "### 2.1 Instantiate butler and create registry"
   ]
  },
  {
   "cell_type": "code",
   "execution_count": 9,
   "id": "81254df0-8ec8-4515-b2dc-743f3cceca16",
   "metadata": {
    "execution": {
     "iopub.execute_input": "2024-06-13T00:10:35.003684Z",
     "iopub.status.busy": "2024-06-13T00:10:35.003569Z",
     "iopub.status.idle": "2024-06-13T00:10:35.637108Z",
     "shell.execute_reply": "2024-06-13T00:10:35.636687Z",
     "shell.execute_reply.started": "2024-06-13T00:10:35.003674Z"
    }
   },
   "outputs": [
    {
     "data": {
      "text/html": [
       "<pre style=\"margin: 0.1em;\n",
       "padding-left: 0.25em;\n",
       "border-left-style: solid;\n",
       "font-family: var(--jp-code-font-family);\n",
       "font-size: var(--jp-code-font-size);\n",
       "line-height: var(--jp-code-line-height);\n",
       "\"><span style=\"color: var(--jp-warn-color2)\">botocore.credentials</span> <span style=\"color: var(--jp-info-color0)\">INFO</span>: Found credentials in shared credentials file: /home/d/dltucker/.lsst/aws-credentials.ini</pre>"
      ],
      "text/plain": [
       "<IPython.core.display.HTML object>"
      ]
     },
     "metadata": {},
     "output_type": "display_data"
    }
   ],
   "source": [
    "butler = dafButler.Butler(repo)\n",
    "registry = butler.registry"
   ]
  },
  {
   "cell_type": "markdown",
   "id": "d831d517-a98f-4129-8d7f-d5ac3009629e",
   "metadata": {
    "execution": {
     "iopub.execute_input": "2024-06-13T00:00:17.034302Z",
     "iopub.status.busy": "2024-06-13T00:00:17.033885Z",
     "iopub.status.idle": "2024-06-13T00:00:17.037260Z",
     "shell.execute_reply": "2024-06-13T00:00:17.036780Z",
     "shell.execute_reply.started": "2024-06-13T00:00:17.034289Z"
    }
   },
   "source": [
    "Determine which dataset types exist in the collection.\n",
    "(Based on material from `ops_rehearsal_comcam_analysis.ipynb`.)"
   ]
  },
  {
   "cell_type": "code",
   "execution_count": 10,
   "id": "3139d172-d2d5-4294-af37-83c3a9c474af",
   "metadata": {
    "execution": {
     "iopub.execute_input": "2024-06-13T00:10:35.638722Z",
     "iopub.status.busy": "2024-06-13T00:10:35.638592Z",
     "iopub.status.idle": "2024-06-13T00:10:43.323038Z",
     "shell.execute_reply": "2024-06-13T00:10:43.322529Z",
     "shell.execute_reply.started": "2024-06-13T00:10:35.638711Z"
    }
   },
   "outputs": [
    {
     "name": "stdout",
     "output_type": "stream",
     "text": [
      "DatasetType('raw', {band, instrument, day_obs, detector, group, physical_filter, exposure}, Exposure)\n",
      "1\n"
     ]
    }
   ],
   "source": [
    "i=0\n",
    "for datasetType in registry.queryDatasetTypes():\n",
    "    if registry.queryDatasets(datasetType, collections=collection).any(execute=False, exact=False):\n",
    "        # Limit search results to the data products\n",
    "        if ('_config' not in datasetType.name) and ('_log' not in datasetType.name) and ('_metadata' not in datasetType.name) and ('_resource_usage' not in datasetType.name):\n",
    "            print(datasetType)\n",
    "            i = i+1\n",
    "print(i)"
   ]
  },
  {
   "cell_type": "markdown",
   "id": "65a709ba-96a9-4894-b482-745090bed9cd",
   "metadata": {},
   "source": [
    "What fields are available from the `exposure` dimension?"
   ]
  },
  {
   "cell_type": "code",
   "execution_count": 11,
   "id": "012bc3ba-eb45-4b67-bcfb-00110b50a97e",
   "metadata": {
    "execution": {
     "iopub.execute_input": "2024-06-13T00:10:43.323776Z",
     "iopub.status.busy": "2024-06-13T00:10:43.323651Z",
     "iopub.status.idle": "2024-06-13T00:10:43.326250Z",
     "shell.execute_reply": "2024-06-13T00:10:43.325903Z",
     "shell.execute_reply.started": "2024-06-13T00:10:43.323766Z"
    }
   },
   "outputs": [
    {
     "name": "stdout",
     "output_type": "stream",
     "text": [
      "exposure: \n",
      "  instrument: str\n",
      "  id: int\n",
      "  day_obs: int\n",
      "  group: str\n",
      "  physical_filter: str\n",
      "  obs_id: str\n",
      "  exposure_time: float\n",
      "  dark_time: float\n",
      "  observation_type: str\n",
      "  observation_reason: str\n",
      "  seq_num: int\n",
      "  seq_start: int\n",
      "  seq_end: int\n",
      "  target_name: str\n",
      "  science_program: str\n",
      "  tracking_ra: float\n",
      "  tracking_dec: float\n",
      "  sky_angle: float\n",
      "  azimuth: float\n",
      "  zenith_angle: float\n",
      "  has_simulated: bool\n",
      "  can_see_sky: bool\n",
      "  timespan: lsst.daf.butler.Timespan\n"
     ]
    }
   ],
   "source": [
    "print(butler.registry.dimensions[\"exposure\"].RecordClass.fields)"
   ]
  },
  {
   "cell_type": "markdown",
   "id": "05ba6291-d102-45ea-accf-51f6eff5fd32",
   "metadata": {},
   "source": [
    "Good!  We have some useful info here, including the `target_name` and the `science_program`."
   ]
  },
  {
   "cell_type": "markdown",
   "id": "0effdd19-98fc-43b7-a79a-bca56c3831a9",
   "metadata": {},
   "source": [
    "### 2.2 Read in information from the `exposure` dimension"
   ]
  },
  {
   "cell_type": "markdown",
   "id": "aaffdcdf-a859-4c19-8b35-782c79ffc063",
   "metadata": {},
   "source": [
    "Query the metadata for the `exposure` dimension, limiting the results to this particular instrument and day of observation."
   ]
  },
  {
   "cell_type": "code",
   "execution_count": 12,
   "id": "95d36237-32a9-486b-893a-646ab892ae33",
   "metadata": {
    "execution": {
     "iopub.execute_input": "2024-06-13T00:10:43.326827Z",
     "iopub.status.busy": "2024-06-13T00:10:43.326702Z",
     "iopub.status.idle": "2024-06-13T00:10:43.351182Z",
     "shell.execute_reply": "2024-06-13T00:10:43.350811Z",
     "shell.execute_reply.started": "2024-06-13T00:10:43.326817Z"
    }
   },
   "outputs": [],
   "source": [
    "query=\"instrument='%s' AND day_obs=%d\" % (instrument, day_obs)\n",
    "results = registry.queryDimensionRecords('exposure',where=query)\n",
    "#results = registry.queryDimensionRecords('exposure',where=\"instrument='LATISS' AND day_obs=20240422\")"
   ]
  },
  {
   "cell_type": "markdown",
   "id": "50d526f6-7237-4c13-a35e-5facd3f9030c",
   "metadata": {},
   "source": [
    "How many results were returned?"
   ]
  },
  {
   "cell_type": "code",
   "execution_count": 13,
   "id": "0a3d8db3-ca82-450e-bfd9-29bbdf26cdd8",
   "metadata": {
    "execution": {
     "iopub.execute_input": "2024-06-13T00:10:43.351789Z",
     "iopub.status.busy": "2024-06-13T00:10:43.351667Z",
     "iopub.status.idle": "2024-06-13T00:10:43.357496Z",
     "shell.execute_reply": "2024-06-13T00:10:43.357107Z",
     "shell.execute_reply.started": "2024-06-13T00:10:43.351779Z"
    }
   },
   "outputs": [
    {
     "data": {
      "text/plain": [
       "801"
      ]
     },
     "execution_count": 13,
     "metadata": {},
     "output_type": "execute_result"
    }
   ],
   "source": [
    "results.count()"
   ]
  },
  {
   "cell_type": "markdown",
   "id": "cfb5a82f-aeb1-41e5-884d-5a74d9335199",
   "metadata": {},
   "source": [
    "### 2.3 Create and fill a pandas `DataFrame` containing useful info from the `queryDimensionRecords` query"
   ]
  },
  {
   "cell_type": "markdown",
   "id": "49f149b7-fe0d-4278-8c7c-b57720d8a15b",
   "metadata": {},
   "source": [
    "Instantiate a pandas `DataFrame` with useful columns available in the `exposure` dimension.\n",
    "\n",
    "<span style=\"color:red; font-weight:bold\">Like much else, I stole a lot of this from Sylvie's notebook.  What other useful info is accessible from the `exposure` dimension?  Answer:  probably no other useful info from the `exposure` dimension.  Need to grab other info from elsewhere.</span>\n"
   ]
  },
  {
   "cell_type": "code",
   "execution_count": 14,
   "id": "473cdd14",
   "metadata": {
    "execution": {
     "iopub.execute_input": "2024-06-13T00:10:43.358070Z",
     "iopub.status.busy": "2024-06-13T00:10:43.357952Z",
     "iopub.status.idle": "2024-06-13T00:10:43.361495Z",
     "shell.execute_reply": "2024-06-13T00:10:43.361150Z",
     "shell.execute_reply.started": "2024-06-13T00:10:43.358060Z"
    },
    "tags": []
   },
   "outputs": [],
   "source": [
    "df_exposure = pd.DataFrame(columns=['id', 'obs_id','day_obs', 'seq_num',\n",
    "                                    'time_start','time_end' ,'type', \n",
    "                                    'target','filter','zenith_angle',\n",
    "                                    'expos','ra','dec','skyangle',\n",
    "                                    'azimuth','zenith','science_program',\n",
    "                                    'jd','mjd'])"
   ]
  },
  {
   "cell_type": "markdown",
   "id": "91475e9a-ea61-48ca-a704-14b2c4ce1d56",
   "metadata": {},
   "source": [
    "Read the query results into the new pandas `DataFrame`.\n",
    "\n",
    "<span style=\"color:red; font-weight:bold\">Iterating in python is generally slow if there are a lot of rows.  Are there any methods that quickly convert a `queryDimensionRecords` result to an AstroPy `table` or a pandas `DataFrame`?  It's not so bad for a single night, though; so maybe don't worry about it now.</span>\n"
   ]
  },
  {
   "cell_type": "code",
   "execution_count": 15,
   "id": "f2c9f07f",
   "metadata": {
    "execution": {
     "iopub.execute_input": "2024-06-13T00:10:43.362153Z",
     "iopub.status.busy": "2024-06-13T00:10:43.362035Z",
     "iopub.status.idle": "2024-06-13T00:10:45.284050Z",
     "shell.execute_reply": "2024-06-13T00:10:45.283559Z",
     "shell.execute_reply.started": "2024-06-13T00:10:43.362144Z"
    },
    "tags": []
   },
   "outputs": [
    {
     "name": "stdout",
     "output_type": "stream",
     "text": [
      "----------------------------------------------------- 0 ---------------------------------------------------------\n",
      "exposure:\n",
      "  instrument: 'LATISS'\n",
      "  id: 2024042200004\n",
      "  day_obs: 20240422\n",
      "  group: '2024-04-22T18:31:07.296'\n",
      "  physical_filter: 'empty~empty'\n",
      "  obs_id: 'AT_O_20240422_000004'\n",
      "  exposure_time: 2.0\n",
      "  dark_time: 2.23043\n",
      "  observation_type: 'engtest'\n",
      "  observation_reason: 'engtest'\n",
      "  seq_num: 4\n",
      "  seq_start: 4\n",
      "  seq_end: 4\n",
      "  target_name: 'AzEl'\n",
      "  science_program: 'unknown'\n",
      "  tracking_ra: 262.9428518614416\n",
      "  tracking_dec: -38.612401069176386\n",
      "  sky_angle: 119.90488527254944\n",
      "  azimuth: 238.90014839888283\n",
      "  zenith_angle: 19.61716388897939\n",
      "  has_simulated: False\n",
      "  can_see_sky: None\n",
      "  timespan: Timespan(begin=astropy.time.Time('2024-04-22 18:31:08.628006', scale='tai', format='iso'), end=astropy.time.Time('2024-04-22 18:31:10.859000', scale='tai', format='iso'))\n",
      "\t id:                   2024042200004\n",
      "\t day_obs:              20240422\n",
      "\t seq_num:              4\n",
      "\t type-of-observation:  engtest\n",
      "\t target:               AzEl\n",
      "60422.77162763896 2460423.271627639\n",
      "----------------------------------------------------- 1 ---------------------------------------------------------\n",
      "exposure:\n",
      "  instrument: 'LATISS'\n",
      "  id: 2024042200005\n",
      "  day_obs: 20240422\n",
      "  group: '2024-04-22T19:46:37.458'\n",
      "  physical_filter: 'empty~empty'\n",
      "  obs_id: 'AT_O_20240422_000005'\n",
      "  exposure_time: 2.0\n",
      "  dark_time: 2.2254\n",
      "  observation_type: 'engtest'\n",
      "  observation_reason: 'engtest'\n",
      "  seq_num: 5\n",
      "  seq_start: 5\n",
      "  seq_end: 5\n",
      "  target_name: 'DaytimeCheckout001'\n",
      "  science_program: 'unknown'\n",
      "  tracking_ra: 106.59280699721553\n",
      "  tracking_dec: 4.383670832998436\n",
      "  sky_angle: 172.76542922650404\n",
      "  azimuth: 44.677726030546495\n",
      "  zenith_angle: 44.81225753781766\n",
      "  has_simulated: False\n",
      "  can_see_sky: None\n",
      "  timespan: Timespan(begin=astropy.time.Time('2024-04-22 19:46:37.738986', scale='tai', format='iso'), end=astropy.time.Time('2024-04-22 19:46:39.964000', scale='tai', format='iso'))\n",
      "\t id:                   2024042200005\n",
      "\t day_obs:              20240422\n",
      "\t seq_num:              5\n",
      "\t type-of-observation:  engtest\n",
      "\t target:               DaytimeCheckout001\n",
      "60422.82404790493 2460423.324047905\n",
      "----------------------------------------------------- 2 ---------------------------------------------------------\n",
      "exposure:\n",
      "  instrument: 'LATISS'\n",
      "  id: 2024042200006\n",
      "  day_obs: 20240422\n",
      "  group: '2024-04-22T19:49:52.757'\n",
      "  physical_filter: 'SDSSg_65mm~blue300lpmm_qn1'\n",
      "  obs_id: 'AT_O_20240422_000006'\n",
      "  exposure_time: 2.0\n",
      "  dark_time: 2.24085\n",
      "  observation_type: 'engtest'\n",
      "  observation_reason: 'engtest'\n",
      "  seq_num: 6\n",
      "  seq_start: 6\n",
      "  seq_end: 6\n",
      "  target_name: 'DaytimeCheckout002'\n",
      "  science_program: 'unknown'\n",
      "  tracking_ra: 77.39105125265817\n",
      "  tracking_dec: -20.2731911992812\n",
      "  sky_angle: 100.00340198203821\n",
      "  azimuth: 358.4958076814941\n",
      "  zenith_angle: 10.00099977050418\n",
      "  has_simulated: False\n",
      "  can_see_sky: None\n",
      "  timespan: Timespan(begin=astropy.time.Time('2024-04-22 19:49:54.895993', scale='tai', format='iso'), end=astropy.time.Time('2024-04-22 19:49:57.137000', scale='tai', format='iso'))\n",
      "\t id:                   2024042200006\n",
      "\t day_obs:              20240422\n",
      "\t seq_num:              6\n",
      "\t type-of-observation:  engtest\n",
      "\t target:               DaytimeCheckout002\n",
      "60422.826329814736 2460423.3263298147\n",
      "----------------------------------------------------- 3 ---------------------------------------------------------\n",
      "exposure:\n",
      "  instrument: 'LATISS'\n",
      "  id: 2024042200024\n",
      "  day_obs: 20240422\n",
      "  group: '2024-04-22T20:52:21.939'\n",
      "  physical_filter: 'SDSSr_65mm~empty'\n",
      "  obs_id: 'AT_O_20240422_000024'\n",
      "  exposure_time: 0.0\n",
      "  dark_time: 0.00773335\n",
      "  observation_type: 'bias'\n",
      "  observation_reason: 'bias'\n",
      "  seq_num: 24\n",
      "  seq_start: 24\n",
      "  seq_end: 24\n",
      "  target_name: 'FlatField position'\n",
      "  science_program: 'unknown'\n",
      "  tracking_ra: 56.6067917199047\n",
      "  tracking_dec: -78.77933894202859\n",
      "  sky_angle: None\n",
      "  azimuth: 188.76731595520934\n",
      "  zenith_angle: 51.03612877516066\n",
      "  has_simulated: False\n",
      "  can_see_sky: False\n",
      "  timespan: Timespan(begin=astropy.time.Time('2024-04-22 20:52:22.018014', scale='tai', format='iso'), end=astropy.time.Time('2024-04-22 20:52:22.026000', scale='tai', format='iso'))\n",
      "\t id:                   2024042200024\n",
      "\t day_obs:              20240422\n",
      "\t seq_num:              24\n",
      "\t type-of-observation:  bias\n",
      "\t target:               FlatField position\n",
      "60422.86969928257 2460423.3696992826\n",
      "----------------------------------------------------- 4 ---------------------------------------------------------\n",
      "exposure:\n",
      "  instrument: 'LATISS'\n",
      "  id: 2024042200035\n",
      "  day_obs: 20240422\n",
      "  group: '2024-04-22T20:56:44.887'\n",
      "  physical_filter: 'SDSSr_65mm~empty'\n",
      "  obs_id: 'AT_O_20240422_000035'\n",
      "  exposure_time: 30.0\n",
      "  dark_time: 30.0101\n",
      "  observation_type: 'dark'\n",
      "  observation_reason: 'dark'\n",
      "  seq_num: 35\n",
      "  seq_start: 35\n",
      "  seq_end: 35\n",
      "  target_name: 'FlatField position'\n",
      "  science_program: 'unknown'\n",
      "  tracking_ra: 57.71159178340767\n",
      "  tracking_dec: -78.77741787709888\n",
      "  sky_angle: None\n",
      "  azimuth: 188.76724331608037\n",
      "  zenith_angle: 51.036474805207064\n",
      "  has_simulated: False\n",
      "  can_see_sky: False\n",
      "  timespan: Timespan(begin=astropy.time.Time('2024-04-22 20:56:44.973015', scale='tai', format='iso'), end=astropy.time.Time('2024-04-22 20:57:14.983000', scale='tai', format='iso'))\n",
      "\t id:                   2024042200035\n",
      "\t day_obs:              20240422\n",
      "\t seq_num:              35\n",
      "\t type-of-observation:  dark\n",
      "\t target:               FlatField position\n",
      "60422.87274274323 2460423.372742743\n",
      "----------------------------------------------------- 100 ---------------------------------------------------------\n",
      "----------------------------------------------------- 200 ---------------------------------------------------------\n",
      "----------------------------------------------------- 300 ---------------------------------------------------------\n",
      "----------------------------------------------------- 400 ---------------------------------------------------------\n",
      "----------------------------------------------------- 500 ---------------------------------------------------------\n",
      "----------------------------------------------------- 600 ---------------------------------------------------------\n",
      "----------------------------------------------------- 700 ---------------------------------------------------------\n",
      "----------------------------------------------------- 800 ---------------------------------------------------------\n"
     ]
    }
   ],
   "source": [
    "#for count, info in enumerate(registry.queryDimensionRecords('exposure',where= \"instrument='LATISS'\")):\n",
    "for count, info in enumerate(results):\n",
    "    \n",
    "    \n",
    "    try:\n",
    "        df_exposure.loc[count] = [info.id, info.obs_id, info.day_obs, info.seq_num, \n",
    "                                  pd.to_datetime(info.timespan.begin.to_string()),\n",
    "                                  pd.to_datetime(info.timespan.end.to_string()),\n",
    "                                  info.observation_type, info.target_name, \n",
    "                                  info.physical_filter, info.zenith_angle, \n",
    "                                  info.exposure_time,info.tracking_ra, info.tracking_dec, \n",
    "                                  info.sky_angle,info.azimuth ,info.zenith_angle, \n",
    "                                  info.science_program, info.timespan.begin.jd,info.timespan.begin.mjd ]\n",
    "    except:\n",
    "        print(\">>>   Unexpected error:\", sys.exc_info()[0])\n",
    "        info_timespan_begin_to_string = \"2021-01-01 00:00:00.00\"\n",
    "        info_timespan_end_to_string = \"2051-01-01 00:00:00.00\"\n",
    "        info_timespan_begin_jd = 0\n",
    "        info_timespan_begin_mjd = 0\n",
    "        df_exposure.loc[count] = [info.id, info.obs_id, info.day_obs, info.seq_num, \n",
    "                                  pd.to_datetime(info_timespan_begin_to_string),\n",
    "                                  pd.to_datetime(info_timespan_end_to_string), \n",
    "                                  info.observation_type, info.target_name, \n",
    "                                  info.physical_filter, info.zenith_angle, \n",
    "                                  info.exposure_time,info.tracking_ra, info.tracking_dec, \n",
    "                                  info.sky_angle,info.azimuth ,info.zenith_angle, \n",
    "                                  info.science_program, info_timespan_begin_jd, info_timespan_begin_mjd ]\n",
    " \n",
    "    \n",
    "    if count < 5:\n",
    "        print(\"-----------------------------------------------------\",count,\"---------------------------------------------------------\")\n",
    "        print(info)\n",
    "        print(\"\\t id:                  \",info.id)\n",
    "        print(\"\\t day_obs:             \",info.day_obs)\n",
    "        print(\"\\t seq_num:             \",info.seq_num)\n",
    "        print(\"\\t type-of-observation: \",info.observation_type)\n",
    "        print(\"\\t target:              \",info.target_name)\n",
    "        \n",
    "        mjd = Time(info.timespan.begin.to_string()).mjd\n",
    "        jd = Time(info.timespan.begin.to_string()).jd\n",
    "        print(mjd,jd)\n",
    "\n",
    "    elif ((count%100)==0):\n",
    "        print(\"-----------------------------------------------------\",count,\"---------------------------------------------------------\")\n",
    " "
   ]
  },
  {
   "cell_type": "markdown",
   "id": "6b5dca30-50b8-4aa2-91b0-f0fd3d741a34",
   "metadata": {
    "tags": []
   },
   "source": [
    "Let's look at the contents of the now-filled pandas `DataFrame`."
   ]
  },
  {
   "cell_type": "code",
   "execution_count": 16,
   "id": "ae0cf52c",
   "metadata": {
    "execution": {
     "iopub.execute_input": "2024-06-13T00:10:45.285032Z",
     "iopub.status.busy": "2024-06-13T00:10:45.284831Z",
     "iopub.status.idle": "2024-06-13T00:10:45.299716Z",
     "shell.execute_reply": "2024-06-13T00:10:45.299354Z",
     "shell.execute_reply.started": "2024-06-13T00:10:45.285014Z"
    },
    "tags": []
   },
   "outputs": [
    {
     "data": {
      "text/html": [
       "<div>\n",
       "<style scoped>\n",
       "    .dataframe tbody tr th:only-of-type {\n",
       "        vertical-align: middle;\n",
       "    }\n",
       "\n",
       "    .dataframe tbody tr th {\n",
       "        vertical-align: top;\n",
       "    }\n",
       "\n",
       "    .dataframe thead th {\n",
       "        text-align: right;\n",
       "    }\n",
       "</style>\n",
       "<table border=\"1\" class=\"dataframe\">\n",
       "  <thead>\n",
       "    <tr style=\"text-align: right;\">\n",
       "      <th></th>\n",
       "      <th>id</th>\n",
       "      <th>obs_id</th>\n",
       "      <th>day_obs</th>\n",
       "      <th>seq_num</th>\n",
       "      <th>time_start</th>\n",
       "      <th>time_end</th>\n",
       "      <th>type</th>\n",
       "      <th>target</th>\n",
       "      <th>filter</th>\n",
       "      <th>zenith_angle</th>\n",
       "      <th>expos</th>\n",
       "      <th>ra</th>\n",
       "      <th>dec</th>\n",
       "      <th>skyangle</th>\n",
       "      <th>azimuth</th>\n",
       "      <th>zenith</th>\n",
       "      <th>science_program</th>\n",
       "      <th>jd</th>\n",
       "      <th>mjd</th>\n",
       "    </tr>\n",
       "  </thead>\n",
       "  <tbody>\n",
       "    <tr>\n",
       "      <th>0</th>\n",
       "      <td>2024042200004</td>\n",
       "      <td>AT_O_20240422_000004</td>\n",
       "      <td>20240422</td>\n",
       "      <td>4</td>\n",
       "      <td>2024-04-22 18:31:08.628006</td>\n",
       "      <td>2024-04-22 18:31:10.859</td>\n",
       "      <td>engtest</td>\n",
       "      <td>AzEl</td>\n",
       "      <td>empty~empty</td>\n",
       "      <td>19.617164</td>\n",
       "      <td>2.0</td>\n",
       "      <td>262.942852</td>\n",
       "      <td>-38.612401</td>\n",
       "      <td>119.904885</td>\n",
       "      <td>238.900148</td>\n",
       "      <td>19.617164</td>\n",
       "      <td>unknown</td>\n",
       "      <td>2.460423e+06</td>\n",
       "      <td>60422.771628</td>\n",
       "    </tr>\n",
       "    <tr>\n",
       "      <th>1</th>\n",
       "      <td>2024042200005</td>\n",
       "      <td>AT_O_20240422_000005</td>\n",
       "      <td>20240422</td>\n",
       "      <td>5</td>\n",
       "      <td>2024-04-22 19:46:37.738986</td>\n",
       "      <td>2024-04-22 19:46:39.964</td>\n",
       "      <td>engtest</td>\n",
       "      <td>DaytimeCheckout001</td>\n",
       "      <td>empty~empty</td>\n",
       "      <td>44.812258</td>\n",
       "      <td>2.0</td>\n",
       "      <td>106.592807</td>\n",
       "      <td>4.383671</td>\n",
       "      <td>172.765429</td>\n",
       "      <td>44.677726</td>\n",
       "      <td>44.812258</td>\n",
       "      <td>unknown</td>\n",
       "      <td>2.460423e+06</td>\n",
       "      <td>60422.824048</td>\n",
       "    </tr>\n",
       "    <tr>\n",
       "      <th>2</th>\n",
       "      <td>2024042200006</td>\n",
       "      <td>AT_O_20240422_000006</td>\n",
       "      <td>20240422</td>\n",
       "      <td>6</td>\n",
       "      <td>2024-04-22 19:49:54.895993</td>\n",
       "      <td>2024-04-22 19:49:57.137</td>\n",
       "      <td>engtest</td>\n",
       "      <td>DaytimeCheckout002</td>\n",
       "      <td>SDSSg_65mm~blue300lpmm_qn1</td>\n",
       "      <td>10.001000</td>\n",
       "      <td>2.0</td>\n",
       "      <td>77.391051</td>\n",
       "      <td>-20.273191</td>\n",
       "      <td>100.003402</td>\n",
       "      <td>358.495808</td>\n",
       "      <td>10.001000</td>\n",
       "      <td>unknown</td>\n",
       "      <td>2.460423e+06</td>\n",
       "      <td>60422.826330</td>\n",
       "    </tr>\n",
       "    <tr>\n",
       "      <th>3</th>\n",
       "      <td>2024042200024</td>\n",
       "      <td>AT_O_20240422_000024</td>\n",
       "      <td>20240422</td>\n",
       "      <td>24</td>\n",
       "      <td>2024-04-22 20:52:22.018014</td>\n",
       "      <td>2024-04-22 20:52:22.026</td>\n",
       "      <td>bias</td>\n",
       "      <td>FlatField position</td>\n",
       "      <td>SDSSr_65mm~empty</td>\n",
       "      <td>51.036129</td>\n",
       "      <td>0.0</td>\n",
       "      <td>56.606792</td>\n",
       "      <td>-78.779339</td>\n",
       "      <td>NaN</td>\n",
       "      <td>188.767316</td>\n",
       "      <td>51.036129</td>\n",
       "      <td>unknown</td>\n",
       "      <td>2.460423e+06</td>\n",
       "      <td>60422.869699</td>\n",
       "    </tr>\n",
       "    <tr>\n",
       "      <th>4</th>\n",
       "      <td>2024042200035</td>\n",
       "      <td>AT_O_20240422_000035</td>\n",
       "      <td>20240422</td>\n",
       "      <td>35</td>\n",
       "      <td>2024-04-22 20:56:44.973015</td>\n",
       "      <td>2024-04-22 20:57:14.983</td>\n",
       "      <td>dark</td>\n",
       "      <td>FlatField position</td>\n",
       "      <td>SDSSr_65mm~empty</td>\n",
       "      <td>51.036475</td>\n",
       "      <td>30.0</td>\n",
       "      <td>57.711592</td>\n",
       "      <td>-78.777418</td>\n",
       "      <td>NaN</td>\n",
       "      <td>188.767243</td>\n",
       "      <td>51.036475</td>\n",
       "      <td>unknown</td>\n",
       "      <td>2.460423e+06</td>\n",
       "      <td>60422.872743</td>\n",
       "    </tr>\n",
       "    <tr>\n",
       "      <th>...</th>\n",
       "      <td>...</td>\n",
       "      <td>...</td>\n",
       "      <td>...</td>\n",
       "      <td>...</td>\n",
       "      <td>...</td>\n",
       "      <td>...</td>\n",
       "      <td>...</td>\n",
       "      <td>...</td>\n",
       "      <td>...</td>\n",
       "      <td>...</td>\n",
       "      <td>...</td>\n",
       "      <td>...</td>\n",
       "      <td>...</td>\n",
       "      <td>...</td>\n",
       "      <td>...</td>\n",
       "      <td>...</td>\n",
       "      <td>...</td>\n",
       "      <td>...</td>\n",
       "      <td>...</td>\n",
       "    </tr>\n",
       "    <tr>\n",
       "      <th>796</th>\n",
       "      <td>2024042200134</td>\n",
       "      <td>AT_O_20240422_000134</td>\n",
       "      <td>20240422</td>\n",
       "      <td>134</td>\n",
       "      <td>2024-04-22 21:28:33.111006</td>\n",
       "      <td>2024-04-22 21:28:39.123</td>\n",
       "      <td>dark</td>\n",
       "      <td>FlatField position</td>\n",
       "      <td>empty~SDSSy_65mm</td>\n",
       "      <td>51.037606</td>\n",
       "      <td>6.0</td>\n",
       "      <td>65.724903</td>\n",
       "      <td>-78.761417</td>\n",
       "      <td>NaN</td>\n",
       "      <td>188.766911</td>\n",
       "      <td>51.037606</td>\n",
       "      <td>unknown</td>\n",
       "      <td>2.460423e+06</td>\n",
       "      <td>60422.894828</td>\n",
       "    </tr>\n",
       "    <tr>\n",
       "      <th>797</th>\n",
       "      <td>2024042200163</td>\n",
       "      <td>AT_O_20240422_000163</td>\n",
       "      <td>20240422</td>\n",
       "      <td>163</td>\n",
       "      <td>2024-04-22 21:45:00.837010</td>\n",
       "      <td>2024-04-22 21:45:01.848</td>\n",
       "      <td>dark</td>\n",
       "      <td>FlatField position</td>\n",
       "      <td>empty~empty</td>\n",
       "      <td>51.037949</td>\n",
       "      <td>1.0</td>\n",
       "      <td>69.869934</td>\n",
       "      <td>-78.752497</td>\n",
       "      <td>NaN</td>\n",
       "      <td>188.766827</td>\n",
       "      <td>51.037949</td>\n",
       "      <td>unknown</td>\n",
       "      <td>2.460423e+06</td>\n",
       "      <td>60422.906260</td>\n",
       "    </tr>\n",
       "    <tr>\n",
       "      <th>798</th>\n",
       "      <td>2024042200166</td>\n",
       "      <td>AT_O_20240422_000166</td>\n",
       "      <td>20240422</td>\n",
       "      <td>166</td>\n",
       "      <td>2024-04-22 21:45:11.347997</td>\n",
       "      <td>2024-04-22 21:45:12.360</td>\n",
       "      <td>dark</td>\n",
       "      <td>FlatField position</td>\n",
       "      <td>empty~empty</td>\n",
       "      <td>51.037952</td>\n",
       "      <td>1.0</td>\n",
       "      <td>69.916068</td>\n",
       "      <td>-78.752399</td>\n",
       "      <td>NaN</td>\n",
       "      <td>188.766823</td>\n",
       "      <td>51.037952</td>\n",
       "      <td>unknown</td>\n",
       "      <td>2.460423e+06</td>\n",
       "      <td>60422.906381</td>\n",
       "    </tr>\n",
       "    <tr>\n",
       "      <th>799</th>\n",
       "      <td>2024042200165</td>\n",
       "      <td>AT_O_20240422_000165</td>\n",
       "      <td>20240422</td>\n",
       "      <td>165</td>\n",
       "      <td>2024-04-22 21:45:07.844013</td>\n",
       "      <td>2024-04-22 21:45:08.855</td>\n",
       "      <td>dark</td>\n",
       "      <td>FlatField position</td>\n",
       "      <td>empty~empty</td>\n",
       "      <td>51.037951</td>\n",
       "      <td>1.0</td>\n",
       "      <td>69.899279</td>\n",
       "      <td>-78.752433</td>\n",
       "      <td>NaN</td>\n",
       "      <td>188.766829</td>\n",
       "      <td>51.037951</td>\n",
       "      <td>unknown</td>\n",
       "      <td>2.460423e+06</td>\n",
       "      <td>60422.906341</td>\n",
       "    </tr>\n",
       "    <tr>\n",
       "      <th>800</th>\n",
       "      <td>2024042200164</td>\n",
       "      <td>AT_O_20240422_000164</td>\n",
       "      <td>20240422</td>\n",
       "      <td>164</td>\n",
       "      <td>2024-04-22 21:45:04.340994</td>\n",
       "      <td>2024-04-22 21:45:05.353</td>\n",
       "      <td>dark</td>\n",
       "      <td>FlatField position</td>\n",
       "      <td>empty~empty</td>\n",
       "      <td>51.037949</td>\n",
       "      <td>1.0</td>\n",
       "      <td>69.886705</td>\n",
       "      <td>-78.752458</td>\n",
       "      <td>NaN</td>\n",
       "      <td>188.766830</td>\n",
       "      <td>51.037949</td>\n",
       "      <td>unknown</td>\n",
       "      <td>2.460423e+06</td>\n",
       "      <td>60422.906300</td>\n",
       "    </tr>\n",
       "  </tbody>\n",
       "</table>\n",
       "<p>801 rows × 19 columns</p>\n",
       "</div>"
      ],
      "text/plain": [
       "                id                obs_id   day_obs  seq_num  \\\n",
       "0    2024042200004  AT_O_20240422_000004  20240422        4   \n",
       "1    2024042200005  AT_O_20240422_000005  20240422        5   \n",
       "2    2024042200006  AT_O_20240422_000006  20240422        6   \n",
       "3    2024042200024  AT_O_20240422_000024  20240422       24   \n",
       "4    2024042200035  AT_O_20240422_000035  20240422       35   \n",
       "..             ...                   ...       ...      ...   \n",
       "796  2024042200134  AT_O_20240422_000134  20240422      134   \n",
       "797  2024042200163  AT_O_20240422_000163  20240422      163   \n",
       "798  2024042200166  AT_O_20240422_000166  20240422      166   \n",
       "799  2024042200165  AT_O_20240422_000165  20240422      165   \n",
       "800  2024042200164  AT_O_20240422_000164  20240422      164   \n",
       "\n",
       "                    time_start                time_end     type  \\\n",
       "0   2024-04-22 18:31:08.628006 2024-04-22 18:31:10.859  engtest   \n",
       "1   2024-04-22 19:46:37.738986 2024-04-22 19:46:39.964  engtest   \n",
       "2   2024-04-22 19:49:54.895993 2024-04-22 19:49:57.137  engtest   \n",
       "3   2024-04-22 20:52:22.018014 2024-04-22 20:52:22.026     bias   \n",
       "4   2024-04-22 20:56:44.973015 2024-04-22 20:57:14.983     dark   \n",
       "..                         ...                     ...      ...   \n",
       "796 2024-04-22 21:28:33.111006 2024-04-22 21:28:39.123     dark   \n",
       "797 2024-04-22 21:45:00.837010 2024-04-22 21:45:01.848     dark   \n",
       "798 2024-04-22 21:45:11.347997 2024-04-22 21:45:12.360     dark   \n",
       "799 2024-04-22 21:45:07.844013 2024-04-22 21:45:08.855     dark   \n",
       "800 2024-04-22 21:45:04.340994 2024-04-22 21:45:05.353     dark   \n",
       "\n",
       "                 target                      filter  zenith_angle  expos  \\\n",
       "0                  AzEl                 empty~empty     19.617164    2.0   \n",
       "1    DaytimeCheckout001                 empty~empty     44.812258    2.0   \n",
       "2    DaytimeCheckout002  SDSSg_65mm~blue300lpmm_qn1     10.001000    2.0   \n",
       "3    FlatField position            SDSSr_65mm~empty     51.036129    0.0   \n",
       "4    FlatField position            SDSSr_65mm~empty     51.036475   30.0   \n",
       "..                  ...                         ...           ...    ...   \n",
       "796  FlatField position            empty~SDSSy_65mm     51.037606    6.0   \n",
       "797  FlatField position                 empty~empty     51.037949    1.0   \n",
       "798  FlatField position                 empty~empty     51.037952    1.0   \n",
       "799  FlatField position                 empty~empty     51.037951    1.0   \n",
       "800  FlatField position                 empty~empty     51.037949    1.0   \n",
       "\n",
       "             ra        dec    skyangle     azimuth     zenith science_program  \\\n",
       "0    262.942852 -38.612401  119.904885  238.900148  19.617164         unknown   \n",
       "1    106.592807   4.383671  172.765429   44.677726  44.812258         unknown   \n",
       "2     77.391051 -20.273191  100.003402  358.495808  10.001000         unknown   \n",
       "3     56.606792 -78.779339         NaN  188.767316  51.036129         unknown   \n",
       "4     57.711592 -78.777418         NaN  188.767243  51.036475         unknown   \n",
       "..          ...        ...         ...         ...        ...             ...   \n",
       "796   65.724903 -78.761417         NaN  188.766911  51.037606         unknown   \n",
       "797   69.869934 -78.752497         NaN  188.766827  51.037949         unknown   \n",
       "798   69.916068 -78.752399         NaN  188.766823  51.037952         unknown   \n",
       "799   69.899279 -78.752433         NaN  188.766829  51.037951         unknown   \n",
       "800   69.886705 -78.752458         NaN  188.766830  51.037949         unknown   \n",
       "\n",
       "               jd           mjd  \n",
       "0    2.460423e+06  60422.771628  \n",
       "1    2.460423e+06  60422.824048  \n",
       "2    2.460423e+06  60422.826330  \n",
       "3    2.460423e+06  60422.869699  \n",
       "4    2.460423e+06  60422.872743  \n",
       "..            ...           ...  \n",
       "796  2.460423e+06  60422.894828  \n",
       "797  2.460423e+06  60422.906260  \n",
       "798  2.460423e+06  60422.906381  \n",
       "799  2.460423e+06  60422.906341  \n",
       "800  2.460423e+06  60422.906300  \n",
       "\n",
       "[801 rows x 19 columns]"
      ]
     },
     "execution_count": 16,
     "metadata": {},
     "output_type": "execute_result"
    }
   ],
   "source": [
    "df_exposure"
   ]
  },
  {
   "cell_type": "markdown",
   "id": "6af13bc6-a543-4310-a16e-e36c9df9c95f",
   "metadata": {},
   "source": [
    "Let's re-cast the `id`, `day_obs`, and `seq_num` rows as `int`'s."
   ]
  },
  {
   "cell_type": "code",
   "execution_count": 17,
   "id": "591c59d1",
   "metadata": {
    "execution": {
     "iopub.execute_input": "2024-06-13T00:10:45.300671Z",
     "iopub.status.busy": "2024-06-13T00:10:45.300318Z",
     "iopub.status.idle": "2024-06-13T00:10:45.304698Z",
     "shell.execute_reply": "2024-06-13T00:10:45.304345Z",
     "shell.execute_reply.started": "2024-06-13T00:10:45.300654Z"
    },
    "tags": []
   },
   "outputs": [],
   "source": [
    "df_exposure = df_exposure.astype({\"id\": int,'day_obs': int,'seq_num':int})"
   ]
  },
  {
   "cell_type": "markdown",
   "id": "2dfd4522-3d17-4d66-bac8-e11dcde35677",
   "metadata": {},
   "source": [
    "And look at `df_exposure` once again."
   ]
  },
  {
   "cell_type": "code",
   "execution_count": 18,
   "id": "4b19cfd8",
   "metadata": {
    "execution": {
     "iopub.execute_input": "2024-06-13T00:10:45.305637Z",
     "iopub.status.busy": "2024-06-13T00:10:45.305291Z",
     "iopub.status.idle": "2024-06-13T00:10:45.318588Z",
     "shell.execute_reply": "2024-06-13T00:10:45.318241Z",
     "shell.execute_reply.started": "2024-06-13T00:10:45.305620Z"
    },
    "tags": []
   },
   "outputs": [
    {
     "data": {
      "text/html": [
       "<div>\n",
       "<style scoped>\n",
       "    .dataframe tbody tr th:only-of-type {\n",
       "        vertical-align: middle;\n",
       "    }\n",
       "\n",
       "    .dataframe tbody tr th {\n",
       "        vertical-align: top;\n",
       "    }\n",
       "\n",
       "    .dataframe thead th {\n",
       "        text-align: right;\n",
       "    }\n",
       "</style>\n",
       "<table border=\"1\" class=\"dataframe\">\n",
       "  <thead>\n",
       "    <tr style=\"text-align: right;\">\n",
       "      <th></th>\n",
       "      <th>id</th>\n",
       "      <th>obs_id</th>\n",
       "      <th>day_obs</th>\n",
       "      <th>seq_num</th>\n",
       "      <th>time_start</th>\n",
       "      <th>time_end</th>\n",
       "      <th>type</th>\n",
       "      <th>target</th>\n",
       "      <th>filter</th>\n",
       "      <th>zenith_angle</th>\n",
       "      <th>expos</th>\n",
       "      <th>ra</th>\n",
       "      <th>dec</th>\n",
       "      <th>skyangle</th>\n",
       "      <th>azimuth</th>\n",
       "      <th>zenith</th>\n",
       "      <th>science_program</th>\n",
       "      <th>jd</th>\n",
       "      <th>mjd</th>\n",
       "    </tr>\n",
       "  </thead>\n",
       "  <tbody>\n",
       "    <tr>\n",
       "      <th>0</th>\n",
       "      <td>2024042200004</td>\n",
       "      <td>AT_O_20240422_000004</td>\n",
       "      <td>20240422</td>\n",
       "      <td>4</td>\n",
       "      <td>2024-04-22 18:31:08.628006</td>\n",
       "      <td>2024-04-22 18:31:10.859</td>\n",
       "      <td>engtest</td>\n",
       "      <td>AzEl</td>\n",
       "      <td>empty~empty</td>\n",
       "      <td>19.617164</td>\n",
       "      <td>2.0</td>\n",
       "      <td>262.942852</td>\n",
       "      <td>-38.612401</td>\n",
       "      <td>119.904885</td>\n",
       "      <td>238.900148</td>\n",
       "      <td>19.617164</td>\n",
       "      <td>unknown</td>\n",
       "      <td>2.460423e+06</td>\n",
       "      <td>60422.771628</td>\n",
       "    </tr>\n",
       "    <tr>\n",
       "      <th>1</th>\n",
       "      <td>2024042200005</td>\n",
       "      <td>AT_O_20240422_000005</td>\n",
       "      <td>20240422</td>\n",
       "      <td>5</td>\n",
       "      <td>2024-04-22 19:46:37.738986</td>\n",
       "      <td>2024-04-22 19:46:39.964</td>\n",
       "      <td>engtest</td>\n",
       "      <td>DaytimeCheckout001</td>\n",
       "      <td>empty~empty</td>\n",
       "      <td>44.812258</td>\n",
       "      <td>2.0</td>\n",
       "      <td>106.592807</td>\n",
       "      <td>4.383671</td>\n",
       "      <td>172.765429</td>\n",
       "      <td>44.677726</td>\n",
       "      <td>44.812258</td>\n",
       "      <td>unknown</td>\n",
       "      <td>2.460423e+06</td>\n",
       "      <td>60422.824048</td>\n",
       "    </tr>\n",
       "    <tr>\n",
       "      <th>2</th>\n",
       "      <td>2024042200006</td>\n",
       "      <td>AT_O_20240422_000006</td>\n",
       "      <td>20240422</td>\n",
       "      <td>6</td>\n",
       "      <td>2024-04-22 19:49:54.895993</td>\n",
       "      <td>2024-04-22 19:49:57.137</td>\n",
       "      <td>engtest</td>\n",
       "      <td>DaytimeCheckout002</td>\n",
       "      <td>SDSSg_65mm~blue300lpmm_qn1</td>\n",
       "      <td>10.001000</td>\n",
       "      <td>2.0</td>\n",
       "      <td>77.391051</td>\n",
       "      <td>-20.273191</td>\n",
       "      <td>100.003402</td>\n",
       "      <td>358.495808</td>\n",
       "      <td>10.001000</td>\n",
       "      <td>unknown</td>\n",
       "      <td>2.460423e+06</td>\n",
       "      <td>60422.826330</td>\n",
       "    </tr>\n",
       "    <tr>\n",
       "      <th>3</th>\n",
       "      <td>2024042200024</td>\n",
       "      <td>AT_O_20240422_000024</td>\n",
       "      <td>20240422</td>\n",
       "      <td>24</td>\n",
       "      <td>2024-04-22 20:52:22.018014</td>\n",
       "      <td>2024-04-22 20:52:22.026</td>\n",
       "      <td>bias</td>\n",
       "      <td>FlatField position</td>\n",
       "      <td>SDSSr_65mm~empty</td>\n",
       "      <td>51.036129</td>\n",
       "      <td>0.0</td>\n",
       "      <td>56.606792</td>\n",
       "      <td>-78.779339</td>\n",
       "      <td>NaN</td>\n",
       "      <td>188.767316</td>\n",
       "      <td>51.036129</td>\n",
       "      <td>unknown</td>\n",
       "      <td>2.460423e+06</td>\n",
       "      <td>60422.869699</td>\n",
       "    </tr>\n",
       "    <tr>\n",
       "      <th>4</th>\n",
       "      <td>2024042200035</td>\n",
       "      <td>AT_O_20240422_000035</td>\n",
       "      <td>20240422</td>\n",
       "      <td>35</td>\n",
       "      <td>2024-04-22 20:56:44.973015</td>\n",
       "      <td>2024-04-22 20:57:14.983</td>\n",
       "      <td>dark</td>\n",
       "      <td>FlatField position</td>\n",
       "      <td>SDSSr_65mm~empty</td>\n",
       "      <td>51.036475</td>\n",
       "      <td>30.0</td>\n",
       "      <td>57.711592</td>\n",
       "      <td>-78.777418</td>\n",
       "      <td>NaN</td>\n",
       "      <td>188.767243</td>\n",
       "      <td>51.036475</td>\n",
       "      <td>unknown</td>\n",
       "      <td>2.460423e+06</td>\n",
       "      <td>60422.872743</td>\n",
       "    </tr>\n",
       "    <tr>\n",
       "      <th>...</th>\n",
       "      <td>...</td>\n",
       "      <td>...</td>\n",
       "      <td>...</td>\n",
       "      <td>...</td>\n",
       "      <td>...</td>\n",
       "      <td>...</td>\n",
       "      <td>...</td>\n",
       "      <td>...</td>\n",
       "      <td>...</td>\n",
       "      <td>...</td>\n",
       "      <td>...</td>\n",
       "      <td>...</td>\n",
       "      <td>...</td>\n",
       "      <td>...</td>\n",
       "      <td>...</td>\n",
       "      <td>...</td>\n",
       "      <td>...</td>\n",
       "      <td>...</td>\n",
       "      <td>...</td>\n",
       "    </tr>\n",
       "    <tr>\n",
       "      <th>796</th>\n",
       "      <td>2024042200134</td>\n",
       "      <td>AT_O_20240422_000134</td>\n",
       "      <td>20240422</td>\n",
       "      <td>134</td>\n",
       "      <td>2024-04-22 21:28:33.111006</td>\n",
       "      <td>2024-04-22 21:28:39.123</td>\n",
       "      <td>dark</td>\n",
       "      <td>FlatField position</td>\n",
       "      <td>empty~SDSSy_65mm</td>\n",
       "      <td>51.037606</td>\n",
       "      <td>6.0</td>\n",
       "      <td>65.724903</td>\n",
       "      <td>-78.761417</td>\n",
       "      <td>NaN</td>\n",
       "      <td>188.766911</td>\n",
       "      <td>51.037606</td>\n",
       "      <td>unknown</td>\n",
       "      <td>2.460423e+06</td>\n",
       "      <td>60422.894828</td>\n",
       "    </tr>\n",
       "    <tr>\n",
       "      <th>797</th>\n",
       "      <td>2024042200163</td>\n",
       "      <td>AT_O_20240422_000163</td>\n",
       "      <td>20240422</td>\n",
       "      <td>163</td>\n",
       "      <td>2024-04-22 21:45:00.837010</td>\n",
       "      <td>2024-04-22 21:45:01.848</td>\n",
       "      <td>dark</td>\n",
       "      <td>FlatField position</td>\n",
       "      <td>empty~empty</td>\n",
       "      <td>51.037949</td>\n",
       "      <td>1.0</td>\n",
       "      <td>69.869934</td>\n",
       "      <td>-78.752497</td>\n",
       "      <td>NaN</td>\n",
       "      <td>188.766827</td>\n",
       "      <td>51.037949</td>\n",
       "      <td>unknown</td>\n",
       "      <td>2.460423e+06</td>\n",
       "      <td>60422.906260</td>\n",
       "    </tr>\n",
       "    <tr>\n",
       "      <th>798</th>\n",
       "      <td>2024042200166</td>\n",
       "      <td>AT_O_20240422_000166</td>\n",
       "      <td>20240422</td>\n",
       "      <td>166</td>\n",
       "      <td>2024-04-22 21:45:11.347997</td>\n",
       "      <td>2024-04-22 21:45:12.360</td>\n",
       "      <td>dark</td>\n",
       "      <td>FlatField position</td>\n",
       "      <td>empty~empty</td>\n",
       "      <td>51.037952</td>\n",
       "      <td>1.0</td>\n",
       "      <td>69.916068</td>\n",
       "      <td>-78.752399</td>\n",
       "      <td>NaN</td>\n",
       "      <td>188.766823</td>\n",
       "      <td>51.037952</td>\n",
       "      <td>unknown</td>\n",
       "      <td>2.460423e+06</td>\n",
       "      <td>60422.906381</td>\n",
       "    </tr>\n",
       "    <tr>\n",
       "      <th>799</th>\n",
       "      <td>2024042200165</td>\n",
       "      <td>AT_O_20240422_000165</td>\n",
       "      <td>20240422</td>\n",
       "      <td>165</td>\n",
       "      <td>2024-04-22 21:45:07.844013</td>\n",
       "      <td>2024-04-22 21:45:08.855</td>\n",
       "      <td>dark</td>\n",
       "      <td>FlatField position</td>\n",
       "      <td>empty~empty</td>\n",
       "      <td>51.037951</td>\n",
       "      <td>1.0</td>\n",
       "      <td>69.899279</td>\n",
       "      <td>-78.752433</td>\n",
       "      <td>NaN</td>\n",
       "      <td>188.766829</td>\n",
       "      <td>51.037951</td>\n",
       "      <td>unknown</td>\n",
       "      <td>2.460423e+06</td>\n",
       "      <td>60422.906341</td>\n",
       "    </tr>\n",
       "    <tr>\n",
       "      <th>800</th>\n",
       "      <td>2024042200164</td>\n",
       "      <td>AT_O_20240422_000164</td>\n",
       "      <td>20240422</td>\n",
       "      <td>164</td>\n",
       "      <td>2024-04-22 21:45:04.340994</td>\n",
       "      <td>2024-04-22 21:45:05.353</td>\n",
       "      <td>dark</td>\n",
       "      <td>FlatField position</td>\n",
       "      <td>empty~empty</td>\n",
       "      <td>51.037949</td>\n",
       "      <td>1.0</td>\n",
       "      <td>69.886705</td>\n",
       "      <td>-78.752458</td>\n",
       "      <td>NaN</td>\n",
       "      <td>188.766830</td>\n",
       "      <td>51.037949</td>\n",
       "      <td>unknown</td>\n",
       "      <td>2.460423e+06</td>\n",
       "      <td>60422.906300</td>\n",
       "    </tr>\n",
       "  </tbody>\n",
       "</table>\n",
       "<p>801 rows × 19 columns</p>\n",
       "</div>"
      ],
      "text/plain": [
       "                id                obs_id   day_obs  seq_num  \\\n",
       "0    2024042200004  AT_O_20240422_000004  20240422        4   \n",
       "1    2024042200005  AT_O_20240422_000005  20240422        5   \n",
       "2    2024042200006  AT_O_20240422_000006  20240422        6   \n",
       "3    2024042200024  AT_O_20240422_000024  20240422       24   \n",
       "4    2024042200035  AT_O_20240422_000035  20240422       35   \n",
       "..             ...                   ...       ...      ...   \n",
       "796  2024042200134  AT_O_20240422_000134  20240422      134   \n",
       "797  2024042200163  AT_O_20240422_000163  20240422      163   \n",
       "798  2024042200166  AT_O_20240422_000166  20240422      166   \n",
       "799  2024042200165  AT_O_20240422_000165  20240422      165   \n",
       "800  2024042200164  AT_O_20240422_000164  20240422      164   \n",
       "\n",
       "                    time_start                time_end     type  \\\n",
       "0   2024-04-22 18:31:08.628006 2024-04-22 18:31:10.859  engtest   \n",
       "1   2024-04-22 19:46:37.738986 2024-04-22 19:46:39.964  engtest   \n",
       "2   2024-04-22 19:49:54.895993 2024-04-22 19:49:57.137  engtest   \n",
       "3   2024-04-22 20:52:22.018014 2024-04-22 20:52:22.026     bias   \n",
       "4   2024-04-22 20:56:44.973015 2024-04-22 20:57:14.983     dark   \n",
       "..                         ...                     ...      ...   \n",
       "796 2024-04-22 21:28:33.111006 2024-04-22 21:28:39.123     dark   \n",
       "797 2024-04-22 21:45:00.837010 2024-04-22 21:45:01.848     dark   \n",
       "798 2024-04-22 21:45:11.347997 2024-04-22 21:45:12.360     dark   \n",
       "799 2024-04-22 21:45:07.844013 2024-04-22 21:45:08.855     dark   \n",
       "800 2024-04-22 21:45:04.340994 2024-04-22 21:45:05.353     dark   \n",
       "\n",
       "                 target                      filter  zenith_angle  expos  \\\n",
       "0                  AzEl                 empty~empty     19.617164    2.0   \n",
       "1    DaytimeCheckout001                 empty~empty     44.812258    2.0   \n",
       "2    DaytimeCheckout002  SDSSg_65mm~blue300lpmm_qn1     10.001000    2.0   \n",
       "3    FlatField position            SDSSr_65mm~empty     51.036129    0.0   \n",
       "4    FlatField position            SDSSr_65mm~empty     51.036475   30.0   \n",
       "..                  ...                         ...           ...    ...   \n",
       "796  FlatField position            empty~SDSSy_65mm     51.037606    6.0   \n",
       "797  FlatField position                 empty~empty     51.037949    1.0   \n",
       "798  FlatField position                 empty~empty     51.037952    1.0   \n",
       "799  FlatField position                 empty~empty     51.037951    1.0   \n",
       "800  FlatField position                 empty~empty     51.037949    1.0   \n",
       "\n",
       "             ra        dec    skyangle     azimuth     zenith science_program  \\\n",
       "0    262.942852 -38.612401  119.904885  238.900148  19.617164         unknown   \n",
       "1    106.592807   4.383671  172.765429   44.677726  44.812258         unknown   \n",
       "2     77.391051 -20.273191  100.003402  358.495808  10.001000         unknown   \n",
       "3     56.606792 -78.779339         NaN  188.767316  51.036129         unknown   \n",
       "4     57.711592 -78.777418         NaN  188.767243  51.036475         unknown   \n",
       "..          ...        ...         ...         ...        ...             ...   \n",
       "796   65.724903 -78.761417         NaN  188.766911  51.037606         unknown   \n",
       "797   69.869934 -78.752497         NaN  188.766827  51.037949         unknown   \n",
       "798   69.916068 -78.752399         NaN  188.766823  51.037952         unknown   \n",
       "799   69.899279 -78.752433         NaN  188.766829  51.037951         unknown   \n",
       "800   69.886705 -78.752458         NaN  188.766830  51.037949         unknown   \n",
       "\n",
       "               jd           mjd  \n",
       "0    2.460423e+06  60422.771628  \n",
       "1    2.460423e+06  60422.824048  \n",
       "2    2.460423e+06  60422.826330  \n",
       "3    2.460423e+06  60422.869699  \n",
       "4    2.460423e+06  60422.872743  \n",
       "..            ...           ...  \n",
       "796  2.460423e+06  60422.894828  \n",
       "797  2.460423e+06  60422.906260  \n",
       "798  2.460423e+06  60422.906381  \n",
       "799  2.460423e+06  60422.906341  \n",
       "800  2.460423e+06  60422.906300  \n",
       "\n",
       "[801 rows x 19 columns]"
      ]
     },
     "execution_count": 18,
     "metadata": {},
     "output_type": "execute_result"
    }
   ],
   "source": [
    "df_exposure"
   ]
  },
  {
   "cell_type": "markdown",
   "id": "3f7ce1db-4901-45b3-a333-93779a03a3bc",
   "metadata": {},
   "source": [
    "### 2.4 Read in the EFD for the day of observation"
   ]
  },
  {
   "cell_type": "markdown",
   "id": "60e2f4c7-2e59-4ca5-84dc-8cb716a013cb",
   "metadata": {},
   "source": [
    "(Based on material from `ops_rehearsal_comcam_analysis.ipynb`)\n",
    "\n",
    "<span style=\"color:red; font-weight:bold\">Note much luck here for the AuxTel data I've been working with.</span>\n"
   ]
  },
  {
   "cell_type": "code",
   "execution_count": 19,
   "id": "8cff6b07-8153-4128-b570-8a14df547caf",
   "metadata": {
    "execution": {
     "iopub.execute_input": "2024-06-13T00:10:45.319395Z",
     "iopub.status.busy": "2024-06-13T00:10:45.319136Z",
     "iopub.status.idle": "2024-06-13T00:10:45.793478Z",
     "shell.execute_reply": "2024-06-13T00:10:45.793044Z",
     "shell.execute_reply.started": "2024-06-13T00:10:45.319377Z"
    }
   },
   "outputs": [],
   "source": [
    "from lsst_efd_client import EfdClient\n",
    "client = EfdClient(\"usdfdev_efd\", db_name=\"lsst.dm\")"
   ]
  },
  {
   "cell_type": "code",
   "execution_count": 20,
   "id": "d3a10896-80b4-4b0f-8d09-41ea1171db89",
   "metadata": {
    "execution": {
     "iopub.execute_input": "2024-06-13T00:10:45.794432Z",
     "iopub.status.busy": "2024-06-13T00:10:45.794062Z",
     "iopub.status.idle": "2024-06-13T00:10:45.816462Z",
     "shell.execute_reply": "2024-06-13T00:10:45.816095Z",
     "shell.execute_reply.started": "2024-06-13T00:10:45.794420Z"
    }
   },
   "outputs": [
    {
     "name": "stdout",
     "output_type": "stream",
     "text": [
      "lsst.dm.NumDiaSources\n",
      "lsst.dm.NumStreakCenterDiaSources\n",
      "lsst.dm.NumStreakDiaSources\n",
      "lsst.dm.ap12PsfSky\n",
      "lsst.dm.astromColorDiffMetrics\n",
      "lsst.dm.astromDiffMetrics\n",
      "lsst.dm.blendMetrics\n",
      "lsst.dm.calexpMetrics\n",
      "lsst.dm.calexpSummaryMetrics\n",
      "lsst.dm.calibrate\n",
      "lsst.dm.constantTool\n",
      "lsst.dm.diaSourcesGoodVsBadRatio\n",
      "lsst.dm.diffimMetadataMetric\n",
      "lsst.dm.e1Diff\n",
      "lsst.dm.e1DiffScatterMetric\n",
      "lsst.dm.e2Diff\n",
      "lsst.dm.e2DiffScatterMetric\n",
      "lsst.dm.isolatedDeblenderMetrics\n",
      "lsst.dm.matchedRefAngularSeparationChi\n",
      "lsst.dm.matchedRefAngularSeparationDiff\n",
      "lsst.dm.matchedRefCModelColorChi\n",
      "lsst.dm.matchedRefCModelColorDiff\n",
      "lsst.dm.matchedRefCModelFluxChiMetric\n",
      "lsst.dm.matchedRefCModelMagChi\n",
      "lsst.dm.matchedRefCModelMagDiff\n",
      "lsst.dm.matchedRefCModelMagDiffMetric\n",
      "lsst.dm.matchedRefMagChiMetric\n",
      "lsst.dm.matchedRefPositionDecChi\n",
      "lsst.dm.matchedRefPositionDecDiff\n",
      "lsst.dm.matchedRefPositionRaChi\n",
      "lsst.dm.matchedRefPositionRaDiff\n",
      "lsst.dm.matchedRefPositionXChi\n",
      "lsst.dm.matchedRefPositionXChiMetric\n",
      "lsst.dm.matchedRefPositionXDiff\n",
      "lsst.dm.matchedRefPositionXDiffMetric\n",
      "lsst.dm.matchedRefPositionYChi\n",
      "lsst.dm.matchedRefPositionYChiMetric\n",
      "lsst.dm.matchedRefPositionYDiff\n",
      "lsst.dm.matchedRefPositionYDiffMetric\n",
      "lsst.dm.numDiaSourcesAll\n",
      "lsst.dm.numDiaSourcesHighReliability\n",
      "lsst.dm.numDiaSourcesLowReliability\n",
      "lsst.dm.numDiaSourcesNanReliability\n",
      "lsst.dm.numDipoles\n",
      "lsst.dm.numSsObjects\n",
      "lsst.dm.parentDeblenderMetrics\n",
      "lsst.dm.psfCModelScatter\n",
      "lsst.dm.psfCModelSky\n",
      "lsst.dm.psfSigma\n",
      "lsst.dm.psfTraceRadiusDelta\n",
      "lsst.dm.shapeSizeFractionalDiff\n",
      "lsst.dm.shapeSizeFractionalMetric\n",
      "lsst.dm.skippedDeblenderMetrics\n",
      "lsst.dm.skyFluxStatisticMetric\n",
      "lsst.dm.skyFluxVisitStatisticMetric\n",
      "lsst.dm.stellarAstrometricRepeatability1\n",
      "lsst.dm.stellarAstrometricRepeatability2\n",
      "lsst.dm.stellarAstrometricRepeatability3\n",
      "lsst.dm.stellarAstrometricSelfRepeatabilityDec\n",
      "lsst.dm.stellarAstrometricSelfRepeatabilityRA\n",
      "lsst.dm.stellarPhotometricRepeatability\n",
      "lsst.dm.stellarPhotometricRepeatabilityCalib\n",
      "lsst.dm.stellarPhotometricResiduals\n",
      "lsst.dm.stellarPhotometricResidualsCalib\n",
      "lsst.dm.targetRefCatDeltaCModelScatterPlot\n",
      "lsst.dm.targetRefCatDeltaPsfScatterPlot\n",
      "lsst.dm.validCmodelFluxMetric\n",
      "lsst.dm.validPsfFluxMetric\n",
      "lsst.dm.wPerpCModel\n",
      "lsst.dm.wPerpCModelMetric\n",
      "lsst.dm.wPerpPSFMetric\n",
      "lsst.dm.wPerpPSFP\n",
      "lsst.dm.xPerpCModel\n",
      "lsst.dm.xPerpCModelMetric\n",
      "lsst.dm.xPerpPSFMetric\n",
      "lsst.dm.xPerpPSFP\n",
      "lsst.dm.yPerpCModel\n",
      "lsst.dm.yPerpCModelMetric\n",
      "lsst.dm.yPerpPSF\n",
      "lsst.dm.yPerpPSFMetric\n"
     ]
    }
   ],
   "source": [
    "topics = await client.get_topics()\n",
    "for t in topics: print(t)"
   ]
  },
  {
   "cell_type": "code",
   "execution_count": 21,
   "id": "62e93eff-f0c1-42f1-a894-3a9345860913",
   "metadata": {
    "execution": {
     "iopub.execute_input": "2024-06-13T00:10:45.817098Z",
     "iopub.status.busy": "2024-06-13T00:10:45.816970Z",
     "iopub.status.idle": "2024-06-13T00:10:45.826785Z",
     "shell.execute_reply": "2024-06-13T00:10:45.826450Z",
     "shell.execute_reply.started": "2024-06-13T00:10:45.817088Z"
    }
   },
   "outputs": [
    {
     "data": {
      "text/html": [
       "<div>\n",
       "<style scoped>\n",
       "    .dataframe tbody tr th:only-of-type {\n",
       "        vertical-align: middle;\n",
       "    }\n",
       "\n",
       "    .dataframe tbody tr th {\n",
       "        vertical-align: top;\n",
       "    }\n",
       "\n",
       "    .dataframe thead th {\n",
       "        text-align: right;\n",
       "    }\n",
       "</style>\n",
       "<table border=\"1\" class=\"dataframe\">\n",
       "  <thead>\n",
       "    <tr style=\"text-align: right;\">\n",
       "      <th></th>\n",
       "      <th>distinct</th>\n",
       "    </tr>\n",
       "  </thead>\n",
       "  <tbody>\n",
       "    <tr>\n",
       "      <th>0</th>\n",
       "      <td></td>\n",
       "    </tr>\n",
       "  </tbody>\n",
       "</table>\n",
       "</div>"
      ],
      "text/plain": [
       "  distinct\n",
       "0         "
      ]
     },
     "execution_count": 21,
     "metadata": {},
     "output_type": "execute_result"
    }
   ],
   "source": [
    "#query = '''SELECT * FROM \"lsst.dm.e1Diff\" WHERE time > now() - 100d '''\n",
    "#query = '''SELECT * FROM \"lsst.dm.calexpMetrics\" WHERE time > now() - 100d '''\n",
    "query = '''SELECT DISTINCT day_obs FROM \"lsst.dm.calexpMetrics\"'''\n",
    "df = await client.influx_client.query(query)\n",
    "df.columns.values\n",
    "df"
   ]
  },
  {
   "cell_type": "code",
   "execution_count": 22,
   "id": "d393583c-20f0-42af-88c9-6dbcfcead5a9",
   "metadata": {
    "execution": {
     "iopub.execute_input": "2024-06-13T00:10:45.827374Z",
     "iopub.status.busy": "2024-06-13T00:10:45.827253Z",
     "iopub.status.idle": "2024-06-13T00:10:45.830278Z",
     "shell.execute_reply": "2024-06-13T00:10:45.829954Z",
     "shell.execute_reply.started": "2024-06-13T00:10:45.827364Z"
    }
   },
   "outputs": [
    {
     "data": {
      "text/plain": [
       "distinct    \n",
       "Name: 0, dtype: object"
      ]
     },
     "execution_count": 22,
     "metadata": {},
     "output_type": "execute_result"
    }
   ],
   "source": [
    "df.iloc[0]"
   ]
  },
  {
   "cell_type": "code",
   "execution_count": 23,
   "id": "b6c70df3-d10a-44fb-99a7-39f1d138abad",
   "metadata": {
    "execution": {
     "iopub.execute_input": "2024-06-13T00:10:45.830938Z",
     "iopub.status.busy": "2024-06-13T00:10:45.830785Z",
     "iopub.status.idle": "2024-06-13T00:10:45.834013Z",
     "shell.execute_reply": "2024-06-13T00:10:45.833676Z",
     "shell.execute_reply.started": "2024-06-13T00:10:45.830925Z"
    }
   },
   "outputs": [],
   "source": [
    "#refs = list(b_rehearsal.registry.queryDatasets(\"visitSummary\", dataId={\"visit\": 7024040400918}))\n",
    "#registry.queryDatasets(\"visitSummary\")\n",
    "#registry.queryDatasets('ccdVisitTable')"
   ]
  },
  {
   "cell_type": "markdown",
   "id": "29db8cec-182a-4868-83c3-328a5e63aea4",
   "metadata": {},
   "source": [
    "## 3. Analyse results of the query"
   ]
  },
  {
   "cell_type": "markdown",
   "id": "bc55e5f3-7b1e-4d52-acd5-a73c480f89fc",
   "metadata": {},
   "source": [
    "For the rest of the notebook, we do not want to restrict the the number of rows displayed for\n",
    "pandas tabular information.  Therefore, let us turn off the pandas maximum rows setting.  We will turn it back on at the end of the notebook."
   ]
  },
  {
   "cell_type": "code",
   "execution_count": 24,
   "id": "a90fa41a-7ac4-4236-9d77-d747052a37d3",
   "metadata": {
    "execution": {
     "iopub.execute_input": "2024-06-13T00:10:45.834583Z",
     "iopub.status.busy": "2024-06-13T00:10:45.834469Z",
     "iopub.status.idle": "2024-06-13T00:10:45.839005Z",
     "shell.execute_reply": "2024-06-13T00:10:45.838670Z",
     "shell.execute_reply.started": "2024-06-13T00:10:45.834574Z"
    }
   },
   "outputs": [],
   "source": [
    "# Change the display.max_rows option\n",
    "pd.set_option(\"display.max_rows\", None)"
   ]
  },
  {
   "cell_type": "markdown",
   "id": "649bd87e",
   "metadata": {},
   "source": [
    "### 3.1 Counts"
   ]
  },
  {
   "cell_type": "markdown",
   "id": "739ca54a-2fa8-4570-8362-beed84cf2402",
   "metadata": {},
   "source": [
    "First, let's tabulate the counts of different types of exposures taken on this date."
   ]
  },
  {
   "cell_type": "code",
   "execution_count": 25,
   "id": "87b6985b-e756-4195-918d-448e66d10747",
   "metadata": {
    "execution": {
     "iopub.execute_input": "2024-06-13T00:10:45.839553Z",
     "iopub.status.busy": "2024-06-13T00:10:45.839438Z",
     "iopub.status.idle": "2024-06-13T00:10:45.845080Z",
     "shell.execute_reply": "2024-06-13T00:10:45.844755Z",
     "shell.execute_reply.started": "2024-06-13T00:10:45.839543Z"
    }
   },
   "outputs": [
    {
     "data": {
      "text/plain": [
       "type\n",
       "acq        101\n",
       "bias        36\n",
       "cwfs        54\n",
       "dark        37\n",
       "engtest     66\n",
       "flat       175\n",
       "science    332\n",
       "Name: id, dtype: int64"
      ]
     },
     "execution_count": 25,
     "metadata": {},
     "output_type": "execute_result"
    }
   ],
   "source": [
    "df_exposure.groupby(\"type\").count()[\"id\"]"
   ]
  },
  {
   "cell_type": "markdown",
   "id": "22499e05-120c-4d8b-b62a-69514d21ec0c",
   "metadata": {},
   "source": [
    "We are primarily interested in just the science exposures.  Let's create a `DataFrame` containing just the science exposures."
   ]
  },
  {
   "cell_type": "code",
   "execution_count": 26,
   "id": "34b80523",
   "metadata": {
    "execution": {
     "iopub.execute_input": "2024-06-13T00:10:45.845601Z",
     "iopub.status.busy": "2024-06-13T00:10:45.845485Z",
     "iopub.status.idle": "2024-06-13T00:10:45.849728Z",
     "shell.execute_reply": "2024-06-13T00:10:45.849395Z",
     "shell.execute_reply.started": "2024-06-13T00:10:45.845591Z"
    },
    "tags": []
   },
   "outputs": [],
   "source": [
    "df_science = df_exposure[df_exposure.type == 'science']"
   ]
  },
  {
   "cell_type": "markdown",
   "id": "e96a5876-2fed-42c5-a9e0-266b9107b7de",
   "metadata": {},
   "source": [
    "Next, let's look at the counts of exposures for the different science programs run on this date."
   ]
  },
  {
   "cell_type": "code",
   "execution_count": 27,
   "id": "d3199e68-0f98-4df0-ad10-2f3ddb82103d",
   "metadata": {
    "execution": {
     "iopub.execute_input": "2024-06-13T00:10:45.850318Z",
     "iopub.status.busy": "2024-06-13T00:10:45.850193Z",
     "iopub.status.idle": "2024-06-13T00:10:45.856941Z",
     "shell.execute_reply": "2024-06-13T00:10:45.856514Z",
     "shell.execute_reply.started": "2024-06-13T00:10:45.850305Z"
    }
   },
   "outputs": [
    {
     "data": {
      "text/plain": [
       "science_program\n",
       "AUXTEL_PHOTO_IMAGING    153\n",
       "spec-survey             179\n",
       "Name: id, dtype: int64"
      ]
     },
     "execution_count": 27,
     "metadata": {},
     "output_type": "execute_result"
    }
   ],
   "source": [
    "df_science.groupby(\"science_program\").count()[\"id\"]"
   ]
  },
  {
   "cell_type": "markdown",
   "id": "b29e0630-e4d3-4da0-93c3-bb2eb0bfa815",
   "metadata": {},
   "source": [
    "Let's plot this as a 1D histogram."
   ]
  },
  {
   "cell_type": "code",
   "execution_count": 28,
   "id": "40dae7b2-183e-4b26-afa5-faf0feefbb79",
   "metadata": {
    "execution": {
     "iopub.execute_input": "2024-06-13T00:10:45.857532Z",
     "iopub.status.busy": "2024-06-13T00:10:45.857413Z",
     "iopub.status.idle": "2024-06-13T00:10:46.005808Z",
     "shell.execute_reply": "2024-06-13T00:10:46.005354Z",
     "shell.execute_reply.started": "2024-06-13T00:10:45.857522Z"
    }
   },
   "outputs": [
    {
     "data": {
      "image/png": "[encoded data removed]",
      "text/plain": [
       "<Figure size 1000x600 with 1 Axes>"
      ]
     },
     "metadata": {},
     "output_type": "display_data"
    }
   ],
   "source": [
    "plt.figure(figsize=(10, 6))\n",
    "\n",
    "# Count the occurrences of each unique value in col1\n",
    "value_counts = df_science['science_program'].value_counts()\n",
    "\n",
    "# Create the bar plot\n",
    "value_counts.plot(kind='bar')\n",
    "\n",
    "# Add labels and title\n",
    "plt.xlabel('science program')\n",
    "plt.ylabel('Count')\n",
    "title = \"Count of %s Observations in Different Science Programs on %s\" % (instrument, day_obs)\n",
    "plt.title(title)\n",
    "plt.grid(True)\n"
   ]
  },
  {
   "cell_type": "markdown",
   "id": "8ceab83b-1f0f-438c-84b5-f5bdd34cc33f",
   "metadata": {
    "execution": {
     "iopub.execute_input": "2024-06-05T21:53:35.030486Z",
     "iopub.status.busy": "2024-06-05T21:53:35.030018Z",
     "iopub.status.idle": "2024-06-05T21:53:35.034854Z",
     "shell.execute_reply": "2024-06-05T21:53:35.034538Z",
     "shell.execute_reply.started": "2024-06-05T21:53:35.030470Z"
    }
   },
   "source": [
    "Now, let's look at the counts of exposures for the different targets observed on this date."
   ]
  },
  {
   "cell_type": "code",
   "execution_count": 29,
   "id": "ed3a4d23-600d-4fd5-beea-e46f701d725c",
   "metadata": {
    "execution": {
     "iopub.execute_input": "2024-06-13T00:10:46.006508Z",
     "iopub.status.busy": "2024-06-13T00:10:46.006381Z",
     "iopub.status.idle": "2024-06-13T00:10:46.011411Z",
     "shell.execute_reply": "2024-06-13T00:10:46.011062Z",
     "shell.execute_reply.started": "2024-06-13T00:10:46.006497Z"
    }
   },
   "outputs": [
    {
     "data": {
      "text/plain": [
       "target\n",
       "HD111235           70\n",
       "HD144334           74\n",
       "HD185975           20\n",
       "HD38666            15\n",
       "Photo0800-1_001     4\n",
       "Photo0800-1_002     4\n",
       "Photo0800-1_003     4\n",
       "Photo0800-1_004     4\n",
       "Photo0800-1_005     4\n",
       "Photo0800-1_006     4\n",
       "Photo0800-1_007     4\n",
       "Photo0800-1_008     4\n",
       "Photo0800-1_009     4\n",
       "Photo0800-1_010     4\n",
       "Photo0800-1_011     4\n",
       "Photo0800-1_012     4\n",
       "Photo0800-1_013     4\n",
       "Photo0800-1_014     4\n",
       "Photo0800-1_015     4\n",
       "Photo0800-1_016     4\n",
       "Photo0800-1_017     4\n",
       "Photo0800-1_018     4\n",
       "Photo0800-1_019     4\n",
       "Photo0800-1_020     4\n",
       "Photo0800-1_021     4\n",
       "Photo0800-1_022     4\n",
       "Photo0800-1_023     4\n",
       "Photo0800-1_024     4\n",
       "Photo1600-1_018     4\n",
       "Photo1600-1_019     4\n",
       "Photo1600-1_020     4\n",
       "Photo1600-1_021     4\n",
       "Photo1600-1_022     4\n",
       "Photo1600-1_023     4\n",
       "Photo1600-1_024     4\n",
       "Photo1600-1_025     4\n",
       "Photo1600-1_026     4\n",
       "Photo1600-1_027     4\n",
       "Photo1600-1_028     4\n",
       "Photo1600-1_029     4\n",
       "Photo1600-1_030     4\n",
       "Photo1600-1_031     4\n",
       "Photo1600-1_032     1\n",
       "Name: id, dtype: int64"
      ]
     },
     "execution_count": 29,
     "metadata": {},
     "output_type": "execute_result"
    }
   ],
   "source": [
    "df_science.groupby(\"target\").count()[\"id\"]"
   ]
  },
  {
   "cell_type": "markdown",
   "id": "ef12ca88-a85b-4243-b0d0-301126ee0fd8",
   "metadata": {},
   "source": [
    "Let's plot this as a 1D histogram."
   ]
  },
  {
   "cell_type": "code",
   "execution_count": 30,
   "id": "cd85d39b-bf28-4606-8dfd-7f0d056c4d56",
   "metadata": {
    "execution": {
     "iopub.execute_input": "2024-06-13T00:10:46.012043Z",
     "iopub.status.busy": "2024-06-13T00:10:46.011925Z",
     "iopub.status.idle": "2024-06-13T00:10:46.339485Z",
     "shell.execute_reply": "2024-06-13T00:10:46.338964Z",
     "shell.execute_reply.started": "2024-06-13T00:10:46.012033Z"
    }
   },
   "outputs": [
    {
     "data": {
      "image/png": "[encoded data removed]",
      "text/plain": [
       "<Figure size 1000x600 with 1 Axes>"
      ]
     },
     "metadata": {},
     "output_type": "display_data"
    }
   ],
   "source": [
    "plt.figure(figsize=(10, 6))\n",
    "\n",
    "# Count the occurrences of each unique value in col1\n",
    "value_counts = df_science['target'].value_counts()\n",
    "\n",
    "# Create the bar plot\n",
    "value_counts.plot(kind='bar')\n",
    "\n",
    "# Add labels and title\n",
    "plt.xlabel('target')\n",
    "plt.ylabel('Count')\n",
    "title = \"\"\"Count of %s Observations in Different Science Program Targets on %s\"\"\" %(instrument, day_obs)\n",
    "plt.title(title)\n",
    "plt.grid(True)\n"
   ]
  },
  {
   "cell_type": "markdown",
   "id": "1ec5ee04-a8b4-4483-bc07-fc784b443ebf",
   "metadata": {},
   "source": [
    "Let's organize these counts by both **science program** and **target**..."
   ]
  },
  {
   "cell_type": "markdown",
   "id": "27065509-aef1-4706-940a-87f2654acfdd",
   "metadata": {},
   "source": [
    "First, we will do a simple `groupby` command, using standard defaults."
   ]
  },
  {
   "cell_type": "code",
   "execution_count": 31,
   "id": "c7d00fcd-5828-4fc5-884b-086e45b9b420",
   "metadata": {
    "execution": {
     "iopub.execute_input": "2024-06-13T00:10:46.340497Z",
     "iopub.status.busy": "2024-06-13T00:10:46.340309Z",
     "iopub.status.idle": "2024-06-13T00:10:46.347257Z",
     "shell.execute_reply": "2024-06-13T00:10:46.346781Z",
     "shell.execute_reply.started": "2024-06-13T00:10:46.340481Z"
    }
   },
   "outputs": [
    {
     "data": {
      "text/plain": [
       "science_program       target         \n",
       "AUXTEL_PHOTO_IMAGING  Photo0800-1_001     4\n",
       "                      Photo0800-1_002     4\n",
       "                      Photo0800-1_003     4\n",
       "                      Photo0800-1_004     4\n",
       "                      Photo0800-1_005     4\n",
       "                      Photo0800-1_006     4\n",
       "                      Photo0800-1_007     4\n",
       "                      Photo0800-1_008     4\n",
       "                      Photo0800-1_009     4\n",
       "                      Photo0800-1_010     4\n",
       "                      Photo0800-1_011     4\n",
       "                      Photo0800-1_012     4\n",
       "                      Photo0800-1_013     4\n",
       "                      Photo0800-1_014     4\n",
       "                      Photo0800-1_015     4\n",
       "                      Photo0800-1_016     4\n",
       "                      Photo0800-1_017     4\n",
       "                      Photo0800-1_018     4\n",
       "                      Photo0800-1_019     4\n",
       "                      Photo0800-1_020     4\n",
       "                      Photo0800-1_021     4\n",
       "                      Photo0800-1_022     4\n",
       "                      Photo0800-1_023     4\n",
       "                      Photo0800-1_024     4\n",
       "                      Photo1600-1_018     4\n",
       "                      Photo1600-1_019     4\n",
       "                      Photo1600-1_020     4\n",
       "                      Photo1600-1_021     4\n",
       "                      Photo1600-1_022     4\n",
       "                      Photo1600-1_023     4\n",
       "                      Photo1600-1_024     4\n",
       "                      Photo1600-1_025     4\n",
       "                      Photo1600-1_026     4\n",
       "                      Photo1600-1_027     4\n",
       "                      Photo1600-1_028     4\n",
       "                      Photo1600-1_029     4\n",
       "                      Photo1600-1_030     4\n",
       "                      Photo1600-1_031     4\n",
       "                      Photo1600-1_032     1\n",
       "spec-survey           HD111235           70\n",
       "                      HD144334           74\n",
       "                      HD185975           20\n",
       "                      HD38666            15\n",
       "Name: id, dtype: int64"
      ]
     },
     "execution_count": 31,
     "metadata": {},
     "output_type": "execute_result"
    }
   ],
   "source": [
    "df_science.groupby([\"science_program\",\"target\"]).count()[\"id\"]"
   ]
  },
  {
   "cell_type": "markdown",
   "id": "ff77aef4-a730-4ff1-bbb9-6b69a9964f9b",
   "metadata": {},
   "source": [
    "We can make this look nicer (and more useful) by converting the results into a pandas DataFrame and outputting the tabular format.  We will make use of the `df2Dgroupby` function defined in Section 1.2.  In this case, we don't care about targets that have a count of 0; so we set the `fill_zeros` parameter to `False`."
   ]
  },
  {
   "cell_type": "code",
   "execution_count": 32,
   "id": "d7b4421e-f60c-4fed-97c4-c00146b943cc",
   "metadata": {
    "execution": {
     "iopub.execute_input": "2024-06-13T00:10:46.347839Z",
     "iopub.status.busy": "2024-06-13T00:10:46.347704Z",
     "iopub.status.idle": "2024-06-13T00:10:46.355607Z",
     "shell.execute_reply": "2024-06-13T00:10:46.355261Z",
     "shell.execute_reply.started": "2024-06-13T00:10:46.347826Z"
    }
   },
   "outputs": [
    {
     "data": {
      "text/html": [
       "<div>\n",
       "<style scoped>\n",
       "    .dataframe tbody tr th:only-of-type {\n",
       "        vertical-align: middle;\n",
       "    }\n",
       "\n",
       "    .dataframe tbody tr th {\n",
       "        vertical-align: top;\n",
       "    }\n",
       "\n",
       "    .dataframe thead th {\n",
       "        text-align: right;\n",
       "    }\n",
       "</style>\n",
       "<table border=\"1\" class=\"dataframe\">\n",
       "  <thead>\n",
       "    <tr style=\"text-align: right;\">\n",
       "      <th></th>\n",
       "      <th>science_program</th>\n",
       "      <th>target</th>\n",
       "      <th>number</th>\n",
       "    </tr>\n",
       "  </thead>\n",
       "  <tbody>\n",
       "    <tr>\n",
       "      <th>0</th>\n",
       "      <td>AUXTEL_PHOTO_IMAGING</td>\n",
       "      <td>Photo0800-1_001</td>\n",
       "      <td>4</td>\n",
       "    </tr>\n",
       "    <tr>\n",
       "      <th>1</th>\n",
       "      <td>AUXTEL_PHOTO_IMAGING</td>\n",
       "      <td>Photo0800-1_002</td>\n",
       "      <td>4</td>\n",
       "    </tr>\n",
       "    <tr>\n",
       "      <th>2</th>\n",
       "      <td>AUXTEL_PHOTO_IMAGING</td>\n",
       "      <td>Photo0800-1_003</td>\n",
       "      <td>4</td>\n",
       "    </tr>\n",
       "    <tr>\n",
       "      <th>3</th>\n",
       "      <td>AUXTEL_PHOTO_IMAGING</td>\n",
       "      <td>Photo0800-1_004</td>\n",
       "      <td>4</td>\n",
       "    </tr>\n",
       "    <tr>\n",
       "      <th>4</th>\n",
       "      <td>AUXTEL_PHOTO_IMAGING</td>\n",
       "      <td>Photo0800-1_005</td>\n",
       "      <td>4</td>\n",
       "    </tr>\n",
       "    <tr>\n",
       "      <th>5</th>\n",
       "      <td>AUXTEL_PHOTO_IMAGING</td>\n",
       "      <td>Photo0800-1_006</td>\n",
       "      <td>4</td>\n",
       "    </tr>\n",
       "    <tr>\n",
       "      <th>6</th>\n",
       "      <td>AUXTEL_PHOTO_IMAGING</td>\n",
       "      <td>Photo0800-1_007</td>\n",
       "      <td>4</td>\n",
       "    </tr>\n",
       "    <tr>\n",
       "      <th>7</th>\n",
       "      <td>AUXTEL_PHOTO_IMAGING</td>\n",
       "      <td>Photo0800-1_008</td>\n",
       "      <td>4</td>\n",
       "    </tr>\n",
       "    <tr>\n",
       "      <th>8</th>\n",
       "      <td>AUXTEL_PHOTO_IMAGING</td>\n",
       "      <td>Photo0800-1_009</td>\n",
       "      <td>4</td>\n",
       "    </tr>\n",
       "    <tr>\n",
       "      <th>9</th>\n",
       "      <td>AUXTEL_PHOTO_IMAGING</td>\n",
       "      <td>Photo0800-1_010</td>\n",
       "      <td>4</td>\n",
       "    </tr>\n",
       "    <tr>\n",
       "      <th>10</th>\n",
       "      <td>AUXTEL_PHOTO_IMAGING</td>\n",
       "      <td>Photo0800-1_011</td>\n",
       "      <td>4</td>\n",
       "    </tr>\n",
       "    <tr>\n",
       "      <th>11</th>\n",
       "      <td>AUXTEL_PHOTO_IMAGING</td>\n",
       "      <td>Photo0800-1_012</td>\n",
       "      <td>4</td>\n",
       "    </tr>\n",
       "    <tr>\n",
       "      <th>12</th>\n",
       "      <td>AUXTEL_PHOTO_IMAGING</td>\n",
       "      <td>Photo0800-1_013</td>\n",
       "      <td>4</td>\n",
       "    </tr>\n",
       "    <tr>\n",
       "      <th>13</th>\n",
       "      <td>AUXTEL_PHOTO_IMAGING</td>\n",
       "      <td>Photo0800-1_014</td>\n",
       "      <td>4</td>\n",
       "    </tr>\n",
       "    <tr>\n",
       "      <th>14</th>\n",
       "      <td>AUXTEL_PHOTO_IMAGING</td>\n",
       "      <td>Photo0800-1_015</td>\n",
       "      <td>4</td>\n",
       "    </tr>\n",
       "    <tr>\n",
       "      <th>15</th>\n",
       "      <td>AUXTEL_PHOTO_IMAGING</td>\n",
       "      <td>Photo0800-1_016</td>\n",
       "      <td>4</td>\n",
       "    </tr>\n",
       "    <tr>\n",
       "      <th>16</th>\n",
       "      <td>AUXTEL_PHOTO_IMAGING</td>\n",
       "      <td>Photo0800-1_017</td>\n",
       "      <td>4</td>\n",
       "    </tr>\n",
       "    <tr>\n",
       "      <th>17</th>\n",
       "      <td>AUXTEL_PHOTO_IMAGING</td>\n",
       "      <td>Photo0800-1_018</td>\n",
       "      <td>4</td>\n",
       "    </tr>\n",
       "    <tr>\n",
       "      <th>18</th>\n",
       "      <td>AUXTEL_PHOTO_IMAGING</td>\n",
       "      <td>Photo0800-1_019</td>\n",
       "      <td>4</td>\n",
       "    </tr>\n",
       "    <tr>\n",
       "      <th>19</th>\n",
       "      <td>AUXTEL_PHOTO_IMAGING</td>\n",
       "      <td>Photo0800-1_020</td>\n",
       "      <td>4</td>\n",
       "    </tr>\n",
       "    <tr>\n",
       "      <th>20</th>\n",
       "      <td>AUXTEL_PHOTO_IMAGING</td>\n",
       "      <td>Photo0800-1_021</td>\n",
       "      <td>4</td>\n",
       "    </tr>\n",
       "    <tr>\n",
       "      <th>21</th>\n",
       "      <td>AUXTEL_PHOTO_IMAGING</td>\n",
       "      <td>Photo0800-1_022</td>\n",
       "      <td>4</td>\n",
       "    </tr>\n",
       "    <tr>\n",
       "      <th>22</th>\n",
       "      <td>AUXTEL_PHOTO_IMAGING</td>\n",
       "      <td>Photo0800-1_023</td>\n",
       "      <td>4</td>\n",
       "    </tr>\n",
       "    <tr>\n",
       "      <th>23</th>\n",
       "      <td>AUXTEL_PHOTO_IMAGING</td>\n",
       "      <td>Photo0800-1_024</td>\n",
       "      <td>4</td>\n",
       "    </tr>\n",
       "    <tr>\n",
       "      <th>24</th>\n",
       "      <td>AUXTEL_PHOTO_IMAGING</td>\n",
       "      <td>Photo1600-1_018</td>\n",
       "      <td>4</td>\n",
       "    </tr>\n",
       "    <tr>\n",
       "      <th>25</th>\n",
       "      <td>AUXTEL_PHOTO_IMAGING</td>\n",
       "      <td>Photo1600-1_019</td>\n",
       "      <td>4</td>\n",
       "    </tr>\n",
       "    <tr>\n",
       "      <th>26</th>\n",
       "      <td>AUXTEL_PHOTO_IMAGING</td>\n",
       "      <td>Photo1600-1_020</td>\n",
       "      <td>4</td>\n",
       "    </tr>\n",
       "    <tr>\n",
       "      <th>27</th>\n",
       "      <td>AUXTEL_PHOTO_IMAGING</td>\n",
       "      <td>Photo1600-1_021</td>\n",
       "      <td>4</td>\n",
       "    </tr>\n",
       "    <tr>\n",
       "      <th>28</th>\n",
       "      <td>AUXTEL_PHOTO_IMAGING</td>\n",
       "      <td>Photo1600-1_022</td>\n",
       "      <td>4</td>\n",
       "    </tr>\n",
       "    <tr>\n",
       "      <th>29</th>\n",
       "      <td>AUXTEL_PHOTO_IMAGING</td>\n",
       "      <td>Photo1600-1_023</td>\n",
       "      <td>4</td>\n",
       "    </tr>\n",
       "    <tr>\n",
       "      <th>30</th>\n",
       "      <td>AUXTEL_PHOTO_IMAGING</td>\n",
       "      <td>Photo1600-1_024</td>\n",
       "      <td>4</td>\n",
       "    </tr>\n",
       "    <tr>\n",
       "      <th>31</th>\n",
       "      <td>AUXTEL_PHOTO_IMAGING</td>\n",
       "      <td>Photo1600-1_025</td>\n",
       "      <td>4</td>\n",
       "    </tr>\n",
       "    <tr>\n",
       "      <th>32</th>\n",
       "      <td>AUXTEL_PHOTO_IMAGING</td>\n",
       "      <td>Photo1600-1_026</td>\n",
       "      <td>4</td>\n",
       "    </tr>\n",
       "    <tr>\n",
       "      <th>33</th>\n",
       "      <td>AUXTEL_PHOTO_IMAGING</td>\n",
       "      <td>Photo1600-1_027</td>\n",
       "      <td>4</td>\n",
       "    </tr>\n",
       "    <tr>\n",
       "      <th>34</th>\n",
       "      <td>AUXTEL_PHOTO_IMAGING</td>\n",
       "      <td>Photo1600-1_028</td>\n",
       "      <td>4</td>\n",
       "    </tr>\n",
       "    <tr>\n",
       "      <th>35</th>\n",
       "      <td>AUXTEL_PHOTO_IMAGING</td>\n",
       "      <td>Photo1600-1_029</td>\n",
       "      <td>4</td>\n",
       "    </tr>\n",
       "    <tr>\n",
       "      <th>36</th>\n",
       "      <td>AUXTEL_PHOTO_IMAGING</td>\n",
       "      <td>Photo1600-1_030</td>\n",
       "      <td>4</td>\n",
       "    </tr>\n",
       "    <tr>\n",
       "      <th>37</th>\n",
       "      <td>AUXTEL_PHOTO_IMAGING</td>\n",
       "      <td>Photo1600-1_031</td>\n",
       "      <td>4</td>\n",
       "    </tr>\n",
       "    <tr>\n",
       "      <th>38</th>\n",
       "      <td>AUXTEL_PHOTO_IMAGING</td>\n",
       "      <td>Photo1600-1_032</td>\n",
       "      <td>1</td>\n",
       "    </tr>\n",
       "    <tr>\n",
       "      <th>39</th>\n",
       "      <td>spec-survey</td>\n",
       "      <td>HD111235</td>\n",
       "      <td>70</td>\n",
       "    </tr>\n",
       "    <tr>\n",
       "      <th>40</th>\n",
       "      <td>spec-survey</td>\n",
       "      <td>HD144334</td>\n",
       "      <td>74</td>\n",
       "    </tr>\n",
       "    <tr>\n",
       "      <th>41</th>\n",
       "      <td>spec-survey</td>\n",
       "      <td>HD185975</td>\n",
       "      <td>20</td>\n",
       "    </tr>\n",
       "    <tr>\n",
       "      <th>42</th>\n",
       "      <td>spec-survey</td>\n",
       "      <td>HD38666</td>\n",
       "      <td>15</td>\n",
       "    </tr>\n",
       "  </tbody>\n",
       "</table>\n",
       "</div>"
      ],
      "text/plain": [
       "         science_program           target  number\n",
       "0   AUXTEL_PHOTO_IMAGING  Photo0800-1_001       4\n",
       "1   AUXTEL_PHOTO_IMAGING  Photo0800-1_002       4\n",
       "2   AUXTEL_PHOTO_IMAGING  Photo0800-1_003       4\n",
       "3   AUXTEL_PHOTO_IMAGING  Photo0800-1_004       4\n",
       "4   AUXTEL_PHOTO_IMAGING  Photo0800-1_005       4\n",
       "5   AUXTEL_PHOTO_IMAGING  Photo0800-1_006       4\n",
       "6   AUXTEL_PHOTO_IMAGING  Photo0800-1_007       4\n",
       "7   AUXTEL_PHOTO_IMAGING  Photo0800-1_008       4\n",
       "8   AUXTEL_PHOTO_IMAGING  Photo0800-1_009       4\n",
       "9   AUXTEL_PHOTO_IMAGING  Photo0800-1_010       4\n",
       "10  AUXTEL_PHOTO_IMAGING  Photo0800-1_011       4\n",
       "11  AUXTEL_PHOTO_IMAGING  Photo0800-1_012       4\n",
       "12  AUXTEL_PHOTO_IMAGING  Photo0800-1_013       4\n",
       "13  AUXTEL_PHOTO_IMAGING  Photo0800-1_014       4\n",
       "14  AUXTEL_PHOTO_IMAGING  Photo0800-1_015       4\n",
       "15  AUXTEL_PHOTO_IMAGING  Photo0800-1_016       4\n",
       "16  AUXTEL_PHOTO_IMAGING  Photo0800-1_017       4\n",
       "17  AUXTEL_PHOTO_IMAGING  Photo0800-1_018       4\n",
       "18  AUXTEL_PHOTO_IMAGING  Photo0800-1_019       4\n",
       "19  AUXTEL_PHOTO_IMAGING  Photo0800-1_020       4\n",
       "20  AUXTEL_PHOTO_IMAGING  Photo0800-1_021       4\n",
       "21  AUXTEL_PHOTO_IMAGING  Photo0800-1_022       4\n",
       "22  AUXTEL_PHOTO_IMAGING  Photo0800-1_023       4\n",
       "23  AUXTEL_PHOTO_IMAGING  Photo0800-1_024       4\n",
       "24  AUXTEL_PHOTO_IMAGING  Photo1600-1_018       4\n",
       "25  AUXTEL_PHOTO_IMAGING  Photo1600-1_019       4\n",
       "26  AUXTEL_PHOTO_IMAGING  Photo1600-1_020       4\n",
       "27  AUXTEL_PHOTO_IMAGING  Photo1600-1_021       4\n",
       "28  AUXTEL_PHOTO_IMAGING  Photo1600-1_022       4\n",
       "29  AUXTEL_PHOTO_IMAGING  Photo1600-1_023       4\n",
       "30  AUXTEL_PHOTO_IMAGING  Photo1600-1_024       4\n",
       "31  AUXTEL_PHOTO_IMAGING  Photo1600-1_025       4\n",
       "32  AUXTEL_PHOTO_IMAGING  Photo1600-1_026       4\n",
       "33  AUXTEL_PHOTO_IMAGING  Photo1600-1_027       4\n",
       "34  AUXTEL_PHOTO_IMAGING  Photo1600-1_028       4\n",
       "35  AUXTEL_PHOTO_IMAGING  Photo1600-1_029       4\n",
       "36  AUXTEL_PHOTO_IMAGING  Photo1600-1_030       4\n",
       "37  AUXTEL_PHOTO_IMAGING  Photo1600-1_031       4\n",
       "38  AUXTEL_PHOTO_IMAGING  Photo1600-1_032       1\n",
       "39           spec-survey         HD111235      70\n",
       "40           spec-survey         HD144334      74\n",
       "41           spec-survey         HD185975      20\n",
       "42           spec-survey          HD38666      15"
      ]
     },
     "execution_count": 32,
     "metadata": {},
     "output_type": "execute_result"
    }
   ],
   "source": [
    "df_science_grouped = df2Dgroupby(df_science, 'science_program', 'target', 'id', False)\n",
    "df_science_grouped"
   ]
  },
  {
   "cell_type": "markdown",
   "id": "7b1514c7-1b90-4147-a7b5-9f2202e0ae56",
   "metadata": {},
   "source": [
    "Let's plot these results as an annotated heatmap:"
   ]
  },
  {
   "cell_type": "code",
   "execution_count": null,
   "id": "071a9f20-ccee-47f8-ab08-96d7d6b45d24",
   "metadata": {
    "execution": {
     "iopub.execute_input": "2024-06-13T00:10:46.356182Z",
     "iopub.status.busy": "2024-06-13T00:10:46.356066Z"
    }
   },
   "outputs": [],
   "source": [
    "# First, we re-group df_science, setting the `fill_zeros` parameter back to `True`.  \n",
    "#  This is mostly for aesthetic reasons for the plotting below (the value of '0' \n",
    "#  will be included in the annotations for those science_progam/target combos that\n",
    "#  have no observations); otherwise those boxes will be left blank).\n",
    "df_science_grouped = df2Dgroupby(df_science, 'science_program', 'target', 'id', True)\n",
    "\n",
    "# Now call the plotAnnotatedHeatMap_df2Dgroupby function defined in Section 1.2 above.\n",
    "plotAnnotatedHeatMap_df2Dgroupby(df_science_grouped, 'target', 'science_program', 'number', title='Annotated Heatmap', cmap='Blues')\n",
    "\n",
    "#plt.figure(figsize=(6, 10))\n",
    "#ax = sns.histplot(data=df_science, x=\"science_program\", y=\"target\", cbar=True)"
   ]
  },
  {
   "cell_type": "markdown",
   "id": "4b10f84e-7787-417e-9b51-d16c08ce6ac4",
   "metadata": {},
   "source": [
    "Now let's organize these counts by **target** and **filter**...  "
   ]
  },
  {
   "cell_type": "code",
   "execution_count": null,
   "id": "7a84e9bc-d878-456d-9510-4b3423316757",
   "metadata": {},
   "outputs": [],
   "source": [
    "df_science.groupby([\"target\",\"filter\"]).count()[\"id\"]"
   ]
  },
  {
   "cell_type": "markdown",
   "id": "376c790b-3142-4b6c-b297-d12bbb04a55b",
   "metadata": {},
   "source": [
    "Again, we can convert the above results into a pandas DataFrame..."
   ]
  },
  {
   "cell_type": "code",
   "execution_count": null,
   "id": "30afc449-755c-49e5-8d5d-bdf3ac1be28e",
   "metadata": {},
   "outputs": [],
   "source": [
    "df_science_grouped = df2Dgroupby(df_science, 'target', 'filter', 'id', False)\n",
    "df_science_grouped"
   ]
  },
  {
   "cell_type": "markdown",
   "id": "5596a257-2113-40d0-9d93-8f518cd46f1c",
   "metadata": {},
   "source": [
    "Here's the annotated heatmap of the same..."
   ]
  },
  {
   "cell_type": "code",
   "execution_count": null,
   "id": "b531ef1c-b18a-4986-91cb-7147c13816fa",
   "metadata": {},
   "outputs": [],
   "source": [
    "df_science_grouped = df2Dgroupby(df_science, 'target', 'filter', 'id', True)\n",
    "plotAnnotatedHeatMap_df2Dgroupby(df_science_grouped, 'target', 'filter', 'number', title='Annotated Heatmap', cmap='Blues')\n",
    "\n",
    "#plt.figure(figsize=(20, 10))\n",
    "#ax = sns.histplot(data=df_science, x=\"filter\", y=\"target\", cbar=True)"
   ]
  },
  {
   "cell_type": "markdown",
   "id": "b4d5faef-3a06-4c1b-802c-fe79080ba6ba",
   "metadata": {},
   "source": [
    "Next, let's organize the counts by three variables: **science program**, **target**, and **filter**...  "
   ]
  },
  {
   "cell_type": "code",
   "execution_count": null,
   "id": "446c806f-612e-4946-9a53-76b03a715587",
   "metadata": {},
   "outputs": [],
   "source": [
    "df_science.groupby([\"science_program\",\"target\",\"filter\"]).count()[\"id\"]"
   ]
  },
  {
   "cell_type": "markdown",
   "id": "1ca929d5-0c50-4f50-9462-3062aa49cd58",
   "metadata": {},
   "source": [
    "Convert this result into a pandas DataFrame using the `df3groupby` function defined in Section 1.2 above and display the resulting table:"
   ]
  },
  {
   "cell_type": "code",
   "execution_count": null,
   "id": "a79fc04b-874e-4ccd-bd64-7516552cf0cf",
   "metadata": {},
   "outputs": [],
   "source": [
    "df_science_grouped = df3Dgroupby(df_science, 'science_program', 'target', 'filter', 'id', False)\n",
    "df_science_grouped"
   ]
  },
  {
   "cell_type": "markdown",
   "id": "40b0c743-987f-408f-bcea-3c915c8f1a7c",
   "metadata": {
    "execution": {
     "iopub.execute_input": "2024-06-05T23:04:32.044248Z",
     "iopub.status.busy": "2024-06-05T23:04:32.043966Z",
     "iopub.status.idle": "2024-06-05T23:04:32.046337Z",
     "shell.execute_reply": "2024-06-05T23:04:32.045960Z",
     "shell.execute_reply.started": "2024-06-05T23:04:32.044235Z"
    }
   },
   "source": [
    "### 3.2 Positions"
   ]
  },
  {
   "cell_type": "markdown",
   "id": "1a622dcd-b076-4c9e-bc56-386dffc4393e",
   "metadata": {
    "execution": {
     "iopub.execute_input": "2024-06-05T23:05:09.152878Z",
     "iopub.status.busy": "2024-06-05T23:05:09.152583Z",
     "iopub.status.idle": "2024-06-05T23:05:09.155918Z",
     "shell.execute_reply": "2024-06-05T23:05:09.155469Z",
     "shell.execute_reply.started": "2024-06-05T23:05:09.152864Z"
    }
   },
   "source": [
    "Plot RA, DEC..."
   ]
  },
  {
   "cell_type": "code",
   "execution_count": null,
   "id": "3a255c90-e086-4bf4-8796-fdfd7b08f8aa",
   "metadata": {},
   "outputs": [],
   "source": [
    "plt.figure(figsize=(6, 6))\n",
    "\n",
    "# Plot in Cartesian coordinates\n",
    "#df_science.plot('ra','dec', kind='scatter')\n",
    "ax = sns.scatterplot(data=df_science, x=\"ra\", y=\"dec\")\n",
    "\n",
    "# Add labels and title\n",
    "plt.xlabel('RA')\n",
    "plt.ylabel('DEC')\n",
    "title = \"\"\"RA, DEC positions of %s Observations of Different Science Program Targets on %s\"\"\" %(instrument, day_obs)\n",
    "plt.title(title)\n",
    "plt.grid(True)\n"
   ]
  },
  {
   "cell_type": "markdown",
   "id": "6f44aa7c-1ffa-455b-9140-aef639149773",
   "metadata": {},
   "source": [
    "Plot target vs. zenith_angle:"
   ]
  },
  {
   "cell_type": "code",
   "execution_count": null,
   "id": "c34cf1ba-4e0d-429f-8d9b-52fa29f08658",
   "metadata": {},
   "outputs": [],
   "source": [
    "plt.figure(figsize=(10, 10))\n",
    "\n",
    "ax = sns.scatterplot(data=df_science, x=\"zenith_angle\", y=\"target\")\n",
    "\n",
    "# Add labels and title\n",
    "#plt.xlabel('Zenith Angle')\n",
    "#plt.ylabel('Target')\n",
    "title = \"\"\"Zenith distances for of %s Observations of Different Science Program Targets on %s\"\"\" %(instrument, day_obs)\n",
    "plt.title(title)\n",
    "plt.grid(True)\n"
   ]
  },
  {
   "cell_type": "markdown",
   "id": "adef1139-2f33-4e3f-bd45-9dbd609aec6f",
   "metadata": {},
   "source": [
    "Plot target vs. MJD:"
   ]
  },
  {
   "cell_type": "code",
   "execution_count": null,
   "id": "1d4139ce-9cd4-47d9-8288-681db988dcc4",
   "metadata": {},
   "outputs": [],
   "source": [
    "plt.figure(figsize=(10, 10))\n",
    "\n",
    "ax = sns.scatterplot(data=df_science, x=\"mjd\", y=\"target\")\n",
    "\n",
    "# Add labels and title\n",
    "#plt.xlabel('Zenith Angle')\n",
    "#plt.ylabel('Target')\n",
    "title = \"\"\"MJDs of %s Observations of Different Science Program Targets on %s\"\"\" %(instrument, day_obs)\n",
    "plt.title(title)\n",
    "plt.grid(True)\n"
   ]
  },
  {
   "cell_type": "markdown",
   "id": "c25e34d6-4067-4002-983f-60a7d279eb1e",
   "metadata": {},
   "source": [
    "## 4. Final cleanup"
   ]
  },
  {
   "cell_type": "markdown",
   "id": "76e1ea9b-78d2-455b-b59b-85a046d5663b",
   "metadata": {},
   "source": [
    "Reset the pandas maximum rows option it its original default."
   ]
  },
  {
   "cell_type": "code",
   "execution_count": null,
   "id": "c1c4ccc9-25a5-4ddc-853c-01da52b614fd",
   "metadata": {},
   "outputs": [],
   "source": [
    "# Reset the display.max_rows option to the original default\n",
    "pd.reset_option(\"display.max_rows\")"
   ]
  },
  {
   "cell_type": "markdown",
   "id": "8c5db74f-f0e8-452b-8d0c-7ff6c1474e87",
   "metadata": {},
   "source": [
    "## Sandbox"
   ]
  },
  {
   "cell_type": "code",
   "execution_count": null,
   "id": "2b8b421d-2492-4090-9b7e-e66643e1a857",
   "metadata": {},
   "outputs": [],
   "source": []
  }
 ],
 "metadata": {
  "kernelspec": {
   "display_name": "LSST",
   "language": "python",
   "name": "lsst"
  },
  "language_info": {
   "codemirror_mode": {
    "name": "ipython",
    "version": 3
   },
   "file_extension": ".py",
   "mimetype": "text/x-python",
   "name": "python",
   "nbconvert_exporter": "python",
   "pygments_lexer": "ipython3",
   "version": "3.11.7"
  }
 },
 "nbformat": 4,
 "nbformat_minor": 5
}
