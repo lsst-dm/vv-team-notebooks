{
 "cells": [
  {
   "cell_type": "code",
   "execution_count": 1,
   "id": "f0668f16-35ed-42d6-beae-16f069c38ca5",
   "metadata": {
    "execution": {
     "iopub.execute_input": "2024-11-06T21:10:11.849146Z",
     "iopub.status.busy": "2024-11-06T21:10:11.849004Z",
     "iopub.status.idle": "2024-11-06T21:10:13.484741Z",
     "shell.execute_reply": "2024-11-06T21:10:13.484311Z",
     "shell.execute_reply.started": "2024-11-06T21:10:11.849132Z"
    }
   },
   "outputs": [],
   "source": [
    "# Standard imports:\n",
    "import lsst.daf.butler as dafButler\n",
    "import lsst.afw.display as afwDisplay\n",
    "\n",
    "import matplotlib.pyplot as plt\n",
    "import numpy as np\n",
    "import pandas as pd\n",
    "\n",
    "import healpy as hp\n",
    "import astropy.units as u\n",
    "from astropy.coordinates import SkyCoord\n",
    "import astropy.units as u\n",
    "\n",
    "import glob as glob\n",
    "import os\n",
    "\n",
    "from astropy.coordinates import Angle\n",
    "import lsst.geom"
   ]
  },
  {
   "cell_type": "code",
   "execution_count": 2,
   "id": "4d54e533-cba3-41c2-bd03-cad5215c7b98",
   "metadata": {
    "execution": {
     "iopub.execute_input": "2024-11-06T21:10:13.526929Z",
     "iopub.status.busy": "2024-11-06T21:10:13.526582Z",
     "iopub.status.idle": "2024-11-06T21:10:13.565961Z",
     "shell.execute_reply": "2024-11-06T21:10:13.565539Z",
     "shell.execute_reply.started": "2024-11-06T21:10:13.526905Z"
    }
   },
   "outputs": [],
   "source": [
    "afwDisplay.setDefaultBackend('matplotlib')\n",
    "from lsst.rsp import get_tap_service\n",
    "service = get_tap_service(\"tap\")"
   ]
  },
  {
   "cell_type": "code",
   "execution_count": 3,
   "id": "63af5d7a-a4cf-4a23-8055-ee47b9a797e6",
   "metadata": {
    "execution": {
     "iopub.execute_input": "2024-11-06T21:10:13.566606Z",
     "iopub.status.busy": "2024-11-06T21:10:13.566449Z",
     "iopub.status.idle": "2024-11-06T21:10:14.776064Z",
     "shell.execute_reply": "2024-11-06T21:10:14.775613Z",
     "shell.execute_reply.started": "2024-11-06T21:10:13.566590Z"
    }
   },
   "outputs": [],
   "source": [
    "# Butler setup and skyMap retrieval:\n",
    "collections = 'LSSTComCamSim/runs/DRP/OR4/w_2024_25/DM-45066'\n",
    "butler = dafButler.Butler('embargo_or4', collections=collections)\n",
    "registry = butler.registry\n",
    "skyMap = butler.get('skyMap', dataId={'skymap':'ops_rehersal_prep_2k_v1'})"
   ]
  },
  {
   "cell_type": "code",
   "execution_count": 4,
   "id": "484cd733-80ab-440a-bf89-3a7272310904",
   "metadata": {
    "execution": {
     "iopub.execute_input": "2024-11-06T21:10:14.776734Z",
     "iopub.status.busy": "2024-11-06T21:10:14.776595Z",
     "iopub.status.idle": "2024-11-06T21:10:14.778942Z",
     "shell.execute_reply": "2024-11-06T21:10:14.778514Z",
     "shell.execute_reply.started": "2024-11-06T21:10:14.776721Z"
    }
   },
   "outputs": [],
   "source": [
    "# select_tract = 2494\n",
    "# select_patch = 275\n",
    "# select_tract = 2494\n",
    "# select_patch = 155\n",
    "# select_tract = 2494\n",
    "# select_patch = 204\n",
    "# select_tract = 2494\n",
    "# select_patch = 138"
   ]
  },
  {
   "cell_type": "code",
   "execution_count": 5,
   "id": "1afe820c-9f6d-4ffd-83d3-604f02d871ff",
   "metadata": {
    "execution": {
     "iopub.execute_input": "2024-11-06T21:10:14.779841Z",
     "iopub.status.busy": "2024-11-06T21:10:14.779522Z",
     "iopub.status.idle": "2024-11-06T21:10:14.792215Z",
     "shell.execute_reply": "2024-11-06T21:10:14.791787Z",
     "shell.execute_reply.started": "2024-11-06T21:10:14.779827Z"
    }
   },
   "outputs": [],
   "source": [
    "class compare_static_truth_psf:\n",
    "    def __init__(self, tract, patch):\n",
    "        self.tract = tract\n",
    "        self.patch = patch\n",
    "\n",
    "    def get_objecttable(self):\n",
    "        \"\"\"\n",
    "        Get objectTable for a tract and patch\n",
    "        \"\"\"\n",
    "        tract_dataid = {'band': 'g', 'skymap': 'ops_rehersal_prep_2k_v1', 'tract': self.tract, 'patch': self.patch}\n",
    "        obj_table = butler.get('objectTable', dataId=tract_dataid)\n",
    "        obj_table = obj_table.reset_index()\n",
    "        \n",
    "        # select a bright object from g band \n",
    "        obj_table = obj_table[obj_table['refBand'] == 'g']\n",
    "        obj_table = obj_table.sort_values('g_psfFlux', ascending=False)\n",
    "\n",
    "        return obj_table\n",
    "    \n",
    "    # A funuction to determine the filename of a truthtable covering a DIA detecor image.\n",
    "    def GetTruthFiles(self, RA, Dec):\n",
    "        '''\n",
    "        Given a set of coordinates, determine the filename of the pointsource parquet\n",
    "        truth table that covers that region. This is needed because the parquet files\n",
    "        are named according to the htm7 nside=32 region that they cover, so the index\n",
    "        of the htm7 segment is needed to identify the file.\n",
    "    \n",
    "        Note\n",
    "        ----\n",
    "        This calculates the mean coordinate of the catalogue and uses that to\n",
    "        determine the htm7 segment.\n",
    "    \n",
    "        Inputs\n",
    "        ------\n",
    "        RA: Pandas series containing the Right Ascention of sources in degrees.\n",
    "        Dec: Pandas series containing the Deckination of sources in degrees.\n",
    "    \n",
    "        Outputs\n",
    "        -------\n",
    "        truthFiles: List of filenames of the truth table parquet files that cover the\n",
    "                    region of interest.\n",
    "        \n",
    "        '''\n",
    "        truthFiles = []\n",
    "    \n",
    "        mean_ra = np.deg2rad(np.mean(RA.value))\n",
    "        mean_de = np.deg2rad(90. - np.mean(Dec.value))\n",
    "        coordVec = hp.ang2vec(mean_de, mean_ra)\n",
    "        ipix_discs = hp.query_disc(nside=32, vec=coordVec, radius=np.radians(2))\n",
    "    \n",
    "        for ipix_disc in ipix_discs:\n",
    "            filename = '/sdf/data/rubin/shared/ops-rehearsals/ops-rehearsal-4/imSim_catalogs/skyCatalogs/pointsource_{}.parquet'.format(ipix_disc)\n",
    "            if os.path.exists(filename):\n",
    "                truthFiles.append(filename)        \n",
    "        return truthFiles\n",
    "\n",
    "    def find_match_truth_objtable(self, truthFile_parquet, obj_table_df):\n",
    "        truthTable = pd.read_parquet(truthFile_parquet)\n",
    "        \n",
    "        # select static sources\n",
    "        truthTable = truthTable[truthTable['is_variable'] == False]\n",
    "        truthTable = truthTable.sort_values('magnorm', ascending=True)\n",
    "        truthTable = truthTable[(truthTable['magnorm'] > 17.0) & (truthTable['magnorm'] < 19.0)]\n",
    "        \n",
    "        # cross match with the object table\n",
    "        trueCoords = SkyCoord(ra=truthTable['ra'].values*u.degree, dec=truthTable['dec'].values*u.degree)\n",
    "        objCoords = SkyCoord(ra=obj_table_df['coord_ra'].values*u.degree, dec=obj_table_df['coord_dec'].values*u.degree)\n",
    "    \n",
    "        idx, d2d, d3d = objCoords.match_to_catalog_sky(trueCoords) # idx is closest index in trueCoords\n",
    "    \n",
    "        # print('length of objCoords table: ',len(objCoords))\n",
    "        # print('length of indices: ',len(idx))\n",
    "    \n",
    "        # select closest matche within 2\"\n",
    "        d2d_inx = np.where(d2d < 2*u.arcsec)\n",
    "        idx = idx[d2d_inx]\n",
    "        d2d = d2d[d2d_inx]\n",
    "    \n",
    "        return truthFile_parquet, idx\n",
    "\n",
    "    def match_truth_forced(self, obj_table, obj_ra, obj_dec):\n",
    "        # get truth files\n",
    "        truthfile_match = 0\n",
    "        idx_match = 0\n",
    "        truthFiles = self.GetTruthFiles(obj_ra*u.degree, obj_dec*u.degree)\n",
    "        for i, truthFile in enumerate(truthFiles):\n",
    "            truthfile, idx = self.find_match_truth_objtable(truthFile, obj_table)\n",
    "            if len(idx) != 0:\n",
    "                truthfile_match = truthfile\n",
    "                idx_match = idx[0]\n",
    "                print(truthfile_match)\n",
    "                print(idx_match)\n",
    "                # get the truth table matched to object_table ra,dec\n",
    "                truthTable = pd.read_parquet(str(truthfile_match))\n",
    "                truthTable = truthTable[truthTable['is_variable'] == False]\n",
    "                truthTable = truthTable.sort_values('magnorm', ascending=True)\n",
    "                truthTable = truthTable[(truthTable['magnorm'] > 17.0) & (truthTable['magnorm'] < 19.0)]\n",
    "                \n",
    "                true_magnorm = truthTable['magnorm'][idx_match:idx_match+1].values[0]\n",
    "                true_ra = truthTable['ra'][idx_match:idx_match+1].values[0]\n",
    "                true_dec = truthTable['dec'][idx_match:idx_match+1].values[0]\n",
    "            \n",
    "                # get tract and patch for this true ra,dec\n",
    "                my_spherePoint = lsst.geom.SpherePoint(true_ra*lsst.geom.degrees,\n",
    "                                                       true_dec*lsst.geom.degrees)    \n",
    "                tract = skyMap.findTract(my_spherePoint)\n",
    "                patch = tract.findPatch(my_spherePoint)\n",
    "                my_tract = tract.tract_id\n",
    "                my_patch = patch.getSequentialIndex()\n",
    "            \n",
    "                # match the true ra,dec to forcedSourceTable ra,dec \n",
    "                STable = butler.get('forcedSourceTable', tract=my_tract, patch=my_patch, skymap = 'ops_rehersal_prep_2k_v1')\n",
    "                trueCoords = SkyCoord(ra=true_ra*u.degree, dec=true_dec*u.degree)\n",
    "                SCoords = SkyCoord(ra=STable['coord_ra'].values*u.degree, dec=STable['coord_dec'].values*u.degree)\n",
    "                idx, d2d, d3d = trueCoords.match_to_catalog_sky(SCoords) #idx is closest index in SCoords\n",
    "                forced_ra = STable[int(idx):int(idx+1)]['coord_ra'].values[0]\n",
    "                forced_dec = STable[int(idx):int(idx+1)]['coord_dec'].values[0]\n",
    "                forced_band = STable[int(idx):int(idx+1)]['band'].values[0]\n",
    "                forced_flux = STable[int(idx):int(idx+1)]['psfFlux']\n",
    "                forced_mag = (forced_flux.to_numpy()*u.nJy).to(u.ABmag).value[0]\n",
    "    \n",
    "                return true_ra, true_dec, true_magnorm, forced_ra, forced_dec, forced_band, forced_mag\n",
    "            else:\n",
    "                i+=1\n",
    "                \n",
    "        return "
   ]
  },
  {
   "cell_type": "code",
   "execution_count": 6,
   "id": "a0c9d868-bd2d-4574-9801-afbf43b362aa",
   "metadata": {
    "execution": {
     "iopub.execute_input": "2024-11-06T21:10:14.793550Z",
     "iopub.status.busy": "2024-11-06T21:10:14.793406Z",
     "iopub.status.idle": "2024-11-06T21:10:37.916390Z",
     "shell.execute_reply": "2024-11-06T21:10:37.915850Z",
     "shell.execute_reply.started": "2024-11-06T21:10:14.793533Z"
    }
   },
   "outputs": [
    {
     "name": "stdout",
     "output_type": "stream",
     "text": [
      "2494 275\n",
      "/sdf/data/rubin/shared/ops-rehearsals/ops-rehearsal-4/imSim_catalogs/skyCatalogs/pointsource_10750.parquet\n",
      "65522\n",
      "2494 155\n",
      "/sdf/data/rubin/shared/ops-rehearsals/ops-rehearsal-4/imSim_catalogs/skyCatalogs/pointsource_10859.parquet\n",
      "31061\n",
      "2494 204\n",
      "/sdf/data/rubin/shared/ops-rehearsals/ops-rehearsal-4/imSim_catalogs/skyCatalogs/pointsource_10638.parquet\n",
      "25270\n",
      "2494 138\n",
      "/sdf/data/rubin/shared/ops-rehearsals/ops-rehearsal-4/imSim_catalogs/skyCatalogs/pointsource_10859.parquet\n",
      "36046\n"
     ]
    }
   ],
   "source": [
    "truth_forced_dict = {'true_ra':[], 'true_dec':[], 'true_magnorm':[], 'forced_ra':[], 'forced_dec':[], 'forced_band':[], 'forced_mag':[]}\n",
    "tracts = [2494, 2494, 2494, 2494]\n",
    "patches = [275, 155, 204, 138]\n",
    "for i in range(0, len(tracts)):\n",
    "    select_tract = tracts[i]\n",
    "    select_patch = patches[i]\n",
    "    print(select_tract, select_patch)\n",
    "    compare_flux = compare_static_truth_psf(select_tract , select_patch)\n",
    "    obj_table = compare_flux.get_objecttable()\n",
    "    obj_ra = obj_table.iloc[0]['coord_ra'] # select the brightes object from ObjectTable\n",
    "    obj_dec = obj_table.iloc[0]['coord_dec']\n",
    "    try:\n",
    "        true_ra, true_dec, true_magnorm, forced_ra, forced_dec, forced_band, forced_mag = compare_flux.match_truth_forced(obj_table, obj_ra, obj_dec)\n",
    "        truth_forced_dict['true_ra'].append(true_ra)\n",
    "        truth_forced_dict['true_dec'].append(true_dec)\n",
    "        truth_forced_dict['true_magnorm'].append(true_magnorm)\n",
    "        truth_forced_dict['forced_ra'].append(forced_ra)\n",
    "        truth_forced_dict['forced_dec'].append(forced_dec)\n",
    "        truth_forced_dict['forced_band'].append(forced_band)\n",
    "        truth_forced_dict['forced_mag'].append(forced_mag)\n",
    "    except:\n",
    "        continue\n"
   ]
  },
  {
   "cell_type": "code",
   "execution_count": 7,
   "id": "3e970c85-e761-4fe3-bb7b-55b08a78218b",
   "metadata": {
    "execution": {
     "iopub.execute_input": "2024-11-06T21:10:37.927017Z",
     "iopub.status.busy": "2024-11-06T21:10:37.926892Z",
     "iopub.status.idle": "2024-11-06T21:10:37.930346Z",
     "shell.execute_reply": "2024-11-06T21:10:37.929947Z",
     "shell.execute_reply.started": "2024-11-06T21:10:37.927006Z"
    }
   },
   "outputs": [
    {
     "data": {
      "text/plain": [
       "{'true_ra': [279.3759794, 279.5363221, 279.8483674, 279.6130119],\n",
       " 'true_dec': [-47.6096166, -48.3097825, -47.9207667, -48.3422405],\n",
       " 'true_magnorm': [18.942261977058234,\n",
       "  18.244831200383604,\n",
       "  18.057870581889393,\n",
       "  18.39504780774207],\n",
       " 'forced_ra': [279.3759806138935,\n",
       "  279.5363222248561,\n",
       "  279.8484815302782,\n",
       "  279.61309016924616],\n",
       " 'forced_dec': [-47.60961546601434,\n",
       "  -48.309782379809484,\n",
       "  -47.92037308524051,\n",
       "  -48.34228895696485],\n",
       " 'forced_band': ['r', 'g', 'r', 'r'],\n",
       " 'forced_mag': [17.841885169543158,\n",
       "  18.511057335695796,\n",
       "  16.116297470241566,\n",
       "  15.387352945726482]}"
      ]
     },
     "execution_count": 7,
     "metadata": {},
     "output_type": "execute_result"
    }
   ],
   "source": [
    "truth_forced_dict"
   ]
  },
  {
   "cell_type": "code",
   "execution_count": 8,
   "id": "69cad43a-16a3-4e92-8b40-9c8da7d01e9d",
   "metadata": {
    "execution": {
     "iopub.execute_input": "2024-11-06T21:10:37.930889Z",
     "iopub.status.busy": "2024-11-06T21:10:37.930766Z",
     "iopub.status.idle": "2024-11-06T21:10:38.024407Z",
     "shell.execute_reply": "2024-11-06T21:10:38.024038Z",
     "shell.execute_reply.started": "2024-11-06T21:10:37.930878Z"
    }
   },
   "outputs": [
    {
     "data": {
      "text/plain": [
       "<matplotlib.collections.PathCollection at 0x7feee9874e90>"
      ]
     },
     "execution_count": 8,
     "metadata": {},
     "output_type": "execute_result"
    },
    {
     "data": {
      "image/png": "[encoded data removed]",
      "text/plain": [
       "<Figure size 640x480 with 1 Axes>"
      ]
     },
     "metadata": {},
     "output_type": "display_data"
    }
   ],
   "source": [
    "# plot true_mag and forced_mag\n",
    "plt.scatter(truth_forced_dict['true_magnorm'], truth_forced_dict['forced_mag'])"
   ]
  },
  {
   "cell_type": "code",
   "execution_count": null,
   "id": "dc132fa0-3277-4254-b63f-b5ee2ac91fe0",
   "metadata": {},
   "outputs": [],
   "source": []
  },
  {
   "cell_type": "code",
   "execution_count": null,
   "id": "32c179bd-e4c5-447d-89c8-260ef00bc5cc",
   "metadata": {},
   "outputs": [],
   "source": []
  },
  {
   "cell_type": "code",
   "execution_count": null,
   "id": "d0afd383-20c1-4e8e-bd9f-1c2034b17756",
   "metadata": {},
   "outputs": [],
   "source": []
  }
 ],
 "metadata": {
  "kernelspec": {
   "display_name": "LSST",
   "language": "python",
   "name": "lsst"
  },
  "language_info": {
   "codemirror_mode": {
    "name": "ipython",
    "version": 3
   },
   "file_extension": ".py",
   "mimetype": "text/x-python",
   "name": "python",
   "nbconvert_exporter": "python",
   "pygments_lexer": "ipython3",
   "version": "3.11.9"
  }
 },
 "nbformat": 4,
 "nbformat_minor": 5
}
