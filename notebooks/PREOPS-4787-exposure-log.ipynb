{
 "cells": [
  {
   "cell_type": "markdown",
   "id": "29a81162-ac21-49b2-8e07-446a1d918b71",
   "metadata": {},
   "source": [
    "Querying the Exposure Log\n",
    "====\n",
    "\n",
    "This notebook demonstrates querying the USDF copy of the exposure log database, which stores a list of images that have been flagged during observing.\n",
    "\n",
    "Author: Colin Slater\n",
    "\n",
    "Date Updated: 2024-01-18\n"
   ]
  },
  {
   "cell_type": "code",
   "execution_count": null,
   "id": "15313429-bf9f-416c-aafb-c95640844a39",
   "metadata": {
    "execution": {
     "iopub.execute_input": "2024-01-18T04:54:21.695860Z",
     "iopub.status.busy": "2024-01-18T04:54:21.695548Z",
     "iopub.status.idle": "2024-01-18T04:54:21.698057Z",
     "shell.execute_reply": "2024-01-18T04:54:21.697752Z",
     "shell.execute_reply.started": "2024-01-18T04:54:21.695846Z"
    }
   },
   "outputs": [],
   "source": [
    "import lsst.daf.butler as dafButler\n",
    "import numpy as np\n",
    "\n",
    "from sqlalchemy import create_engine, text\n",
    "from collections import defaultdict"
   ]
  },
  {
   "cell_type": "code",
   "execution_count": 2,
   "id": "fc271f38-0fe1-491d-b884-6e096b0f40bc",
   "metadata": {
    "execution": {
     "iopub.execute_input": "2024-01-18T04:29:43.060241Z",
     "iopub.status.busy": "2024-01-18T04:29:43.059884Z",
     "iopub.status.idle": "2024-01-18T04:29:43.652775Z",
     "shell.execute_reply": "2024-01-18T04:29:43.652318Z",
     "shell.execute_reply.started": "2024-01-18T04:29:43.060225Z"
    }
   },
   "outputs": [],
   "source": [
    "b = dafButler.Butler(\"/repo/embargo\", collections=[\"LATISS/runs/AUXTEL_DRP_IMAGING_20230509_20231207/w_2023_49/PREOPS-4648\"])"
   ]
  },
  {
   "cell_type": "code",
   "execution_count": 88,
   "id": "2622922d-8bcf-48f3-8900-bf7daf5e605e",
   "metadata": {
    "execution": {
     "iopub.execute_input": "2024-01-18T17:18:54.166496Z",
     "iopub.status.busy": "2024-01-18T17:18:54.166294Z",
     "iopub.status.idle": "2024-01-18T17:18:54.169084Z",
     "shell.execute_reply": "2024-01-18T17:18:54.168780Z",
     "shell.execute_reply.started": "2024-01-18T17:18:54.166481Z"
    }
   },
   "outputs": [],
   "source": [
    "engine = create_engine(\"postgresql+psycopg2://usdf@usdf-summitdb.slac.stanford.edu/exposurelog\")"
   ]
  },
  {
   "cell_type": "code",
   "execution_count": 85,
   "id": "fe7d73d6-cd4a-49a4-90ca-53ae898d5335",
   "metadata": {
    "execution": {
     "iopub.execute_input": "2024-01-18T17:15:38.197850Z",
     "iopub.status.busy": "2024-01-18T17:15:38.197285Z",
     "iopub.status.idle": "2024-01-18T17:15:38.697983Z",
     "shell.execute_reply": "2024-01-18T17:15:38.697557Z",
     "shell.execute_reply.started": "2024-01-18T17:15:38.197834Z"
    }
   },
   "outputs": [
    {
     "name": "stdout",
     "output_type": "stream",
     "text": [
      "Number of ISRs attempted: 3609\n",
      "Number of successful calexps attempted: 3404\n",
      "Number of unsuccessful processCcd attempts (no resulting calexp): 205\n"
     ]
    }
   ],
   "source": [
    "log_visit_detector = set([(x.dataId['exposure'], x.dataId['detector']) for x in b.registry.queryDatasets(\"isr_log\")])\n",
    "print(\"Number of ISRs attempted: {:d}\".format(len(log_visit_detector)))\n",
    "\n",
    "calexp_visit_detector = set([(x.dataId['visit'], x.dataId['detector']) for x in b.registry.queryDatasets(\"calexp\")])\n",
    "print(\"Number of successful calexps attempted: {:d}\".format(len(calexp_visit_detector)))\n",
    "\n",
    "missing_calexps = set(log_visit_detector - calexp_visit_detector)\n",
    "missing_visits = [x[0] for x in missing_calexps]\n",
    "print(\"Number of unsuccessful processCcd attempts (no resulting calexp): {:d}\".format(len(missing_calexps)))\n",
    "\n"
   ]
  },
  {
   "cell_type": "code",
   "execution_count": 76,
   "id": "e15e6b4c-8cb7-4c8b-a7a9-afd3cdcd272d",
   "metadata": {
    "execution": {
     "iopub.execute_input": "2024-01-18T05:21:54.425743Z",
     "iopub.status.busy": "2024-01-18T05:21:54.425165Z",
     "iopub.status.idle": "2024-01-18T05:21:54.428678Z",
     "shell.execute_reply": "2024-01-18T05:21:54.428342Z",
     "shell.execute_reply.started": "2024-01-18T05:21:54.425724Z"
    }
   },
   "outputs": [
    {
     "data": {
      "text/plain": [
       "[2023080300575, 2023081500123, 2023081700530]"
      ]
     },
     "execution_count": 76,
     "metadata": {},
     "output_type": "execute_result"
    }
   ],
   "source": [
    "missing_visits[:3]"
   ]
  },
  {
   "cell_type": "markdown",
   "id": "e0b675af-1581-48b1-b7b5-2d3e893c8ef5",
   "metadata": {},
   "source": [
    "For efficient querying, this next cell groups together all of the dataIds by day_obs.\n",
    "The result is a dictionary `seq_nums_per_day_obs` where keys are day_obs, and values are the list of seq_nums for which image processing was attempted."
   ]
  },
  {
   "cell_type": "code",
   "execution_count": 92,
   "id": "304c585f-9cfb-4289-ac59-36fa716fd0a3",
   "metadata": {
    "execution": {
     "iopub.execute_input": "2024-01-18T17:19:51.690738Z",
     "iopub.status.busy": "2024-01-18T17:19:51.690467Z",
     "iopub.status.idle": "2024-01-18T17:19:51.699098Z",
     "shell.execute_reply": "2024-01-18T17:19:51.698724Z",
     "shell.execute_reply.started": "2024-01-18T17:19:51.690724Z"
    }
   },
   "outputs": [
    {
     "name": "stdout",
     "output_type": "stream",
     "text": [
      "Number of day_obs to query: 35\n"
     ]
    }
   ],
   "source": [
    "seq_nums_per_day_obs = defaultdict(list)\n",
    "\n",
    "all_day_obs = [(x['exposure']//100000, x['exposure'] - (100000*(x['exposure']//100000)))  for x in log_dataIds]\n",
    "for day_obs, seq_num in all_day_obs:\n",
    "    seq_nums_per_day_obs[day_obs].append(seq_num)\n",
    "\n",
    "\n",
    "print(\"Number of day_obs to query: {:d}\".format(len(seqnums_per_dateobs.keys())))"
   ]
  },
  {
   "cell_type": "markdown",
   "id": "ebea6922-1356-4937-9c9c-f27d72663490",
   "metadata": {},
   "source": [
    "For each day_obs, select all of the exposure log messages that match the seq_nums we attempted to process.\n",
    "The result is a dictionary `all_obs_messages` where keys are `day_obs` and values are a tuple of seq_num, exposure_flag, message_text, and \"ok\" or \"Calexp failed\" depending on whether we have a calexp available."
   ]
  },
  {
   "cell_type": "code",
   "execution_count": 93,
   "id": "2a1abfd6-33b0-4716-90d0-cebe67dc9475",
   "metadata": {
    "execution": {
     "iopub.execute_input": "2024-01-18T17:19:55.912876Z",
     "iopub.status.busy": "2024-01-18T17:19:55.912571Z",
     "iopub.status.idle": "2024-01-18T17:19:55.937417Z",
     "shell.execute_reply": "2024-01-18T17:19:55.937036Z",
     "shell.execute_reply.started": "2024-01-18T17:19:55.912862Z"
    }
   },
   "outputs": [],
   "source": [
    "all_obs_messages = {}\n",
    "for day_obs in seq_nums_per_day_obs.keys():\n",
    "    with engine.connect() as conn:\n",
    "        this_date = []\n",
    "        seq_nums = seq_nums_per_day_obs[day_obs]\n",
    "        result = conn.execute(text(\n",
    "            \"select seq_num, exposure_flag, message_text from message WHERE day_obs = {:d} AND seq_num IN ({:s})\".format(day_obs, \",\".join([str(x) for x in seq_nums]))))\n",
    "        for res in result:\n",
    "            seq_num, flag_string, message_text = res\n",
    "            exposure = (day_obs * 100000) + seq_num\n",
    "            this_date.append((seq_num, flag_string, message_text, \"Calexp Failed\" if exposure in missing_visits else \"ok\"))\n",
    "        all_obs_messages[day_obs] = this_date\n"
   ]
  },
  {
   "cell_type": "code",
   "execution_count": 94,
   "id": "f45b2498-8c94-447f-b57a-c48f6ef24673",
   "metadata": {
    "execution": {
     "iopub.execute_input": "2024-01-18T17:19:58.016745Z",
     "iopub.status.busy": "2024-01-18T17:19:58.016471Z",
     "iopub.status.idle": "2024-01-18T17:19:58.021606Z",
     "shell.execute_reply": "2024-01-18T17:19:58.021270Z",
     "shell.execute_reply.started": "2024-01-18T17:19:58.016730Z"
    }
   },
   "outputs": [
    {
     "data": {
      "text/plain": [
       "{20231130: [],\n",
       " 20231127: [],\n",
       " 20230706: [],\n",
       " 20230511: [],\n",
       " 20230803: [],\n",
       " 20231116: [],\n",
       " 20230524: [(656, 'questionable', 'High mount jitter. ', 'ok'),\n",
       "  (697, 'questionable', 'undefined', 'ok'),\n",
       "  (706, 'questionable', 'undefined', 'ok')],\n",
       " 20230720: [],\n",
       " 20231107: [(546,\n",
       "   'none',\n",
       "   'Significant motion while exposed. Stars are streaked.',\n",
       "   'Calexp Failed')],\n",
       " 20230829: [],\n",
       " 20231114: [],\n",
       " 20230718: [],\n",
       " 20231121: [(195, 'questionable', 'undefined', 'ok')],\n",
       " 20231205: [],\n",
       " 20231204: [],\n",
       " 20231120: [],\n",
       " 20230928: [(109, 'questionable', 'High mount motion.', 'ok'),\n",
       "  (110, 'questionable', 'High mount motion.', 'ok'),\n",
       "  (111, 'questionable', 'High mount motion.', 'Calexp Failed'),\n",
       "  (112, 'questionable', 'High mount motion.', 'ok'),\n",
       "  (118, 'questionable', 'High mount motion.', 'ok'),\n",
       "  (117, 'questionable', 'High mount motion.', 'ok'),\n",
       "  (116, 'questionable', 'High mount motion.', 'ok'),\n",
       "  (115, 'questionable', 'High mount motion.', 'ok'),\n",
       "  (113, 'questionable', 'High mount motion.', 'ok'),\n",
       "  (114, 'questionable', 'High mount motion.', 'Calexp Failed')],\n",
       " 20230801: [],\n",
       " 20230704: [],\n",
       " 20231115: [],\n",
       " 20230523: [],\n",
       " 20230705: [],\n",
       " 20231129: [],\n",
       " 20231108: [(355,\n",
       "   'none',\n",
       "   'Bad motion (flagged in rubinTV and visible in images) after running into a TCS timeout. salindex 200285. OBS-277.',\n",
       "   'Calexp Failed'),\n",
       "  (353,\n",
       "   'none',\n",
       "   'Bad motion (flagged in rubinTV and visible in images) after running into a TCS timeout. salindex 200285. OBS-277.',\n",
       "   'ok'),\n",
       "  (358,\n",
       "   'none',\n",
       "   'Bad motion (flagged in rubinTV and visible in images) after running into a TCS timeout. salindex 200285. OBS-277.',\n",
       "   'ok'),\n",
       "  (357,\n",
       "   'none',\n",
       "   'Bad motion (flagged in rubinTV and visible in images) after running into a TCS timeout. salindex 200285. OBS-277.',\n",
       "   'ok'),\n",
       "  (354,\n",
       "   'none',\n",
       "   'Bad motion (flagged in rubinTV and visible in images) after running into a TCS timeout. salindex 200285. OBS-277.',\n",
       "   'ok'),\n",
       "  (356,\n",
       "   'none',\n",
       "   'Bad motion (flagged in rubinTV and visible in images) after running into a TCS timeout. salindex 200285. OBS-277.',\n",
       "   'Calexp Failed')],\n",
       " 20230817: [(517, 'questionable', 'High mount motion.', 'ok'),\n",
       "  (518, 'questionable', 'High mount motion.', 'ok'),\n",
       "  (519, 'questionable', 'High mount motion.', 'Calexp Failed'),\n",
       "  (520, 'questionable', 'High mount motion.', 'ok'),\n",
       "  (521, 'questionable', 'High mount motion.', 'ok'),\n",
       "  (523, 'questionable', 'High mount motion.', 'ok'),\n",
       "  (524, 'questionable', 'High mount motion.', 'ok'),\n",
       "  (525, 'questionable', 'High mount motion.', 'Calexp Failed'),\n",
       "  (526, 'questionable', 'High mount motion.', 'ok'),\n",
       "  (522, 'questionable', 'High mount motion.', 'ok'),\n",
       "  (527, 'questionable', 'High mount motion.', 'Calexp Failed'),\n",
       "  (528, 'questionable', 'High mount motion.', 'ok'),\n",
       "  (545, 'questionable', 'High mount motion.', 'ok'),\n",
       "  (544, 'questionable', 'High mount motion.', 'ok'),\n",
       "  (543, 'questionable', 'High mount motion.', 'Calexp Failed'),\n",
       "  (542, 'questionable', 'High mount motion.', 'ok'),\n",
       "  (541, 'questionable', 'High mount motion.', 'ok'),\n",
       "  (540, 'questionable', 'High mount motion.', 'ok'),\n",
       "  (539, 'questionable', 'High mount motion.', 'ok'),\n",
       "  (538, 'questionable', 'High mount motion.', 'ok'),\n",
       "  (537, 'questionable', 'High mount motion.', 'ok'),\n",
       "  (536, 'questionable', 'High mount motion.', 'ok'),\n",
       "  (535, 'questionable', 'High mount motion.', 'ok'),\n",
       "  (534, 'questionable', 'High mount motion.', 'ok'),\n",
       "  (533, 'questionable', 'High mount motion.', 'ok'),\n",
       "  (532, 'questionable', 'High mount motion.', 'ok'),\n",
       "  (531, 'questionable', 'High mount motion.', 'ok'),\n",
       "  (530, 'questionable', 'High mount motion.', 'Calexp Failed'),\n",
       "  (529, 'questionable', 'High mount motion.', 'Calexp Failed')],\n",
       " 20231128: [],\n",
       " 20231206: [],\n",
       " 20231010: [(232, 'none', 'Waffle feature on the image', 'ok'),\n",
       "  (278,\n",
       "   'none',\n",
       "   'Interesting \"stretched\" feature up to the right of the bright source. Almost like a smeared check pattern.',\n",
       "   'ok')],\n",
       " 20230802: [],\n",
       " 20231113: [],\n",
       " 20231011: [(288,\n",
       "   'questionable',\n",
       "   'Waffle on the image. But not on the next image. ',\n",
       "   'ok')],\n",
       " 20230914: [],\n",
       " 20230927: [(269, 'questionable', 'High mount motion (>0.6)', 'ok'),\n",
       "  (270, 'questionable', 'High mount motion (>0.6)', 'ok'),\n",
       "  (271, 'questionable', 'High mount motion (>0.6)', 'ok'),\n",
       "  (272, 'questionable', 'High mount motion (>0.6)', 'ok'),\n",
       "  (273, 'questionable', 'High mount motion (>0.6)', 'ok'),\n",
       "  (274, 'questionable', 'High mount motion (>0.6)', 'ok'),\n",
       "  (276, 'questionable', 'High mount motion (>0.6)', 'ok'),\n",
       "  (277, 'questionable', 'High mount motion (>0.6)', 'ok'),\n",
       "  (275, 'questionable', 'High mount motion (>0.6)', 'ok')],\n",
       " 20230815: [],\n",
       " 20230816: []}"
      ]
     },
     "execution_count": 94,
     "metadata": {},
     "output_type": "execute_result"
    }
   ],
   "source": [
    "all_obs_messages"
   ]
  },
  {
   "cell_type": "code",
   "execution_count": null,
   "id": "705e25cf-778c-40ef-977e-a2657c608bd9",
   "metadata": {},
   "outputs": [],
   "source": []
  }
 ],
 "metadata": {
  "kernelspec": {
   "display_name": "LSST",
   "language": "python",
   "name": "lsst"
  },
  "language_info": {
   "codemirror_mode": {
    "name": "ipython",
    "version": 3
   },
   "file_extension": ".py",
   "mimetype": "text/x-python",
   "name": "python",
   "nbconvert_exporter": "python",
   "pygments_lexer": "ipython3",
   "version": "3.11.7"
  }
 },
 "nbformat": 4,
 "nbformat_minor": 5
}
