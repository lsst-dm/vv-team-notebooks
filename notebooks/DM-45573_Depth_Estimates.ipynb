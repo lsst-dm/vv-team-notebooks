{
 "cells": [
  {
   "cell_type": "markdown",
   "id": "bb1c8b34-8fa2-4aa9-8f6c-b6f1f6432ef9",
   "metadata": {},
   "source": [
    "# Calculating Depths of Catalogs and Images\n",
    "\n",
    "This notebook can be run to regenerate the figures in [DMTN-296](). It uses simulated data from Operations Rehearsal 4 (OR4) and (optionally) HSC PDR2 rerun."
   ]
  },
  {
   "cell_type": "code",
   "execution_count": null,
   "id": "2625c92c-d667-4680-9a3b-7f7a320426b8",
   "metadata": {},
   "outputs": [],
   "source": [
    "%matplotlib inline\n",
    "import numpy as np\n",
    "import pylab as plt\n",
    "import pandas as pd\n",
    "from tqdm import tqdm"
   ]
  },
  {
   "cell_type": "code",
   "execution_count": null,
   "id": "fc38a9b9-5b97-44bf-b690-67566b84a84d",
   "metadata": {},
   "outputs": [],
   "source": [
    "from lsst.daf.butler import Butler\n",
    "import lsst.daf.base as dafBase"
   ]
  },
  {
   "cell_type": "code",
   "execution_count": null,
   "id": "632a762d-3dea-4630-aff0-d7a8c8c943a9",
   "metadata": {},
   "outputs": [],
   "source": [
    "BAND_COLORS = dict([\n",
    "    ('u','#56b4e9'),\n",
    "    ('g','#008060'),\n",
    "    ('r','#ff4000'),\n",
    "    ('i','#850000'),\n",
    "    ('z','#6600cc'),\n",
    "    ('Y','#000000'),\n",
    "])"
   ]
  },
  {
   "cell_type": "code",
   "execution_count": null,
   "id": "f3a6c421-c445-4050-859c-f2c21341806b",
   "metadata": {},
   "outputs": [],
   "source": [
    "# OR4 LSSTComCamSim\n",
    "dataset_name='or4'\n",
    "repo='embargo_or4'\n",
    "collection='LSSTComCamSim/runs/DRP/OR4/w_2024_25/DM-45066'\n",
    "butler = Butler(repo, collections=collection)\n",
    "dataId = {'visit': 7024062600787, 'instrument': 'LSSTComCamSim', 'detector': 4}"
   ]
  },
  {
   "cell_type": "raw",
   "id": "4a00cd1a-1940-4b88-95fb-bd744bd8751a",
   "metadata": {
    "execution": {
     "iopub.execute_input": "2024-08-28T03:57:40.875087Z",
     "iopub.status.busy": "2024-08-28T03:57:40.873485Z",
     "iopub.status.idle": "2024-08-28T03:57:41.228191Z",
     "shell.execute_reply": "2024-08-28T03:57:41.227667Z",
     "shell.execute_reply.started": "2024-08-28T03:57:40.875063Z"
    }
   },
   "source": [
    "# HSC PDR2\n",
    "dataset_name='hsc_pdr2'\n",
    "repo = '/repo/main'\n",
    "collection = 'HSC/runs/PDR2/v24_1_0/DM-39132'\n",
    "butler = Butler(repo,collections=collection)\n",
    "dataId = {'visit': 84816, 'instrument': 'HSC', 'detector': 50}"
   ]
  },
  {
   "cell_type": "markdown",
   "id": "d6dddbd0-773c-47b1-a07b-2b10aa8b8dbd",
   "metadata": {},
   "source": [
    "## Catalog Depth Estimates\n",
    "\n",
    "The following code block estimates depths from the single-visit source catalog data. We derive the magnitude limit in two ways:\n",
    "1. Taking the mean magnitude of sources with 4.75 < SNR < 5.25\n",
    "2. Performing a linear fit to log10(magerr) vs mag and solving for mag where magerr = 0.2171"
   ]
  },
  {
   "cell_type": "code",
   "execution_count": null,
   "id": "d982da18-d15b-4609-889b-8cec6dbde83d",
   "metadata": {},
   "outputs": [],
   "source": [
    "calib = butler.get('calexp.photoCalib', dataId=dataId)\n",
    "#calib = calexp.getPhotoCalib()\n",
    "#src = butler.get('sourceTable', dataId=dataId)\n",
    "src = butler.get('src', dataId=dataId)\n",
    "table = src.asAstropy()\n",
    "srcTable = butler.get('sourceTable', dataId=dataId)\n",
    "assert len(table) == len(srcTable)\n",
    "assert np.all(table['id'] == srcTable.index)\n",
    "print(f\"Number of sources: {len(table)}\")"
   ]
  },
  {
   "cell_type": "markdown",
   "id": "783acde2-6711-43d5-bcf8-ef235e9ce3cb",
   "metadata": {},
   "source": [
    "Some notes about single-frame photometry...\n",
    "1. The `psfFlux` in the SourceTable has had local calibrations applied (it is not an instrumental flux). The application of the local calibration is (probably) done in the `TransformSourceTableTask` using configs [here](https://github.com/lsst/pipe_tasks/blob/79a68fa90d8ec248848db68ccb162ba09b926475/schemas/Source.yaml#L244-L257) and code in [LocalNanojansky](https://github.com/lsst/pipe_tasks/blob/79a68fa90d8ec248848db68ccb162ba09b926475/python/lsst/pipe/tasks/functors.py#L1751).\n",
    "2. The calibrations are (slightly) different between the SourceCatalog (`base_LocalPhotoCalib`) and the SourceTable (`localPhotoCalib`). This may not be surprising if the calibrations are run multiple times.\n",
    "3. It is possible to recover the `psfFlux` using the `localPhotoCalib`. This can be formally or informally. See below for an example."
   ]
  },
  {
   "cell_type": "raw",
   "id": "9ca5cbc3-303f-486b-8f2d-a5411527b677",
   "metadata": {
    "execution": {
     "iopub.execute_input": "2024-08-27T21:42:58.877841Z",
     "iopub.status.busy": "2024-08-27T21:42:58.877531Z",
     "iopub.status.idle": "2024-08-27T21:42:58.882032Z",
     "shell.execute_reply": "2024-08-27T21:42:58.881662Z",
     "shell.execute_reply.started": "2024-08-27T21:42:58.877823Z"
    }
   },
   "source": [
    "from lsst.pipe.tasks.functors import LocalPhotometry\n",
    "phot = LocalPhotometry(table['slot_PsfFlux_instFlux'], srcTable['localPhotoCalib'],\n",
    "                       table['base_LocalPhotoCalib'], srcTable['localPhotoCalib'])\n",
    "psfFlux = phot.instFluxToNanojansky(table['slot_PsfFlux_instFlux'], srcTable['localPhotoCalib'])\n",
    "assert np.allclose(srcTable['psfFlux'], psfFlux, equal_nan=True)\n",
    "\n",
    "psfFlux = table['slot_PsfFlux_instFlux'] * srcTable['localPhotoCalib']\n",
    "assert np.allclose(srcTable['psfFlux'], psfFlux, equal_nan=True)"
   ]
  },
  {
   "cell_type": "code",
   "execution_count": null,
   "id": "e11a4140-ee51-4a50-a67a-e4663664e050",
   "metadata": {},
   "outputs": [],
   "source": [
    "# Convert flux to magnitude\n",
    "flux = srcTable['psfFlux']\n",
    "fluxerr = srcTable['psfFluxErr']\n",
    "\n",
    "# Convert from nJy to AB mag\n",
    "with np.errstate(invalid='ignore'):\n",
    "    mag = -2.5*np.log10(flux) + 31.4\n",
    "    magerr = 2.5/np.log(10) * fluxerr / flux\n",
    "\n",
    "snr = flux/fluxerr\n",
    "srcTable['psfMag'] = mag\n",
    "srcTable['psfMagErr'] = magerr\n",
    "srcTable['psfFluxSnr'] = snr"
   ]
  },
  {
   "cell_type": "code",
   "execution_count": null,
   "id": "004f89e8-3d90-49c4-92cc-3bd30fe88f32",
   "metadata": {},
   "outputs": [],
   "source": [
    "# Select stars using extendedness (follows analysis_tools)\n",
    "#extendedness = table['base_ClassificationExtendedness_value']\n",
    "extendedness = srcTable['extendedness']\n",
    "star = (extendedness >= 0) & (extendedness < 0.5)"
   ]
  },
  {
   "cell_type": "code",
   "execution_count": null,
   "id": "342086d7-cebf-44ff-8746-4d146a5230ab",
   "metadata": {},
   "outputs": [],
   "source": [
    "# Perform the catalog determination\n",
    "snrval = 5.0\n",
    "snrmin, snrmax = 4.75, 5.25\n",
    "print(f\"SNR selection: {snrmin} < SNR < {snrmax}\")\n",
    "snrsel = (snr > snrmin) & (snr < snrmax)\n",
    "maglim_snr = np.mean(mag[star & snrsel])"
   ]
  },
  {
   "cell_type": "code",
   "execution_count": null,
   "id": "40663a4d-a1bc-4f0d-bea9-33e73ce143d2",
   "metadata": {},
   "outputs": [],
   "source": [
    "# Fit magerr vs mag\n",
    "magerrval = 2.5/np.log(10) * (1/snrval)\n",
    "print(f\"magerr value: {magerrval:.4f}\")\n",
    "errsel = (magerr > magerrval/2.0) & (magerr < 2.0*magerrval)\n",
    "poly = np.polynomial.Polynomial.fit(mag[star & errsel], np.log10(magerr[star & errsel]) - np.log10(magerrval), deg=1)\n",
    "maglim_err = poly.roots()[0]\n",
    "fn = lambda x: 10**(poly(x) + np.log10(magerrval))"
   ]
  },
  {
   "cell_type": "code",
   "execution_count": null,
   "id": "17fb7fbd-572a-47d5-8063-6bd31dfeac28",
   "metadata": {
    "scrolled": true
   },
   "outputs": [],
   "source": [
    "fig, ax = plt.subplots(1,2, figsize=(12, 5), sharex=True)\n",
    "ax[0].set_xlim(21,27)\n",
    "\n",
    "kw = dict(s=3)\n",
    "\n",
    "# Plot the snr selection\n",
    "ax[0].axhline(snrval, ls='--', color='gray', alpha=0.5)\n",
    "ax[0].fill_between(ax[0].get_xlim(),snrmin, snrmax, color='r', alpha=0.3)\n",
    "ax[0].axvline(maglim_snr, ls='--', color='r', alpha=0.5)\n",
    "ax[0].scatter(mag, snr, color='0.5', **kw)\n",
    "ax[0].scatter(mag[star], snr[star], color='k', **kw)\n",
    "ax[0].scatter(mag[star & snrsel], snr[star & snrsel], color='r', **kw)\n",
    "ax[0].set_ylim(-0.1, 15)\n",
    "ax[0].set_ylabel(\"PSF Flux SNR\")\n",
    "ax[0].set_xlabel(\"psfMag\")\n",
    "\n",
    "# Plot the magerr fit\n",
    "ax[1].axhline(magerrval, ls='--', color='gray', alpha=0.5)\n",
    "ax[1].axvline(maglim_err, ls='--', color='r', alpha=0.5)\n",
    "ax[1].scatter(mag, magerr, color='0.5', **kw)\n",
    "ax[1].scatter(mag[star], magerr[star], color='k', **kw)\n",
    "ax[1].scatter(mag[star & errsel], magerr[star & errsel], color='r', **kw)\n",
    "ax[1].plot(ax[1].get_xlim(), fn(np.array(ax[1].get_xlim())), ls=':', color='b')\n",
    "ax[1].set_yscale('log')\n",
    "\n",
    "ax[1].set_ylim(0.01, 1.0)\n",
    "ax[1].set_ylabel(\"psfMagErr\")\n",
    "ax[1].set_xlabel(\"psfMag\")\n",
    "\n",
    "fig.suptitle(collection+'\\n'+str(dataId))\n",
    "\n",
    "outfile=f'{dataset_name}_maglim_catalog.pdf'\n",
    "plt.savefig(outfile)"
   ]
  },
  {
   "cell_type": "markdown",
   "id": "adde1688-b98c-403a-886e-17a465d30fdb",
   "metadata": {},
   "source": [
    "## Summary Statistics Depth Estimate\n",
    "\n",
    "The following code estimates the depth from summary statistics."
   ]
  },
  {
   "cell_type": "code",
   "execution_count": null,
   "id": "4eee039c-bbc7-4532-a168-3f41a8472821",
   "metadata": {},
   "outputs": [],
   "source": [
    "def compute_magnitude_limit(\n",
    "        psfArea,\n",
    "        skyBg,\n",
    "        zeroPoint,\n",
    "        readNoise=0,\n",
    "        gain=1.0,\n",
    "        snr=5\n",
    "):\n",
    "    \"\"\"Compute the expected point-source magnitude limit at a given                                                                               \n",
    "    signal-to-noise ratio given the exposure-level metadata. Based on                                                                             \n",
    "    the signal-to-noise formula provided in SMTN-002 (see LSE-40 for                                                                              \n",
    "    more details on the calculation).                                                                                                             \n",
    "                                                                                                                                                  \n",
    "      SNR = C / sqrt( C/g + (B/g + sigma_inst**2) * neff )                                                                                          \n",
    "                                                                                                                                                  \n",
    "    where C is the counts from the source, B is counts from the (sky) \n",
    "    background, sigma_inst is the instrumental (read) noise, neff is \n",
    "    the effective size of the PSF, and g is the gain in e-/ADU.\n",
    "    Note that input values of skyBg, zeroPoint, and readNoise should \n",
    "    all consistently be in electrons or ADU.\n",
    "                                                                                                                                                  \n",
    "    Parameters                                                                                                                                    \n",
    "    ----------                                                                                                                                    \n",
    "    psfArea  : `float`                                                                                                                            \n",
    "        The effective area of the PSF [pix].                                                                                                      \n",
    "    skyBg     : `float`                                                                                                                           \n",
    "        The sky background counts for the exposure [ADU or e-].                                                                                   \n",
    "    zeroPoint : `float`                                                                                                                           \n",
    "        The zeropoint (includes exposure time) [ADU or e-].                                                                                       \n",
    "    readNoise : `float`, optional                                                                                                                 \n",
    "        The instrumental read noise for the exposure [ADU or e-].                                                                                        \n",
    "    gain      : `float`, optional                                                                                                                 \n",
    "        The instrumental gain for the exposure [e-/ADU]. The gain should                                                                          \n",
    "         be set to 1 if the skyBg and zeroPoint are in units of e-.                                                                               \n",
    "    snr       : `float`, optional                                                                                                                 \n",
    "        Signal-to-noise ratio at which magnitude limit is calculated.                                                                             \n",
    "                                                                                                                                                  \n",
    "    Returns                                                                                                                                       \n",
    "    -------                                                                                                                                       \n",
    "    magnitude_limit : `float`                                                                                                                     \n",
    "        The expected magnitude limit at the given signal to noise.                                                                                \n",
    "    \"\"\"\n",
    "    # Effective number of pixels within the PSF calculated directly                                                                               \n",
    "    # from the PSF model.                                                                                                                         \n",
    "    neff = psfArea\n",
    "\n",
    "    # Instrumental noise (read noise only)                                                                                                        \n",
    "    # Note: This is assumed to already be in [e-]                                                                                                 \n",
    "    sigma_inst = readNoise\n",
    "\n",
    "    # Total background counts derived from Eq. 45 of LSE-40                                                                                       \n",
    "    background = (skyBg/gain + sigma_inst**2) * neff\n",
    "    # Source counts to achieve the desired SNR (from quadratic formula)                                                                           \n",
    "    source = (snr**2)/(2*gain) + np.sqrt((snr**4)/(4*gain) + snr**2 * background)\n",
    "\n",
    "    # Convert to a magnitude using the zeropoint.                                                                                                 \n",
    "    # Note: Zeropoint currently includes exposure time                                                                                            \n",
    "    magnitude_limit = -2.5*np.log10(source) + zeroPoint\n",
    "\n",
    "    return magnitude_limit"
   ]
  },
  {
   "cell_type": "code",
   "execution_count": null,
   "id": "e8693f05-96f3-4132-80ef-e10608dee402",
   "metadata": {},
   "outputs": [],
   "source": [
    "# OR4 LSSTComCamSim\n",
    "dataset_name='or4'\n",
    "repo='embargo_or4'\n",
    "collection='u/kadrlica/m5_metrics_detector4'\n",
    "butler = Butler(repo, collections=collection)\n",
    "\n",
    "instrument = 'LSSTComCamSim'\n",
    "detector=4"
   ]
  },
  {
   "cell_type": "code",
   "execution_count": null,
   "id": "a27d8f7d-fc52-4df7-abf3-ea212d61f73a",
   "metadata": {},
   "outputs": [],
   "source": [
    "# Get the ccdVisitTable\n",
    "ccdVisit = butler.get('ccdVisitTable', dataId={'instrument': instrument})\n",
    "ccdVisit = ccdVisit.loc[ccdVisit['detector'] == detector]\n",
    "print(f\"Found ccdVisit summary stats for {len(ccdVisit)} visits\")"
   ]
  },
  {
   "cell_type": "code",
   "execution_count": null,
   "id": "c52fba45-930d-4f06-a824-830265079145",
   "metadata": {},
   "outputs": [],
   "source": [
    "# Unfortunately, the psfArea isn't passed out to ccdVisit so we need to get it.\n",
    "\n",
    "# This can take a few minutes, so save/load the output\n",
    "filename = 'summary_stats.csv'\n",
    "if os.path.exists(filename):\n",
    "    print(f\"Loading summary stats from {filename}.\")\n",
    "    summaryStats = pd.read_csv(filename)\n",
    "else:\n",
    "    print(f\"Getting psfArea from summary stats...\")\n",
    "    summaryStats = ccdVisit.copy()\n",
    "    psfArea = []\n",
    "    for idx, row in tqdm(ccdVisit.iterrows(), total=len(ccdVisit)):\n",
    "        dataId = {'instrument': instrument, 'visit': row.visitId, 'detector': row.detector}\n",
    "        stats = butler.get('calexp.summaryStats', dataId=dataId)\n",
    "        psfArea.append(stats.psfArea)\n",
    "        \n",
    "    summaryStats['psfArea'] = psfArea\n",
    "    print(f\"Writing summary stats to {filename}.\")\n",
    "    summaryStats.to_csv(filename)\n",
    "\n",
    "print(f\"Found summary stats for {len(summaryStats)}\")\n",
    "summaryStats"
   ]
  },
  {
   "cell_type": "code",
   "execution_count": null,
   "id": "4697ab3c-5ca3-410e-ae56-91d5cb953da9",
   "metadata": {},
   "outputs": [],
   "source": [
    "# This can take about a minute, so save/load the output\n",
    "\n",
    "filename = 'm5_metrics.csv'\n",
    "if os.path.exists(filename):\n",
    "    print(f\"Loading summary stats from {filename}.\")\n",
    "    m5 = pd.read_csv(filename)\n",
    "else:\n",
    "    print(f\"Getting m5 metrics...\")\n",
    "\n",
    "    dtype=\"sourceTable_visitFiveSigmaDepth_metrics\"\n",
    "    refs = sorted(butler.registry.queryDatasets(dtype))\n",
    "\n",
    "    m5 = []\n",
    "    for ref in tqdm(refs, total=len(refs)):\n",
    "        out = dict(visit=ref.dataId['visit'],\n",
    "                   band=ref.dataId['band'],\n",
    "                   day_obs=ref.dataId['day_obs'])\n",
    "    \n",
    "        metrics = butler.get(ref)['m5Metric']\n",
    "        for metric in metrics:\n",
    "            out[str(metric.metric_name)] = metric.quantity.value\n",
    "    \n",
    "        m5.append(out)\n",
    "    \n",
    "    m5 = pd.DataFrame(m5)\n",
    "    print(f\"Writing m5 metrics to {filename}.\")\n",
    "    m5.to_csv(filename)\n",
    "\n",
    "print(f\"Found m5 metrics for {len(m5)} visits\")"
   ]
  },
  {
   "cell_type": "code",
   "execution_count": null,
   "id": "4c489311-497a-4246-b1ef-2ec825558359",
   "metadata": {},
   "outputs": [],
   "source": [
    "# Merge the summary stats with the m5 metrics\n",
    "df = pd.merge(m5[['visit','mean5sigmaDepth','median5sigmaDepth']], summaryStats, \n",
    "              left_on='visit', right_on='visitId', how='inner')\n",
    "df"
   ]
  },
  {
   "cell_type": "code",
   "execution_count": null,
   "id": "ef12e163-8a9d-4a28-b3e0-e6acbbd02d8c",
   "metadata": {},
   "outputs": [],
   "source": [
    "# Get the gain and read noise (same for all visits)\n",
    "dataId = {'visit': 7024062600787, 'instrument': 'LSSTComCamSim', 'detector': 4}\n",
    "metadata = butler.get('calexp.metadata',dataId=dataId)\n",
    "\n",
    "readNoise = np.mean([metadata[k] for k in metadata.keys() if k.startswith('LSST READNOISE')])\n",
    "print(f\"readNoise: {readNoise:.2f} [e-]\")\n",
    "\n",
    "gain = np.mean([metadata[k] for k in metadata.keys() if k.startswith('LSST GAIN')])\n",
    "print(f\"gain: {gain:.2f} [ADU/e-]\")\n",
    "\n",
    "units = metadata['LSST ISR UNITS']\n",
    "print(f\"image units: [{units}]\")"
   ]
  },
  {
   "cell_type": "code",
   "execution_count": null,
   "id": "832162c1-1cb3-4264-8aed-7265e94b03e6",
   "metadata": {},
   "outputs": [],
   "source": [
    "# Define the input summary statistics.\n",
    "\n",
    "# If we don't have psfArea, we can approximate it using psfSigma. \n",
    "# However, these conversions make some Gaussian assumptions.\n",
    "#psfFwhm = 2.355 * df['psfSigma']\n",
    "#psfArea = 2.266 * psfFwhm**2\n",
    "\n",
    "# Much better to have the psfArea\n",
    "psfArea = df['psfArea']\n",
    "\n",
    "# Sky background currently in ADU\n",
    "skyBgAdu = df['skyBg'] # ADU\n",
    "skyBgElec = skyBgAdu * gain # e-\n",
    "\n",
    "# Zeropoint currently in ADU\n",
    "zeroPointAdu = df['zeroPoint'] #ADU (include exptime)\n",
    "zeroPointElec = zeroPointAdu + 2.5*np.log10(gain)\n",
    "\n",
    "# Read noise currently in e-\n",
    "readNoiseElec = readNoise\n",
    "readNoiseAdu = readNoise / gain "
   ]
  },
  {
   "cell_type": "code",
   "execution_count": null,
   "id": "d4136b77-f1d4-4d8b-bc5e-76fe564ca6bb",
   "metadata": {},
   "outputs": [],
   "source": [
    "# Check that the maglim calculated in ADU and electrons are the same.\n",
    "\n",
    "# Compute the magnitude limit in ADU\n",
    "maglim_adu = compute_magnitude_limit(psfArea, skyBgAdu, zeroPointAdu,\n",
    "                                     readNoise=readNoiseAdu, gain=gain)\n",
    "# Compute the magnitude limit in electrons\n",
    "maglim_elec = compute_magnitude_limit(psfArea, skyBgElec, zeroPointElec,\n",
    "                                          readNoise=readNoiseElec, gain=1.0)\n",
    "assert np.allclose(maglim_adu, maglim_elec, equal_nan=True)"
   ]
  },
  {
   "cell_type": "code",
   "execution_count": null,
   "id": "a8cd6edd-4a33-4de4-a229-aff3680cfb42",
   "metadata": {},
   "outputs": [],
   "source": [
    "# Calculate the summary stats maglim.\n",
    "\n",
    "# The OR4 variance planes were made (incorrectly) using the image variance in [ADU] and \n",
    "# the readNoise in [e-]. This propagates to the catalog errors, so making this switch \n",
    "# leads to better agreement in the depths.\n",
    "\n",
    "# OR4 units\n",
    "#img_units='ADU'; rn_units='e-'\n",
    "\n",
    "# Consistent units\n",
    "img_units='ADU'; rn_units='ADU'\n",
    "\n",
    "print(\"Calculating magnitude limit...\")\n",
    "print(f\"Image units: {img_units}\")\n",
    "print(f\"readNoise units: {rn_units}\")      \n",
    "df['magLim5'] = compute_magnitude_limit(psfArea, \n",
    "                                        skyBgElec if img_units=='e-' else skyBgAdu, \n",
    "                                        zeroPointElec if img_units=='e-' else zeroPointAdu,\n",
    "                                        readNoise=readNoiseElec if rn_units=='e-' else readNoiseAdu, \n",
    "                                        gain=1.0 if img_units=='e-' else gain)"
   ]
  },
  {
   "cell_type": "code",
   "execution_count": null,
   "id": "9227f93d-b58d-4d85-b53c-ef44ab1519cb",
   "metadata": {},
   "outputs": [],
   "source": [
    "fig, ax = plt.subplots(1,2, figsize=(12,5))\n",
    "\n",
    "plt.sca(ax[0])\n",
    "kwargs = dict(s=2)\n",
    "for b in ['g', 'r', 'i']:\n",
    "    sel = df['band'] == b\n",
    "    kwargs.update(color = BAND_COLORS[b], label=b)\n",
    "    plt.scatter(df[sel]['magLim5'], df[sel]['mean5sigmaDepth'], **kwargs)\n",
    "plt.legend()\n",
    "plt.plot(plt.gca().get_xlim(), plt.gca().get_xlim(), ls='--', color='gray')\n",
    "plt.xlabel('magLim5 (psfArea) [stats]'); plt.ylabel('mean5sigmaDepth [cat]')\n",
    "\n",
    "plt.sca(ax[1])\n",
    "kwargs = dict(bins=np.linspace(-0.25,0.25), histtype='step')\n",
    "for b in ['g', 'r', 'i']:\n",
    "    sel = df['band'] == b\n",
    "    kwargs.update(color=BAND_COLORS[b], label=b)\n",
    "    plt.hist(df[sel]['mean5sigmaDepth'] - df[sel]['magLim5'], **kwargs)\n",
    "plt.xlabel('mean5sigmaDepth [cat] - magLim5 [stats]')\n",
    "\n",
    "plt.suptitle(f\"Image Units [{img_units}]; readNoise [{rn_units}]\")\n",
    "\n",
    "outfile=f'{dataset_name}_maglim_compare_{img_units.lower()}_{rn_units.lower()}.pdf'\n",
    "plt.savefig(outfile)"
   ]
  }
 ],
 "metadata": {
  "kernelspec": {
   "display_name": "LSST",
   "language": "python",
   "name": "lsst"
  },
  "language_info": {
   "codemirror_mode": {
    "name": "ipython",
    "version": 3
   },
   "file_extension": ".py",
   "mimetype": "text/x-python",
   "name": "python",
   "nbconvert_exporter": "python",
   "pygments_lexer": "ipython3",
   "version": "3.11.9"
  }
 },
 "nbformat": 4,
 "nbformat_minor": 5
}
