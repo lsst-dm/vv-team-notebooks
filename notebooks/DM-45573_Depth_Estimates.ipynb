{
 "cells": [
  {
   "cell_type": "markdown",
   "id": "bb1c8b34-8fa2-4aa9-8f6c-b6f1f6432ef9",
   "metadata": {},
   "source": [
    "# Calculating Depths of Catalogs and Images\n",
    "\n",
    "This notebook can be run to regenerate the figures in [DMTN-296](). It uses simulated data from Operations Rehearsal 4 (OR4) and (optionally) HSC PDR2 rerun."
   ]
  },
  {
   "cell_type": "code",
   "execution_count": null,
   "id": "2625c92c-d667-4680-9a3b-7f7a320426b8",
   "metadata": {},
   "outputs": [],
   "source": [
    "%matplotlib inline\n",
    "import numpy as np\n",
    "import pylab as plt\n",
    "import pandas as pd\n",
    "from tqdm import tqdm\n",
    "import astropy.units as u"
   ]
  },
  {
   "cell_type": "code",
   "execution_count": null,
   "id": "fc38a9b9-5b97-44bf-b690-67566b84a84d",
   "metadata": {},
   "outputs": [],
   "source": [
    "from lsst.daf.butler import Butler\n",
    "import lsst.daf.base as dafBase"
   ]
  },
  {
   "cell_type": "code",
   "execution_count": null,
   "id": "632a762d-3dea-4630-aff0-d7a8c8c943a9",
   "metadata": {},
   "outputs": [],
   "source": [
    "BAND_COLORS = dict([\n",
    "    ('u','#56b4e9'),\n",
    "    ('g','#008060'),\n",
    "    ('r','#ff4000'),\n",
    "    ('i','#850000'),\n",
    "    ('z','#6600cc'),\n",
    "    ('Y','#000000'),\n",
    "])"
   ]
  },
  {
   "cell_type": "code",
   "execution_count": null,
   "id": "f3a6c421-c445-4050-859c-f2c21341806b",
   "metadata": {},
   "outputs": [],
   "source": [
    "# OR4 LSSTComCamSim\n",
    "dataset_name='or4'\n",
    "repo='embargo_or4'\n",
    "collection='LSSTComCamSim/runs/DRP/OR4/w_2024_25/DM-45066'\n",
    "butler = Butler(repo, collections=collection)\n",
    "dataId = {'visit': 7024062600787, 'instrument': 'LSSTComCamSim', 'detector': 4}"
   ]
  },
  {
   "cell_type": "raw",
   "id": "bafcf61e-eec2-4cf3-9e63-b20643104db0",
   "metadata": {
    "execution": {
     "iopub.execute_input": "2024-09-03T22:06:52.131138Z",
     "iopub.status.busy": "2024-09-03T22:06:52.130999Z",
     "iopub.status.idle": "2024-09-03T22:06:52.641604Z",
     "shell.execute_reply": "2024-09-03T22:06:52.641160Z",
     "shell.execute_reply.started": "2024-09-03T22:06:52.131125Z"
    }
   },
   "source": [
    "# HSC PDR2\n",
    "dataset_name='hsc_pdr2'\n",
    "repo = '/repo/main'\n",
    "collection = 'HSC/runs/PDR2/v24_1_0/DM-39132'\n",
    "butler = Butler(repo,collections=collection)\n",
    "dataId = {'visit': 84816, 'instrument': 'HSC', 'detector': 50}"
   ]
  },
  {
   "cell_type": "markdown",
   "id": "d6dddbd0-773c-47b1-a07b-2b10aa8b8dbd",
   "metadata": {},
   "source": [
    "## Catalog Depth Estimates\n",
    "\n",
    "The following code block estimates depths from the single-visit source catalog data. We derive the magnitude limit in two ways:\n",
    "1. Taking the mean magnitude of sources with 4.75 < SNR < 5.25\n",
    "2. Performing a linear fit to log10(magerr) vs mag and solving for mag where magerr = 0.2171"
   ]
  },
  {
   "cell_type": "code",
   "execution_count": null,
   "id": "d982da18-d15b-4609-889b-8cec6dbde83d",
   "metadata": {},
   "outputs": [],
   "source": [
    "calib = butler.get('calexp.photoCalib', dataId=dataId)\n",
    "#calib = calexp.getPhotoCalib()\n",
    "#src = butler.get('sourceTable', dataId=dataId)\n",
    "src = butler.get('src', dataId=dataId)\n",
    "table = src.asAstropy()\n",
    "srcTable = butler.get('sourceTable', dataId=dataId)\n",
    "assert len(table) == len(srcTable)\n",
    "assert np.all(table['id'] == srcTable.index)\n",
    "print(f\"Number of sources: {len(table)}\")"
   ]
  },
  {
   "cell_type": "markdown",
   "id": "783acde2-6711-43d5-bcf8-ef235e9ce3cb",
   "metadata": {},
   "source": [
    "Some notes about single-frame photometry...\n",
    "1. The `psfFlux` in the SourceTable has had local calibrations applied (it is not an instrumental flux). The application of the local calibration is (probably) done in the `TransformSourceTableTask` using configs [here](https://github.com/lsst/pipe_tasks/blob/79a68fa90d8ec248848db68ccb162ba09b926475/schemas/Source.yaml#L244-L257) and code in [LocalNanojansky](https://github.com/lsst/pipe_tasks/blob/79a68fa90d8ec248848db68ccb162ba09b926475/python/lsst/pipe/tasks/functors.py#L1751).\n",
    "2. The calibrations are (slightly) different between the SourceCatalog (`base_LocalPhotoCalib`) and the SourceTable (`localPhotoCalib`). This may not be surprising if the calibrations are run multiple times.\n",
    "3. It is possible to recover the `psfFlux` using the `localPhotoCalib`. This can be formally or informally. See below for an example."
   ]
  },
  {
   "cell_type": "raw",
   "id": "9ca5cbc3-303f-486b-8f2d-a5411527b677",
   "metadata": {
    "execution": {
     "iopub.execute_input": "2024-08-27T21:42:58.877841Z",
     "iopub.status.busy": "2024-08-27T21:42:58.877531Z",
     "iopub.status.idle": "2024-08-27T21:42:58.882032Z",
     "shell.execute_reply": "2024-08-27T21:42:58.881662Z",
     "shell.execute_reply.started": "2024-08-27T21:42:58.877823Z"
    }
   },
   "source": [
    "from lsst.pipe.tasks.functors import LocalPhotometry\n",
    "phot = LocalPhotometry(table['slot_PsfFlux_instFlux'], srcTable['localPhotoCalib'],\n",
    "                       table['base_LocalPhotoCalib'], srcTable['localPhotoCalib'])\n",
    "psfFlux = phot.instFluxToNanojansky(table['slot_PsfFlux_instFlux'], srcTable['localPhotoCalib'])\n",
    "assert np.allclose(srcTable['psfFlux'], psfFlux, equal_nan=True)\n",
    "\n",
    "psfFlux = table['slot_PsfFlux_instFlux'] * srcTable['localPhotoCalib']\n",
    "assert np.allclose(srcTable['psfFlux'], psfFlux, equal_nan=True)"
   ]
  },
  {
   "cell_type": "code",
   "execution_count": null,
   "id": "e11a4140-ee51-4a50-a67a-e4663664e050",
   "metadata": {},
   "outputs": [],
   "source": [
    "# Convert flux to magnitude\n",
    "flux = srcTable['psfFlux']\n",
    "fluxerr = srcTable['psfFluxErr']\n",
    "\n",
    "# Convert from nJy to AB mag\n",
    "with np.errstate(invalid='ignore'):\n",
    "    nJytoAB = (1*u.nJy).to(u.ABmag).value\n",
    "    mag = -2.5*np.log10(flux) + nJytoAB\n",
    "    magerr = 2.5/np.log(10) * fluxerr / flux\n",
    "\n",
    "snr = flux/fluxerr\n",
    "srcTable['psfMag'] = mag\n",
    "srcTable['psfMagErr'] = magerr\n",
    "srcTable['psfFluxSnr'] = snr"
   ]
  },
  {
   "cell_type": "code",
   "execution_count": null,
   "id": "004f89e8-3d90-49c4-92cc-3bd30fe88f32",
   "metadata": {},
   "outputs": [],
   "source": [
    "# Select stars using extendedness (follows analysis_tools)\n",
    "#extendedness = table['base_ClassificationExtendedness_value']\n",
    "extendedness = srcTable['extendedness']\n",
    "star = (extendedness >= 0) & (extendedness < 0.5)"
   ]
  },
  {
   "cell_type": "code",
   "execution_count": null,
   "id": "342086d7-cebf-44ff-8746-4d146a5230ab",
   "metadata": {},
   "outputs": [],
   "source": [
    "# Perform the catalog determination\n",
    "snrval = 5.0\n",
    "snrmin, snrmax = 4.75, 5.25\n",
    "print(f\"SNR selection: {snrmin} < SNR < {snrmax}\")\n",
    "snrsel = (snr > snrmin) & (snr < snrmax)\n",
    "maglim_snr = np.mean(mag[star & snrsel])\n",
    "mag_min, mag_max = np.min(mag[star & snrsel]), np.max(mag[star & snrsel])\n",
    "print(f\"Magnitude Range: {mag_max:.2f} >= mag >= {mag_min:.2f}\")"
   ]
  },
  {
   "cell_type": "code",
   "execution_count": null,
   "id": "40663a4d-a1bc-4f0d-bea9-33e73ce143d2",
   "metadata": {},
   "outputs": [],
   "source": [
    "# Fit magerr vs mag\n",
    "magerrval = 2.5/np.log(10) * (1/snrval)\n",
    "print(f\"magerr value: {magerrval:.4f}\")\n",
    "errsel = (magerr > magerrval/2.0) & (magerr < 2.0*magerrval)\n",
    "poly = np.polynomial.Polynomial.fit(mag[star & errsel], np.log10(magerr[star & errsel]) - np.log10(magerrval), deg=1)\n",
    "maglim_err = poly.roots()[0]\n",
    "fn = lambda x: 10**(poly(x) + np.log10(magerrval))"
   ]
  },
  {
   "cell_type": "code",
   "execution_count": null,
   "id": "17fb7fbd-572a-47d5-8063-6bd31dfeac28",
   "metadata": {},
   "outputs": [],
   "source": [
    "fig, ax = plt.subplots(1,2, figsize=(12, 5), sharex=True)\n",
    "ax[0].set_xlim(21,27)\n",
    "\n",
    "kw = dict(s=3, rasterized=True)\n",
    "\n",
    "# Plot the snr selection\n",
    "ax[0].axhline(snrval, ls='--', color='gray', alpha=0.5)\n",
    "ax[0].fill_between(ax[0].get_xlim(),snrmin, snrmax, color='r', alpha=0.3)\n",
    "ax[0].axvline(maglim_snr, ls='--', color='r', alpha=0.5, label=f\"maglim={maglim_snr:.2f}\")\n",
    "ax[0].scatter(mag, snr, color='0.5', **kw)\n",
    "ax[0].scatter(mag[star], snr[star], color='k', **kw)\n",
    "ax[0].scatter(mag[star & snrsel], snr[star & snrsel], color='r', **kw)\n",
    "ax[0].set_ylim(-0.1, 15)\n",
    "ax[0].set_ylabel(\"PSF Flux SNR\")\n",
    "ax[0].set_xlabel(\"psfMag\")\n",
    "ax[0].legend()\n",
    "\n",
    "# Plot the magerr fit\n",
    "ax[1].axhline(magerrval, ls='--', color='gray', alpha=0.5)\n",
    "ax[1].axvline(maglim_err, ls='--', color='r', alpha=0.5, label=f\"maglim={maglim_err:.2f}\")\n",
    "ax[1].scatter(mag, magerr, color='0.5', **kw)\n",
    "ax[1].scatter(mag[star], magerr[star], color='k', **kw)\n",
    "ax[1].scatter(mag[star & errsel], magerr[star & errsel], color='r', **kw)\n",
    "ax[1].plot(ax[1].get_xlim(), fn(np.array(ax[1].get_xlim())), ls=':', color='b')\n",
    "ax[1].set_yscale('log')\n",
    "ax[1].set_ylim(0.01, 1.0)\n",
    "ax[1].set_ylabel(\"psfMagErr\")\n",
    "ax[1].set_xlabel(\"psfMag\")\n",
    "ax[1].legend()\n",
    "\n",
    "fig.suptitle(collection+'\\n'+str(dataId))\n",
    "\n",
    "outfile=f'{dataset_name}_maglim_catalog.pdf'\n",
    "plt.savefig(outfile)"
   ]
  },
  {
   "cell_type": "markdown",
   "id": "adde1688-b98c-403a-886e-17a465d30fdb",
   "metadata": {},
   "source": [
    "## Summary Statistics Depth Estimate\n",
    "\n",
    "The following code estimates the depth from summary statistics."
   ]
  },
  {
   "cell_type": "code",
   "execution_count": null,
   "id": "4eee039c-bbc7-4532-a168-3f41a8472821",
   "metadata": {},
   "outputs": [],
   "source": [
    "def compute_magnitude_limit(\n",
    "        psfArea,\n",
    "        skyBg,\n",
    "        zeroPoint,\n",
    "        readNoise=0,\n",
    "        gain=1.0,\n",
    "        snr=5\n",
    "):\n",
    "    \"\"\"Compute the expected point-source magnitude limit at a given                                                                               \n",
    "    signal-to-noise ratio given the exposure-level metadata. Based on                                                                             \n",
    "    the signal-to-noise formula provided in SMTN-002 (see LSE-40 for                                                                              \n",
    "    more details on the calculation).                                                                                                             \n",
    "                                                                                                                                                  \n",
    "      SNR = C / sqrt( C/g + (B/g + sigma_inst**2) * neff )                                                                                          \n",
    "                                                                                                                                                  \n",
    "    where C is the counts from the source, B is counts from the (sky) \n",
    "    background, sigma_inst is the instrumental (read) noise, neff is \n",
    "    the effective size of the PSF, and g is the gain in e-/ADU.\n",
    "    Note that input values of skyBg, zeroPoint, and readNoise should \n",
    "    all consistently be in electrons or ADU.\n",
    "                                                                                                                                                  \n",
    "    Parameters                                                                                                                                    \n",
    "    ----------                                                                                                                                    \n",
    "    psfArea  : `float`                                                                                                                            \n",
    "        The effective area of the PSF [pix].                                                                                                      \n",
    "    skyBg     : `float`                                                                                                                           \n",
    "        The sky background counts for the exposure [ADU or e-].                                                                                   \n",
    "    zeroPoint : `float`                                                                                                                           \n",
    "        The zeropoint (includes exposure time) [ADU or e-].                                                                                       \n",
    "    readNoise : `float`, optional                                                                                                                 \n",
    "        The instrumental read noise for the exposure [ADU or e-].                                                                                        \n",
    "    gain      : `float`, optional                                                                                                                 \n",
    "        The instrumental gain for the exposure [e-/ADU]. The gain should                                                                          \n",
    "         be set to 1 if the skyBg and zeroPoint are in units of e-.                                                                               \n",
    "    snr       : `float`, optional                                                                                                                 \n",
    "        Signal-to-noise ratio at which magnitude limit is calculated.                                                                             \n",
    "                                                                                                                                                  \n",
    "    Returns                                                                                                                                       \n",
    "    -------                                                                                                                                       \n",
    "    magnitude_limit : `float`                                                                                                                     \n",
    "        The expected magnitude limit at the given signal to noise.                                                                                \n",
    "    \"\"\"\n",
    "    # Effective number of pixels within the PSF calculated directly                                                                               \n",
    "    # from the PSF model.                                                                                                                         \n",
    "    neff = psfArea\n",
    "\n",
    "    # Instrumental noise (read noise only)                                                                                                        \n",
    "    sigma_inst = readNoise\n",
    "\n",
    "    # Total background counts derived from Eq. 45 of LSE-40                                                                                       \n",
    "    background = (skyBg/gain + sigma_inst**2) * neff\n",
    "    # Source counts to achieve the desired SNR (from quadratic formula)                                                                           \n",
    "    source = (snr**2)/(2*gain) + np.sqrt((snr**4)/(4*gain) + snr**2 * background)\n",
    "\n",
    "    # Convert to a magnitude using the zeropoint.                                                                                                 \n",
    "    # Note: Zeropoint currently includes exposure time                                                                                            \n",
    "    magnitude_limit = -2.5*np.log10(source) + zeroPoint\n",
    "\n",
    "    return magnitude_limit"
   ]
  },
  {
   "cell_type": "code",
   "execution_count": null,
   "id": "4e939bcd-5339-4cc9-b23b-9eeb80eefefb",
   "metadata": {},
   "outputs": [],
   "source": [
    "def plot_comparison(xvar, yvar, band, xlabel=None, ylabel=None, title=None, fraction=True):\n",
    "    \"\"\" Plot comparison of two values.\n",
    "\n",
    "    Parameters\n",
    "    ----------\n",
    "    xvar : the x-values\n",
    "    yvar : the y-values\n",
    "    band : the band\n",
    "    xlabel : x-axis label\n",
    "    ylabel : y-axis label\n",
    "    title  : figure title\n",
    "    fraction : plot fractional residuals\n",
    "    \"\"\"\n",
    "    fig, ax = plt.subplots(1,2, figsize=(12,5))\n",
    "    \n",
    "    plt.sca(ax[0])\n",
    "    kwargs = dict(s=2, rasterized=True)\n",
    "    for b in ['g', 'r', 'i']:\n",
    "        sel = band == b\n",
    "        kwargs.update(color = BAND_COLORS[b], label=b)\n",
    "        plt.scatter(xvar[sel], yvar[sel], **kwargs)\n",
    "    plt.legend()\n",
    "    plt.plot(plt.gca().get_xlim(), plt.gca().get_xlim(), ls='--', color='gray')\n",
    "    if xlabel: plt.xlabel(xlabel) \n",
    "    if ylabel: plt.ylabel(ylabel)\n",
    "    \n",
    "    plt.sca(ax[1])\n",
    "    if fraction:\n",
    "        residual = (yvar - xvar)/xvar\n",
    "    else:\n",
    "        residual = (yvar - xvar)\n",
    "    mean, sigma = np.mean(residual), np.std(residual)\n",
    "    bins = np.linspace(*np.percentile(residual, [0.5, 99.5]))\n",
    "    kwargs = dict(bins=bins, histtype='step', rasterized=True)\n",
    "    for b in ['g', 'r', 'i']:\n",
    "        sel = band == b\n",
    "        kwargs.update(color=BAND_COLORS[b], label=b)\n",
    "        plt.hist(residual[sel], **kwargs)\n",
    "    plt.axvline(0, ls='--', color='gray')\n",
    "    lines = plt.plot(np.nan, np.nan, label=f\"$\\mu = {mean:.2f} \\pm {sigma:.2f}$\")\n",
    "    plt.legend(handles=lines,handlelength=0)\n",
    "\n",
    "    if xlabel and ylabel:\n",
    "        if fraction:\n",
    "            plt.xlabel(f'({ylabel} - {xlabel})/{xlabel}')\n",
    "        else:\n",
    "            plt.xlabel(f'{ylabel} - {xlabel}')\n",
    "\n",
    "    if title:    \n",
    "        plt.suptitle(title)"
   ]
  },
  {
   "cell_type": "code",
   "execution_count": null,
   "id": "e8693f05-96f3-4132-80ef-e10608dee402",
   "metadata": {},
   "outputs": [],
   "source": [
    "# OR4 LSSTComCamSim\n",
    "dataset_name='or4'\n",
    "repo='embargo_or4'\n",
    "collection='u/kadrlica/m5_metrics_detector4'\n",
    "butler = Butler(repo, collections=collection)\n",
    "\n",
    "instrument = 'LSSTComCamSim'\n",
    "detector=4"
   ]
  },
  {
   "cell_type": "code",
   "execution_count": null,
   "id": "a27d8f7d-fc52-4df7-abf3-ea212d61f73a",
   "metadata": {},
   "outputs": [],
   "source": [
    "# Get the ccdVisitTable\n",
    "ccdVisit = butler.get('ccdVisitTable', dataId={'instrument': instrument})\n",
    "ccdVisit = ccdVisit.loc[ccdVisit['detector'] == detector]\n",
    "print(f\"Found ccdVisit summary stats for {len(ccdVisit)} visits\")"
   ]
  },
  {
   "cell_type": "code",
   "execution_count": null,
   "id": "c52fba45-930d-4f06-a824-830265079145",
   "metadata": {},
   "outputs": [],
   "source": [
    "# Unfortunately, the psfArea isn't passed out to ccdVisit so we need to get it.\n",
    "\n",
    "# This can take a ~5 minutes, so save/load the output\n",
    "filename = 'summary_stats.csv'\n",
    "if os.path.exists(filename):\n",
    "    print(f\"Loading summary stats from {filename}.\")\n",
    "    summaryStats = pd.read_csv(filename)\n",
    "else:\n",
    "    print(f\"Getting psfArea from summary stats...\")\n",
    "    summaryStats = ccdVisit.copy()\n",
    "    psfArea = []\n",
    "    for idx, row in tqdm(ccdVisit.iterrows(), total=len(ccdVisit)):\n",
    "        dataId = {'instrument': instrument, 'visit': row.visitId, 'detector': row.detector}\n",
    "        stats = butler.get('calexp.summaryStats', dataId=dataId)\n",
    "        psfArea.append(stats.psfArea)\n",
    "        \n",
    "    summaryStats['psfArea'] = psfArea\n",
    "    print(f\"Writing summary stats to {filename}.\")\n",
    "    summaryStats.to_csv(filename)\n",
    "\n",
    "print(f\"Found summary stats for {len(summaryStats)}\")\n",
    "summaryStats"
   ]
  },
  {
   "cell_type": "code",
   "execution_count": null,
   "id": "4697ab3c-5ca3-410e-ae56-91d5cb953da9",
   "metadata": {},
   "outputs": [],
   "source": [
    "# This can take about a minute, so save/load the output\n",
    "\n",
    "filename = 'm5_metrics.csv'\n",
    "if os.path.exists(filename):\n",
    "    print(f\"Loading summary stats from {filename}.\")\n",
    "    m5 = pd.read_csv(filename)\n",
    "else:\n",
    "    print(f\"Getting m5 metrics...\")\n",
    "\n",
    "    dtype=\"sourceTable_visitFiveSigmaDepth_metrics\"\n",
    "    refs = sorted(butler.registry.queryDatasets(dtype))\n",
    "\n",
    "    m5 = []\n",
    "    for ref in tqdm(refs, total=len(refs)):\n",
    "        out = dict(visit=ref.dataId['visit'],\n",
    "                   band=ref.dataId['band'],\n",
    "                   day_obs=ref.dataId['day_obs'])\n",
    "    \n",
    "        metrics = butler.get(ref)['m5Metric']\n",
    "        for metric in metrics:\n",
    "            out[str(metric.metric_name)] = metric.quantity.value\n",
    "    \n",
    "        m5.append(out)\n",
    "    \n",
    "    m5 = pd.DataFrame(m5)\n",
    "    print(f\"Writing m5 metrics to {filename}.\")\n",
    "    m5.to_csv(filename)\n",
    "\n",
    "print(f\"Found m5 metrics for {len(m5)} visits\")"
   ]
  },
  {
   "cell_type": "code",
   "execution_count": null,
   "id": "4c489311-497a-4246-b1ef-2ec825558359",
   "metadata": {},
   "outputs": [],
   "source": [
    "# Merge the summary stats with the m5 metrics\n",
    "df = pd.merge(m5[['visit','mean5sigmaDepth','median5sigmaDepth']], summaryStats, \n",
    "              left_on='visit', right_on='visitId', how='inner')\n",
    "df"
   ]
  },
  {
   "cell_type": "code",
   "execution_count": null,
   "id": "ef12e163-8a9d-4a28-b3e0-e6acbbd02d8c",
   "metadata": {},
   "outputs": [],
   "source": [
    "# Get the gain and read noise (same for all visits)\n",
    "dataId = {'visit': 7024062600787, 'instrument': 'LSSTComCamSim', 'detector': 4}\n",
    "metadata = butler.get('calexp.metadata',dataId=dataId)\n",
    "\n",
    "readNoise = np.mean([metadata[k] for k in metadata.keys() if k.startswith('LSST READNOISE')])\n",
    "print(f\"readNoise: {readNoise:.2f} [e-]\")\n",
    "\n",
    "gain = np.mean([metadata[k] for k in metadata.keys() if k.startswith('LSST GAIN')])\n",
    "print(f\"gain: {gain:.2f} [ADU/e-]\")\n",
    "\n",
    "units = metadata['LSST ISR UNITS']\n",
    "print(f\"image units: [{units}]\")\n",
    "\n",
    "PIXSCALE = 0.2\n",
    "print(f\"pixel scale: {PIXSCALE} arcsec/pix\")"
   ]
  },
  {
   "cell_type": "code",
   "execution_count": null,
   "id": "832162c1-1cb3-4264-8aed-7265e94b03e6",
   "metadata": {},
   "outputs": [],
   "source": [
    "# Define the input summary statistics.\n",
    "\n",
    "# Much better to have the psfArea\n",
    "psfArea = df['psfArea']\n",
    "\n",
    "# Sky background currently in ADU\n",
    "skyBgAdu = df['skyBg'] # ADU\n",
    "skyBgElec = skyBgAdu * gain # e-\n",
    "\n",
    "# Zeropoint currently in ADU\n",
    "zeroPointAdu = df['zeroPoint'] #ADU (includes expTime)\n",
    "zeroPointElec = zeroPointAdu + 2.5*np.log10(gain) # e- (includes expTime)\n",
    "\n",
    "# Read noise currently in e-\n",
    "readNoiseElec = readNoise # e-\n",
    "readNoiseAdu = readNoise / gain # ADU"
   ]
  },
  {
   "cell_type": "code",
   "execution_count": null,
   "id": "d4136b77-f1d4-4d8b-bc5e-76fe564ca6bb",
   "metadata": {},
   "outputs": [],
   "source": [
    "# Check that the maglim calculated in ADU and electrons are the same.\n",
    "\n",
    "# Compute the magnitude limit in ADU\n",
    "maglim_adu = compute_magnitude_limit(psfArea, skyBgAdu, zeroPointAdu,\n",
    "                                     readNoise=readNoiseAdu, gain=gain)\n",
    "# Compute the magnitude limit in electrons\n",
    "maglim_elec = compute_magnitude_limit(psfArea, skyBgElec, zeroPointElec,\n",
    "                                          readNoise=readNoiseElec, gain=1.0)\n",
    "assert np.allclose(maglim_adu, maglim_elec, equal_nan=True)"
   ]
  },
  {
   "cell_type": "code",
   "execution_count": null,
   "id": "a8cd6edd-4a33-4de4-a229-aff3680cfb42",
   "metadata": {},
   "outputs": [],
   "source": [
    "# Calculate the summary stats maglim.\n",
    "\n",
    "# The OR4 variance planes were made (incorrectly) using the image variance in [ADU] and \n",
    "# the readNoise in [e-]. This propagates to the catalog errors, so making this switch \n",
    "# leads to better agreement in the depths.\n",
    "\n",
    "# OR4 units\n",
    "#img_units='ADU'; rn_units='e-'\n",
    "\n",
    "# Consistent units\n",
    "img_units='ADU'; rn_units='ADU'\n",
    "\n",
    "print(\"Calculating magnitude limit...\")\n",
    "print(f\"Image units: {img_units}\")\n",
    "print(f\"readNoise units: {rn_units}\")      \n",
    "df['magLim5'] = compute_magnitude_limit(psfArea, \n",
    "                                        skyBgElec if img_units=='e-' else skyBgAdu, \n",
    "                                        zeroPointElec if img_units=='e-' else zeroPointAdu,\n",
    "                                        readNoise=readNoiseElec if rn_units=='e-' else readNoiseAdu, \n",
    "                                        gain=1.0 if img_units=='e-' else gain)"
   ]
  },
  {
   "cell_type": "code",
   "execution_count": null,
   "id": "07b2d4f1-f887-4964-90c2-418de4244d23",
   "metadata": {},
   "outputs": [],
   "source": [
    "plot_comparison(df['magLim5'], df['mean5sigmaDepth'], band=df['band'],\n",
    "                xlabel='magLim5 [stats]', ylabel='mean5sigmaDepth [cat]',\n",
    "                fraction=False)\n",
    "plt.savefig(f'{dataset_name}_maglim_compare_{img_units.lower()}_{rn_units.lower()}.pdf')"
   ]
  },
  {
   "cell_type": "markdown",
   "id": "6afb56fa-2817-4dd5-8a29-3f4a5890dc5c",
   "metadata": {},
   "source": [
    "# Comparison to Predicted Depth from OpSim \n",
    "\n",
    "OpSim cacluates a predicted SNR=5 depth for point sources following the prescription described in [SMTN-002](https://smtn-002.lsst.io/). Here we compare the OpSim prediction to the output summary stats from the Science Pipelines. We specifically investigate the seeing, zero point, sky background, and limiting magnitude."
   ]
  },
  {
   "cell_type": "code",
   "execution_count": null,
   "id": "01765a16-60ae-4011-991c-5adcb1d5b9e7",
   "metadata": {},
   "outputs": [],
   "source": [
    "# Load the opsim data matched to nightlyValidation\n",
    "dataset_name=\"or4_opsim\"\n",
    "opsim = pd.read_csv('or4_opsim_match.csv')\n",
    "columns = ['visit', 'seeingFwhmEff', 'seeingFwhmGeom', 'skycounts', 'zeropoint', 'fiveSigmaDepth']\n",
    "opsim = pd.merge(opsim[columns], df, on='visit', how='inner')\n",
    "opsim.reset_index(inplace=True)"
   ]
  },
  {
   "cell_type": "code",
   "execution_count": null,
   "id": "6492a7d0-f4e9-497e-ac3e-5c7dddbaf8d5",
   "metadata": {},
   "outputs": [],
   "source": [
    "# PSF Area\n",
    "psfArea_opsim = 2.266*(opsim['seeingFwhmEff']/PIXSCALE)**2\n",
    "plot_comparison(opsim['psfArea'], psfArea_opsim, opsim['band'], \n",
    "                xlabel='psfArea [DM] (pix)', ylabel='psfArea [opsim] (pix)')\n",
    "plt.savefig(f'{dataset_name}_psf.pdf')"
   ]
  },
  {
   "cell_type": "code",
   "execution_count": null,
   "id": "bfcd550b-7780-46f9-9b2b-2b363628f733",
   "metadata": {},
   "outputs": [],
   "source": [
    "# Zeropoint\n",
    "zeroPoint_opsim = opsim['zeropoint']+2.5*np.log10(30/gain)\n",
    "plot_comparison(opsim['zeroPoint'], zeroPoint_opsim, opsim['band'], \n",
    "                xlabel='zeroPoint [DM]', ylabel='zeropoint [opsim]',\n",
    "               fraction=False)\n",
    "plt.savefig(f'{dataset_name}_zeropoint.pdf')"
   ]
  },
  {
   "cell_type": "code",
   "execution_count": null,
   "id": "e716350b-943b-4cb3-a3b4-616a272fd703",
   "metadata": {},
   "outputs": [],
   "source": [
    "# Sky background\n",
    "skyBg_opsim = opsim['skycounts']/gain # ADU\n",
    "plot_comparison(opsim['skyBg'], skyBg_opsim, opsim['band'], \n",
    "                xlabel='skyBg [DM] (ADU)', ylabel='skyBg [opsim] (ADU)')\n",
    "plt.savefig(f'{dataset_name}_sky.pdf')"
   ]
  },
  {
   "cell_type": "code",
   "execution_count": null,
   "id": "cbc0ed90-ea3d-4388-b9c6-de716bc4c8e5",
   "metadata": {},
   "outputs": [],
   "source": [
    "# Magnitude Limit\n",
    "magLim5_opsim = opsim['fiveSigmaDepth'] \n",
    "plot_comparison(opsim['magLim5'], magLim5_opsim, opsim['band'], \n",
    "                xlabel='magLim5 [DM]', ylabel='fiveSigmaDepth [opsim]',\n",
    "                fraction=False)\n",
    "plt.savefig(f'{dataset_name}_m5.pdf')"
   ]
  },
  {
   "cell_type": "markdown",
   "id": "1923b4d2-6516-4bfd-a988-3077f66f5e46",
   "metadata": {},
   "source": [
    "## Additional PSF Comparisons\n",
    "\n",
    "In addition to the primary comparisons performed above, it seemed useful to do a few more comparisons of PSF-related quantities. In particular, the relationship between the `psfSigma` and `psfArea` is useful to develop. Note that `psfArea` is the measured quantity and `psfSigma` is derived. Specifically, the `psfSigma` is the determinent radius of the PSF ([shape.getDeterminantRadius()](https://github.com/lsst/pipe_tasks/blob/da64303b90586b287562c70ddaad676401150d60/python/lsst/pipe/tasks/computeExposureSummaryStats.py#L332)). The fact that the DM `psfArea` can match OpSim `neff`, while the DM `psfSigma` does not match OpSim `seeingFwhmEff` or `seeingFwhmGeom` is telling us something about the difference in the shape of the PSF in OR4 measured by DM vs the OpSim assumptions based on some older zemax modeling."
   ]
  },
  {
   "cell_type": "code",
   "execution_count": null,
   "id": "4f2b2c82-f538-46a1-ac97-2cc52878d198",
   "metadata": {},
   "outputs": [],
   "source": [
    "psfSigmaGeom_opsim = opsim['seeingFwhmGeom']/2.355/PIXSCALE\n",
    "plot_comparison(opsim['psfSigma'], psfSigmaGeom_opsim, opsim['band'], \n",
    "                xlabel='psfSigma', ylabel='seeingFwhmGeom/pixscale/2.355')"
   ]
  },
  {
   "cell_type": "code",
   "execution_count": null,
   "id": "dc9e8756-0b60-4778-9c46-2b26b99ce8d6",
   "metadata": {},
   "outputs": [],
   "source": [
    "psfSigmaEff_opsim = opsim['seeingFwhmEff']/2.355/PIXSCALE\n",
    "plot_comparison(opsim['psfSigma'], psfSigmaEff_opsim, opsim['band'], \n",
    "                xlabel='psfSigma', ylabel='seeingFwhmGeom/pixscale/2.355')"
   ]
  },
  {
   "cell_type": "code",
   "execution_count": null,
   "id": "6774b419-68d6-4b75-a2ad-748ae250f72c",
   "metadata": {},
   "outputs": [],
   "source": [
    "# If we don't have psfArea, we can approximate it using psfSigma and the relations in SMTN-002 \n",
    "# and assuming that psfSigma ~ FWHM_geom (which is not a great approximation)\n",
    "psfFwhm = 2.355 * opsim['psfSigma'] # psfSigma ~ FWHM_geom\n",
    "psfFwhmEff = (psfFwhm - 0.052/PIXSCALE)/ (0.822)\n",
    "psfSigmaArea = 2.266 * psfFwhmEff**2\n",
    "\n",
    "plot_comparison(opsim['psfArea'], psfSigmaArea, opsim['band'], \n",
    "                xlabel='psfArea', ylabel='psfSigmaArea')"
   ]
  },
  {
   "cell_type": "code",
   "execution_count": null,
   "id": "be0e45a0-24af-4ebe-ba20-9ef0be82bfce",
   "metadata": {},
   "outputs": [],
   "source": [
    "# This can be brought into closer agreement if we modify the scaling.\n",
    "# Modifying the coefficients in the relationship between psfSigma and\n",
    "# psfFwhmEff can give much better agreement.\n",
    "psfFwhm = 2.355 * opsim['psfSigma'] # psfSigma ~ FWHM_geom\n",
    "psfFwhmEff = (psfFwhm - 0.0/PIXSCALE)/ (0.90)\n",
    "psfSigmaArea = 2.226 * psfFwhmEff**2\n",
    "\n",
    "plot_comparison(opsim['psfArea'], psfSigmaArea, opsim['band'], \n",
    "                xlabel='psfArea', ylabel='psfSigmaArea')"
   ]
  }
 ],
 "metadata": {
  "kernelspec": {
   "display_name": "LSST",
   "language": "python",
   "name": "lsst"
  },
  "language_info": {
   "codemirror_mode": {
    "name": "ipython",
    "version": 3
   },
   "file_extension": ".py",
   "mimetype": "text/x-python",
   "name": "python",
   "nbconvert_exporter": "python",
   "pygments_lexer": "ipython3",
   "version": "3.11.9"
  }
 },
 "nbformat": 4,
 "nbformat_minor": 5
}
